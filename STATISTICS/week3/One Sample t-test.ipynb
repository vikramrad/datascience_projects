{
 "cells": [
  {
   "cell_type": "code",
   "execution_count": 0,
   "metadata": {
    "colab": {},
    "colab_type": "code",
    "collapsed": true,
    "id": "ujb7yhIapJRX"
   },
   "outputs": [],
   "source": [
    "import numpy as np\n",
    "from scipy.stats import ttest_1samp, wilcoxon\n",
    "from statsmodels.stats.power import ttest_power"
   ]
  },
  {
   "cell_type": "code",
   "execution_count": 0,
   "metadata": {
    "colab": {},
    "colab_type": "code",
    "collapsed": true,
    "id": "5TWE2RPZpJRe"
   },
   "outputs": [],
   "source": [
    "# daily intake of energy in kJ for 11 women\n",
    "daily_intake = np.array([5260,5470,5640,6180,6390,6515,\n",
    "                         6805,7515,7515,8230,8770])"
   ]
  },
  {
   "cell_type": "code",
   "execution_count": 0,
   "metadata": {
    "colab": {},
    "colab_type": "code",
    "id": "h_LCPixPpJRk",
    "outputId": "ad2b71a9-2803-4708-a2e7-1d97317d3164"
   },
   "outputs": [
    {
     "name": "stdout",
     "output_type": "stream",
     "text": [
      "-2.82075406083 0.0181372351761\n"
     ]
    }
   ],
   "source": [
    "# one sample t-test\n",
    "# null hypothesis: expected value = 7725\n",
    "t_statistic, p_value = ttest_1samp(daily_intake, 7725)\n",
    "print(t_statistic,p_value)"
   ]
  },
  {
   "cell_type": "code",
   "execution_count": 0,
   "metadata": {
    "colab": {},
    "colab_type": "code",
    "id": "c3oGqA6jpJRp",
    "outputId": "d2cca68a-a527-432d-bd1a-b4f8eabdb029"
   },
   "outputs": [
    {
     "name": "stdout",
     "output_type": "stream",
     "text": [
      "one-sample t-test p-value= 0.0181372351761\n"
     ]
    }
   ],
   "source": [
    "# p_value < 0.05 => alternative hypothesis:\n",
    "# data deviate significantly from the hypothesis that the mean\n",
    "# is 7725 at the 5% level of significance\n",
    "print (\"one-sample t-test p-value=\", p_value)"
   ]
  },
  {
   "cell_type": "code",
   "execution_count": 0,
   "metadata": {
    "colab": {},
    "colab_type": "code",
    "id": "eu47F2eIpJRs",
    "outputId": "fc2da46d-cf84-4b73-d6c0-1e8e41e254f9"
   },
   "outputs": [
    {
     "name": "stdout",
     "output_type": "stream",
     "text": [
      "one-sample wilcoxon-test p-value 0.0261571823293\n"
     ]
    }
   ],
   "source": [
    "# one sample wilcoxon-test\n",
    "z_statistic, p_value = wilcoxon(daily_intake - 7725)\n",
    "print (\"one-sample wilcoxon-test p-value\", p_value)"
   ]
  },
  {
   "cell_type": "code",
   "execution_count": 0,
   "metadata": {
    "colab": {},
    "colab_type": "code",
    "id": "iktHTVnSpJRv",
    "outputId": "330bf3ec-8792-49cc-9d62-360d2965d0c9"
   },
   "outputs": [
    {
     "data": {
      "text/plain": [
       "-0.89200075513951727"
      ]
     },
     "execution_count": 77,
     "metadata": {
      "tags": []
     },
     "output_type": "execute_result"
    }
   ],
   "source": [
    "# Calculating Power of Test\n",
    "# Compute the difference in Means between Population and Sample and divide it by Standard Deviation\n",
    "# Set the number of Observations\n",
    "# Set the alpha value and alternative values 'two-sided' , 'larger' , 'smaller'\n",
    "\n",
    "(np.mean(daily_intake) - 7725) / np.std(daily_intake)"
   ]
  },
  {
   "cell_type": "code",
   "execution_count": 0,
   "metadata": {
    "colab": {},
    "colab_type": "code",
    "id": "PgeWWg9TpJRz",
    "outputId": "ef199dbd-acae-41e6-c937-d9ccd6e262c5"
   },
   "outputs": [
    {
     "name": "stdout",
     "output_type": "stream",
     "text": [
      "0.760014659598\n"
     ]
    }
   ],
   "source": [
    "print(ttest_power(-0.892, nobs=11, alpha=0.05, alternative='two-sided'))"
   ]
  },
  {
   "cell_type": "code",
   "execution_count": 0,
   "metadata": {
    "colab": {},
    "colab_type": "code",
    "collapsed": true,
    "id": "QKr4QxtppJR5"
   },
   "outputs": [],
   "source": []
  }
 ],
 "metadata": {
  "colab": {
   "name": "One Sample t-test.ipynb",
   "provenance": []
  },
  "kernelspec": {
   "display_name": "Python 3",
   "language": "python",
   "name": "python3"
  },
  "language_info": {
   "codemirror_mode": {
    "name": "ipython",
    "version": 3
   },
   "file_extension": ".py",
   "mimetype": "text/x-python",
   "name": "python",
   "nbconvert_exporter": "python",
   "pygments_lexer": "ipython3",
   "version": "3.6.3"
  }
 },
 "nbformat": 4,
 "nbformat_minor": 1
}
