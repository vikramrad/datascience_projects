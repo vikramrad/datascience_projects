{
 "cells": [
  {
   "cell_type": "code",
   "execution_count": 0,
   "metadata": {
    "colab": {},
    "colab_type": "code",
    "collapsed": true,
    "id": "z4D6kQYYpJoF"
   },
   "outputs": [],
   "source": [
    "import numpy as np\n",
    "from scipy.stats import ttest_1samp, ttest_ind, mannwhitneyu, levene, shapiro\n",
    "from statsmodels.stats.power import ttest_power"
   ]
  },
  {
   "cell_type": "code",
   "execution_count": 0,
   "metadata": {
    "colab": {},
    "colab_type": "code",
    "collapsed": true,
    "id": "OJyrBHBRpJoM"
   },
   "outputs": [],
   "source": [
    "energ = np.array([\n",
    "# energy expenditure in mJ and stature (0=obese, 1=lean)\n",
    "[9.21, 0],\n",
    "[7.53, 1],\n",
    "[7.48, 1],\n",
    "[8.08, 1],\n",
    "[8.09, 1],\n",
    "[10.15, 1],\n",
    "[8.40, 1],\n",
    "[10.88, 1],\n",
    "[6.13, 1],\n",
    "[7.90, 1],\n",
    "[11.51, 0],\n",
    "[12.79, 0],\n",
    "[7.05, 1],\n",
    "[11.85, 0],\n",
    "[9.97, 0],\n",
    "[7.48, 1],\n",
    "[8.79, 0],\n",
    "[9.69, 0],\n",
    "[9.68, 0],\n",
    "[7.58, 1],\n",
    "[9.19, 0],\n",
    "[8.11, 1]])"
   ]
  },
  {
   "cell_type": "code",
   "execution_count": 0,
   "metadata": {
    "colab": {},
    "colab_type": "code",
    "collapsed": true,
    "id": "RgP9j3dKpJoQ"
   },
   "outputs": [],
   "source": [
    "# Seperating the data into 2 groups\n",
    "group1 = energ[:, 1] == 0\n",
    "group1 = energ[group1][:, 0]\n",
    "group2 = energ[:, 1] == 1\n",
    "group2 = energ[group2][:, 0]"
   ]
  },
  {
   "cell_type": "code",
   "execution_count": 0,
   "metadata": {
    "colab": {},
    "colab_type": "code",
    "id": "psqEkpTXpJoV",
    "outputId": "2a9743f4-3ec3-496a-8562-fc0cde904f3c"
   },
   "outputs": [
    {
     "name": "stdout",
     "output_type": "stream",
     "text": [
      "3.9455649161549835 0.0007989982111700593\n"
     ]
    }
   ],
   "source": [
    "# two-sample t-test\n",
    "# null hypothesis: the two groups have the same mean\n",
    "# this test assumes the two groups have the same variance...\n",
    "# (can be checked with tests for equal variance - Levene)\n",
    "# independent groups: e.g., how boys and girls fare at an exam\n",
    "# dependent groups: e.g., how the same class fare at 2 different exams\n",
    "t_statistic, p_value = ttest_ind(group1, group2)\n",
    "print(t_statistic, p_value)"
   ]
  },
  {
   "cell_type": "code",
   "execution_count": 0,
   "metadata": {
    "colab": {},
    "colab_type": "code",
    "id": "BLGu37zqpJoY",
    "outputId": "0d5a4794-5bb6-4053-e4e7-0c973f6969b6"
   },
   "outputs": [
    {
     "name": "stdout",
     "output_type": "stream",
     "text": [
      "two-sample t-test p-value= 0.0007989982111700593\n"
     ]
    }
   ],
   "source": [
    "# p_value < 0.05 => alternative hypothesis:\n",
    "# they don't have the same mean at the 5% significance level\n",
    "print (\"two-sample t-test p-value=\", p_value)"
   ]
  },
  {
   "cell_type": "code",
   "execution_count": 0,
   "metadata": {
    "colab": {},
    "colab_type": "code",
    "collapsed": true,
    "id": "HmoU0H0UpJoc"
   },
   "outputs": [],
   "source": [
    "# pre and post-surgery energy intake\n",
    "intake = np.array([\n",
    "[5260, 3910],\n",
    "[5470, 4220],\n",
    "[5640, 3885],\n",
    "[6180, 5160],\n",
    "[6390, 5645],\n",
    "[6515, 4680],\n",
    "[6805, 5265],\n",
    "[7515, 5975],\n",
    "[7515, 6790],\n",
    "[8230, 6900],\n",
    "[8770, 7335],\n",
    "])"
   ]
  },
  {
   "cell_type": "code",
   "execution_count": 0,
   "metadata": {
    "colab": {},
    "colab_type": "code",
    "collapsed": true,
    "id": "Pv4uZ_eKpJog"
   },
   "outputs": [],
   "source": [
    "# Seperating data into 2 groups\n",
    "pre = intake[:, 0]\n",
    "post = intake[:, 1]"
   ]
  },
  {
   "cell_type": "code",
   "execution_count": 0,
   "metadata": {
    "colab": {},
    "colab_type": "code",
    "id": "iLdYd7ygpJoj",
    "outputId": "9a18a066-d183-4c40-95cb-23b99de2f59e"
   },
   "outputs": [
    {
     "name": "stdout",
     "output_type": "stream",
     "text": [
      "-11.941392877647603 3.059020942934875e-07\n"
     ]
    }
   ],
   "source": [
    "# paired t-test: doing two measurments on the same experimental unit\n",
    "# e.g., before and after a treatment\n",
    "t_statistic, p_value = ttest_1samp(post - pre, 0)\n",
    "print(t_statistic, p_value)"
   ]
  },
  {
   "cell_type": "code",
   "execution_count": 0,
   "metadata": {
    "colab": {},
    "colab_type": "code",
    "id": "uGATjaVspJon",
    "outputId": "a878ae3e-8455-4948-c539-987ce2b5c293"
   },
   "outputs": [
    {
     "name": "stdout",
     "output_type": "stream",
     "text": [
      "paired t-test p-value= 3.059020942934875e-07\n"
     ]
    }
   ],
   "source": [
    "# p < 0.05 => alternative hypothesis:\n",
    "# the difference in mean is not equal to 0\n",
    "print (\"paired t-test p-value=\", p_value)"
   ]
  },
  {
   "cell_type": "code",
   "execution_count": 0,
   "metadata": {
    "colab": {},
    "colab_type": "code",
    "id": "2rLbRZmLpJor",
    "outputId": "1d7b39e9-5e02-4df6-cbc9-a5c119fd6b33"
   },
   "outputs": [
    {
     "name": "stdout",
     "output_type": "stream",
     "text": [
      "0.8456736280306766\n"
     ]
    }
   ],
   "source": [
    "print(ttest_power(0.587, nobs=22, alpha=0.10, alternative='two-sided'))"
   ]
  },
  {
   "cell_type": "code",
   "execution_count": 0,
   "metadata": {
    "colab": {},
    "colab_type": "code",
    "collapsed": true,
    "id": "aS9jS1XBpJox"
   },
   "outputs": [],
   "source": []
  }
 ],
 "metadata": {
  "colab": {
   "name": "Two Sample t-test.ipynb",
   "provenance": []
  },
  "kernelspec": {
   "display_name": "Python 3",
   "language": "python",
   "name": "python3"
  },
  "language_info": {
   "codemirror_mode": {
    "name": "ipython",
    "version": 3
   },
   "file_extension": ".py",
   "mimetype": "text/x-python",
   "name": "python",
   "nbconvert_exporter": "python",
   "pygments_lexer": "ipython3",
   "version": "3.6.3"
  }
 },
 "nbformat": 4,
 "nbformat_minor": 1
}
