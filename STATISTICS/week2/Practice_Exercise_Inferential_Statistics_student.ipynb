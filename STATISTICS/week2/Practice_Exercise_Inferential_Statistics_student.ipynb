{
 "cells": [
  {
   "cell_type": "markdown",
   "metadata": {
    "colab_type": "text",
    "id": "BT2vYe5G184S"
   },
   "source": [
    "# Problems on Probability\n",
    "\n",
    "1)\tA multinational farm conducted a job satisfaction survey on a sample of its employees. The table below summarizes the result of the survey. Assuming that the sample drawn is a random sample from its entire employee population, the HR would like to know the probability of the following events.\n",
    "\n"
   ]
  },
  {
   "cell_type": "code",
   "execution_count": 0,
   "metadata": {
    "colab": {},
    "colab_type": "code",
    "id": "FZwCdatO184U",
    "outputId": "1b68cbf8-1372-4923-8b3c-3da3d82a9b86",
    "scrolled": true
   },
   "outputs": [
    {
     "data": {
      "image/png": "[encoded data removed]",
      "text/plain": [
       "<IPython.core.display.Image object>"
      ]
     },
     "execution_count": 4,
     "metadata": {
      "image/png": {
       "height": 500,
       "width": 500
      },
      "tags": []
     },
     "output_type": "execute_result"
    }
   ],
   "source": [
    "from IPython.display import Image\n",
    "Image(filename='C:\\\\Users\\\\jayveer\\\\Desktop\\\\DataCamp_exercises\\\\GL_Mentoring\\\\Python_Codes\\\\Inferential Stats Practice Exercise\\\\Table.png',width=500,height=500)"
   ]
  },
  {
   "cell_type": "markdown",
   "metadata": {
    "colab_type": "text",
    "id": "rcXDVF8a184c"
   },
   "source": [
    "# What proportion of employees is satisfied? "
   ]
  },
  {
   "cell_type": "code",
   "execution_count": 0,
   "metadata": {
    "colab": {},
    "colab_type": "code",
    "id": "vtToci3M184e",
    "outputId": "815a16f5-250b-444a-d728-4db3b6d7522f"
   },
   "outputs": [
    {
     "name": "stdout",
     "output_type": "stream",
     "text": [
      "Proportion of employees satisfied. is 36.9%\n"
     ]
    }
   ],
   "source": [
    "Total_Satisfied=240\n",
    "Total_Emp=650\n",
    "Prob_Satisfied = round(Total_Satisfied/Total_Emp,4)*100\n",
    "print('Proportion of employees satisfied. is %1.1f' % Prob_Satisfied +'%')"
   ]
  },
  {
   "cell_type": "markdown",
   "metadata": {
    "colab_type": "text",
    "id": "l14gK2jD184j"
   },
   "source": [
    "# What proportion of employees is at a risk of attrition? (Assume a dissatisfied employee will attrite eventually.)"
   ]
  },
  {
   "cell_type": "code",
   "execution_count": 0,
   "metadata": {
    "colab": {},
    "colab_type": "code",
    "id": "A4bwRmyp184k",
    "outputId": "ceeadbc1-83f7-47fd-f523-63006f27cbb0"
   },
   "outputs": [
    {
     "name": "stdout",
     "output_type": "stream",
     "text": [
      "0.185\n",
      "0.192\n",
      "Proportion of employees atrisk. is 37.7%\n"
     ]
    }
   ],
   "source": [
    "Prob_dissatisfied=round(120/650,3)\n",
    "print(Prob_dissatisfied)\n",
    "prob_highly_dissatisfied=round(125/650,3)\n",
    "print(prob_highly_dissatisfied)\n",
    "Prob_atrisk=(Prob_dissatisfied+prob_highly_dissatisfied)*100\n",
    "print('Proportion of employees atrisk. is %1.1f' % Prob_atrisk +'%')"
   ]
  },
  {
   "cell_type": "markdown",
   "metadata": {
    "colab_type": "text",
    "id": "Wtd_0yBL184o"
   },
   "source": [
    "# If a dissatisfied employee attrite with probability 0.4 within a year, what is the probability of an employee to attrite in a year? "
   ]
  },
  {
   "cell_type": "code",
   "execution_count": 0,
   "metadata": {
    "colab": {},
    "colab_type": "code",
    "collapsed": true,
    "id": "lPJziCC2184q"
   },
   "outputs": [],
   "source": []
  },
  {
   "cell_type": "markdown",
   "metadata": {
    "colab_type": "text",
    "id": "T00RZ2Wc184u"
   },
   "source": [
    "# If an employee is chosen randomly, what is the probability that he/she at least a high school graduate?"
   ]
  },
  {
   "cell_type": "code",
   "execution_count": 0,
   "metadata": {
    "colab": {},
    "colab_type": "code",
    "id": "EhOWutT8184w",
    "outputId": "c29177d8-3845-4992-ef7e-919675b95566"
   },
   "outputs": [
    {
     "name": "stdout",
     "output_type": "stream",
     "text": [
      "Probability of atleast a high school . is 84.6%\n"
     ]
    }
   ],
   "source": [
    "#Pr(At least High School) = Pr(High school) + Pr(Some college) + Pr(College Grad) + Pr(Post-Grad) = 1 – Pr(Did not complete school)\n",
    "didnt_comp_high_school=100\n",
    "Total=650\n",
    "Prob_Atleast_high_school=(1-round(didnt_comp_high_school/Total,4))*100\n",
    "print('Probability of atleast a high school . is %1.1f' % Prob_Atleast_high_school +'%')"
   ]
  },
  {
   "cell_type": "markdown",
   "metadata": {
    "colab_type": "text",
    "id": "nk0ergtv1840"
   },
   "source": [
    "# What is the satisfaction rate among employees who are college graduate or more?"
   ]
  },
  {
   "cell_type": "code",
   "execution_count": 0,
   "metadata": {
    "colab": {},
    "colab_type": "code",
    "collapsed": true,
    "id": "1tq7DsBP1841"
   },
   "outputs": [],
   "source": []
  },
  {
   "cell_type": "markdown",
   "metadata": {
    "colab_type": "text",
    "id": "4j_y9hLI1845"
   },
   "source": [
    "# Among the employees who have at least some college education, what proportion is not dissatisfied?"
   ]
  },
  {
   "cell_type": "code",
   "execution_count": 0,
   "metadata": {
    "colab": {},
    "colab_type": "code",
    "id": "FuQ-2WcP1846",
    "outputId": "41ce98f9-a4dc-41ad-cb10-a876f82b657d"
   },
   "outputs": [
    {
     "name": "stdout",
     "output_type": "stream",
     "text": [
      "Probability of not dissatisfied who have atleast some college education . is 76.5%\n"
     ]
    }
   ],
   "source": [
    "#Pr(Not dissatisfied | at least some college) \n",
    "emp_not_disatisfied_some_college= 30+60+120+40+60+15\n",
    "Total_college=150+200+75\n",
    "Prob_not_dissatisfied_some_college=round(emp_not_disatisfied_some_college/Total_college,3)*100\n",
    "print('Probability of not dissatisfied who have atleast some college education . is %1.1f' % Prob_not_dissatisfied_some_college +'%')"
   ]
  },
  {
   "cell_type": "markdown",
   "metadata": {
    "colab_type": "text",
    "id": "TSm0XYsw185A"
   },
   "source": [
    "# Among the employees who are not satisfied, what proportion are college graduate or more?"
   ]
  },
  {
   "cell_type": "code",
   "execution_count": 0,
   "metadata": {
    "colab": {},
    "colab_type": "code",
    "collapsed": true,
    "id": "0vst9xLr185C"
   },
   "outputs": [],
   "source": []
  },
  {
   "cell_type": "markdown",
   "metadata": {
    "colab_type": "text",
    "id": "0MNSQhso185H"
   },
   "source": [
    "# Among the employees who have not had any college education, what proportion are not highly dissatisfied? "
   ]
  },
  {
   "cell_type": "code",
   "execution_count": 0,
   "metadata": {
    "colab": {},
    "colab_type": "code",
    "id": "6PaOeons185K",
    "outputId": "62a13c11-4782-4b76-d8a1-56b79de61af7"
   },
   "outputs": [
    {
     "name": "stdout",
     "output_type": "stream",
     "text": [
      "Probability of college or more . is 60.0%\n"
     ]
    }
   ],
   "source": [
    "#Pr(Not highly dissatisfied | No college education)\n",
    "emp_no_college=100+125\n",
    "emp_not_highly_dissatisfied_nocollege=225-90\n",
    "\n",
    "Prob_Not_higlydistasified=round(emp_not_highly_dissatisfied_nocollege/emp_no_college,3)*100\n",
    "print('Probability of college or more . is %1.1f' % Prob_Not_higlydistasified +'%')"
   ]
  },
  {
   "cell_type": "markdown",
   "metadata": {
    "colab_type": "text",
    "id": "pI1b34rF185O"
   },
   "source": [
    "# Problem 2 on Probability \n",
    "\n",
    "A multinational bank is concerned about the waiting time of its customers before they use the ATM for their transactions. A study of a random sample of 500 customers reveals the following probability distribution. The below table shows  the distribution."
   ]
  },
  {
   "cell_type": "code",
   "execution_count": 0,
   "metadata": {
    "colab": {},
    "colab_type": "code",
    "id": "yySkzrnw185P",
    "outputId": "746825bd-3ce8-4976-97c6-9b77f447631a"
   },
   "outputs": [
    {
     "data": {
      "image/png": "[encoded data removed]",
      "text/plain": [
       "<IPython.core.display.Image object>"
      ]
     },
     "execution_count": 43,
     "metadata": {
      "image/png": {
       "height": 100,
       "width": 200
      },
      "tags": []
     },
     "output_type": "execute_result"
    }
   ],
   "source": [
    "from IPython.display import Image\n",
    "Image(filename='C:\\\\Users\\\\jayveer\\\\Desktop\\\\DataCamp_exercises\\\\GL_Mentoring\\\\Python_Codes\\\\Inferential Stats Practice Exercise\\\\Table1.png',width=200,height=100)"
   ]
  },
  {
   "cell_type": "markdown",
   "metadata": {
    "colab_type": "text",
    "id": "t-R9p5it185T"
   },
   "source": [
    "# What is the probability that a customer will wait for more than 5 minutes?"
   ]
  },
  {
   "cell_type": "code",
   "execution_count": 0,
   "metadata": {
    "colab": {},
    "colab_type": "code",
    "id": "u69a5ztp185U",
    "outputId": "5e572c71-0116-49a9-ac19-58fdce481049"
   },
   "outputs": [
    {
     "name": "stdout",
     "output_type": "stream",
     "text": [
      "Probability of waiting time graeter than 5. is 0.15\n"
     ]
    }
   ],
   "source": [
    "#P(x>5)= P(6)+P(7)+p(8)\n",
    "Prob_greater_than5=0.08 +0.04+0.03\n",
    "print('Probability of waiting time graeter than 5. is %1.2f' % Prob_greater_than5 )"
   ]
  },
  {
   "cell_type": "markdown",
   "metadata": {
    "colab_type": "text",
    "id": "9OiHRt6h185Y"
   },
   "source": [
    "# What proportion of the customers do not have to wait at all?"
   ]
  },
  {
   "cell_type": "code",
   "execution_count": 0,
   "metadata": {
    "colab": {},
    "colab_type": "code",
    "collapsed": true,
    "id": "RMtmap79185Z"
   },
   "outputs": [],
   "source": []
  },
  {
   "cell_type": "markdown",
   "metadata": {
    "colab_type": "text",
    "id": "dp6fKT7Z185c"
   },
   "source": [
    "# What is the expected waiting time for a customer?\n"
   ]
  },
  {
   "cell_type": "code",
   "execution_count": 0,
   "metadata": {
    "colab": {},
    "colab_type": "code",
    "collapsed": true,
    "id": "gUsSziFR185c"
   },
   "outputs": [],
   "source": []
  },
  {
   "cell_type": "markdown",
   "metadata": {
    "colab_type": "text",
    "id": "g5UzAyHa185g"
   },
   "source": [
    "# Problems on Binomial and Normal Distributions\n"
   ]
  },
  {
   "cell_type": "markdown",
   "metadata": {
    "colab_type": "text",
    "id": "teyQ6O-h185h"
   },
   "source": [
    "1)\tIn an inspection of automobiles 60% of all automobiles had emissions that do not meet the pollution requirement. For a random sample of 15 automobiles, compute the following\n",
    "\n",
    "-\tProbability that all 15 fails the inspection\n",
    "-\tExactly 8 fails the inspection\n",
    "-\tSeven or less passes the inspection\n",
    "-\tExpected number of automobiles to pass the inspection and its variance.\n"
   ]
  },
  {
   "cell_type": "code",
   "execution_count": 0,
   "metadata": {
    "colab": {},
    "colab_type": "code",
    "collapsed": true,
    "id": "EOrPdOA1185i"
   },
   "outputs": [],
   "source": [
    "import numpy as np\n",
    "import scipy.stats as stats"
   ]
  },
  {
   "cell_type": "code",
   "execution_count": 0,
   "metadata": {
    "colab": {},
    "colab_type": "code",
    "id": "Iuu6LrxV185l",
    "outputId": "02214367-ca2f-4fa7-9492-e4d17ac6e680"
   },
   "outputs": [
    {
     "name": "stdout",
     "output_type": "stream",
     "text": [
      "Probability that all 15 fails the inspection is 0.00047\n"
     ]
    }
   ],
   "source": [
    "# Probability that all 15 fails the inspection\n",
    "\n",
    "p=0.6\n",
    "n=15\n",
    "k=15\n",
    "binomial = stats.binom.pmf(k,n,p)\n",
    "print('Probability that all 15 fails the inspection is %1.5f' % binomial )"
   ]
  },
  {
   "cell_type": "markdown",
   "metadata": {
    "colab_type": "text",
    "id": "9uLMGLN0185q"
   },
   "source": [
    "# Probability Exactly 8 fails the inspection\n",
    "\n"
   ]
  },
  {
   "cell_type": "code",
   "execution_count": 0,
   "metadata": {
    "colab": {},
    "colab_type": "code",
    "collapsed": true,
    "id": "2LMsnV0a185r"
   },
   "outputs": [],
   "source": []
  },
  {
   "cell_type": "markdown",
   "metadata": {
    "colab_type": "text",
    "id": "t_iQ1tcZ1852"
   },
   "source": [
    "# Probability Seven or less passes the inspection\n",
    "\n"
   ]
  },
  {
   "cell_type": "code",
   "execution_count": 0,
   "metadata": {
    "colab": {},
    "colab_type": "code",
    "collapsed": true,
    "id": "OQ0rn_Hh1854"
   },
   "outputs": [],
   "source": []
  },
  {
   "cell_type": "markdown",
   "metadata": {
    "colab_type": "text",
    "id": "li3g4nQR1858"
   },
   "source": [
    "# Expected number of automobiles to pass the inspection and its variance.\n"
   ]
  },
  {
   "cell_type": "code",
   "execution_count": 0,
   "metadata": {
    "colab": {},
    "colab_type": "code",
    "collapsed": true,
    "id": "xa-AAEEZ1858"
   },
   "outputs": [],
   "source": []
  },
  {
   "cell_type": "markdown",
   "metadata": {
    "colab_type": "text",
    "id": "-tLeI2d-186B"
   },
   "source": [
    "2)\tOver a long period of time in a large multinomial corporation, 10% of all sales trainees are rated as outstanding, 75% are rated as excellent, 10% are rated as satisfactory and 5% are considered unsatisfactory. Find the following probabilities for a sample of 10 trainees selected at random\n",
    "\n",
    "-\tTwo are rated as outstanding\n",
    "-\tTwo or more are rated as outstanding\n",
    "-\tEight of the ten are rated either outstanding or excellent\n",
    "-\tNone of the trainees are rated as unsatisfactory\n"
   ]
  },
  {
   "cell_type": "markdown",
   "metadata": {
    "colab_type": "text",
    "id": "clx-wGM9186D"
   },
   "source": [
    "This is a binomial problem."
   ]
  },
  {
   "cell_type": "code",
   "execution_count": 0,
   "metadata": {
    "colab": {},
    "colab_type": "code",
    "id": "5Ipkd7Nf186E",
    "outputId": "ddfc36a7-3735-4c2f-afb1-e3b95e30dc31"
   },
   "outputs": [
    {
     "name": "stdout",
     "output_type": "stream",
     "text": [
      "Probability of two are rated as outstanding is 0.19371\n"
     ]
    }
   ],
   "source": [
    "#Two are rated as outstanding\n",
    "\n",
    "p=0.1\n",
    "n=10\n",
    "k=2\n",
    "binomial = stats.binom.pmf(k,n,p)\n",
    "print('Probability of two are rated as outstanding is %1.5f' % binomial )"
   ]
  },
  {
   "cell_type": "code",
   "execution_count": 0,
   "metadata": {
    "colab": {},
    "colab_type": "code",
    "id": "46nES2Fq186H",
    "outputId": "80d8733a-cf00-4ab9-8f1d-63b433cbf6b9"
   },
   "outputs": [
    {
     "name": "stdout",
     "output_type": "stream",
     "text": [
      "Probability Seven or less passes the inspection is 0.26390\n"
     ]
    }
   ],
   "source": [
    "#Two or more are rated as outstanding.\n",
    "\n",
    "#For this we will use cummulative probability\n",
    "p=0.1\n",
    "n=10\n",
    "k=1\n",
    "##To  answer this we need to calculate cumulative probability \n",
    "binomial = stats.binom.cdf(k,n,p)\n",
    "#since we have calculated for 1 or less, for two or more we will subtract this prob from 1\n",
    "binomial_notPassing=1-binomial\n",
    "\n",
    "print('Probability Seven or less passes the inspection is %1.5f' % binomial_notPassing )\n"
   ]
  },
  {
   "cell_type": "markdown",
   "metadata": {
    "colab_type": "text",
    "id": "n3bUfNdt186J"
   },
   "source": [
    "# Eight of the ten are rated either outstanding or excellent\n"
   ]
  },
  {
   "cell_type": "code",
   "execution_count": 0,
   "metadata": {
    "colab": {},
    "colab_type": "code",
    "collapsed": true,
    "id": "QzE9QVor186K"
   },
   "outputs": [],
   "source": []
  },
  {
   "cell_type": "code",
   "execution_count": 0,
   "metadata": {
    "colab": {},
    "colab_type": "code",
    "id": "h0ToTBTS186N",
    "outputId": "4d1cfd86-bddd-4f5c-a896-21019c2c1bf7"
   },
   "outputs": [
    {
     "name": "stdout",
     "output_type": "stream",
     "text": [
      "Probability of no trainees are unsatisfactory is 0.59874\n"
     ]
    }
   ],
   "source": [
    "#None of the trainees are rated as unsatisfactory\\#prob of unsatisfactory is 5\n",
    "p=0.05\n",
    "n=10\n",
    "k=0\n",
    "binomial = stats.binom.pmf(k,n,p)\n",
    "print('Probability of no trainees are unsatisfactory is %1.5f' % binomial )"
   ]
  },
  {
   "cell_type": "markdown",
   "metadata": {
    "colab_type": "text",
    "id": "4LonzSY2186Q"
   },
   "source": [
    "3)\tA labor union’s examining board for the selection of trainees has a record of admitting 70% of all applicants who meet a basic set of criteria. Five members of a minority group recently came before the board and four of five were rejected. Find the probability that one or fewer would be accepted if the record is really 0.7. Did the board apply a lower probability of acceptance when reviewing the five members of the minority group?"
   ]
  },
  {
   "cell_type": "code",
   "execution_count": 0,
   "metadata": {
    "colab": {},
    "colab_type": "code",
    "collapsed": true,
    "id": "wCk2OiTy186R"
   },
   "outputs": [],
   "source": []
  },
  {
   "cell_type": "markdown",
   "metadata": {
    "colab_type": "text",
    "id": "lVHlJz1P186V"
   },
   "source": [
    "4)\tAccording to the Telecommunication Industry the average monthly cell phone bill is Rs. 850 with a standard deviation of Rs. 150. \n",
    "\n",
    "-   What is the probability that a randomly selected cell phone bill is more than Rs 1200?\n",
    "-\tWhat is the probability that a randomly selected cell phone bill is between Rs 750 and Rs 1200?\n",
    "-\tWhat is the probability that a randomly selected cell phone bill is no more than Rs 650?\n",
    "-\tWhat is the amount above which lies top 15% of cell phone bills?\n",
    "-\tWhat is the amount below which lies bottom 25% of cell phone bills?\n"
   ]
  },
  {
   "cell_type": "markdown",
   "metadata": {
    "colab_type": "text",
    "id": "zd_5tIKE186W"
   },
   "source": [
    "This is a problem of normal probability distribution. Though the distribution is not mentioned, in absence of any other information we assume normality in the population. "
   ]
  },
  {
   "cell_type": "code",
   "execution_count": 0,
   "metadata": {
    "colab": {},
    "colab_type": "code",
    "id": "hYZqSI9d186X",
    "outputId": "95a682ec-49a2-45be-b607-8f1a7a0fcbda"
   },
   "outputs": [
    {
     "data": {
      "text/plain": [
       "0.009815328628645315"
      ]
     },
     "execution_count": 77,
     "metadata": {
      "tags": []
     },
     "output_type": "execute_result"
    }
   ],
   "source": [
    "#What is the probability that a randomly selected cell phone bill is more than Rs 1200?\n",
    "\n",
    "#To calculate this, we will calculate the cumulative probability for less than 1200 and then will subtract from 1.\n",
    "\n",
    "1-stats.norm.cdf(1200,loc=850,scale=150)"
   ]
  },
  {
   "cell_type": "markdown",
   "metadata": {
    "colab_type": "text",
    "id": "czgiBYHp186c"
   },
   "source": [
    "# What is the probability that a randomly selected cell phone bill is between Rs 750 and Rs 1200?\n",
    "\n"
   ]
  },
  {
   "cell_type": "code",
   "execution_count": 0,
   "metadata": {
    "colab": {},
    "colab_type": "code",
    "collapsed": true,
    "id": "94MB6zk-186f"
   },
   "outputs": [],
   "source": []
  },
  {
   "cell_type": "code",
   "execution_count": 0,
   "metadata": {
    "colab": {},
    "colab_type": "code",
    "id": "WfaWFz_7186l",
    "outputId": "1e34f3a1-eada-4836-988d-60939409d66f"
   },
   "outputs": [
    {
     "data": {
      "text/plain": [
       "0.09121121972586788"
      ]
     },
     "execution_count": 79,
     "metadata": {
      "tags": []
     },
     "output_type": "execute_result"
    }
   ],
   "source": [
    "#What is the probability that a randomly selected cell phone bill is no more than Rs 650?\n",
    "\n",
    "stats.norm.cdf(650,loc=850,scale=150)"
   ]
  },
  {
   "cell_type": "code",
   "execution_count": 0,
   "metadata": {
    "colab": {},
    "colab_type": "code",
    "id": "RW5GI7bP186p",
    "outputId": "3b06c348-0c62-463f-b4a0-e6aae69d842e"
   },
   "outputs": [
    {
     "data": {
      "text/plain": [
       "1005.4650084240685"
      ]
     },
     "execution_count": 85,
     "metadata": {
      "tags": []
     },
     "output_type": "execute_result"
    }
   ],
   "source": [
    "#What is the amount above which lies top 15% of cell phone bills?\n",
    "\n",
    "#Let the amount be M. Pr(X ≥ M) = 15% => 1 – Pr(X < M) = 0.85 . To calculate this we will use the percent point function i.e ppf.\n",
    "\n",
    "stats.norm.ppf(0.85,loc=850,scale=150)"
   ]
  },
  {
   "cell_type": "markdown",
   "metadata": {
    "colab_type": "text",
    "id": "2IKq6PI3186u"
   },
   "source": [
    "# What is the amount below which lies bottom 25% of cell phone bills?\n",
    "\n"
   ]
  },
  {
   "cell_type": "code",
   "execution_count": 0,
   "metadata": {
    "colab": {},
    "colab_type": "code",
    "collapsed": true,
    "id": "tWH3FFnp186v"
   },
   "outputs": [],
   "source": []
  },
  {
   "cell_type": "markdown",
   "metadata": {
    "colab_type": "text",
    "id": "EDJXJp90186y"
   },
   "source": [
    "5)\tFor on-campus recruitment Ms. Z has sat for tests by Company A and Company B. For both tests her score is 50. It is known that for Company A, scores have a normal distribution with mean 40 and standard deviation 15 whereas for Company B, scores have a normal distribution with mean 45 and standard deviation 10. Relatively speaking in which test has Ms. Z done better?"
   ]
  },
  {
   "cell_type": "code",
   "execution_count": 0,
   "metadata": {
    "colab": {},
    "colab_type": "code",
    "id": "2jvE47Lf186z",
    "outputId": "4f0b7d44-b3a9-428d-aa5f-e98a0e52a355"
   },
   "outputs": [
    {
     "name": "stdout",
     "output_type": "stream",
     "text": [
      "Z1: 0.6666666666666666\n",
      "Z2: 0.5\n"
     ]
    }
   ],
   "source": [
    "#Z-score from Company A: \n",
    "Z1 = (50-40)/15 \n",
    "\n",
    "#Z-score from Company B:\n",
    "Z2 = (50-45)/10 \n",
    "\n",
    "print(\"Z1:\",Z1)\n",
    "print(\"Z2:\",Z2)\n",
    "\n"
   ]
  },
  {
   "cell_type": "markdown",
   "metadata": {
    "colab_type": "text",
    "id": "6NnZjObj1862"
   },
   "source": [
    "A higher score on Z scale is indicative of a better performance. Hence Ms. Z has done better in the test for Company A"
   ]
  },
  {
   "cell_type": "markdown",
   "metadata": {
    "colab_type": "text",
    "id": "q6o9BDCw1863"
   },
   "source": [
    "# Problems on Central Limit Theorem"
   ]
  },
  {
   "cell_type": "markdown",
   "metadata": {
    "colab_type": "text",
    "id": "8ScbSAdU1864"
   },
   "source": [
    "1)\tOn an average Make My Trip gets 5000 queries a day with a standard deviation of 500. \n",
    "\n",
    "-\tAssuming a month contains 30 days, on what proportion of days a month will there be more than 5250 queries? \n",
    "-\tAssuming a month contains 30 days, data is collected on 25 months and an average of 25 months is computed. What is the probability that average of 25 months is more than 5250?\n"
   ]
  },
  {
   "cell_type": "code",
   "execution_count": 0,
   "metadata": {
    "colab": {},
    "colab_type": "code",
    "id": "qkEDtBko1865",
    "outputId": "68189fdd-e99d-4b3c-f2e1-67c941b749ce"
   },
   "outputs": [
    {
     "data": {
      "text/plain": [
       "0.3085375387259869"
      ]
     },
     "execution_count": 90,
     "metadata": {
      "tags": []
     },
     "output_type": "execute_result"
    }
   ],
   "source": [
    "#Assuming a month contains 30 days, on what proportion of days a month will there be more than 5250 queries? \n",
    "\n",
    "#To calculate this, we will calculate the cumulative probability for less than 5250 and then will subtract from 1.\n",
    "\n",
    "1-stats.norm.cdf(5250,loc=5000,scale=500)"
   ]
  },
  {
   "cell_type": "code",
   "execution_count": 0,
   "metadata": {
    "colab": {},
    "colab_type": "code",
    "id": "FfAUaEJ61868",
    "outputId": "b6149ef3-7da5-4e76-a367-56c6b31bc88c"
   },
   "outputs": [
    {
     "data": {
      "text/plain": [
       "0.006209665325776159"
      ]
     },
     "execution_count": 95,
     "metadata": {
      "tags": []
     },
     "output_type": "execute_result"
    }
   ],
   "source": [
    "#Assuming a month contains 30 days, data is collected on 25 months and an average of 25 months is computed. What is the probability that average of 25 months is more than 5250?\n",
    "import math as mt\n",
    "#b)\tHere interest is in the distribution of sample mean. Sample size n = 25\n",
    "n=25\n",
    "S=500/mt.sqrt(n)\n",
    "1-stats.norm.cdf(5250,loc=5000,scale=100)"
   ]
  },
  {
   "cell_type": "markdown",
   "metadata": {
    "colab_type": "text",
    "id": "0DxYmOXH187A"
   },
   "source": [
    "2)\tA survey was conducted with graduates from the top 30 MBA programs. On the basis of the survey assume that the mean annual salary for male and female graduates 10 years after graduation is US$168,000 and US$117,000 respectively. Assume the standard deviation for the male graduates is US$40,000 and for the female graduates US$25,000.\n",
    "\n"
   ]
  },
  {
   "cell_type": "markdown",
   "metadata": {
    "colab_type": "text",
    "id": "Pzq1GfTG187B"
   },
   "source": [
    "# a)\tWhat is the probability that a random sample of 40 male graduates will provide a sample mean within US$10,000 of the population mean?"
   ]
  },
  {
   "cell_type": "code",
   "execution_count": 0,
   "metadata": {
    "colab": {},
    "colab_type": "code",
    "id": "lNPeHiR8187B",
    "outputId": "f39d8079-1da2-4e24-f773-3d63976a7759"
   },
   "outputs": [
    {
     "data": {
      "text/plain": [
       "0.8861537019933419"
      ]
     },
     "execution_count": 98,
     "metadata": {
      "tags": []
     },
     "output_type": "execute_result"
    }
   ],
   "source": [
    "mean=40000\n",
    "n=40\n",
    "\n",
    "#S is the sample size\n",
    "\n",
    "S=mean/mt.sqrt(n)\n",
    "\n",
    "stats.norm.cdf(178000,loc=168000,scale=S)-stats.norm.cdf(158000,loc=168000,scale=S)"
   ]
  },
  {
   "cell_type": "markdown",
   "metadata": {
    "colab_type": "text",
    "id": "VHjL75zi187H"
   },
   "source": [
    "# b)\tWhat is the probability that a random sample of 40 female graduates will provide a sample mean within US$10,000 of the population mean?"
   ]
  },
  {
   "cell_type": "code",
   "execution_count": 0,
   "metadata": {
    "colab": {},
    "colab_type": "code",
    "collapsed": true,
    "id": "9K-30QbV187J"
   },
   "outputs": [],
   "source": []
  },
  {
   "cell_type": "markdown",
   "metadata": {
    "colab_type": "text",
    "id": "9W4oKwgn187N"
   },
   "source": [
    "# c)\tIn which of the preceding two cases, do we have a higher probability of obtaining a sample estimate within US$10,000 of the population mean? Why?"
   ]
  },
  {
   "cell_type": "markdown",
   "metadata": {
    "colab_type": "text",
    "id": "3ABRuWEW187R"
   },
   "source": [
    "\n",
    "\n",
    "Among the female population we have a higher probability of getting a sample estimate with 10,000 of the true population mean.This is we have observed from point a and b. This is because for the females, population standard deviation is smaller. "
   ]
  },
  {
   "cell_type": "markdown",
   "metadata": {
    "colab_type": "text",
    "id": "J7doOc3J187S"
   },
   "source": [
    "# d)\tWhat is the probability that a sample of 100 male graduates will provide a sample mean more than US$4000 below the population mean?"
   ]
  },
  {
   "cell_type": "code",
   "execution_count": 0,
   "metadata": {
    "colab": {},
    "colab_type": "code",
    "collapsed": true,
    "id": "mVCCYCBp187S"
   },
   "outputs": [],
   "source": []
  },
  {
   "cell_type": "markdown",
   "metadata": {
    "colab_type": "text",
    "collapsed": true,
    "id": "IVMSh73J187V"
   },
   "source": [
    "# Problem on Bayes Theorem\n",
    "\n",
    "- A computer component is given scores € (A, B, C) after production.\n",
    "\n",
    "- On an average, 70% components were given a score of A, 18% were given a score of B and 12% a score of C.\n",
    "\n",
    "- It was found that 2% of the components that were given a score of A, 10% that were given a score of B and 18% that were given a score of C, eventually failed.\n",
    "\n",
    "- If you randomly pickup a failed component, what is the probability that it had received a score of B?\n",
    "\n"
   ]
  },
  {
   "cell_type": "markdown",
   "metadata": {
    "colab_type": "text",
    "id": "2jO8wLgW187X"
   },
   "source": [
    "# Solution:\n",
    "\n",
    "The probablity will be given by the below formula:\n",
    "\n",
    "P(B | F) = Probability that quality score was B and the component failed/ Probability of any quality score and the component failed\n",
    "\n",
    "It can be written as:\n",
    "\n",
    "P(B | F) = P(B ∩ F)/P(F)\n",
    "\n",
    "and the formula can be break down into:\n",
    "\n",
    "P(B | F) = P(B) P(F | B) / (P(A) P(F | A) + P(B) P(F | B) + P(C) P(F | C))\n"
   ]
  },
  {
   "cell_type": "code",
   "execution_count": 0,
   "metadata": {
    "colab": {},
    "colab_type": "code",
    "id": "W1Fv98F3187Y",
    "outputId": "a72befa3-f834-42f7-91bc-a084b665a139"
   },
   "outputs": [
    {
     "name": "stdout",
     "output_type": "stream",
     "text": [
      "Probability that a failed component will score B is 0.33582\n"
     ]
    }
   ],
   "source": [
    "P_B=0.18\n",
    "P_F_B=0.10\n",
    "P_A=0.02\n",
    "P_F_A=0.70\n",
    "P_C=0.12\n",
    "P_F_C=0.18\n",
    "\n",
    "Prob_fail_comp_score_B= (0.18 * 0.10)/(0.02*0.70 + 0.18*0.10 + 0.12 * 0.18)\n",
    "print('Probability that a failed component will score B is %1.5f' % Prob_fail_comp_score_B )"
   ]
  },
  {
   "cell_type": "markdown",
   "metadata": {
    "colab_type": "text",
    "collapsed": true,
    "id": "FId42oiq187b"
   },
   "source": [
    "# Problems on Poisson Distribution\n",
    "\n",
    "- A bank is interested in studying the number of people who use the ATM located outside during night hours.\n",
    "- On an average, 1.6 customers walk up to the ATM during a 10-minute interval, b/w 9pm and midnight.\n",
    "\n"
   ]
  },
  {
   "cell_type": "markdown",
   "metadata": {
    "colab_type": "text",
    "id": "4udr47s2187c"
   },
   "source": [
    "# Find the probability of exactly 3 customers using the ATM in a 10-minute interval."
   ]
  },
  {
   "cell_type": "code",
   "execution_count": 0,
   "metadata": {
    "colab": {},
    "colab_type": "code",
    "id": "koesamtd187d",
    "outputId": "db002b94-6307-4150-b113-cf4653314791"
   },
   "outputs": [
    {
     "name": "stdout",
     "output_type": "stream",
     "text": [
      "Probability of exactly 3 customers using the ATM in a 10-minute interval is 13.78\n"
     ]
    }
   ],
   "source": [
    "n=3\n",
    "rate=1.6\n",
    "poisson = stats.poisson.pmf(n,rate) * 100\n",
    "print('Probability of exactly 3 customers using the ATM in a 10-minute interval is %1.2f' % poisson )"
   ]
  },
  {
   "cell_type": "markdown",
   "metadata": {
    "colab_type": "text",
    "id": "7g3yBxQ2187i"
   },
   "source": [
    "# What is the probability of 3 or fewer people?"
   ]
  },
  {
   "cell_type": "code",
   "execution_count": 0,
   "metadata": {
    "colab": {},
    "colab_type": "code",
    "collapsed": true,
    "id": "-E3eM-Uw187n"
   },
   "outputs": [],
   "source": []
  }
 ],
 "metadata": {
  "colab": {
   "name": "Practice_Exercise_Inferential_Statistics_student.ipynb",
   "provenance": []
  },
  "kernelspec": {
   "display_name": "Python 3",
   "language": "python",
   "name": "python3"
  },
  "language_info": {
   "codemirror_mode": {
    "name": "ipython",
    "version": 3
   },
   "file_extension": ".py",
   "mimetype": "text/x-python",
   "name": "python",
   "nbconvert_exporter": "python",
   "pygments_lexer": "ipython3",
   "version": "3.6.3"
  }
 },
 "nbformat": 4,
 "nbformat_minor": 1
}
