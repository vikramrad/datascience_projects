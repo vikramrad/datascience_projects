{
 "cells": [
  {
   "cell_type": "code",
   "execution_count": 1,
   "metadata": {
    "collapsed": true
   },
   "outputs": [],
   "source": [
    "#Vikram Radhakrishnan, 15 Feb, 2020\n",
    "import numpy as np\n",
    "import pandas as pd\n",
    "import matplotlib.pyplot as plt\n",
    "import seaborn as sns\n",
    "sns.set(color_codes=True)\n",
    "df=pd.read_csv('Mcdonald.csv')\n",
    "%matplotlib inline"
   ]
  },
  {
   "cell_type": "code",
   "execution_count": 2,
   "metadata": {},
   "outputs": [
    {
     "data": {
      "text/html": [
       "<div>\n",
       "<style>\n",
       "    .dataframe thead tr:only-child th {\n",
       "        text-align: right;\n",
       "    }\n",
       "\n",
       "    .dataframe thead th {\n",
       "        text-align: left;\n",
       "    }\n",
       "\n",
       "    .dataframe tbody tr th {\n",
       "        vertical-align: top;\n",
       "    }\n",
       "</style>\n",
       "<table border=\"1\" class=\"dataframe\">\n",
       "  <thead>\n",
       "    <tr style=\"text-align: right;\">\n",
       "      <th></th>\n",
       "      <th>Category</th>\n",
       "      <th>Item</th>\n",
       "      <th>Serving Size</th>\n",
       "      <th>Calories</th>\n",
       "      <th>Calories from Fat</th>\n",
       "      <th>Total Fat</th>\n",
       "      <th>Total Fat (% Daily Value)</th>\n",
       "      <th>Saturated Fat</th>\n",
       "      <th>Saturated Fat (% Daily Value)</th>\n",
       "      <th>Trans Fat</th>\n",
       "      <th>...</th>\n",
       "      <th>Carbohydrates</th>\n",
       "      <th>Carbohydrates (% Daily Value)</th>\n",
       "      <th>Dietary Fiber</th>\n",
       "      <th>Dietary Fiber (% Daily Value)</th>\n",
       "      <th>Sugars</th>\n",
       "      <th>Protein</th>\n",
       "      <th>Vitamin A (% Daily Value)</th>\n",
       "      <th>Vitamin C (% Daily Value)</th>\n",
       "      <th>Calcium (% Daily Value)</th>\n",
       "      <th>Iron (% Daily Value)</th>\n",
       "    </tr>\n",
       "  </thead>\n",
       "  <tbody>\n",
       "    <tr>\n",
       "      <th>0</th>\n",
       "      <td>Breakfast</td>\n",
       "      <td>Egg McMuffin</td>\n",
       "      <td>4.8 oz (136 g)</td>\n",
       "      <td>300</td>\n",
       "      <td>120</td>\n",
       "      <td>13.0</td>\n",
       "      <td>20</td>\n",
       "      <td>5.0</td>\n",
       "      <td>25</td>\n",
       "      <td>0.0</td>\n",
       "      <td>...</td>\n",
       "      <td>31</td>\n",
       "      <td>10</td>\n",
       "      <td>4</td>\n",
       "      <td>17</td>\n",
       "      <td>3</td>\n",
       "      <td>17</td>\n",
       "      <td>10</td>\n",
       "      <td>0</td>\n",
       "      <td>25</td>\n",
       "      <td>15</td>\n",
       "    </tr>\n",
       "  </tbody>\n",
       "</table>\n",
       "<p>1 rows × 24 columns</p>\n",
       "</div>"
      ],
      "text/plain": [
       "    Category          Item    Serving Size  Calories  Calories from Fat  \\\n",
       "0  Breakfast  Egg McMuffin  4.8 oz (136 g)       300                120   \n",
       "\n",
       "   Total Fat  Total Fat (% Daily Value)  Saturated Fat  \\\n",
       "0       13.0                         20            5.0   \n",
       "\n",
       "   Saturated Fat (% Daily Value)  Trans Fat          ...           \\\n",
       "0                             25        0.0          ...            \n",
       "\n",
       "   Carbohydrates  Carbohydrates (% Daily Value)  Dietary Fiber  \\\n",
       "0             31                             10              4   \n",
       "\n",
       "   Dietary Fiber (% Daily Value)  Sugars  Protein  Vitamin A (% Daily Value)  \\\n",
       "0                             17       3       17                         10   \n",
       "\n",
       "   Vitamin C (% Daily Value)  Calcium (% Daily Value)  Iron (% Daily Value)  \n",
       "0                          0                       25                    15  \n",
       "\n",
       "[1 rows x 24 columns]"
      ]
     },
     "execution_count": 2,
     "metadata": {},
     "output_type": "execute_result"
    }
   ],
   "source": [
    "df.head(1) # Browsing through the format of the file imported"
   ]
  },
  {
   "cell_type": "markdown",
   "metadata": {},
   "source": [
    "# Q1 : Plot graphically which food categories have the highest and lowest varieties.\n",
    "\n"
   ]
  },
  {
   "cell_type": "code",
   "execution_count": 3,
   "metadata": {
    "scrolled": false
   },
   "outputs": [
    {
     "name": "stdout",
     "output_type": "stream",
     "text": [
      "ANSWER 1: INFERENCE:From the figure, we see the coffee & Tea Cateogry has the highest number of varieties \n",
      " and the Salads category has the lowest \n"
     ]
    },
    {
     "data": {
      "image/png": "[encoded data removed]",
      "text/plain": [
       "<matplotlib.figure.Figure at 0x26617fc1cf8>"
      ]
     },
     "metadata": {},
     "output_type": "display_data"
    }
   ],
   "source": [
    "a=df.Category.value_counts()\n",
    "Horz=a.keys()\n",
    "Vert=a.values\n",
    "fig_dims = (12, 3)\n",
    "fig, ax = plt.subplots(figsize=fig_dims)\n",
    "sns.barplot(Horz,Vert)\n",
    "print(\"ANSWER 1: INFERENCE:From the figure, we see the coffee & Tea Cateogry has the highest number of varieties \\n and the Salads category has the lowest \")\n",
    "\n"
   ]
  },
  {
   "cell_type": "markdown",
   "metadata": {},
   "source": [
    "# Q2 : Which all variables have an outlier?\n"
   ]
  },
  {
   "cell_type": "code",
   "execution_count": 4,
   "metadata": {},
   "outputs": [
    {
     "name": "stdout",
     "output_type": "stream",
     "text": [
      "Calories -Outlier\n",
      "Calories from Fat -Outlier\n",
      "Total Fat -Outlier\n",
      "Total Fat (% Daily Value) -Outlier\n",
      "Trans Fat -Outlier\n",
      "Cholesterol -Outlier\n",
      "Cholesterol (% Daily Value) -Outlier\n",
      "Sodium -Outlier\n",
      "Sodium (% Daily Value) -Outlier\n",
      "Carbohydrates -Outlier\n",
      "Carbohydrates (% Daily Value) -Outlier\n",
      "Dietary Fiber (% Daily Value) -Outlier\n",
      "Sugars -Outlier\n",
      "Protein -Outlier\n",
      "Vitamin A (% Daily Value) -Outlier\n",
      "Vitamin C (% Daily Value) -Outlier\n",
      "Calcium (% Daily Value) -Outlier\n",
      "Iron (% Daily Value) -Outlier\n"
     ]
    }
   ],
   "source": [
    "outlier_headings=[]\n",
    "headers=df.columns[3:]\n",
    "for i in headers:\n",
    "    Q1=df[i].quantile(0.25)\n",
    "    Q3=df[i].quantile(0.75)\n",
    "    IQR=Q3-Q1\n",
    "    upper=Q3+(1.5*IQR)\n",
    "    lower=Q1-(1.5*IQR)\n",
    "    if (df[i].min()<lower) or (df[i].max()>upper):\n",
    "        print(i,\"-Outlier\")\n",
    "        outlier_headings.append(i)\n"
   ]
  },
  {
   "cell_type": "code",
   "execution_count": 65,
   "metadata": {
    "scrolled": false
   },
   "outputs": [
    {
     "data": {
      "text/plain": [
       "<matplotlib.axes._subplots.AxesSubplot at 0x2661eda4630>"
      ]
     },
     "execution_count": 65,
     "metadata": {},
     "output_type": "execute_result"
    },
    {
     "data": {
      "image/png": "[encoded data removed]",
      "text/plain": [
       "<matplotlib.figure.Figure at 0x2661edafbe0>"
      ]
     },
     "metadata": {},
     "output_type": "display_data"
    }
   ],
   "source": [
    "dfc=df.drop(['Category','Item','Serving Size'],axis=1) # Drop non-numeric columns\n",
    "fig, ax = plt.subplots(figsize=(20,25))\n",
    "sns.boxplot(data=dfc,orient=\"h\")"
   ]
  },
  {
   "cell_type": "markdown",
   "metadata": {},
   "source": [
    "# Q3 : Which variables have the Highest correlation. Plot them and find out the value ?\n"
   ]
  },
  {
   "cell_type": "code",
   "execution_count": 6,
   "metadata": {},
   "outputs": [
    {
     "data": {
      "text/plain": [
       "Index(['Category', 'Item', 'Serving Size', 'Calories', 'Calories from Fat',\n",
       "       'Total Fat', 'Total Fat (% Daily Value)', 'Saturated Fat',\n",
       "       'Saturated Fat (% Daily Value)', 'Trans Fat', 'Cholesterol',\n",
       "       'Cholesterol (% Daily Value)', 'Sodium', 'Sodium (% Daily Value)',\n",
       "       'Carbohydrates', 'Carbohydrates (% Daily Value)', 'Dietary Fiber',\n",
       "       'Dietary Fiber (% Daily Value)', 'Sugars', 'Protein',\n",
       "       'Vitamin A (% Daily Value)', 'Vitamin C (% Daily Value)',\n",
       "       'Calcium (% Daily Value)', 'Iron (% Daily Value)'],\n",
       "      dtype='object')"
      ]
     },
     "execution_count": 6,
     "metadata": {},
     "output_type": "execute_result"
    }
   ],
   "source": [
    "# Question no 3 - Solution: \n",
    "a=df.columns # Store the column heads separately\n",
    "a"
   ]
  },
  {
   "cell_type": "code",
   "execution_count": 38,
   "metadata": {
    "collapsed": true
   },
   "outputs": [],
   "source": [
    "corre=df[['Calories', 'Calories from Fat','Total Fat','Total Fat (% Daily Value)', 'Saturated Fat',\n",
    "       'Saturated Fat (% Daily Value)', 'Trans Fat', 'Cholesterol',\n",
    "       'Cholesterol (% Daily Value)', 'Sodium', 'Sodium (% Daily Value)',\n",
    "       'Carbohydrates', 'Carbohydrates (% Daily Value)', 'Dietary Fiber',\n",
    "       'Dietary Fiber (% Daily Value)', 'Sugars', 'Protein',\n",
    "       'Vitamin A (% Daily Value)', 'Vitamin C (% Daily Value)',\n",
    "       'Calcium (% Daily Value)', 'Iron (% Daily Value)']].corr()\n",
    "\n",
    "\n",
    "                \n"
   ]
  },
  {
   "cell_type": "code",
   "execution_count": 39,
   "metadata": {},
   "outputs": [
    {
     "data": {
      "text/plain": [
       "<matplotlib.axes._subplots.AxesSubplot at 0x2661ae62f60>"
      ]
     },
     "execution_count": 39,
     "metadata": {},
     "output_type": "execute_result"
    },
    {
     "data": {
      "image/png": "[encoded data removed]",
      "text/plain": [
       "<matplotlib.figure.Figure at 0x2661ae6ff28>"
      ]
     },
     "metadata": {},
     "output_type": "display_data"
    }
   ],
   "source": [
    "fig_dims = (20, 10)\n",
    "fig, ax = plt.subplots(figsize=fig_dims)\n",
    "\n",
    "threshold=0.90 # This is a self chosen threshold value to show only values that have high correlation\n",
    "sns.heatmap(corre[(corre>threshold) & (corre<0.99)],annot=True, cmap='rainbow',vmin=-1,vmax=1,fmt=\".5f\") # Ignore the self correlation values by using 0.99 as a limit"
   ]
  },
  {
   "cell_type": "code",
   "execution_count": 40,
   "metadata": {},
   "outputs": [
    {
     "name": "stdout",
     "output_type": "stream",
     "text": [
      "There is strong correlation between :  Calories & Calories from Fat \n",
      "\n",
      "There is strong correlation between :  Calories & Total Fat \n",
      "\n",
      "There is strong correlation between :  Calories & Total Fat (% Daily Value) \n",
      "\n",
      "There is strong correlation between :  Calories from Fat & Calories \n",
      "\n",
      "There is strong correlation between :  Total Fat & Calories \n",
      "\n",
      "There is strong correlation between :  Total Fat (% Daily Value) & Calories \n",
      "\n",
      "There is strong correlation between :  Dietary Fiber & Dietary Fiber (% Daily Value) \n",
      "\n",
      "There is strong correlation between :  Dietary Fiber (% Daily Value) & Dietary Fiber \n",
      "\n"
     ]
    }
   ],
   "source": [
    "x=(corre[(corre>threshold) & (corre<1)])\n",
    "rowcoldex=x.keys()\n",
    "for i in range(0,21):\n",
    "    for j in range(0,21):\n",
    "        if ((x.iloc[i,j]>threshold) & (x.iloc[i,j]<0.99) or(x.iloc[i,j]>-threshold) & (x.iloc[i,j]<-0.99) ): # covers both positive and negative correlation\n",
    "            print(\"There is strong correlation between : \", rowcoldex[i], \"&\",rowcoldex[j],\"\\n\") \n",
    "#x.columns\n"
   ]
  },
  {
   "cell_type": "markdown",
   "metadata": {},
   "source": [
    "# Q4 : Which category contributes to the maximum % of Cholesterol in a diet (% daily value)?\n"
   ]
  },
  {
   "cell_type": "code",
   "execution_count": 41,
   "metadata": {},
   "outputs": [
    {
     "data": {
      "text/plain": [
       "50.95238095238095"
      ]
     },
     "execution_count": 41,
     "metadata": {},
     "output_type": "execute_result"
    }
   ],
   "source": [
    "Bfast=df[df['Category']=='Breakfast']\n",
    "Bfast['Cholesterol (% Daily Value)'].mean()"
   ]
  },
  {
   "cell_type": "code",
   "execution_count": 42,
   "metadata": {
    "collapsed": true
   },
   "outputs": [],
   "source": [
    "categori=df.Category.unique()"
   ]
  },
  {
   "cell_type": "code",
   "execution_count": 43,
   "metadata": {},
   "outputs": [
    {
     "name": "stdout",
     "output_type": "stream",
     "text": [
      "The total calories in  Breakfast due to cholestrol is :  50.95238095238095\n",
      "The total calories in  Beef & Pork due to cholestrol is :  28.933333333333334\n",
      "The total calories in  Chicken & Fish due to cholestrol is :  25.22222222222222\n",
      "The total calories in  Salads due to cholestrol is :  17.333333333333332\n",
      "The total calories in  Snacks & Sides due to cholestrol is :  6.230769230769231\n",
      "The total calories in  Desserts due to cholestrol is :  4.857142857142857\n",
      "The total calories in  Beverages due to cholestrol is :  0.18518518518518517\n",
      "The total calories in  Coffee & Tea due to cholestrol is :  9.378947368421052\n",
      "The total calories in  Smoothies & Shakes due to cholestrol is :  14.714285714285714\n"
     ]
    }
   ],
   "source": [
    "dict={}\n",
    "for i in categori:\n",
    "        cat=df[df['Category']==i]\n",
    "        print(\"The total calories in \", i, \"due to cholestrol is : \", cat['Cholesterol (% Daily Value)'].mean())\n",
    "        dict[i]=cat['Cholesterol (% Daily Value)'].mean()\n",
    "        "
   ]
  },
  {
   "cell_type": "code",
   "execution_count": 44,
   "metadata": {},
   "outputs": [
    {
     "data": {
      "text/plain": [
       "{'Beef & Pork': 28.933333333333334,\n",
       " 'Beverages': 0.18518518518518517,\n",
       " 'Breakfast': 50.95238095238095,\n",
       " 'Chicken & Fish': 25.22222222222222,\n",
       " 'Coffee & Tea': 9.378947368421052,\n",
       " 'Desserts': 4.857142857142857,\n",
       " 'Salads': 17.333333333333332,\n",
       " 'Smoothies & Shakes': 14.714285714285714,\n",
       " 'Snacks & Sides': 6.230769230769231}"
      ]
     },
     "execution_count": 44,
     "metadata": {},
     "output_type": "execute_result"
    }
   ],
   "source": [
    "dict"
   ]
  },
  {
   "cell_type": "code",
   "execution_count": 45,
   "metadata": {
    "collapsed": true
   },
   "outputs": [],
   "source": [
    "dict.items()\n",
    "foodframe=pd.DataFrame([dict])"
   ]
  },
  {
   "cell_type": "code",
   "execution_count": 46,
   "metadata": {},
   "outputs": [
    {
     "data": {
      "text/html": [
       "<div>\n",
       "<style>\n",
       "    .dataframe thead tr:only-child th {\n",
       "        text-align: right;\n",
       "    }\n",
       "\n",
       "    .dataframe thead th {\n",
       "        text-align: left;\n",
       "    }\n",
       "\n",
       "    .dataframe tbody tr th {\n",
       "        vertical-align: top;\n",
       "    }\n",
       "</style>\n",
       "<table border=\"1\" class=\"dataframe\">\n",
       "  <thead>\n",
       "    <tr style=\"text-align: right;\">\n",
       "      <th></th>\n",
       "      <th>Beef &amp; Pork</th>\n",
       "      <th>Beverages</th>\n",
       "      <th>Breakfast</th>\n",
       "      <th>Chicken &amp; Fish</th>\n",
       "      <th>Coffee &amp; Tea</th>\n",
       "      <th>Desserts</th>\n",
       "      <th>Salads</th>\n",
       "      <th>Smoothies &amp; Shakes</th>\n",
       "      <th>Snacks &amp; Sides</th>\n",
       "    </tr>\n",
       "  </thead>\n",
       "  <tbody>\n",
       "    <tr>\n",
       "      <th>0</th>\n",
       "      <td>28.933333</td>\n",
       "      <td>0.185185</td>\n",
       "      <td>50.952381</td>\n",
       "      <td>25.222222</td>\n",
       "      <td>9.378947</td>\n",
       "      <td>4.857143</td>\n",
       "      <td>17.333333</td>\n",
       "      <td>14.714286</td>\n",
       "      <td>6.230769</td>\n",
       "    </tr>\n",
       "  </tbody>\n",
       "</table>\n",
       "</div>"
      ],
      "text/plain": [
       "   Beef & Pork  Beverages  Breakfast  Chicken & Fish  Coffee & Tea  Desserts  \\\n",
       "0    28.933333   0.185185  50.952381       25.222222      9.378947  4.857143   \n",
       "\n",
       "      Salads  Smoothies & Shakes  Snacks & Sides  \n",
       "0  17.333333           14.714286        6.230769  "
      ]
     },
     "execution_count": 46,
     "metadata": {},
     "output_type": "execute_result"
    }
   ],
   "source": [
    "foodframe"
   ]
  },
  {
   "cell_type": "code",
   "execution_count": 47,
   "metadata": {
    "collapsed": true
   },
   "outputs": [],
   "source": [
    "maxcal=foodframe.iloc[0].max()"
   ]
  },
  {
   "cell_type": "code",
   "execution_count": 48,
   "metadata": {},
   "outputs": [
    {
     "data": {
      "text/plain": [
       "50.952380952380949"
      ]
     },
     "execution_count": 48,
     "metadata": {},
     "output_type": "execute_result"
    }
   ],
   "source": [
    "maxcal\n"
   ]
  },
  {
   "cell_type": "code",
   "execution_count": 49,
   "metadata": {
    "collapsed": true
   },
   "outputs": [],
   "source": [
    "food=foodframe.transpose()"
   ]
  },
  {
   "cell_type": "code",
   "execution_count": 50,
   "metadata": {
    "collapsed": true
   },
   "outputs": [],
   "source": [
    "a=food[food[0]==maxcal].index[0]"
   ]
  },
  {
   "cell_type": "code",
   "execution_count": 51,
   "metadata": {},
   "outputs": [
    {
     "name": "stdout",
     "output_type": "stream",
     "text": [
      "\n",
      " The maximum calories by percentage is provided by the category : Breakfast and has a average value of : 50.9523809524 \n",
      "\n",
      "\n"
     ]
    }
   ],
   "source": [
    "print(\"\\n The maximum calories by percentage is provided by the category :\",a, \"and has a average value of :\",maxcal,\"\\n\\n\")"
   ]
  },
  {
   "cell_type": "markdown",
   "metadata": {},
   "source": [
    "# Q5 : Which item contributes maximum to the Sodium intake?\n"
   ]
  },
  {
   "cell_type": "code",
   "execution_count": 66,
   "metadata": {},
   "outputs": [],
   "source": [
    "it=df.groupby(['Item']).sum() # Groups by Item, and sums up the values of each item"
   ]
  },
  {
   "cell_type": "code",
   "execution_count": 53,
   "metadata": {},
   "outputs": [
    {
     "name": "stdout",
     "output_type": "stream",
     "text": [
      "3600\n"
     ]
    }
   ],
   "source": [
    "maxsod=it['Sodium'].max() # Gets the value with maximum sodium\n",
    "print(maxsod)"
   ]
  },
  {
   "cell_type": "code",
   "execution_count": 54,
   "metadata": {
    "collapsed": true
   },
   "outputs": [],
   "source": [
    "sodiumitem=it[it['Sodium']==maxsod] # Finds out the item which has max sodium value\n"
   ]
  },
  {
   "cell_type": "code",
   "execution_count": 55,
   "metadata": {},
   "outputs": [],
   "source": [
    "m=sodiumitem.reset_index() # Helps easy picking of 'Item' later"
   ]
  },
  {
   "cell_type": "code",
   "execution_count": 56,
   "metadata": {},
   "outputs": [
    {
     "data": {
      "text/plain": [
       "Index(['Item', 'Calories', 'Calories from Fat', 'Total Fat',\n",
       "       'Total Fat (% Daily Value)', 'Saturated Fat',\n",
       "       'Saturated Fat (% Daily Value)', 'Trans Fat', 'Cholesterol',\n",
       "       'Cholesterol (% Daily Value)', 'Sodium', 'Sodium (% Daily Value)',\n",
       "       'Carbohydrates', 'Carbohydrates (% Daily Value)', 'Dietary Fiber',\n",
       "       'Dietary Fiber (% Daily Value)', 'Sugars', 'Protein',\n",
       "       'Vitamin A (% Daily Value)', 'Vitamin C (% Daily Value)',\n",
       "       'Calcium (% Daily Value)', 'Iron (% Daily Value)'],\n",
       "      dtype='object')"
      ]
     },
     "execution_count": 56,
     "metadata": {},
     "output_type": "execute_result"
    }
   ],
   "source": [
    "m.keys() # Get the headings, alternatively one can use columns"
   ]
  },
  {
   "cell_type": "code",
   "execution_count": 57,
   "metadata": {
    "collapsed": true
   },
   "outputs": [],
   "source": [
    "sodmax=m['Item'][0] # Gets the item name from the table\n"
   ]
  },
  {
   "cell_type": "code",
   "execution_count": 58,
   "metadata": {},
   "outputs": [
    {
     "name": "stdout",
     "output_type": "stream",
     "text": [
      "The item with maximum sodium contribution is :  Chicken McNuggets (40 piece)\n"
     ]
    }
   ],
   "source": [
    "print(\"The item with maximum sodium contribution is : \", sodmax)"
   ]
  },
  {
   "cell_type": "markdown",
   "metadata": {
    "collapsed": true
   },
   "source": [
    "# Q6.Which 4 food items contains the most amount of Saturated Fat?\n"
   ]
  },
  {
   "cell_type": "code",
   "execution_count": 59,
   "metadata": {
    "collapsed": true
   },
   "outputs": [],
   "source": [
    "it=df.groupby(['Item']).sum()"
   ]
  },
  {
   "cell_type": "code",
   "execution_count": 60,
   "metadata": {
    "collapsed": true
   },
   "outputs": [],
   "source": [
    "maxsatfat=it.sort_values('Saturated Fat').tail(4).reset_index()"
   ]
  },
  {
   "cell_type": "code",
   "execution_count": 61,
   "metadata": {},
   "outputs": [
    {
     "name": "stdout",
     "output_type": "stream",
     "text": [
      "\n",
      "\n",
      " The 4 items with most saturated fat are :\n",
      "\n",
      " ******************************* \n",
      "\n",
      " Frappé Chocolate Chip (Large) , \n",
      "\n",
      " McFlurry with M&M’s Candies (Medium) ,\n",
      "\n",
      " Chicken McNuggets (40 piece) ,\n",
      "\n",
      " Big Breakfast with Hotcakes (Large Biscuit) \n",
      "\n",
      " *******************************\n"
     ]
    }
   ],
   "source": [
    "print(\"\\n\\n The 4 items with most saturated fat are :\\n\\n ******************************* \\n\\n\", maxsatfat['Item'].loc[0],\", \\n\\n\",maxsatfat['Item'].loc[1],\",\\n\\n\",maxsatfat['Item'].loc[2],\",\\n\\n\",maxsatfat['Item'].loc[3],\"\\n\\n *******************************\")"
   ]
  }
 ],
 "metadata": {
  "kernelspec": {
   "display_name": "Python 3",
   "language": "python",
   "name": "python3"
  },
  "language_info": {
   "codemirror_mode": {
    "name": "ipython",
    "version": 3
   },
   "file_extension": ".py",
   "mimetype": "text/x-python",
   "name": "python",
   "nbconvert_exporter": "python",
   "pygments_lexer": "ipython3",
   "version": "3.6.3"
  }
 },
 "nbformat": 4,
 "nbformat_minor": 2
}
