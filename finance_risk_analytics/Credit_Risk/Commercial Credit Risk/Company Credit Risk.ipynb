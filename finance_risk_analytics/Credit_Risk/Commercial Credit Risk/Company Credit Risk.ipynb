{
 "cells": [
  {
   "cell_type": "markdown",
   "metadata": {},
   "source": [
    "# Company Default Data"
   ]
  },
  {
   "cell_type": "code",
   "execution_count": 1,
   "metadata": {},
   "outputs": [],
   "source": [
    "# Importing the libraries\n",
    "import numpy as np\n",
    "import matplotlib.pyplot as plt\n",
    "import pandas as pd\n",
    "import seaborn as sns # for making plots with seaborn\n",
    "color = sns.color_palette()\n",
    "import sklearn.metrics as metrics\n",
    "\n",
    "import warnings\n",
    "warnings.filterwarnings(\"ignore\")"
   ]
  },
  {
   "cell_type": "markdown",
   "metadata": {},
   "source": [
    "#### Setting working directory"
   ]
  },
  {
   "cell_type": "code",
   "execution_count": 531,
   "metadata": {},
   "outputs": [
    {
     "data": {
      "text/plain": [
       "'F:\\\\Hassan\\\\Data science\\\\GL\\\\FRA'"
      ]
     },
     "execution_count": 531,
     "metadata": {},
     "output_type": "execute_result"
    }
   ],
   "source": [
    "import os\n",
    "os.chdir('F:/Hassan/Data science/GL/FRA/')\n",
    "\n",
    "os.getcwd()"
   ]
  },
  {
   "cell_type": "markdown",
   "metadata": {},
   "source": [
    "Let us now go ahead and read the dataset and check the first five rows of the dataset."
   ]
  },
  {
   "cell_type": "markdown",
   "metadata": {},
   "source": [
    "#### Importing the dataset"
   ]
  },
  {
   "cell_type": "code",
   "execution_count": 3,
   "metadata": {},
   "outputs": [
    {
     "data": {
      "text/html": [
       "<div>\n",
       "<style scoped>\n",
       "    .dataframe tbody tr th:only-of-type {\n",
       "        vertical-align: middle;\n",
       "    }\n",
       "\n",
       "    .dataframe tbody tr th {\n",
       "        vertical-align: top;\n",
       "    }\n",
       "\n",
       "    .dataframe thead th {\n",
       "        text-align: right;\n",
       "    }\n",
       "</style>\n",
       "<table border=\"1\" class=\"dataframe\">\n",
       "  <thead>\n",
       "    <tr style=\"text-align: right;\">\n",
       "      <th></th>\n",
       "      <th>Num</th>\n",
       "      <th>Networth Next Year</th>\n",
       "      <th>Total assets</th>\n",
       "      <th>Net worth</th>\n",
       "      <th>Total income</th>\n",
       "      <th>Change in stock</th>\n",
       "      <th>Total expenses</th>\n",
       "      <th>Profit after tax</th>\n",
       "      <th>PBDITA</th>\n",
       "      <th>PBT</th>\n",
       "      <th>...</th>\n",
       "      <th>Debtors turnover</th>\n",
       "      <th>Finished goods turnover</th>\n",
       "      <th>WIP turnover</th>\n",
       "      <th>Raw material turnover</th>\n",
       "      <th>Shares outstanding</th>\n",
       "      <th>Equity face value</th>\n",
       "      <th>EPS</th>\n",
       "      <th>Adjusted EPS</th>\n",
       "      <th>Total liabilities</th>\n",
       "      <th>PE on BSE</th>\n",
       "    </tr>\n",
       "  </thead>\n",
       "  <tbody>\n",
       "    <tr>\n",
       "      <th>0</th>\n",
       "      <td>1</td>\n",
       "      <td>8890.6</td>\n",
       "      <td>17512.3</td>\n",
       "      <td>7093.2</td>\n",
       "      <td>24965.2</td>\n",
       "      <td>235.8</td>\n",
       "      <td>23657.8</td>\n",
       "      <td>1543.2</td>\n",
       "      <td>2860.2</td>\n",
       "      <td>2417.2</td>\n",
       "      <td>...</td>\n",
       "      <td>3.85</td>\n",
       "      <td>200.55</td>\n",
       "      <td>21.78</td>\n",
       "      <td>7.71</td>\n",
       "      <td>42381675.0</td>\n",
       "      <td>10.0</td>\n",
       "      <td>35.52</td>\n",
       "      <td>7.10</td>\n",
       "      <td>17512.3</td>\n",
       "      <td>27.31</td>\n",
       "    </tr>\n",
       "    <tr>\n",
       "      <th>1</th>\n",
       "      <td>2</td>\n",
       "      <td>394.3</td>\n",
       "      <td>941.0</td>\n",
       "      <td>351.5</td>\n",
       "      <td>1527.4</td>\n",
       "      <td>42.7</td>\n",
       "      <td>1454.9</td>\n",
       "      <td>115.2</td>\n",
       "      <td>283.0</td>\n",
       "      <td>188.4</td>\n",
       "      <td>...</td>\n",
       "      <td>5.70</td>\n",
       "      <td>14.21</td>\n",
       "      <td>7.49</td>\n",
       "      <td>11.46</td>\n",
       "      <td>11550000.0</td>\n",
       "      <td>10.0</td>\n",
       "      <td>9.97</td>\n",
       "      <td>9.97</td>\n",
       "      <td>941.0</td>\n",
       "      <td>8.17</td>\n",
       "    </tr>\n",
       "    <tr>\n",
       "      <th>2</th>\n",
       "      <td>3</td>\n",
       "      <td>92.2</td>\n",
       "      <td>232.8</td>\n",
       "      <td>100.6</td>\n",
       "      <td>477.3</td>\n",
       "      <td>-5.2</td>\n",
       "      <td>478.7</td>\n",
       "      <td>-6.6</td>\n",
       "      <td>5.8</td>\n",
       "      <td>-6.6</td>\n",
       "      <td>...</td>\n",
       "      <td>5.07</td>\n",
       "      <td>9.24</td>\n",
       "      <td>0.23</td>\n",
       "      <td>NaN</td>\n",
       "      <td>8149090.0</td>\n",
       "      <td>10.0</td>\n",
       "      <td>-0.50</td>\n",
       "      <td>-0.50</td>\n",
       "      <td>232.8</td>\n",
       "      <td>-5.76</td>\n",
       "    </tr>\n",
       "    <tr>\n",
       "      <th>3</th>\n",
       "      <td>4</td>\n",
       "      <td>2.7</td>\n",
       "      <td>2.7</td>\n",
       "      <td>2.7</td>\n",
       "      <td>NaN</td>\n",
       "      <td>NaN</td>\n",
       "      <td>NaN</td>\n",
       "      <td>NaN</td>\n",
       "      <td>NaN</td>\n",
       "      <td>NaN</td>\n",
       "      <td>...</td>\n",
       "      <td>0.00</td>\n",
       "      <td>NaN</td>\n",
       "      <td>NaN</td>\n",
       "      <td>0.00</td>\n",
       "      <td>52404.0</td>\n",
       "      <td>10.0</td>\n",
       "      <td>0.00</td>\n",
       "      <td>0.00</td>\n",
       "      <td>2.7</td>\n",
       "      <td>NaN</td>\n",
       "    </tr>\n",
       "    <tr>\n",
       "      <th>4</th>\n",
       "      <td>5</td>\n",
       "      <td>109.0</td>\n",
       "      <td>478.5</td>\n",
       "      <td>107.6</td>\n",
       "      <td>1580.5</td>\n",
       "      <td>-17.0</td>\n",
       "      <td>1558.0</td>\n",
       "      <td>5.5</td>\n",
       "      <td>31.0</td>\n",
       "      <td>6.3</td>\n",
       "      <td>...</td>\n",
       "      <td>9.46</td>\n",
       "      <td>12.68</td>\n",
       "      <td>7.90</td>\n",
       "      <td>17.03</td>\n",
       "      <td>619635.0</td>\n",
       "      <td>10.0</td>\n",
       "      <td>7.91</td>\n",
       "      <td>7.91</td>\n",
       "      <td>478.5</td>\n",
       "      <td>NaN</td>\n",
       "    </tr>\n",
       "  </tbody>\n",
       "</table>\n",
       "<p>5 rows × 52 columns</p>\n",
       "</div>"
      ],
      "text/plain": [
       "   Num  Networth Next Year  Total assets  Net worth  Total income  \\\n",
       "0    1              8890.6       17512.3     7093.2       24965.2   \n",
       "1    2               394.3         941.0      351.5        1527.4   \n",
       "2    3                92.2         232.8      100.6         477.3   \n",
       "3    4                 2.7           2.7        2.7           NaN   \n",
       "4    5               109.0         478.5      107.6        1580.5   \n",
       "\n",
       "   Change in stock  Total expenses  Profit after tax  PBDITA     PBT  ...  \\\n",
       "0            235.8         23657.8            1543.2  2860.2  2417.2  ...   \n",
       "1             42.7          1454.9             115.2   283.0   188.4  ...   \n",
       "2             -5.2           478.7              -6.6     5.8    -6.6  ...   \n",
       "3              NaN             NaN               NaN     NaN     NaN  ...   \n",
       "4            -17.0          1558.0               5.5    31.0     6.3  ...   \n",
       "\n",
       "   Debtors turnover  Finished goods turnover  WIP turnover  \\\n",
       "0              3.85                   200.55         21.78   \n",
       "1              5.70                    14.21          7.49   \n",
       "2              5.07                     9.24          0.23   \n",
       "3              0.00                      NaN           NaN   \n",
       "4              9.46                    12.68          7.90   \n",
       "\n",
       "   Raw material turnover  Shares outstanding  Equity face value    EPS  \\\n",
       "0                   7.71          42381675.0               10.0  35.52   \n",
       "1                  11.46          11550000.0               10.0   9.97   \n",
       "2                    NaN           8149090.0               10.0  -0.50   \n",
       "3                   0.00             52404.0               10.0   0.00   \n",
       "4                  17.03            619635.0               10.0   7.91   \n",
       "\n",
       "   Adjusted EPS  Total liabilities  PE on BSE  \n",
       "0          7.10            17512.3      27.31  \n",
       "1          9.97              941.0       8.17  \n",
       "2         -0.50              232.8      -5.76  \n",
       "3          0.00                2.7        NaN  \n",
       "4          7.91              478.5        NaN  \n",
       "\n",
       "[5 rows x 52 columns]"
      ]
     },
     "execution_count": 3,
     "metadata": {},
     "output_type": "execute_result"
    }
   ],
   "source": [
    "Company = pd.read_csv('Company data.csv')\n",
    "\n",
    "#Glimpse of Data\n",
    "Company.head()"
   ]
  },
  {
   "cell_type": "markdown",
   "metadata": {},
   "source": [
    "#### Fixing messy column names (containing spaces) for ease of use"
   ]
  },
  {
   "cell_type": "code",
   "execution_count": 4,
   "metadata": {},
   "outputs": [],
   "source": [
    "Company.columns = Company.columns.str.strip().str.replace(' ', '_').str.replace('(', '').str.replace(')', '').str.replace('%', 'perc')"
   ]
  },
  {
   "cell_type": "markdown",
   "metadata": {},
   "source": [
    "#### Checking top 5 rows again"
   ]
  },
  {
   "cell_type": "code",
   "execution_count": 5,
   "metadata": {},
   "outputs": [
    {
     "data": {
      "text/html": [
       "<div>\n",
       "<style scoped>\n",
       "    .dataframe tbody tr th:only-of-type {\n",
       "        vertical-align: middle;\n",
       "    }\n",
       "\n",
       "    .dataframe tbody tr th {\n",
       "        vertical-align: top;\n",
       "    }\n",
       "\n",
       "    .dataframe thead th {\n",
       "        text-align: right;\n",
       "    }\n",
       "</style>\n",
       "<table border=\"1\" class=\"dataframe\">\n",
       "  <thead>\n",
       "    <tr style=\"text-align: right;\">\n",
       "      <th></th>\n",
       "      <th>Num</th>\n",
       "      <th>Networth_Next_Year</th>\n",
       "      <th>Total_assets</th>\n",
       "      <th>Net_worth</th>\n",
       "      <th>Total_income</th>\n",
       "      <th>Change_in_stock</th>\n",
       "      <th>Total_expenses</th>\n",
       "      <th>Profit_after_tax</th>\n",
       "      <th>PBDITA</th>\n",
       "      <th>PBT</th>\n",
       "      <th>...</th>\n",
       "      <th>Debtors_turnover</th>\n",
       "      <th>Finished_goods_turnover</th>\n",
       "      <th>WIP_turnover</th>\n",
       "      <th>Raw_material_turnover</th>\n",
       "      <th>Shares_outstanding</th>\n",
       "      <th>Equity_face_value</th>\n",
       "      <th>EPS</th>\n",
       "      <th>Adjusted_EPS</th>\n",
       "      <th>Total_liabilities</th>\n",
       "      <th>PE_on_BSE</th>\n",
       "    </tr>\n",
       "  </thead>\n",
       "  <tbody>\n",
       "    <tr>\n",
       "      <th>0</th>\n",
       "      <td>1</td>\n",
       "      <td>8890.6</td>\n",
       "      <td>17512.3</td>\n",
       "      <td>7093.2</td>\n",
       "      <td>24965.2</td>\n",
       "      <td>235.8</td>\n",
       "      <td>23657.8</td>\n",
       "      <td>1543.2</td>\n",
       "      <td>2860.2</td>\n",
       "      <td>2417.2</td>\n",
       "      <td>...</td>\n",
       "      <td>3.85</td>\n",
       "      <td>200.55</td>\n",
       "      <td>21.78</td>\n",
       "      <td>7.71</td>\n",
       "      <td>42381675.0</td>\n",
       "      <td>10.0</td>\n",
       "      <td>35.52</td>\n",
       "      <td>7.10</td>\n",
       "      <td>17512.3</td>\n",
       "      <td>27.31</td>\n",
       "    </tr>\n",
       "    <tr>\n",
       "      <th>1</th>\n",
       "      <td>2</td>\n",
       "      <td>394.3</td>\n",
       "      <td>941.0</td>\n",
       "      <td>351.5</td>\n",
       "      <td>1527.4</td>\n",
       "      <td>42.7</td>\n",
       "      <td>1454.9</td>\n",
       "      <td>115.2</td>\n",
       "      <td>283.0</td>\n",
       "      <td>188.4</td>\n",
       "      <td>...</td>\n",
       "      <td>5.70</td>\n",
       "      <td>14.21</td>\n",
       "      <td>7.49</td>\n",
       "      <td>11.46</td>\n",
       "      <td>11550000.0</td>\n",
       "      <td>10.0</td>\n",
       "      <td>9.97</td>\n",
       "      <td>9.97</td>\n",
       "      <td>941.0</td>\n",
       "      <td>8.17</td>\n",
       "    </tr>\n",
       "    <tr>\n",
       "      <th>2</th>\n",
       "      <td>3</td>\n",
       "      <td>92.2</td>\n",
       "      <td>232.8</td>\n",
       "      <td>100.6</td>\n",
       "      <td>477.3</td>\n",
       "      <td>-5.2</td>\n",
       "      <td>478.7</td>\n",
       "      <td>-6.6</td>\n",
       "      <td>5.8</td>\n",
       "      <td>-6.6</td>\n",
       "      <td>...</td>\n",
       "      <td>5.07</td>\n",
       "      <td>9.24</td>\n",
       "      <td>0.23</td>\n",
       "      <td>NaN</td>\n",
       "      <td>8149090.0</td>\n",
       "      <td>10.0</td>\n",
       "      <td>-0.50</td>\n",
       "      <td>-0.50</td>\n",
       "      <td>232.8</td>\n",
       "      <td>-5.76</td>\n",
       "    </tr>\n",
       "    <tr>\n",
       "      <th>3</th>\n",
       "      <td>4</td>\n",
       "      <td>2.7</td>\n",
       "      <td>2.7</td>\n",
       "      <td>2.7</td>\n",
       "      <td>NaN</td>\n",
       "      <td>NaN</td>\n",
       "      <td>NaN</td>\n",
       "      <td>NaN</td>\n",
       "      <td>NaN</td>\n",
       "      <td>NaN</td>\n",
       "      <td>...</td>\n",
       "      <td>0.00</td>\n",
       "      <td>NaN</td>\n",
       "      <td>NaN</td>\n",
       "      <td>0.00</td>\n",
       "      <td>52404.0</td>\n",
       "      <td>10.0</td>\n",
       "      <td>0.00</td>\n",
       "      <td>0.00</td>\n",
       "      <td>2.7</td>\n",
       "      <td>NaN</td>\n",
       "    </tr>\n",
       "    <tr>\n",
       "      <th>4</th>\n",
       "      <td>5</td>\n",
       "      <td>109.0</td>\n",
       "      <td>478.5</td>\n",
       "      <td>107.6</td>\n",
       "      <td>1580.5</td>\n",
       "      <td>-17.0</td>\n",
       "      <td>1558.0</td>\n",
       "      <td>5.5</td>\n",
       "      <td>31.0</td>\n",
       "      <td>6.3</td>\n",
       "      <td>...</td>\n",
       "      <td>9.46</td>\n",
       "      <td>12.68</td>\n",
       "      <td>7.90</td>\n",
       "      <td>17.03</td>\n",
       "      <td>619635.0</td>\n",
       "      <td>10.0</td>\n",
       "      <td>7.91</td>\n",
       "      <td>7.91</td>\n",
       "      <td>478.5</td>\n",
       "      <td>NaN</td>\n",
       "    </tr>\n",
       "  </tbody>\n",
       "</table>\n",
       "<p>5 rows × 52 columns</p>\n",
       "</div>"
      ],
      "text/plain": [
       "   Num  Networth_Next_Year  Total_assets  Net_worth  Total_income  \\\n",
       "0    1              8890.6       17512.3     7093.2       24965.2   \n",
       "1    2               394.3         941.0      351.5        1527.4   \n",
       "2    3                92.2         232.8      100.6         477.3   \n",
       "3    4                 2.7           2.7        2.7           NaN   \n",
       "4    5               109.0         478.5      107.6        1580.5   \n",
       "\n",
       "   Change_in_stock  Total_expenses  Profit_after_tax  PBDITA     PBT  ...  \\\n",
       "0            235.8         23657.8            1543.2  2860.2  2417.2  ...   \n",
       "1             42.7          1454.9             115.2   283.0   188.4  ...   \n",
       "2             -5.2           478.7              -6.6     5.8    -6.6  ...   \n",
       "3              NaN             NaN               NaN     NaN     NaN  ...   \n",
       "4            -17.0          1558.0               5.5    31.0     6.3  ...   \n",
       "\n",
       "   Debtors_turnover  Finished_goods_turnover  WIP_turnover  \\\n",
       "0              3.85                   200.55         21.78   \n",
       "1              5.70                    14.21          7.49   \n",
       "2              5.07                     9.24          0.23   \n",
       "3              0.00                      NaN           NaN   \n",
       "4              9.46                    12.68          7.90   \n",
       "\n",
       "   Raw_material_turnover  Shares_outstanding  Equity_face_value    EPS  \\\n",
       "0                   7.71          42381675.0               10.0  35.52   \n",
       "1                  11.46          11550000.0               10.0   9.97   \n",
       "2                    NaN           8149090.0               10.0  -0.50   \n",
       "3                   0.00             52404.0               10.0   0.00   \n",
       "4                  17.03            619635.0               10.0   7.91   \n",
       "\n",
       "   Adjusted_EPS  Total_liabilities  PE_on_BSE  \n",
       "0          7.10            17512.3      27.31  \n",
       "1          9.97              941.0       8.17  \n",
       "2         -0.50              232.8      -5.76  \n",
       "3          0.00                2.7        NaN  \n",
       "4          7.91              478.5        NaN  \n",
       "\n",
       "[5 rows x 52 columns]"
      ]
     },
     "execution_count": 5,
     "metadata": {},
     "output_type": "execute_result"
    }
   ],
   "source": [
    "Company.head()"
   ]
  },
  {
   "cell_type": "markdown",
   "metadata": {},
   "source": [
    "#### Now, let us check the number of rows (observations) and the number of columns (variables)"
   ]
  },
  {
   "cell_type": "code",
   "execution_count": 6,
   "metadata": {},
   "outputs": [
    {
     "name": "stdout",
     "output_type": "stream",
     "text": [
      "The number of rows (observations) is 3541 \n",
      "The number of columns (variables) is 52\n"
     ]
    }
   ],
   "source": [
    "print('The number of rows (observations) is',Company.shape[0],'\\n''The number of columns (variables) is',Company.shape[1])"
   ]
  },
  {
   "cell_type": "markdown",
   "metadata": {},
   "source": [
    "#### Checking datatype of all columns"
   ]
  },
  {
   "cell_type": "code",
   "execution_count": 7,
   "metadata": {},
   "outputs": [
    {
     "name": "stdout",
     "output_type": "stream",
     "text": [
      "<class 'pandas.core.frame.DataFrame'>\n",
      "RangeIndex: 3541 entries, 0 to 3540\n",
      "Data columns (total 52 columns):\n",
      "Num                                            3541 non-null int64\n",
      "Networth_Next_Year                             3541 non-null float64\n",
      "Total_assets                                   3541 non-null float64\n",
      "Net_worth                                      3541 non-null float64\n",
      "Total_income                                   3343 non-null float64\n",
      "Change_in_stock                                3083 non-null float64\n",
      "Total_expenses                                 3402 non-null float64\n",
      "Profit_after_tax                               3410 non-null float64\n",
      "PBDITA                                         3410 non-null float64\n",
      "PBT                                            3410 non-null float64\n",
      "Cash_profit                                    3410 non-null float64\n",
      "PBDITA_as_perc_of_total_income                 3473 non-null float64\n",
      "PBT_as_perc_of_total_income                    3473 non-null float64\n",
      "PAT_as_perc_of_total_income                    3473 non-null float64\n",
      "Cash_profit_as_perc_of_total_income            3473 non-null float64\n",
      "PAT_as_perc_of_net_worth                       3541 non-null float64\n",
      "Sales                                          3282 non-null float64\n",
      "Income_from_financial_services                 2606 non-null float64\n",
      "Other_income                                   2246 non-null float64\n",
      "Total_capital                                  3537 non-null float64\n",
      "Reserves_and_funds                             3456 non-null float64\n",
      "Deposits_accepted_by_commercial_banks          0 non-null float64\n",
      "Borrowings                                     3175 non-null float64\n",
      "Current_liabilities_&_provisions               3445 non-null float64\n",
      "Deferred_tax_liability                         2401 non-null float64\n",
      "Shareholders_funds                             3541 non-null float64\n",
      "Cumulative_retained_profits                    3503 non-null float64\n",
      "Capital_employed                               3541 non-null float64\n",
      "TOL/TNW                                        3541 non-null float64\n",
      "Total_term_liabilities_/_tangible_net_worth    3541 non-null float64\n",
      "Contingent_liabilities_/_Net_worth_perc        3541 non-null float64\n",
      "Contingent_liabilities                         2353 non-null float64\n",
      "Net_fixed_assets                               3423 non-null float64\n",
      "Investments                                    2106 non-null float64\n",
      "Current_assets                                 3475 non-null float64\n",
      "Net_working_capital                            3509 non-null float64\n",
      "Quick_ratio_times                              3448 non-null float64\n",
      "Current_ratio_times                            3448 non-null float64\n",
      "Debt_to_equity_ratio_times                     3541 non-null float64\n",
      "Cash_to_current_liabilities_times              3448 non-null float64\n",
      "Cash_to_average_cost_of_sales_per_day          3456 non-null float64\n",
      "Creditors_turnover                             3208 non-null float64\n",
      "Debtors_turnover                               3213 non-null float64\n",
      "Finished_goods_turnover                        2801 non-null float64\n",
      "WIP_turnover                                   2901 non-null float64\n",
      "Raw_material_turnover                          3180 non-null float64\n",
      "Shares_outstanding                             2849 non-null float64\n",
      "Equity_face_value                              2849 non-null float64\n",
      "EPS                                            3541 non-null float64\n",
      "Adjusted_EPS                                   3541 non-null float64\n",
      "Total_liabilities                              3541 non-null float64\n",
      "PE_on_BSE                                      1347 non-null float64\n",
      "dtypes: float64(51), int64(1)\n",
      "memory usage: 1.4 MB\n"
     ]
    }
   ],
   "source": [
    "Company.info()"
   ]
  },
  {
   "cell_type": "markdown",
   "metadata": {},
   "source": [
    "#### Now, let us check the basic measures of descriptive statistics for the continuous variables"
   ]
  },
  {
   "cell_type": "code",
   "execution_count": 8,
   "metadata": {},
   "outputs": [
    {
     "data": {
      "text/html": [
       "<div>\n",
       "<style scoped>\n",
       "    .dataframe tbody tr th:only-of-type {\n",
       "        vertical-align: middle;\n",
       "    }\n",
       "\n",
       "    .dataframe tbody tr th {\n",
       "        vertical-align: top;\n",
       "    }\n",
       "\n",
       "    .dataframe thead th {\n",
       "        text-align: right;\n",
       "    }\n",
       "</style>\n",
       "<table border=\"1\" class=\"dataframe\">\n",
       "  <thead>\n",
       "    <tr style=\"text-align: right;\">\n",
       "      <th></th>\n",
       "      <th>Num</th>\n",
       "      <th>Networth_Next_Year</th>\n",
       "      <th>Total_assets</th>\n",
       "      <th>Net_worth</th>\n",
       "      <th>Total_income</th>\n",
       "      <th>Change_in_stock</th>\n",
       "      <th>Total_expenses</th>\n",
       "      <th>Profit_after_tax</th>\n",
       "      <th>PBDITA</th>\n",
       "      <th>PBT</th>\n",
       "      <th>...</th>\n",
       "      <th>Debtors_turnover</th>\n",
       "      <th>Finished_goods_turnover</th>\n",
       "      <th>WIP_turnover</th>\n",
       "      <th>Raw_material_turnover</th>\n",
       "      <th>Shares_outstanding</th>\n",
       "      <th>Equity_face_value</th>\n",
       "      <th>EPS</th>\n",
       "      <th>Adjusted_EPS</th>\n",
       "      <th>Total_liabilities</th>\n",
       "      <th>PE_on_BSE</th>\n",
       "    </tr>\n",
       "  </thead>\n",
       "  <tbody>\n",
       "    <tr>\n",
       "      <th>count</th>\n",
       "      <td>3541.000000</td>\n",
       "      <td>3541.000000</td>\n",
       "      <td>3.541000e+03</td>\n",
       "      <td>3541.000000</td>\n",
       "      <td>3.343000e+03</td>\n",
       "      <td>3083.000000</td>\n",
       "      <td>3.402000e+03</td>\n",
       "      <td>3410.00000</td>\n",
       "      <td>3410.000000</td>\n",
       "      <td>3410.000000</td>\n",
       "      <td>...</td>\n",
       "      <td>3213.000000</td>\n",
       "      <td>2801.000000</td>\n",
       "      <td>2901.000000</td>\n",
       "      <td>3180.000000</td>\n",
       "      <td>2.849000e+03</td>\n",
       "      <td>2849.000000</td>\n",
       "      <td>3541.000000</td>\n",
       "      <td>3541.000000</td>\n",
       "      <td>3.541000e+03</td>\n",
       "      <td>1347.000000</td>\n",
       "    </tr>\n",
       "    <tr>\n",
       "      <th>mean</th>\n",
       "      <td>1772.451567</td>\n",
       "      <td>1616.256199</td>\n",
       "      <td>3.443382e+03</td>\n",
       "      <td>1295.862214</td>\n",
       "      <td>4.582823e+03</td>\n",
       "      <td>41.489264</td>\n",
       "      <td>4.262931e+03</td>\n",
       "      <td>277.36044</td>\n",
       "      <td>578.056305</td>\n",
       "      <td>383.810088</td>\n",
       "      <td>...</td>\n",
       "      <td>17.041261</td>\n",
       "      <td>87.078725</td>\n",
       "      <td>27.930469</td>\n",
       "      <td>19.088399</td>\n",
       "      <td>2.206739e+07</td>\n",
       "      <td>-1333.698175</td>\n",
       "      <td>-220.316436</td>\n",
       "      <td>-221.512285</td>\n",
       "      <td>3.443382e+03</td>\n",
       "      <td>63.905687</td>\n",
       "    </tr>\n",
       "    <tr>\n",
       "      <th>std</th>\n",
       "      <td>1023.731393</td>\n",
       "      <td>17459.639673</td>\n",
       "      <td>3.097089e+04</td>\n",
       "      <td>13387.891867</td>\n",
       "      <td>5.568124e+04</td>\n",
       "      <td>440.573761</td>\n",
       "      <td>5.302869e+04</td>\n",
       "      <td>3064.40606</td>\n",
       "      <td>5653.770427</td>\n",
       "      <td>4117.069953</td>\n",
       "      <td>...</td>\n",
       "      <td>83.943754</td>\n",
       "      <td>598.545835</td>\n",
       "      <td>151.042868</td>\n",
       "      <td>376.340737</td>\n",
       "      <td>1.655193e+08</td>\n",
       "      <td>37500.729972</td>\n",
       "      <td>14261.946209</td>\n",
       "      <td>14261.923760</td>\n",
       "      <td>3.097089e+04</td>\n",
       "      <td>1433.809532</td>\n",
       "    </tr>\n",
       "    <tr>\n",
       "      <th>min</th>\n",
       "      <td>1.000000</td>\n",
       "      <td>-74265.600000</td>\n",
       "      <td>1.000000e-01</td>\n",
       "      <td>0.000000</td>\n",
       "      <td>0.000000e+00</td>\n",
       "      <td>-3029.400000</td>\n",
       "      <td>-1.000000e-01</td>\n",
       "      <td>-3908.30000</td>\n",
       "      <td>-440.700000</td>\n",
       "      <td>-3894.800000</td>\n",
       "      <td>...</td>\n",
       "      <td>0.000000</td>\n",
       "      <td>-0.090000</td>\n",
       "      <td>-0.180000</td>\n",
       "      <td>-2.000000</td>\n",
       "      <td>-2.147484e+09</td>\n",
       "      <td>-999998.900000</td>\n",
       "      <td>-843181.820000</td>\n",
       "      <td>-843181.820000</td>\n",
       "      <td>1.000000e-01</td>\n",
       "      <td>-1116.640000</td>\n",
       "    </tr>\n",
       "    <tr>\n",
       "      <th>25%</th>\n",
       "      <td>886.000000</td>\n",
       "      <td>31.700000</td>\n",
       "      <td>9.130000e+01</td>\n",
       "      <td>31.300000</td>\n",
       "      <td>1.064500e+02</td>\n",
       "      <td>-1.800000</td>\n",
       "      <td>9.582500e+01</td>\n",
       "      <td>0.50000</td>\n",
       "      <td>6.900000</td>\n",
       "      <td>0.700000</td>\n",
       "      <td>...</td>\n",
       "      <td>3.760000</td>\n",
       "      <td>8.200000</td>\n",
       "      <td>5.100000</td>\n",
       "      <td>2.990000</td>\n",
       "      <td>1.316250e+06</td>\n",
       "      <td>10.000000</td>\n",
       "      <td>0.000000</td>\n",
       "      <td>0.000000</td>\n",
       "      <td>9.130000e+01</td>\n",
       "      <td>3.275000</td>\n",
       "    </tr>\n",
       "    <tr>\n",
       "      <th>50%</th>\n",
       "      <td>1773.000000</td>\n",
       "      <td>116.300000</td>\n",
       "      <td>3.097000e+02</td>\n",
       "      <td>102.300000</td>\n",
       "      <td>4.449000e+02</td>\n",
       "      <td>1.600000</td>\n",
       "      <td>4.077000e+02</td>\n",
       "      <td>8.80000</td>\n",
       "      <td>35.400000</td>\n",
       "      <td>12.400000</td>\n",
       "      <td>...</td>\n",
       "      <td>6.320000</td>\n",
       "      <td>17.270000</td>\n",
       "      <td>9.760000</td>\n",
       "      <td>6.400000</td>\n",
       "      <td>4.672063e+06</td>\n",
       "      <td>10.000000</td>\n",
       "      <td>1.430000</td>\n",
       "      <td>1.180000</td>\n",
       "      <td>3.097000e+02</td>\n",
       "      <td>9.100000</td>\n",
       "    </tr>\n",
       "    <tr>\n",
       "      <th>75%</th>\n",
       "      <td>2658.000000</td>\n",
       "      <td>456.100000</td>\n",
       "      <td>1.098700e+03</td>\n",
       "      <td>377.300000</td>\n",
       "      <td>1.440900e+03</td>\n",
       "      <td>18.050000</td>\n",
       "      <td>1.359775e+03</td>\n",
       "      <td>52.27500</td>\n",
       "      <td>150.250000</td>\n",
       "      <td>71.975000</td>\n",
       "      <td>...</td>\n",
       "      <td>11.680000</td>\n",
       "      <td>40.350000</td>\n",
       "      <td>20.240000</td>\n",
       "      <td>11.845000</td>\n",
       "      <td>1.065197e+07</td>\n",
       "      <td>10.000000</td>\n",
       "      <td>9.620000</td>\n",
       "      <td>7.480000</td>\n",
       "      <td>1.098700e+03</td>\n",
       "      <td>17.790000</td>\n",
       "    </tr>\n",
       "    <tr>\n",
       "      <th>max</th>\n",
       "      <td>3545.000000</td>\n",
       "      <td>805773.400000</td>\n",
       "      <td>1.176509e+06</td>\n",
       "      <td>613151.600000</td>\n",
       "      <td>2.442828e+06</td>\n",
       "      <td>14185.500000</td>\n",
       "      <td>2.366035e+06</td>\n",
       "      <td>119439.10000</td>\n",
       "      <td>208576.500000</td>\n",
       "      <td>145292.600000</td>\n",
       "      <td>...</td>\n",
       "      <td>3135.200000</td>\n",
       "      <td>17947.600000</td>\n",
       "      <td>5651.400000</td>\n",
       "      <td>21092.000000</td>\n",
       "      <td>4.130401e+09</td>\n",
       "      <td>100000.000000</td>\n",
       "      <td>34522.530000</td>\n",
       "      <td>34522.530000</td>\n",
       "      <td>1.176509e+06</td>\n",
       "      <td>51002.740000</td>\n",
       "    </tr>\n",
       "  </tbody>\n",
       "</table>\n",
       "<p>8 rows × 52 columns</p>\n",
       "</div>"
      ],
      "text/plain": [
       "               Num  Networth_Next_Year  Total_assets      Net_worth  \\\n",
       "count  3541.000000         3541.000000  3.541000e+03    3541.000000   \n",
       "mean   1772.451567         1616.256199  3.443382e+03    1295.862214   \n",
       "std    1023.731393        17459.639673  3.097089e+04   13387.891867   \n",
       "min       1.000000       -74265.600000  1.000000e-01       0.000000   \n",
       "25%     886.000000           31.700000  9.130000e+01      31.300000   \n",
       "50%    1773.000000          116.300000  3.097000e+02     102.300000   \n",
       "75%    2658.000000          456.100000  1.098700e+03     377.300000   \n",
       "max    3545.000000       805773.400000  1.176509e+06  613151.600000   \n",
       "\n",
       "       Total_income  Change_in_stock  Total_expenses  Profit_after_tax  \\\n",
       "count  3.343000e+03      3083.000000    3.402000e+03        3410.00000   \n",
       "mean   4.582823e+03        41.489264    4.262931e+03         277.36044   \n",
       "std    5.568124e+04       440.573761    5.302869e+04        3064.40606   \n",
       "min    0.000000e+00     -3029.400000   -1.000000e-01       -3908.30000   \n",
       "25%    1.064500e+02        -1.800000    9.582500e+01           0.50000   \n",
       "50%    4.449000e+02         1.600000    4.077000e+02           8.80000   \n",
       "75%    1.440900e+03        18.050000    1.359775e+03          52.27500   \n",
       "max    2.442828e+06     14185.500000    2.366035e+06      119439.10000   \n",
       "\n",
       "              PBDITA            PBT  ...  Debtors_turnover  \\\n",
       "count    3410.000000    3410.000000  ...       3213.000000   \n",
       "mean      578.056305     383.810088  ...         17.041261   \n",
       "std      5653.770427    4117.069953  ...         83.943754   \n",
       "min      -440.700000   -3894.800000  ...          0.000000   \n",
       "25%         6.900000       0.700000  ...          3.760000   \n",
       "50%        35.400000      12.400000  ...          6.320000   \n",
       "75%       150.250000      71.975000  ...         11.680000   \n",
       "max    208576.500000  145292.600000  ...       3135.200000   \n",
       "\n",
       "       Finished_goods_turnover  WIP_turnover  Raw_material_turnover  \\\n",
       "count              2801.000000   2901.000000            3180.000000   \n",
       "mean                 87.078725     27.930469              19.088399   \n",
       "std                 598.545835    151.042868             376.340737   \n",
       "min                  -0.090000     -0.180000              -2.000000   \n",
       "25%                   8.200000      5.100000               2.990000   \n",
       "50%                  17.270000      9.760000               6.400000   \n",
       "75%                  40.350000     20.240000              11.845000   \n",
       "max               17947.600000   5651.400000           21092.000000   \n",
       "\n",
       "       Shares_outstanding  Equity_face_value            EPS   Adjusted_EPS  \\\n",
       "count        2.849000e+03        2849.000000    3541.000000    3541.000000   \n",
       "mean         2.206739e+07       -1333.698175    -220.316436    -221.512285   \n",
       "std          1.655193e+08       37500.729972   14261.946209   14261.923760   \n",
       "min         -2.147484e+09     -999998.900000 -843181.820000 -843181.820000   \n",
       "25%          1.316250e+06          10.000000       0.000000       0.000000   \n",
       "50%          4.672063e+06          10.000000       1.430000       1.180000   \n",
       "75%          1.065197e+07          10.000000       9.620000       7.480000   \n",
       "max          4.130401e+09      100000.000000   34522.530000   34522.530000   \n",
       "\n",
       "       Total_liabilities     PE_on_BSE  \n",
       "count       3.541000e+03   1347.000000  \n",
       "mean        3.443382e+03     63.905687  \n",
       "std         3.097089e+04   1433.809532  \n",
       "min         1.000000e-01  -1116.640000  \n",
       "25%         9.130000e+01      3.275000  \n",
       "50%         3.097000e+02      9.100000  \n",
       "75%         1.098700e+03     17.790000  \n",
       "max         1.176509e+06  51002.740000  \n",
       "\n",
       "[8 rows x 52 columns]"
      ]
     },
     "execution_count": 8,
     "metadata": {},
     "output_type": "execute_result"
    }
   ],
   "source": [
    "Company.describe()"
   ]
  },
  {
   "cell_type": "markdown",
   "metadata": {},
   "source": [
    "#### Transforming Target variable 'Networth_Next_Year' into 1 & 0"
   ]
  },
  {
   "cell_type": "code",
   "execution_count": 9,
   "metadata": {},
   "outputs": [],
   "source": [
    "Company['default'] = np.where((Company['Networth_Next_Year'] > 0), 0, 1)"
   ]
  },
  {
   "cell_type": "markdown",
   "metadata": {},
   "source": [
    "#### Checking top 10 rows"
   ]
  },
  {
   "cell_type": "code",
   "execution_count": 10,
   "metadata": {},
   "outputs": [
    {
     "data": {
      "text/html": [
       "<div>\n",
       "<style scoped>\n",
       "    .dataframe tbody tr th:only-of-type {\n",
       "        vertical-align: middle;\n",
       "    }\n",
       "\n",
       "    .dataframe tbody tr th {\n",
       "        vertical-align: top;\n",
       "    }\n",
       "\n",
       "    .dataframe thead th {\n",
       "        text-align: right;\n",
       "    }\n",
       "</style>\n",
       "<table border=\"1\" class=\"dataframe\">\n",
       "  <thead>\n",
       "    <tr style=\"text-align: right;\">\n",
       "      <th></th>\n",
       "      <th>default</th>\n",
       "      <th>Networth_Next_Year</th>\n",
       "    </tr>\n",
       "  </thead>\n",
       "  <tbody>\n",
       "    <tr>\n",
       "      <th>0</th>\n",
       "      <td>0</td>\n",
       "      <td>8890.6</td>\n",
       "    </tr>\n",
       "    <tr>\n",
       "      <th>1</th>\n",
       "      <td>0</td>\n",
       "      <td>394.3</td>\n",
       "    </tr>\n",
       "    <tr>\n",
       "      <th>2</th>\n",
       "      <td>0</td>\n",
       "      <td>92.2</td>\n",
       "    </tr>\n",
       "    <tr>\n",
       "      <th>3</th>\n",
       "      <td>0</td>\n",
       "      <td>2.7</td>\n",
       "    </tr>\n",
       "    <tr>\n",
       "      <th>4</th>\n",
       "      <td>0</td>\n",
       "      <td>109.0</td>\n",
       "    </tr>\n",
       "    <tr>\n",
       "      <th>5</th>\n",
       "      <td>0</td>\n",
       "      <td>688.6</td>\n",
       "    </tr>\n",
       "    <tr>\n",
       "      <th>6</th>\n",
       "      <td>0</td>\n",
       "      <td>246.0</td>\n",
       "    </tr>\n",
       "    <tr>\n",
       "      <th>7</th>\n",
       "      <td>0</td>\n",
       "      <td>13.7</td>\n",
       "    </tr>\n",
       "    <tr>\n",
       "      <th>8</th>\n",
       "      <td>0</td>\n",
       "      <td>291.5</td>\n",
       "    </tr>\n",
       "    <tr>\n",
       "      <th>9</th>\n",
       "      <td>1</td>\n",
       "      <td>-7.3</td>\n",
       "    </tr>\n",
       "  </tbody>\n",
       "</table>\n",
       "</div>"
      ],
      "text/plain": [
       "   default  Networth_Next_Year\n",
       "0        0              8890.6\n",
       "1        0               394.3\n",
       "2        0                92.2\n",
       "3        0                 2.7\n",
       "4        0               109.0\n",
       "5        0               688.6\n",
       "6        0               246.0\n",
       "7        0                13.7\n",
       "8        0               291.5\n",
       "9        1                -7.3"
      ]
     },
     "execution_count": 10,
     "metadata": {},
     "output_type": "execute_result"
    }
   ],
   "source": [
    "Company[['default','Networth_Next_Year']].head(10)"
   ]
  },
  {
   "cell_type": "markdown",
   "metadata": {},
   "source": [
    "#### What does variable 'default' look like"
   ]
  },
  {
   "cell_type": "code",
   "execution_count": 11,
   "metadata": {},
   "outputs": [
    {
     "data": {
      "text/plain": [
       "0    3298\n",
       "1     243\n",
       "Name: default, dtype: int64"
      ]
     },
     "execution_count": 11,
     "metadata": {},
     "output_type": "execute_result"
    }
   ],
   "source": [
    "Company['default'].value_counts()"
   ]
  },
  {
   "cell_type": "markdown",
   "metadata": {},
   "source": [
    "#### Checking proportion of default"
   ]
  },
  {
   "cell_type": "code",
   "execution_count": 12,
   "metadata": {},
   "outputs": [
    {
     "data": {
      "text/plain": [
       "0.06862468229313753"
      ]
     },
     "execution_count": 12,
     "metadata": {},
     "output_type": "execute_result"
    }
   ],
   "source": [
    "243/(3298+243)"
   ]
  },
  {
   "cell_type": "markdown",
   "metadata": {},
   "source": [
    "#### Checking summary statistics of default variable"
   ]
  },
  {
   "cell_type": "code",
   "execution_count": 13,
   "metadata": {},
   "outputs": [
    {
     "data": {
      "text/plain": [
       "count    3541.000000\n",
       "mean        0.068625\n",
       "std         0.252851\n",
       "min         0.000000\n",
       "25%         0.000000\n",
       "50%         0.000000\n",
       "75%         0.000000\n",
       "max         1.000000\n",
       "Name: default, dtype: float64"
      ]
     },
     "execution_count": 13,
     "metadata": {},
     "output_type": "execute_result"
    }
   ],
   "source": [
    "Company['default'].describe()"
   ]
  },
  {
   "cell_type": "markdown",
   "metadata": {},
   "source": [
    "Average default rate matches with overall default rate of 6.8%"
   ]
  },
  {
   "cell_type": "markdown",
   "metadata": {},
   "source": [
    "#### Lets check for missing values in the dataset"
   ]
  },
  {
   "cell_type": "code",
   "execution_count": 14,
   "metadata": {},
   "outputs": [
    {
     "data": {
      "text/plain": [
       "Num                                               0\n",
       "Networth_Next_Year                                0\n",
       "Total_assets                                      0\n",
       "Net_worth                                         0\n",
       "Total_income                                    198\n",
       "Change_in_stock                                 458\n",
       "Total_expenses                                  139\n",
       "Profit_after_tax                                131\n",
       "PBDITA                                          131\n",
       "PBT                                             131\n",
       "Cash_profit                                     131\n",
       "PBDITA_as_perc_of_total_income                   68\n",
       "PBT_as_perc_of_total_income                      68\n",
       "PAT_as_perc_of_total_income                      68\n",
       "Cash_profit_as_perc_of_total_income              68\n",
       "PAT_as_perc_of_net_worth                          0\n",
       "Sales                                           259\n",
       "Income_from_financial_services                  935\n",
       "Other_income                                   1295\n",
       "Total_capital                                     4\n",
       "Reserves_and_funds                               85\n",
       "Deposits_accepted_by_commercial_banks          3541\n",
       "Borrowings                                      366\n",
       "Current_liabilities_&_provisions                 96\n",
       "Deferred_tax_liability                         1140\n",
       "Shareholders_funds                                0\n",
       "Cumulative_retained_profits                      38\n",
       "Capital_employed                                  0\n",
       "TOL/TNW                                           0\n",
       "Total_term_liabilities_/_tangible_net_worth       0\n",
       "Contingent_liabilities_/_Net_worth_perc           0\n",
       "Contingent_liabilities                         1188\n",
       "Net_fixed_assets                                118\n",
       "Investments                                    1435\n",
       "Current_assets                                   66\n",
       "Net_working_capital                              32\n",
       "Quick_ratio_times                                93\n",
       "Current_ratio_times                              93\n",
       "Debt_to_equity_ratio_times                        0\n",
       "Cash_to_current_liabilities_times                93\n",
       "Cash_to_average_cost_of_sales_per_day            85\n",
       "Creditors_turnover                              333\n",
       "Debtors_turnover                                328\n",
       "Finished_goods_turnover                         740\n",
       "WIP_turnover                                    640\n",
       "Raw_material_turnover                           361\n",
       "Shares_outstanding                              692\n",
       "Equity_face_value                               692\n",
       "EPS                                               0\n",
       "Adjusted_EPS                                      0\n",
       "Total_liabilities                                 0\n",
       "PE_on_BSE                                      2194\n",
       "default                                           0\n",
       "dtype: int64"
      ]
     },
     "execution_count": 14,
     "metadata": {},
     "output_type": "execute_result"
    }
   ],
   "source": [
    "Company.isnull().sum()"
   ]
  },
  {
   "cell_type": "markdown",
   "metadata": {},
   "source": [
    "There are missing values in the dataset"
   ]
  },
  {
   "cell_type": "markdown",
   "metadata": {},
   "source": [
    "#### Lets treat these missing values with median (replacement with median eliminates impact of outliers in the treatment)"
   ]
  },
  {
   "cell_type": "code",
   "execution_count": 15,
   "metadata": {},
   "outputs": [
    {
     "data": {
      "text/html": [
       "<div>\n",
       "<style scoped>\n",
       "    .dataframe tbody tr th:only-of-type {\n",
       "        vertical-align: middle;\n",
       "    }\n",
       "\n",
       "    .dataframe tbody tr th {\n",
       "        vertical-align: top;\n",
       "    }\n",
       "\n",
       "    .dataframe thead th {\n",
       "        text-align: right;\n",
       "    }\n",
       "</style>\n",
       "<table border=\"1\" class=\"dataframe\">\n",
       "  <thead>\n",
       "    <tr style=\"text-align: right;\">\n",
       "      <th></th>\n",
       "      <th>Num</th>\n",
       "      <th>Networth_Next_Year</th>\n",
       "      <th>Total_assets</th>\n",
       "      <th>Net_worth</th>\n",
       "      <th>Total_income</th>\n",
       "      <th>Change_in_stock</th>\n",
       "      <th>Total_expenses</th>\n",
       "      <th>Profit_after_tax</th>\n",
       "      <th>PBDITA</th>\n",
       "      <th>PBT</th>\n",
       "      <th>...</th>\n",
       "      <th>Finished_goods_turnover</th>\n",
       "      <th>WIP_turnover</th>\n",
       "      <th>Raw_material_turnover</th>\n",
       "      <th>Shares_outstanding</th>\n",
       "      <th>Equity_face_value</th>\n",
       "      <th>EPS</th>\n",
       "      <th>Adjusted_EPS</th>\n",
       "      <th>Total_liabilities</th>\n",
       "      <th>PE_on_BSE</th>\n",
       "      <th>default</th>\n",
       "    </tr>\n",
       "  </thead>\n",
       "  <tbody>\n",
       "    <tr>\n",
       "      <th>0</th>\n",
       "      <td>1.0</td>\n",
       "      <td>8890.6</td>\n",
       "      <td>17512.3</td>\n",
       "      <td>7093.2</td>\n",
       "      <td>24965.2</td>\n",
       "      <td>235.8</td>\n",
       "      <td>23657.8</td>\n",
       "      <td>1543.2</td>\n",
       "      <td>2860.2</td>\n",
       "      <td>2417.2</td>\n",
       "      <td>...</td>\n",
       "      <td>200.55</td>\n",
       "      <td>21.78</td>\n",
       "      <td>7.71</td>\n",
       "      <td>42381675.0</td>\n",
       "      <td>10.0</td>\n",
       "      <td>35.52</td>\n",
       "      <td>7.10</td>\n",
       "      <td>17512.3</td>\n",
       "      <td>27.31</td>\n",
       "      <td>0.0</td>\n",
       "    </tr>\n",
       "    <tr>\n",
       "      <th>1</th>\n",
       "      <td>2.0</td>\n",
       "      <td>394.3</td>\n",
       "      <td>941.0</td>\n",
       "      <td>351.5</td>\n",
       "      <td>1527.4</td>\n",
       "      <td>42.7</td>\n",
       "      <td>1454.9</td>\n",
       "      <td>115.2</td>\n",
       "      <td>283.0</td>\n",
       "      <td>188.4</td>\n",
       "      <td>...</td>\n",
       "      <td>14.21</td>\n",
       "      <td>7.49</td>\n",
       "      <td>11.46</td>\n",
       "      <td>11550000.0</td>\n",
       "      <td>10.0</td>\n",
       "      <td>9.97</td>\n",
       "      <td>9.97</td>\n",
       "      <td>941.0</td>\n",
       "      <td>8.17</td>\n",
       "      <td>0.0</td>\n",
       "    </tr>\n",
       "    <tr>\n",
       "      <th>2</th>\n",
       "      <td>3.0</td>\n",
       "      <td>92.2</td>\n",
       "      <td>232.8</td>\n",
       "      <td>100.6</td>\n",
       "      <td>477.3</td>\n",
       "      <td>-5.2</td>\n",
       "      <td>478.7</td>\n",
       "      <td>-6.6</td>\n",
       "      <td>5.8</td>\n",
       "      <td>-6.6</td>\n",
       "      <td>...</td>\n",
       "      <td>9.24</td>\n",
       "      <td>0.23</td>\n",
       "      <td>6.40</td>\n",
       "      <td>8149090.0</td>\n",
       "      <td>10.0</td>\n",
       "      <td>-0.50</td>\n",
       "      <td>-0.50</td>\n",
       "      <td>232.8</td>\n",
       "      <td>-5.76</td>\n",
       "      <td>0.0</td>\n",
       "    </tr>\n",
       "    <tr>\n",
       "      <th>3</th>\n",
       "      <td>4.0</td>\n",
       "      <td>2.7</td>\n",
       "      <td>2.7</td>\n",
       "      <td>2.7</td>\n",
       "      <td>444.9</td>\n",
       "      <td>1.6</td>\n",
       "      <td>407.7</td>\n",
       "      <td>8.8</td>\n",
       "      <td>35.4</td>\n",
       "      <td>12.4</td>\n",
       "      <td>...</td>\n",
       "      <td>17.27</td>\n",
       "      <td>9.76</td>\n",
       "      <td>0.00</td>\n",
       "      <td>52404.0</td>\n",
       "      <td>10.0</td>\n",
       "      <td>0.00</td>\n",
       "      <td>0.00</td>\n",
       "      <td>2.7</td>\n",
       "      <td>9.10</td>\n",
       "      <td>0.0</td>\n",
       "    </tr>\n",
       "    <tr>\n",
       "      <th>4</th>\n",
       "      <td>5.0</td>\n",
       "      <td>109.0</td>\n",
       "      <td>478.5</td>\n",
       "      <td>107.6</td>\n",
       "      <td>1580.5</td>\n",
       "      <td>-17.0</td>\n",
       "      <td>1558.0</td>\n",
       "      <td>5.5</td>\n",
       "      <td>31.0</td>\n",
       "      <td>6.3</td>\n",
       "      <td>...</td>\n",
       "      <td>12.68</td>\n",
       "      <td>7.90</td>\n",
       "      <td>17.03</td>\n",
       "      <td>619635.0</td>\n",
       "      <td>10.0</td>\n",
       "      <td>7.91</td>\n",
       "      <td>7.91</td>\n",
       "      <td>478.5</td>\n",
       "      <td>9.10</td>\n",
       "      <td>0.0</td>\n",
       "    </tr>\n",
       "  </tbody>\n",
       "</table>\n",
       "<p>5 rows × 52 columns</p>\n",
       "</div>"
      ],
      "text/plain": [
       "   Num  Networth_Next_Year  Total_assets  Net_worth  Total_income  \\\n",
       "0  1.0              8890.6       17512.3     7093.2       24965.2   \n",
       "1  2.0               394.3         941.0      351.5        1527.4   \n",
       "2  3.0                92.2         232.8      100.6         477.3   \n",
       "3  4.0                 2.7           2.7        2.7         444.9   \n",
       "4  5.0               109.0         478.5      107.6        1580.5   \n",
       "\n",
       "   Change_in_stock  Total_expenses  Profit_after_tax  PBDITA     PBT  ...  \\\n",
       "0            235.8         23657.8            1543.2  2860.2  2417.2  ...   \n",
       "1             42.7          1454.9             115.2   283.0   188.4  ...   \n",
       "2             -5.2           478.7              -6.6     5.8    -6.6  ...   \n",
       "3              1.6           407.7               8.8    35.4    12.4  ...   \n",
       "4            -17.0          1558.0               5.5    31.0     6.3  ...   \n",
       "\n",
       "   Finished_goods_turnover  WIP_turnover  Raw_material_turnover  \\\n",
       "0                   200.55         21.78                   7.71   \n",
       "1                    14.21          7.49                  11.46   \n",
       "2                     9.24          0.23                   6.40   \n",
       "3                    17.27          9.76                   0.00   \n",
       "4                    12.68          7.90                  17.03   \n",
       "\n",
       "   Shares_outstanding  Equity_face_value    EPS  Adjusted_EPS  \\\n",
       "0          42381675.0               10.0  35.52          7.10   \n",
       "1          11550000.0               10.0   9.97          9.97   \n",
       "2           8149090.0               10.0  -0.50         -0.50   \n",
       "3             52404.0               10.0   0.00          0.00   \n",
       "4            619635.0               10.0   7.91          7.91   \n",
       "\n",
       "   Total_liabilities  PE_on_BSE  default  \n",
       "0            17512.3      27.31      0.0  \n",
       "1              941.0       8.17      0.0  \n",
       "2              232.8      -5.76      0.0  \n",
       "3                2.7       9.10      0.0  \n",
       "4              478.5       9.10      0.0  \n",
       "\n",
       "[5 rows x 52 columns]"
      ]
     },
     "execution_count": 15,
     "metadata": {},
     "output_type": "execute_result"
    }
   ],
   "source": [
    "#dropping 'Deposits_accepted_by_commercial_banks' as its completely(100%) blank\n",
    "col=list(Company.drop(['Deposits_accepted_by_commercial_banks'], axis=1))\n",
    "\n",
    "from sklearn.impute import SimpleImputer\n",
    "imputer = SimpleImputer(missing_values=np.nan, strategy='median')\n",
    "\n",
    "Company = pd.DataFrame(imputer.fit_transform(Company))\n",
    "Company.columns=col\n",
    "Company.head()"
   ]
  },
  {
   "cell_type": "markdown",
   "metadata": {},
   "source": [
    "### Let us try & test significance of few variables starting with 'Total_income' & 'PBT_as_perc_of_total_income' in predicting Networth_Next_Year(default)"
   ]
  },
  {
   "cell_type": "markdown",
   "metadata": {},
   "source": [
    "#### Checking Descriptive statistics of the variable 'PBT_as_perc_of_total_income'"
   ]
  },
  {
   "cell_type": "code",
   "execution_count": 16,
   "metadata": {},
   "outputs": [
    {
     "data": {
      "text/plain": [
       "count     3541.000000\n",
       "mean       -16.883635\n",
       "std        421.337332\n",
       "min     -21340.000000\n",
       "25%          0.600000\n",
       "50%          3.310000\n",
       "75%          8.630000\n",
       "max        100.000000\n",
       "Name: PBT_as_perc_of_total_income, dtype: float64"
      ]
     },
     "execution_count": 16,
     "metadata": {},
     "output_type": "execute_result"
    }
   ],
   "source": [
    "Company['PBT_as_perc_of_total_income'].describe()"
   ]
  },
  {
   "cell_type": "markdown",
   "metadata": {},
   "source": [
    "#### Checking Descriptive statistics of the variable 'PBT_as_perc_of_total_income' for non defaulters"
   ]
  },
  {
   "cell_type": "code",
   "execution_count": 17,
   "metadata": {},
   "outputs": [
    {
     "data": {
      "text/plain": [
       "count    3298.000000\n",
       "mean       -3.855588\n",
       "std       196.861553\n",
       "min     -9700.000000\n",
       "25%         0.982500\n",
       "50%         3.580000\n",
       "75%         9.172500\n",
       "max       100.000000\n",
       "Name: PBT_as_perc_of_total_income, dtype: float64"
      ]
     },
     "execution_count": 17,
     "metadata": {},
     "output_type": "execute_result"
    }
   ],
   "source": [
    "Company.loc[Company['default'] == 0,'PBT_as_perc_of_total_income'].describe()"
   ]
  },
  {
   "cell_type": "markdown",
   "metadata": {},
   "source": [
    "For companies whose ***have not*** defaulted, median 'Profit before tax (as % of income) is about 3.7'"
   ]
  },
  {
   "cell_type": "markdown",
   "metadata": {},
   "source": [
    "#### Checking Descriptive statistics of the variable 'PBT_as_perc_of_total_income' for defaulters"
   ]
  },
  {
   "cell_type": "code",
   "execution_count": 18,
   "metadata": {},
   "outputs": [
    {
     "data": {
      "text/plain": [
       "count      243.000000\n",
       "mean      -193.700494\n",
       "std       1426.590111\n",
       "min     -21340.000000\n",
       "25%        -31.705000\n",
       "50%         -5.090000\n",
       "75%          0.000000\n",
       "max         92.380000\n",
       "Name: PBT_as_perc_of_total_income, dtype: float64"
      ]
     },
     "execution_count": 18,
     "metadata": {},
     "output_type": "execute_result"
    }
   ],
   "source": [
    "Company.loc[Company['default'] == 1,'PBT_as_perc_of_total_income'].describe()"
   ]
  },
  {
   "cell_type": "markdown",
   "metadata": {},
   "source": [
    "For companies whose ***have*** defaulted, median 'Profit before tax (as % of income) is about -5.9'\n",
    "\n",
    "- In conclusion what it means is, typical good companies makes a profit of about 3.7 units per 100 units of income\n",
    "- And a typical defaulted companies loses about 5.9 units per 100 units of income"
   ]
  },
  {
   "cell_type": "markdown",
   "metadata": {},
   "source": [
    "### Outlier detection & Treatment"
   ]
  },
  {
   "cell_type": "markdown",
   "metadata": {},
   "source": [
    "#### Creating outlier identification (Lower & Upper whiskers) function"
   ]
  },
  {
   "cell_type": "code",
   "execution_count": 19,
   "metadata": {},
   "outputs": [],
   "source": [
    "def check_outlier(col):\n",
    "    sorted(col)\n",
    "    Q1,Q3=col.quantile([.25,.75])\n",
    "    IQR=Q3-Q1\n",
    "    lower_range= Q1-(1.5 * IQR)\n",
    "    upper_range= Q3+(1.5 * IQR)\n",
    "    return lower_range, upper_range"
   ]
  },
  {
   "cell_type": "markdown",
   "metadata": {},
   "source": [
    "#### lets check outliers(Lower and Upper whiskers) in these variables"
   ]
  },
  {
   "cell_type": "code",
   "execution_count": 20,
   "metadata": {},
   "outputs": [
    {
     "data": {
      "text/plain": [
       "(-604.9, 1092.7)"
      ]
     },
     "execution_count": 20,
     "metadata": {},
     "output_type": "execute_result"
    }
   ],
   "source": [
    "check_outlier(Company['Networth_Next_Year'])"
   ]
  },
  {
   "cell_type": "code",
   "execution_count": 21,
   "metadata": {},
   "outputs": [
    {
     "data": {
      "text/plain": [
       "(-1707.4499999999998, 3168.95)"
      ]
     },
     "execution_count": 21,
     "metadata": {},
     "output_type": "execute_result"
    }
   ],
   "source": [
    "check_outlier(Company['Total_income'])"
   ]
  },
  {
   "cell_type": "code",
   "execution_count": 22,
   "metadata": {},
   "outputs": [
    {
     "data": {
      "text/plain": [
       "(-11.445000000000002, 20.675000000000004)"
      ]
     },
     "execution_count": 22,
     "metadata": {},
     "output_type": "execute_result"
    }
   ],
   "source": [
    "check_outlier(Company['PBT_as_perc_of_total_income'])"
   ]
  },
  {
   "cell_type": "markdown",
   "metadata": {},
   "source": [
    "#### Capping the outliers"
   ]
  },
  {
   "cell_type": "code",
   "execution_count": 23,
   "metadata": {},
   "outputs": [],
   "source": [
    "Company_copy = Company.copy()"
   ]
  },
  {
   "cell_type": "markdown",
   "metadata": {},
   "source": [
    "#### Deleting records higher than upper whisker (as deletion is loss of information, we are doing it on copy of dataset)"
   ]
  },
  {
   "cell_type": "code",
   "execution_count": 24,
   "metadata": {},
   "outputs": [],
   "source": [
    "# Dropping records higher than upper whisker\n",
    "Company_copy.drop(Company_copy[Company_copy.Networth_Next_Year > 1092.7].index, inplace=True)\n",
    "Company_copy.drop(Company_copy[Company_copy.Total_income > 3442.6].index, inplace=True)\n",
    "Company_copy.drop(Company_copy[Company_copy.PBT_as_perc_of_total_income > 21.2].index, inplace=True)\n",
    "\n",
    "# Capping values lower than lower whisker\n",
    "Company_copy['Networth_Next_Year'] = np.where(Company_copy['Networth_Next_Year'] <-604.9, -604.9,Company_copy['Networth_Next_Year'])\n",
    "Company_copy['Total_income'] = np.where(Company_copy['Total_income'] <-1895.2, -1895.2,Company_copy['Total_income'])\n",
    "Company_copy['PBT_as_perc_of_total_income'] = np.where(Company_copy['PBT_as_perc_of_total_income'] <-11.8, -11.8,Company_copy['PBT_as_perc_of_total_income'])"
   ]
  },
  {
   "cell_type": "code",
   "execution_count": 25,
   "metadata": {},
   "outputs": [
    {
     "data": {
      "text/plain": [
       "(2802, 52)"
      ]
     },
     "execution_count": 25,
     "metadata": {},
     "output_type": "execute_result"
    }
   ],
   "source": [
    "Company_copy.shape"
   ]
  },
  {
   "cell_type": "markdown",
   "metadata": {},
   "source": [
    "### Lets visualise these variables to understand its significance over Net_worth_next_year"
   ]
  },
  {
   "cell_type": "markdown",
   "metadata": {},
   "source": [
    "#### Visualising Total income vs Default - Without outlier removal"
   ]
  },
  {
   "cell_type": "code",
   "execution_count": 26,
   "metadata": {},
   "outputs": [
    {
     "data": {
      "image/png": "[encoded data removed]",
      "text/plain": [
       "<Figure size 432x288 with 1 Axes>"
      ]
     },
     "metadata": {
      "needs_background": "light"
     },
     "output_type": "display_data"
    }
   ],
   "source": [
    "plt.scatter(Company['Total_income'], Company['Networth_Next_Year'], edgecolors='r')\n",
    "plt.xlabel('Total_income ')\n",
    "plt.ylabel('Networth_Next_Year')\n",
    "plt.title('Income vs Networth_Next_Year')\n",
    "plt.show()"
   ]
  },
  {
   "cell_type": "markdown",
   "metadata": {},
   "source": [
    "#### Visualising Total income vs Default - After outlier removal"
   ]
  },
  {
   "cell_type": "code",
   "execution_count": 27,
   "metadata": {},
   "outputs": [
    {
     "data": {
      "image/png": "[encoded data removed]",
      "text/plain": [
       "<Figure size 432x288 with 1 Axes>"
      ]
     },
     "metadata": {
      "needs_background": "light"
     },
     "output_type": "display_data"
    }
   ],
   "source": [
    "plt.scatter(Company_copy['Total_income'], Company_copy['Networth_Next_Year'], edgecolors='r')\n",
    "plt.xlabel('Total_income ')\n",
    "plt.ylabel('Networth_Next_Year')\n",
    "plt.title('Income vs Networth_Next_Year')\n",
    "plt.show()"
   ]
  },
  {
   "cell_type": "markdown",
   "metadata": {},
   "source": [
    "#### Visualising PBT_as_perc_of_total_income vs Default - Without outlier removal"
   ]
  },
  {
   "cell_type": "code",
   "execution_count": 28,
   "metadata": {},
   "outputs": [
    {
     "data": {
      "image/png": "[encoded data removed]",
      "text/plain": [
       "<Figure size 432x288 with 1 Axes>"
      ]
     },
     "metadata": {
      "needs_background": "light"
     },
     "output_type": "display_data"
    }
   ],
   "source": [
    "plt.scatter(Company['PBT_as_perc_of_total_income'], Company['Networth_Next_Year'], edgecolors='r')\n",
    "plt.xlabel('PBT_as_perc_of_total_income')\n",
    "plt.ylabel('Networth_Next_Year')\n",
    "plt.title('PBT_as_perc_of_total_income vs Networth_Next_Year')\n",
    "plt.show()"
   ]
  },
  {
   "cell_type": "markdown",
   "metadata": {},
   "source": [
    "#### Visualising PBT_as_perc_of_total_income vs Default - After outlier removal"
   ]
  },
  {
   "cell_type": "code",
   "execution_count": 29,
   "metadata": {},
   "outputs": [
    {
     "data": {
      "image/png": "[encoded data removed]",
      "text/plain": [
       "<Figure size 432x288 with 1 Axes>"
      ]
     },
     "metadata": {
      "needs_background": "light"
     },
     "output_type": "display_data"
    }
   ],
   "source": [
    "plt.scatter(Company_copy['PBT_as_perc_of_total_income'], Company_copy['Networth_Next_Year'], edgecolors='r')\n",
    "plt.xlabel('PBT_as_perc_of_total_income')\n",
    "plt.ylabel('Networth_Next_Year')\n",
    "plt.title('PBT_as_perc_of_total_income vs Networth_Next_Year')\n",
    "plt.show()"
   ]
  },
  {
   "cell_type": "markdown",
   "metadata": {},
   "source": [
    "Above bivariate plots suggest that such variables might be potential interesting variables to study for modeling 'default'"
   ]
  },
  {
   "cell_type": "markdown",
   "metadata": {},
   "source": [
    "# Model Building using Logistic Regression for 'Probability at default'\n",
    "### with variable 'PBT_as_perc_of_total_income'  "
   ]
  },
  {
   "cell_type": "markdown",
   "metadata": {},
   "source": [
    "## The equation of the Logistic Regression by which we predict the corresponding probabilities and then go on predict a discrete target variable is\n",
    "# y = $\\frac{1}{1 - {e^{-z}}}$\n",
    "\n",
    "### Note: z  = $\\beta_0$ +${\\sum_{i=1}^{n}(\\beta_i  X_1)}$"
   ]
  },
  {
   "cell_type": "markdown",
   "metadata": {},
   "source": [
    "#### Now, Importing statsmodels modules"
   ]
  },
  {
   "cell_type": "code",
   "execution_count": 30,
   "metadata": {},
   "outputs": [],
   "source": [
    "import statsmodels.formula.api as SM"
   ]
  },
  {
   "cell_type": "markdown",
   "metadata": {},
   "source": [
    "#### Creating logistic regression equation & storing it in f_1\n",
    "\n",
    "model = SM.logit(formula=’Dependent Variable ~ Σ𝐼𝑛𝑑𝑒𝑝𝑒𝑛𝑑𝑒𝑛𝑡 𝑉𝑎𝑟𝑖𝑎𝑏𝑙𝑒𝑠 (𝑘)’\n",
    "               data = ‘Data Frame containing the required values’).fit()"
   ]
  },
  {
   "cell_type": "code",
   "execution_count": 31,
   "metadata": {},
   "outputs": [],
   "source": [
    "f_1 = 'default ~ PBT_as_perc_of_total_income'"
   ]
  },
  {
   "cell_type": "markdown",
   "metadata": {},
   "source": [
    "#### Fitting the logistic regression model"
   ]
  },
  {
   "cell_type": "code",
   "execution_count": 32,
   "metadata": {},
   "outputs": [
    {
     "name": "stdout",
     "output_type": "stream",
     "text": [
      "Optimization terminated successfully.\n",
      "         Current function value: 0.245922\n",
      "         Iterations 7\n"
     ]
    }
   ],
   "source": [
    "model_1 = SM.logit(formula = f_1, data=Company).fit()"
   ]
  },
  {
   "cell_type": "markdown",
   "metadata": {},
   "source": [
    "#### Studying whether this equation is significant or not"
   ]
  },
  {
   "cell_type": "code",
   "execution_count": 33,
   "metadata": {},
   "outputs": [
    {
     "data": {
      "text/html": [
       "<table class=\"simpletable\">\n",
       "<caption>Logit Regression Results</caption>\n",
       "<tr>\n",
       "  <th>Dep. Variable:</th>        <td>default</td>     <th>  No. Observations:  </th>  <td>  3541</td>  \n",
       "</tr>\n",
       "<tr>\n",
       "  <th>Model:</th>                 <td>Logit</td>      <th>  Df Residuals:      </th>  <td>  3539</td>  \n",
       "</tr>\n",
       "<tr>\n",
       "  <th>Method:</th>                 <td>MLE</td>       <th>  Df Model:          </th>  <td>     1</td>  \n",
       "</tr>\n",
       "<tr>\n",
       "  <th>Date:</th>            <td>Sun, 12 Jul 2020</td> <th>  Pseudo R-squ.:     </th>  <td>0.01658</td> \n",
       "</tr>\n",
       "<tr>\n",
       "  <th>Time:</th>                <td>22:22:09</td>     <th>  Log-Likelihood:    </th> <td> -870.81</td> \n",
       "</tr>\n",
       "<tr>\n",
       "  <th>converged:</th>             <td>True</td>       <th>  LL-Null:           </th> <td> -885.49</td> \n",
       "</tr>\n",
       "<tr>\n",
       "  <th>Covariance Type:</th>     <td>nonrobust</td>    <th>  LLR p-value:       </th> <td>6.025e-08</td>\n",
       "</tr>\n",
       "</table>\n",
       "<table class=\"simpletable\">\n",
       "<tr>\n",
       "               <td></td>                  <th>coef</th>     <th>std err</th>      <th>z</th>      <th>P>|z|</th>  <th>[0.025</th>    <th>0.975]</th>  \n",
       "</tr>\n",
       "<tr>\n",
       "  <th>Intercept</th>                   <td>   -2.6414</td> <td>    0.068</td> <td>  -39.088</td> <td> 0.000</td> <td>   -2.774</td> <td>   -2.509</td>\n",
       "</tr>\n",
       "<tr>\n",
       "  <th>PBT_as_perc_of_total_income</th> <td>   -0.0011</td> <td>    0.000</td> <td>   -4.541</td> <td> 0.000</td> <td>   -0.002</td> <td>   -0.001</td>\n",
       "</tr>\n",
       "</table>"
      ],
      "text/plain": [
       "<class 'statsmodels.iolib.summary.Summary'>\n",
       "\"\"\"\n",
       "                           Logit Regression Results                           \n",
       "==============================================================================\n",
       "Dep. Variable:                default   No. Observations:                 3541\n",
       "Model:                          Logit   Df Residuals:                     3539\n",
       "Method:                           MLE   Df Model:                            1\n",
       "Date:                Sun, 12 Jul 2020   Pseudo R-squ.:                 0.01658\n",
       "Time:                        22:22:09   Log-Likelihood:                -870.81\n",
       "converged:                       True   LL-Null:                       -885.49\n",
       "Covariance Type:            nonrobust   LLR p-value:                 6.025e-08\n",
       "===============================================================================================\n",
       "                                  coef    std err          z      P>|z|      [0.025      0.975]\n",
       "-----------------------------------------------------------------------------------------------\n",
       "Intercept                      -2.6414      0.068    -39.088      0.000      -2.774      -2.509\n",
       "PBT_as_perc_of_total_income    -0.0011      0.000     -4.541      0.000      -0.002      -0.001\n",
       "===============================================================================================\n",
       "\"\"\""
      ]
     },
     "execution_count": 33,
     "metadata": {},
     "output_type": "execute_result"
    }
   ],
   "source": [
    "model_1.summary()"
   ]
  },
  {
   "cell_type": "markdown",
   "metadata": {},
   "source": [
    "We can see that variable is significant & can be used to discriminate cases of deault"
   ]
  },
  {
   "cell_type": "markdown",
   "metadata": {},
   "source": [
    "#### Checking the coefficients"
   ]
  },
  {
   "cell_type": "code",
   "execution_count": 34,
   "metadata": {},
   "outputs": [
    {
     "data": {
      "text/plain": [
       "Intercept                     -2.641352\n",
       "PBT_as_perc_of_total_income   -0.001121\n",
       "dtype: float64"
      ]
     },
     "execution_count": 34,
     "metadata": {},
     "output_type": "execute_result"
    }
   ],
   "source": [
    "coefficients = model_1.params\n",
    "coefficients"
   ]
  },
  {
   "cell_type": "markdown",
   "metadata": {},
   "source": [
    "#### Printing the confidence intervals of odds ratio"
   ]
  },
  {
   "cell_type": "code",
   "execution_count": 35,
   "metadata": {},
   "outputs": [
    {
     "name": "stdout",
     "output_type": "stream",
     "text": [
      "odds ratio with confidence intervals\n",
      "                                    0         1\n",
      "Intercept                    0.062425  0.081357\n",
      "PBT_as_perc_of_total_income  0.998396  0.999363\n"
     ]
    }
   ],
   "source": [
    "conf2 = model_1.conf_int()\n",
    "print(\"odds ratio with confidence intervals\")\n",
    "print(np.exp(conf2))"
   ]
  },
  {
   "cell_type": "markdown",
   "metadata": {},
   "source": [
    "#### Checking distribution of fitted values"
   ]
  },
  {
   "cell_type": "code",
   "execution_count": 36,
   "metadata": {},
   "outputs": [
    {
     "data": {
      "text/plain": [
       "array([0.05988995, 0.06542331, 0.0659256 , 0.06629392, 0.06648227,\n",
       "       1.        ])"
      ]
     },
     "execution_count": 36,
     "metadata": {},
     "output_type": "execute_result"
    }
   ],
   "source": [
    "y_prob_pred_1 = model_1.predict()\n",
    "np.percentile(y_prob_pred_1,[0,10,25,50,75,100])"
   ]
  },
  {
   "cell_type": "markdown",
   "metadata": {},
   "source": [
    "#### Plot of Actual Default vs Predicted default"
   ]
  },
  {
   "cell_type": "code",
   "execution_count": 37,
   "metadata": {},
   "outputs": [
    {
     "data": {
      "image/png": "[encoded data removed]",
      "text/plain": [
       "<Figure size 720x360 with 1 Axes>"
      ]
     },
     "metadata": {
      "needs_background": "light"
     },
     "output_type": "display_data"
    }
   ],
   "source": [
    "plt.figure(figsize=(10,5))\n",
    "sns.boxplot(x=Company['default'],y=y_prob_pred_1)\n",
    "plt.show()"
   ]
  },
  {
   "cell_type": "markdown",
   "metadata": {},
   "source": [
    "#### Adding 2nd variable 'Debt_to_equity_ratio_times' to the logistic regression model"
   ]
  },
  {
   "cell_type": "code",
   "execution_count": 38,
   "metadata": {},
   "outputs": [],
   "source": [
    "f_2 = 'default ~ PBT_as_perc_of_total_income + Debt_to_equity_ratio_times'"
   ]
  },
  {
   "cell_type": "markdown",
   "metadata": {},
   "source": [
    "#### Fitting logistic regression model"
   ]
  },
  {
   "cell_type": "code",
   "execution_count": 39,
   "metadata": {},
   "outputs": [
    {
     "name": "stdout",
     "output_type": "stream",
     "text": [
      "Optimization terminated successfully.\n",
      "         Current function value: 0.223492\n",
      "         Iterations 7\n"
     ]
    }
   ],
   "source": [
    "model_2 = SM.logit(formula = f_2, data=Company).fit()"
   ]
  },
  {
   "cell_type": "markdown",
   "metadata": {},
   "source": [
    "#### Checking the parameters"
   ]
  },
  {
   "cell_type": "code",
   "execution_count": 40,
   "metadata": {},
   "outputs": [
    {
     "data": {
      "text/html": [
       "<table class=\"simpletable\">\n",
       "<caption>Logit Regression Results</caption>\n",
       "<tr>\n",
       "  <th>Dep. Variable:</th>        <td>default</td>     <th>  No. Observations:  </th>  <td>  3541</td>  \n",
       "</tr>\n",
       "<tr>\n",
       "  <th>Model:</th>                 <td>Logit</td>      <th>  Df Residuals:      </th>  <td>  3538</td>  \n",
       "</tr>\n",
       "<tr>\n",
       "  <th>Method:</th>                 <td>MLE</td>       <th>  Df Model:          </th>  <td>     2</td>  \n",
       "</tr>\n",
       "<tr>\n",
       "  <th>Date:</th>            <td>Sun, 12 Jul 2020</td> <th>  Pseudo R-squ.:     </th>  <td>0.1063</td>  \n",
       "</tr>\n",
       "<tr>\n",
       "  <th>Time:</th>                <td>22:22:11</td>     <th>  Log-Likelihood:    </th> <td> -791.38</td> \n",
       "</tr>\n",
       "<tr>\n",
       "  <th>converged:</th>             <td>True</td>       <th>  LL-Null:           </th> <td> -885.49</td> \n",
       "</tr>\n",
       "<tr>\n",
       "  <th>Covariance Type:</th>     <td>nonrobust</td>    <th>  LLR p-value:       </th> <td>1.355e-41</td>\n",
       "</tr>\n",
       "</table>\n",
       "<table class=\"simpletable\">\n",
       "<tr>\n",
       "               <td></td>                  <th>coef</th>     <th>std err</th>      <th>z</th>      <th>P>|z|</th>  <th>[0.025</th>    <th>0.975]</th>  \n",
       "</tr>\n",
       "<tr>\n",
       "  <th>Intercept</th>                   <td>   -2.8997</td> <td>    0.076</td> <td>  -37.905</td> <td> 0.000</td> <td>   -3.050</td> <td>   -2.750</td>\n",
       "</tr>\n",
       "<tr>\n",
       "  <th>PBT_as_perc_of_total_income</th> <td>   -0.0010</td> <td>    0.000</td> <td>   -3.886</td> <td> 0.000</td> <td>   -0.002</td> <td>   -0.000</td>\n",
       "</tr>\n",
       "<tr>\n",
       "  <th>Debt_to_equity_ratio_times</th>  <td>    0.0667</td> <td>    0.009</td> <td>    7.765</td> <td> 0.000</td> <td>    0.050</td> <td>    0.084</td>\n",
       "</tr>\n",
       "</table>"
      ],
      "text/plain": [
       "<class 'statsmodels.iolib.summary.Summary'>\n",
       "\"\"\"\n",
       "                           Logit Regression Results                           \n",
       "==============================================================================\n",
       "Dep. Variable:                default   No. Observations:                 3541\n",
       "Model:                          Logit   Df Residuals:                     3538\n",
       "Method:                           MLE   Df Model:                            2\n",
       "Date:                Sun, 12 Jul 2020   Pseudo R-squ.:                  0.1063\n",
       "Time:                        22:22:11   Log-Likelihood:                -791.38\n",
       "converged:                       True   LL-Null:                       -885.49\n",
       "Covariance Type:            nonrobust   LLR p-value:                 1.355e-41\n",
       "===============================================================================================\n",
       "                                  coef    std err          z      P>|z|      [0.025      0.975]\n",
       "-----------------------------------------------------------------------------------------------\n",
       "Intercept                      -2.8997      0.076    -37.905      0.000      -3.050      -2.750\n",
       "PBT_as_perc_of_total_income    -0.0010      0.000     -3.886      0.000      -0.002      -0.000\n",
       "Debt_to_equity_ratio_times      0.0667      0.009      7.765      0.000       0.050       0.084\n",
       "===============================================================================================\n",
       "\"\"\""
      ]
     },
     "execution_count": 40,
     "metadata": {},
     "output_type": "execute_result"
    }
   ],
   "source": [
    "model_2.summary()"
   ]
  },
  {
   "cell_type": "markdown",
   "metadata": {},
   "source": [
    "#### Checking the coefficients"
   ]
  },
  {
   "cell_type": "code",
   "execution_count": 41,
   "metadata": {},
   "outputs": [
    {
     "data": {
      "text/plain": [
       "Intercept                     -2.899681\n",
       "PBT_as_perc_of_total_income   -0.001008\n",
       "Debt_to_equity_ratio_times     0.066741\n",
       "dtype: float64"
      ]
     },
     "execution_count": 41,
     "metadata": {},
     "output_type": "execute_result"
    }
   ],
   "source": [
    "coefficients = model_2.params\n",
    "coefficients"
   ]
  },
  {
   "cell_type": "markdown",
   "metadata": {},
   "source": [
    "- Positive coefficient value means, higher the Debt to income ratio, more the chance of default\n",
    "- Similarly, less you are profitable, more the chance of default"
   ]
  },
  {
   "cell_type": "markdown",
   "metadata": {},
   "source": [
    "#### Checking the descriptive statistics of predicted probabilities"
   ]
  },
  {
   "cell_type": "code",
   "execution_count": 42,
   "metadata": {},
   "outputs": [
    {
     "data": {
      "text/plain": [
       "array([0.04740377, 0.05184925, 0.05267007, 0.05473282, 0.05836263,\n",
       "       1.        ])"
      ]
     },
     "execution_count": 42,
     "metadata": {},
     "output_type": "execute_result"
    }
   ],
   "source": [
    "y_prob_pred_2 = model_2.predict()\n",
    "np.percentile(y_prob_pred_2,[0,10,25,50,75,100])"
   ]
  },
  {
   "cell_type": "markdown",
   "metadata": {},
   "source": [
    "#### Plot of Actual Default vs Predicted default"
   ]
  },
  {
   "cell_type": "code",
   "execution_count": 43,
   "metadata": {},
   "outputs": [
    {
     "data": {
      "image/png": "[encoded data removed]",
      "text/plain": [
       "<Figure size 720x360 with 1 Axes>"
      ]
     },
     "metadata": {
      "needs_background": "light"
     },
     "output_type": "display_data"
    }
   ],
   "source": [
    "plt.figure(figsize=(10,5))\n",
    "sns.boxplot(x=Company['default'],y=y_prob_pred_2)\n",
    "plt.show()"
   ]
  },
  {
   "cell_type": "markdown",
   "metadata": {},
   "source": [
    "### Rechecking the overall default rate"
   ]
  },
  {
   "cell_type": "code",
   "execution_count": 44,
   "metadata": {},
   "outputs": [
    {
     "data": {
      "text/plain": [
       "0.06862468229313753"
      ]
     },
     "execution_count": 44,
     "metadata": {},
     "output_type": "execute_result"
    }
   ],
   "source": [
    "243/(243+3298)"
   ]
  },
  {
   "cell_type": "markdown",
   "metadata": {},
   "source": [
    "### Let us now see the predicted classes using cutoff 0.07"
   ]
  },
  {
   "cell_type": "code",
   "execution_count": 45,
   "metadata": {},
   "outputs": [],
   "source": [
    "y_class_pred=[]\n",
    "for i in range(0,len(y_prob_pred_2)):\n",
    "    if np.array(y_prob_pred_2)[i]>0.07:\n",
    "        a=1\n",
    "    else:\n",
    "        a=0\n",
    "    y_class_pred.append(a)"
   ]
  },
  {
   "cell_type": "markdown",
   "metadata": {},
   "source": [
    "#### Checking the accuracy of the model using confusion matrix"
   ]
  },
  {
   "cell_type": "markdown",
   "metadata": {},
   "source": [
    "Confusion matrix terminologies:\n",
    "\n",
    "- Sensitivity aka Recall (true positives / all actual positives) = TP / TP + FN\n",
    "- Specificity (true negatives / all actual negatives) =TN / TN + FP\n",
    "- Accuracy (all correct / all) = TP + TN / TP + TN + FP + FN\n",
    "- Misclassification (all incorrect / all) = FP + FN / TP + TN + FP + FN"
   ]
  },
  {
   "cell_type": "code",
   "execution_count": 81,
   "metadata": {},
   "outputs": [
    {
     "data": {
      "image/png": "[encoded data removed]",
      "text/plain": [
       "<Figure size 432x288 with 2 Axes>"
      ]
     },
     "metadata": {
      "needs_background": "light"
     },
     "output_type": "display_data"
    }
   ],
   "source": [
    "sns.heatmap((metrics.confusion_matrix(Company['default'],y_class_pred)),annot=True,fmt='.5g'\n",
    "            ,cmap='plasma');\n",
    "plt.xlabel('Predicted');\n",
    "plt.ylabel('Actuals',rotation=0);"
   ]
  },
  {
   "cell_type": "markdown",
   "metadata": {},
   "source": [
    "#### Calculating sensitivity of the model"
   ]
  },
  {
   "cell_type": "code",
   "execution_count": 47,
   "metadata": {},
   "outputs": [
    {
     "data": {
      "text/plain": [
       "0.5473251028806584"
      ]
     },
     "execution_count": 47,
     "metadata": {},
     "output_type": "execute_result"
    }
   ],
   "source": [
    "133/(133+110)"
   ]
  },
  {
   "cell_type": "markdown",
   "metadata": {},
   "source": [
    "55% of those defaulted were correctly identified as defaulters by the model"
   ]
  },
  {
   "cell_type": "markdown",
   "metadata": {},
   "source": [
    "#### Calculating specificity of the model"
   ]
  },
  {
   "cell_type": "code",
   "execution_count": 48,
   "metadata": {},
   "outputs": [
    {
     "data": {
      "text/plain": [
       "0.9520921770770163"
      ]
     },
     "execution_count": 48,
     "metadata": {},
     "output_type": "execute_result"
    }
   ],
   "source": [
    "3140/(3140+158)"
   ]
  },
  {
   "cell_type": "markdown",
   "metadata": {},
   "source": [
    "95% of those not defaulted were correctly identified as non-defaulters by the model"
   ]
  },
  {
   "cell_type": "markdown",
   "metadata": {},
   "source": [
    "##### Checking model efficiency"
   ]
  },
  {
   "cell_type": "code",
   "execution_count": 49,
   "metadata": {},
   "outputs": [
    {
     "data": {
      "text/plain": [
       "0.9243151652075685"
      ]
     },
     "execution_count": 49,
     "metadata": {},
     "output_type": "execute_result"
    }
   ],
   "source": [
    "(133+3140)/(133+3140+158+110)"
   ]
  },
  {
   "cell_type": "markdown",
   "metadata": {},
   "source": [
    "Overall 92% of correct predictions to total predictions were made by the model"
   ]
  },
  {
   "cell_type": "markdown",
   "metadata": {},
   "source": [
    "#### Calculating misclassification rate\n"
   ]
  },
  {
   "cell_type": "code",
   "execution_count": 50,
   "metadata": {},
   "outputs": [
    {
     "data": {
      "text/plain": [
       "0.07568483479243149"
      ]
     },
     "execution_count": 50,
     "metadata": {},
     "output_type": "execute_result"
    }
   ],
   "source": [
    "1-((133+3140)/(133+3140+158+110))"
   ]
  },
  {
   "cell_type": "markdown",
   "metadata": {},
   "source": [
    "### Let us now see the predicted classes with cutoff 0.06"
   ]
  },
  {
   "cell_type": "code",
   "execution_count": 51,
   "metadata": {},
   "outputs": [],
   "source": [
    "y_class_pred=[]\n",
    "for i in range(0,len(y_prob_pred_2)):\n",
    "    if np.array(y_prob_pred_2)[i]>0.06:\n",
    "        a=1\n",
    "    else:\n",
    "        a=0\n",
    "    y_class_pred.append(a)"
   ]
  },
  {
   "cell_type": "markdown",
   "metadata": {},
   "source": [
    "#### Checking the accuracy of the model using confusion matrix"
   ]
  },
  {
   "cell_type": "code",
   "execution_count": 82,
   "metadata": {},
   "outputs": [
    {
     "data": {
      "image/png": "[encoded data removed]",
      "text/plain": [
       "<Figure size 432x288 with 2 Axes>"
      ]
     },
     "metadata": {
      "needs_background": "light"
     },
     "output_type": "display_data"
    }
   ],
   "source": [
    "sns.heatmap((metrics.confusion_matrix(Company['default'], y_class_pred)), annot=True,fmt='.5g'\n",
    "            ,cmap='plasma');\n",
    "plt.xlabel('Predicted');\n",
    "plt.ylabel('Actuals',rotation=0);"
   ]
  },
  {
   "cell_type": "markdown",
   "metadata": {},
   "source": [
    "#### Calculating sensitivity of the model"
   ]
  },
  {
   "cell_type": "code",
   "execution_count": 53,
   "metadata": {},
   "outputs": [
    {
     "data": {
      "text/plain": [
       "0.6983471074380165"
      ]
     },
     "execution_count": 53,
     "metadata": {},
     "output_type": "execute_result"
    }
   ],
   "source": [
    "169/(74+168)"
   ]
  },
  {
   "cell_type": "markdown",
   "metadata": {},
   "source": [
    "69% of those defaulted were correctly identified as defaulters by the model"
   ]
  },
  {
   "cell_type": "markdown",
   "metadata": {},
   "source": [
    "#### Calculating specificity of the model"
   ]
  },
  {
   "cell_type": "code",
   "execution_count": 54,
   "metadata": {},
   "outputs": [
    {
     "data": {
      "text/plain": [
       "0.845360824742268"
      ]
     },
     "execution_count": 54,
     "metadata": {},
     "output_type": "execute_result"
    }
   ],
   "source": [
    "2788/(2788+510)"
   ]
  },
  {
   "cell_type": "markdown",
   "metadata": {},
   "source": [
    "85% of those not defaulted were correctly identified as non-defaulters by the model"
   ]
  },
  {
   "cell_type": "markdown",
   "metadata": {},
   "source": [
    "##### Checking model efficiency"
   ]
  },
  {
   "cell_type": "code",
   "execution_count": 55,
   "metadata": {},
   "outputs": [
    {
     "data": {
      "text/plain": [
       "0.8350748376164925"
      ]
     },
     "execution_count": 55,
     "metadata": {},
     "output_type": "execute_result"
    }
   ],
   "source": [
    "(2788+169)/(2788+169+510+74)"
   ]
  },
  {
   "cell_type": "markdown",
   "metadata": {},
   "source": [
    "Overall 84% of correct predictions to total predictions were made by the model"
   ]
  },
  {
   "cell_type": "markdown",
   "metadata": {},
   "source": [
    "#### Calculating misclassification rate"
   ]
  },
  {
   "cell_type": "code",
   "execution_count": 56,
   "metadata": {},
   "outputs": [
    {
     "data": {
      "text/plain": [
       "0.16492516238350752"
      ]
     },
     "execution_count": 56,
     "metadata": {},
     "output_type": "execute_result"
    }
   ],
   "source": [
    "1-((2788+169)/(2788+169+510+74))"
   ]
  },
  {
   "cell_type": "markdown",
   "metadata": {},
   "source": [
    "### Let us now see the predicted classes with cutoff 0.058"
   ]
  },
  {
   "cell_type": "code",
   "execution_count": 57,
   "metadata": {},
   "outputs": [],
   "source": [
    "y_class_pred=[]\n",
    "for i in range(0,len(y_prob_pred_2)):\n",
    "    if np.array(y_prob_pred_2)[i]>0.058:\n",
    "        a=1\n",
    "    else:\n",
    "        a=0\n",
    "    y_class_pred.append(a)"
   ]
  },
  {
   "cell_type": "markdown",
   "metadata": {},
   "source": [
    "#### Checking accuracy of the model using confusion matrix"
   ]
  },
  {
   "cell_type": "code",
   "execution_count": 85,
   "metadata": {},
   "outputs": [
    {
     "data": {
      "image/png": "[encoded data removed]",
      "text/plain": [
       "<Figure size 432x288 with 2 Axes>"
      ]
     },
     "metadata": {
      "needs_background": "light"
     },
     "output_type": "display_data"
    }
   ],
   "source": [
    "sns.heatmap((metrics.confusion_matrix(Company['default'],y_class_pred)),annot=True,fmt='.5g'\n",
    "            ,cmap='plasma');\n",
    "plt.xlabel('Predicted');\n",
    "plt.ylabel('Actuals',rotation=0);"
   ]
  },
  {
   "cell_type": "markdown",
   "metadata": {},
   "source": [
    "#### Calculating sensitivity of the model"
   ]
  },
  {
   "cell_type": "code",
   "execution_count": 59,
   "metadata": {},
   "outputs": [
    {
     "data": {
      "text/plain": [
       "0.7366255144032922"
      ]
     },
     "execution_count": 59,
     "metadata": {},
     "output_type": "execute_result"
    }
   ],
   "source": [
    "179/(179+64)"
   ]
  },
  {
   "cell_type": "markdown",
   "metadata": {},
   "source": [
    "74% of those defaulted were correctly identified as defaulters by the model"
   ]
  },
  {
   "cell_type": "markdown",
   "metadata": {},
   "source": [
    "#### Calculating specificity of the model"
   ]
  },
  {
   "cell_type": "code",
   "execution_count": 60,
   "metadata": {},
   "outputs": [
    {
     "data": {
      "text/plain": [
       "0.7644026682838083"
      ]
     },
     "execution_count": 60,
     "metadata": {},
     "output_type": "execute_result"
    }
   ],
   "source": [
    "2521/(2521+777)"
   ]
  },
  {
   "cell_type": "markdown",
   "metadata": {},
   "source": [
    "76% of those not defaulted were correctly identified as non-defaulters by the model"
   ]
  },
  {
   "cell_type": "markdown",
   "metadata": {},
   "source": [
    "##### Checking model efficiency"
   ]
  },
  {
   "cell_type": "code",
   "execution_count": 61,
   "metadata": {},
   "outputs": [
    {
     "data": {
      "text/plain": [
       "0.7624964699237503"
      ]
     },
     "execution_count": 61,
     "metadata": {},
     "output_type": "execute_result"
    }
   ],
   "source": [
    "(179+2521)/(179+2521+777+64)"
   ]
  },
  {
   "cell_type": "markdown",
   "metadata": {},
   "source": [
    "Overall 76% of correct predictions to total predictions were made by the model"
   ]
  },
  {
   "cell_type": "markdown",
   "metadata": {},
   "source": [
    "#### Calculating misclassification rate"
   ]
  },
  {
   "cell_type": "code",
   "execution_count": 62,
   "metadata": {},
   "outputs": [
    {
     "data": {
      "text/plain": [
       "0.2375035300762497"
      ]
     },
     "execution_count": 62,
     "metadata": {},
     "output_type": "execute_result"
    }
   ],
   "source": [
    "1-((179+2521)/(179+2521+777+64))"
   ]
  },
  {
   "cell_type": "markdown",
   "metadata": {},
   "source": [
    "0.6 turnsout to be optimal cutoff based on above performance measures of logistic regression model"
   ]
  },
  {
   "cell_type": "markdown",
   "metadata": {},
   "source": [
    "## Comparing Altman's Z score with logistic regression model"
   ]
  },
  {
   "cell_type": "markdown",
   "metadata": {},
   "source": [
    "#### Altman’s Z-score Model Formula\n",
    "The Z-score model is based on five key financial ratios, and it relies on the information contained in the 10-K report. It increases the model’s accuracy when measuring the financial health of a company and its probability of going bankrupt.\n",
    "\n",
    "The Altman’s Z-score formula is written as follows:\n",
    "\n",
    " \n",
    "\n",
    "​ζ = 1.2A + 1.4B + 3.3C + 0.6D + 1.0E\n",
    " \n",
    "\n",
    "Where:\n",
    "\n",
    "- Zeta (ζ) is the Altman’s Z-score\n",
    "- A is the Working Capital/Total Assets ratio\n",
    "- B is the Retained Earnings/Total Assets ratio\n",
    "- C is the Earnings Before Interest and Tax/Total Assets ratio\n",
    "- D is the Market Value of Equity/Total Liabilities ratio\n",
    "- E is the Total Sales/Total Assets ratio"
   ]
  },
  {
   "cell_type": "markdown",
   "metadata": {},
   "source": [
    "#### Calculating Altman's Z score"
   ]
  },
  {
   "cell_type": "code",
   "execution_count": 63,
   "metadata": {},
   "outputs": [
    {
     "data": {
      "text/plain": [
       "0         2.681145\n",
       "1         3.223439\n",
       "2         2.650964\n",
       "3       214.365519\n",
       "4         4.297941\n",
       "5         1.676869\n",
       "6         1.816469\n",
       "7         2.468707\n",
       "8         2.318676\n",
       "9         0.181339\n",
       "10        2.227493\n",
       "11        2.256230\n",
       "12        3.665101\n",
       "13       -0.034009\n",
       "14        2.272737\n",
       "15        1.850513\n",
       "16        3.370465\n",
       "17        1.571711\n",
       "18        0.226218\n",
       "19        1.968932\n",
       "20        0.862913\n",
       "21        3.206766\n",
       "22        1.990270\n",
       "23        1.832649\n",
       "24        1.542418\n",
       "25        3.551201\n",
       "26        2.982528\n",
       "27        4.556964\n",
       "28        2.911151\n",
       "29        2.046072\n",
       "           ...    \n",
       "3511      0.071508\n",
       "3512      1.790505\n",
       "3513      2.481648\n",
       "3514      0.833354\n",
       "3515      1.007941\n",
       "3516      0.204059\n",
       "3517      1.933989\n",
       "3518      0.514107\n",
       "3519      1.519224\n",
       "3520      2.069348\n",
       "3521      2.397162\n",
       "3522      0.724475\n",
       "3523      0.726342\n",
       "3524      1.416673\n",
       "3525      2.561513\n",
       "3526      2.944283\n",
       "3527      8.066612\n",
       "3528      4.420746\n",
       "3529      2.234217\n",
       "3530      3.231716\n",
       "3531      5.372347\n",
       "3532      3.439558\n",
       "3533      2.421168\n",
       "3534      3.430783\n",
       "3535      1.192455\n",
       "3536      2.274196\n",
       "3537      2.298526\n",
       "3538      1.760144\n",
       "3539      4.054600\n",
       "3540    603.978167\n",
       "Name: Altman_score, Length: 3541, dtype: float64"
      ]
     },
     "execution_count": 63,
     "metadata": {},
     "output_type": "execute_result"
    }
   ],
   "source": [
    "Company['Altman_score']=1.2*(Company.Net_working_capital/Company.Total_assets)+1.4*(Company.Cumulative_retained_profits/Company.Total_assets)+3.3*(Company.PBDITA/Company.Total_assets)+0.6*(Company.Equity_face_value/Company.Total_assets)+0.999*(Company.Sales/Company.Total_assets)\n",
    "Company['Altman_score']"
   ]
  },
  {
   "cell_type": "markdown",
   "metadata": {},
   "source": [
    "#### Descriptive statistics of the altman score"
   ]
  },
  {
   "cell_type": "code",
   "execution_count": 64,
   "metadata": {},
   "outputs": [
    {
     "data": {
      "text/plain": [
       "count     3541.000000\n",
       "mean         6.919864\n",
       "std        666.601185\n",
       "min     -28706.178110\n",
       "25%          1.446418\n",
       "50%          2.157950\n",
       "75%          3.020188\n",
       "max       6275.269000\n",
       "Name: Altman_score, dtype: float64"
      ]
     },
     "execution_count": 64,
     "metadata": {},
     "output_type": "execute_result"
    }
   ],
   "source": [
    "Company['Altman_score'].describe()"
   ]
  },
  {
   "cell_type": "markdown",
   "metadata": {},
   "source": [
    "Using standard threshold of 1.8, lets check if it give us the most reasonable descriptive power of the model\n",
    "\n",
    "#### Let us now see the predicted classes"
   ]
  },
  {
   "cell_type": "code",
   "execution_count": 65,
   "metadata": {},
   "outputs": [],
   "source": [
    "alt_class_pred=[]\n",
    "for i in range(0,len(Company['Altman_score'])):\n",
    "    if np.array(Company['Altman_score'])[i]<1.8:\n",
    "        a=1\n",
    "    else:\n",
    "        a=0\n",
    "    alt_class_pred.append(a)"
   ]
  },
  {
   "cell_type": "markdown",
   "metadata": {},
   "source": [
    "#### Checking the accuracy of the model using confusion matrix"
   ]
  },
  {
   "cell_type": "code",
   "execution_count": 86,
   "metadata": {},
   "outputs": [
    {
     "data": {
      "image/png": "[encoded data removed]",
      "text/plain": [
       "<Figure size 432x288 with 2 Axes>"
      ]
     },
     "metadata": {
      "needs_background": "light"
     },
     "output_type": "display_data"
    }
   ],
   "source": [
    "sns.heatmap((metrics.confusion_matrix(Company['default'],alt_class_pred)),annot=True,fmt='.5g'\n",
    "            ,cmap='plasma');\n",
    "plt.xlabel('Predicted');\n",
    "plt.ylabel('Actuals',rotation=0);"
   ]
  },
  {
   "cell_type": "markdown",
   "metadata": {},
   "source": [
    "#### Checking sensitivity of the model"
   ]
  },
  {
   "cell_type": "code",
   "execution_count": 67,
   "metadata": {},
   "outputs": [
    {
     "data": {
      "text/plain": [
       "0.6213991769547325"
      ]
     },
     "execution_count": 67,
     "metadata": {},
     "output_type": "execute_result"
    }
   ],
   "source": [
    "151/(151+92)"
   ]
  },
  {
   "cell_type": "markdown",
   "metadata": {},
   "source": [
    "62% of those defaulted were correctly identified as defaulters by the model"
   ]
  },
  {
   "cell_type": "markdown",
   "metadata": {},
   "source": [
    "#### Checking specificity"
   ]
  },
  {
   "cell_type": "code",
   "execution_count": 68,
   "metadata": {},
   "outputs": [
    {
     "data": {
      "text/plain": [
       "0.6594906003638569"
      ]
     },
     "execution_count": 68,
     "metadata": {},
     "output_type": "execute_result"
    }
   ],
   "source": [
    "2175/(2175+1123)"
   ]
  },
  {
   "cell_type": "markdown",
   "metadata": {},
   "source": [
    "65% of those not defaulted were correctly identified as non-defaulters by the model"
   ]
  },
  {
   "cell_type": "markdown",
   "metadata": {},
   "source": [
    "##### Checking model efficiency"
   ]
  },
  {
   "cell_type": "code",
   "execution_count": 69,
   "metadata": {},
   "outputs": [
    {
     "data": {
      "text/plain": [
       "0.6568765885343123"
      ]
     },
     "execution_count": 69,
     "metadata": {},
     "output_type": "execute_result"
    }
   ],
   "source": [
    "(2175+151)/(2175+151+1123+92)"
   ]
  },
  {
   "cell_type": "markdown",
   "metadata": {},
   "source": [
    "Overall 65% of correct predictions to total predictions were made by the model"
   ]
  },
  {
   "cell_type": "markdown",
   "metadata": {},
   "source": [
    "#### Checking misclassification rate"
   ]
  },
  {
   "cell_type": "code",
   "execution_count": 70,
   "metadata": {},
   "outputs": [
    {
     "data": {
      "text/plain": [
       "0.3431234114656877"
      ]
     },
     "execution_count": 70,
     "metadata": {},
     "output_type": "execute_result"
    }
   ],
   "source": [
    "1-((2175+151)/(2175+151+1123+92))"
   ]
  },
  {
   "cell_type": "markdown",
   "metadata": {},
   "source": [
    "Clearly, Logistic regression is performing far better than Altman's score"
   ]
  },
  {
   "cell_type": "markdown",
   "metadata": {},
   "source": [
    "### Lets try one more classifier model called Decision tree & check its accuracy"
   ]
  },
  {
   "cell_type": "markdown",
   "metadata": {},
   "source": [
    "#### Importing decision tree classifier module"
   ]
  },
  {
   "cell_type": "code",
   "execution_count": 71,
   "metadata": {},
   "outputs": [],
   "source": [
    "from sklearn import tree \n",
    "import matplotlib.pyplot as plt"
   ]
  },
  {
   "cell_type": "markdown",
   "metadata": {},
   "source": [
    "##### Fitting the model"
   ]
  },
  {
   "cell_type": "code",
   "execution_count": 72,
   "metadata": {},
   "outputs": [],
   "source": [
    "clf = tree.DecisionTreeClassifier(criterion='entropy',max_depth=2)"
   ]
  },
  {
   "cell_type": "code",
   "execution_count": 73,
   "metadata": {},
   "outputs": [
    {
     "data": {
      "text/plain": [
       "DecisionTreeClassifier(criterion='entropy', max_depth=2)"
      ]
     },
     "execution_count": 73,
     "metadata": {},
     "output_type": "execute_result"
    }
   ],
   "source": [
    "clf.fit(Company[['PBT_as_perc_of_total_income','Debt_to_equity_ratio_times']], Company['default'])"
   ]
  },
  {
   "cell_type": "markdown",
   "metadata": {},
   "source": [
    "#### Visualising the tree"
   ]
  },
  {
   "cell_type": "code",
   "execution_count": 74,
   "metadata": {},
   "outputs": [
    {
     "data": {
      "image/png": "[encoded data removed]",
      "text/plain": [
       "<Figure size 432x288 with 1 Axes>"
      ]
     },
     "metadata": {
      "needs_background": "light"
     },
     "output_type": "display_data"
    }
   ],
   "source": [
    "tree.plot_tree(clf.fit(Company[['PBT_as_perc_of_total_income','Debt_to_equity_ratio_times']], Company['default']), filled=True) \n",
    "plt.show()"
   ]
  },
  {
   "cell_type": "markdown",
   "metadata": {},
   "source": [
    "#### Predicting on Actual dataset"
   ]
  },
  {
   "cell_type": "code",
   "execution_count": 75,
   "metadata": {},
   "outputs": [],
   "source": [
    "y_predict = clf.predict(Company[['PBT_as_perc_of_total_income','Debt_to_equity_ratio_times']])"
   ]
  },
  {
   "cell_type": "markdown",
   "metadata": {},
   "source": [
    "#### Calculating confusion matrix"
   ]
  },
  {
   "cell_type": "code",
   "execution_count": 87,
   "metadata": {},
   "outputs": [
    {
     "data": {
      "image/png": "[encoded data removed]",
      "text/plain": [
       "<Figure size 432x288 with 2 Axes>"
      ]
     },
     "metadata": {
      "needs_background": "light"
     },
     "output_type": "display_data"
    }
   ],
   "source": [
    "sns.heatmap((metrics.confusion_matrix(Company['default'],y_predict)),annot=True,fmt='.5g'\n",
    "            ,cmap='plasma');\n",
    "plt.xlabel('Predicted');\n",
    "plt.ylabel('Actuals',rotation=0);"
   ]
  },
  {
   "cell_type": "markdown",
   "metadata": {},
   "source": [
    "#### Checking sensitivity of the model"
   ]
  },
  {
   "cell_type": "code",
   "execution_count": 77,
   "metadata": {},
   "outputs": [
    {
     "data": {
      "text/plain": [
       "0.5432098765432098"
      ]
     },
     "execution_count": 77,
     "metadata": {},
     "output_type": "execute_result"
    }
   ],
   "source": [
    "132/(132+111)"
   ]
  },
  {
   "cell_type": "markdown",
   "metadata": {},
   "source": [
    "54% of those not defaulted were correctly identified as non defaulters by the model"
   ]
  },
  {
   "cell_type": "markdown",
   "metadata": {},
   "source": [
    "#### Checking specificity of the model"
   ]
  },
  {
   "cell_type": "code",
   "execution_count": 78,
   "metadata": {},
   "outputs": [
    {
     "data": {
      "text/plain": [
       "0.9742268041237113"
      ]
     },
     "execution_count": 78,
     "metadata": {},
     "output_type": "execute_result"
    }
   ],
   "source": [
    "3213/(3213+85)"
   ]
  },
  {
   "cell_type": "markdown",
   "metadata": {},
   "source": [
    "97% of those not defaulted were correctly identified as non defaulters by the model"
   ]
  },
  {
   "cell_type": "markdown",
   "metadata": {},
   "source": [
    "#### Checking model efficiency"
   ]
  },
  {
   "cell_type": "code",
   "execution_count": 79,
   "metadata": {},
   "outputs": [
    {
     "data": {
      "text/plain": [
       "0.9446484044055352"
      ]
     },
     "execution_count": 79,
     "metadata": {},
     "output_type": "execute_result"
    }
   ],
   "source": [
    "(132+3213)/(132+3213+85+111)"
   ]
  },
  {
   "cell_type": "markdown",
   "metadata": {},
   "source": [
    "Overall 94% of correct predictions to total predictions were made by the model"
   ]
  },
  {
   "cell_type": "markdown",
   "metadata": {},
   "source": [
    "#### Checking misclassification rate"
   ]
  },
  {
   "cell_type": "code",
   "execution_count": 80,
   "metadata": {},
   "outputs": [
    {
     "data": {
      "text/plain": [
       "0.055351595594464786"
      ]
     },
     "execution_count": 80,
     "metadata": {},
     "output_type": "execute_result"
    }
   ],
   "source": [
    "1-((132+3213)/(132+3213+85+111))"
   ]
  },
  {
   "cell_type": "markdown",
   "metadata": {},
   "source": [
    "As per our models and based upon the specificity and accuracy measure, Logistics Regression is a better model. The accuracy of the model can be further improved considering more independent variables in the model."
   ]
  },
  {
   "cell_type": "markdown",
   "metadata": {},
   "source": [
    "## END"
   ]
  }
 ],
 "metadata": {
  "kernelspec": {
   "display_name": "Python 3",
   "language": "python",
   "name": "python3"
  },
  "language_info": {
   "codemirror_mode": {
    "name": "ipython",
    "version": 3
   },
   "file_extension": ".py",
   "mimetype": "text/x-python",
   "name": "python",
   "nbconvert_exporter": "python",
   "pygments_lexer": "ipython3",
   "version": "3.8.3"
  }
 },
 "nbformat": 4,
 "nbformat_minor": 2
}
