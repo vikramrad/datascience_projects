{
 "cells": [
  {
   "cell_type": "code",
   "execution_count": 68,
   "metadata": {},
   "outputs": [],
   "source": [
    "import numpy as np\n",
    "import pandas as pd\n",
    "from sklearn.cluster import KMeans \n",
    "import matplotlib.pyplot as plt"
   ]
  },
  {
   "cell_type": "code",
   "execution_count": 69,
   "metadata": {},
   "outputs": [],
   "source": [
    "x=np.random.seed(7)\n"
   ]
  },
  {
   "cell_type": "code",
   "execution_count": 70,
   "metadata": {},
   "outputs": [],
   "source": [
    "array=np.array(np.random.rand(20)).reshape(10,2)\n"
   ]
  },
  {
   "cell_type": "code",
   "execution_count": 71,
   "metadata": {},
   "outputs": [],
   "source": [
    "df=pd.DataFrame(array)\n"
   ]
  },
  {
   "cell_type": "code",
   "execution_count": 72,
   "metadata": {},
   "outputs": [],
   "source": [
    "from sklearn.metrics import silhouette_samples, silhouette_score"
   ]
  },
  {
   "cell_type": "code",
   "execution_count": 73,
   "metadata": {},
   "outputs": [],
   "source": [
    "from sklearn.preprocessing import StandardScaler"
   ]
  },
  {
   "cell_type": "code",
   "execution_count": 207,
   "metadata": {},
   "outputs": [
    {
     "data": {
      "text/html": [
       "<div>\n",
       "<style scoped>\n",
       "    .dataframe tbody tr th:only-of-type {\n",
       "        vertical-align: middle;\n",
       "    }\n",
       "\n",
       "    .dataframe tbody tr th {\n",
       "        vertical-align: top;\n",
       "    }\n",
       "\n",
       "    .dataframe thead th {\n",
       "        text-align: right;\n",
       "    }\n",
       "</style>\n",
       "<table border=\"1\" class=\"dataframe\">\n",
       "  <thead>\n",
       "    <tr style=\"text-align: right;\">\n",
       "      <th></th>\n",
       "      <th>Eccentricity</th>\n",
       "      <th>Aspect Ratio</th>\n",
       "      <th>Elongation</th>\n",
       "      <th>Solidity</th>\n",
       "      <th>Stochastic Convexity</th>\n",
       "      <th>Isoperimetric Factor</th>\n",
       "      <th>Maximal Indentation Depth</th>\n",
       "      <th>Lobedness</th>\n",
       "      <th>Average Intensity</th>\n",
       "      <th>Average Contrast</th>\n",
       "      <th>Smoothness</th>\n",
       "      <th>Third moment</th>\n",
       "      <th>Uniformity</th>\n",
       "      <th>Entropy</th>\n",
       "    </tr>\n",
       "  </thead>\n",
       "  <tbody>\n",
       "    <tr>\n",
       "      <td>0</td>\n",
       "      <td>0.72694</td>\n",
       "      <td>1.4742</td>\n",
       "      <td>0.32396</td>\n",
       "      <td>0.98535</td>\n",
       "      <td>1.00000</td>\n",
       "      <td>0.835920</td>\n",
       "      <td>0.004657</td>\n",
       "      <td>0.003947</td>\n",
       "      <td>0.047790</td>\n",
       "      <td>0.127950</td>\n",
       "      <td>0.016108</td>\n",
       "      <td>0.005232</td>\n",
       "      <td>0.000275</td>\n",
       "      <td>1.17560</td>\n",
       "    </tr>\n",
       "    <tr>\n",
       "      <td>1</td>\n",
       "      <td>0.74173</td>\n",
       "      <td>1.5257</td>\n",
       "      <td>0.36116</td>\n",
       "      <td>0.98152</td>\n",
       "      <td>0.99825</td>\n",
       "      <td>0.798670</td>\n",
       "      <td>0.005242</td>\n",
       "      <td>0.005002</td>\n",
       "      <td>0.024160</td>\n",
       "      <td>0.090476</td>\n",
       "      <td>0.008119</td>\n",
       "      <td>0.002708</td>\n",
       "      <td>0.000075</td>\n",
       "      <td>0.69659</td>\n",
       "    </tr>\n",
       "    <tr>\n",
       "      <td>2</td>\n",
       "      <td>0.76722</td>\n",
       "      <td>1.5725</td>\n",
       "      <td>0.38998</td>\n",
       "      <td>0.97755</td>\n",
       "      <td>1.00000</td>\n",
       "      <td>0.808120</td>\n",
       "      <td>0.007457</td>\n",
       "      <td>0.010121</td>\n",
       "      <td>0.011897</td>\n",
       "      <td>0.057445</td>\n",
       "      <td>0.003289</td>\n",
       "      <td>0.000921</td>\n",
       "      <td>0.000038</td>\n",
       "      <td>0.44348</td>\n",
       "    </tr>\n",
       "    <tr>\n",
       "      <td>3</td>\n",
       "      <td>0.73797</td>\n",
       "      <td>1.4597</td>\n",
       "      <td>0.35376</td>\n",
       "      <td>0.97566</td>\n",
       "      <td>1.00000</td>\n",
       "      <td>0.816970</td>\n",
       "      <td>0.006877</td>\n",
       "      <td>0.008607</td>\n",
       "      <td>0.015950</td>\n",
       "      <td>0.065491</td>\n",
       "      <td>0.004271</td>\n",
       "      <td>0.001154</td>\n",
       "      <td>0.000066</td>\n",
       "      <td>0.58785</td>\n",
       "    </tr>\n",
       "    <tr>\n",
       "      <td>4</td>\n",
       "      <td>0.82301</td>\n",
       "      <td>1.7707</td>\n",
       "      <td>0.44462</td>\n",
       "      <td>0.97698</td>\n",
       "      <td>1.00000</td>\n",
       "      <td>0.754930</td>\n",
       "      <td>0.007428</td>\n",
       "      <td>0.010042</td>\n",
       "      <td>0.007938</td>\n",
       "      <td>0.045339</td>\n",
       "      <td>0.002051</td>\n",
       "      <td>0.000560</td>\n",
       "      <td>0.000024</td>\n",
       "      <td>0.34214</td>\n",
       "    </tr>\n",
       "    <tr>\n",
       "      <td>...</td>\n",
       "      <td>...</td>\n",
       "      <td>...</td>\n",
       "      <td>...</td>\n",
       "      <td>...</td>\n",
       "      <td>...</td>\n",
       "      <td>...</td>\n",
       "      <td>...</td>\n",
       "      <td>...</td>\n",
       "      <td>...</td>\n",
       "      <td>...</td>\n",
       "      <td>...</td>\n",
       "      <td>...</td>\n",
       "      <td>...</td>\n",
       "      <td>...</td>\n",
       "    </tr>\n",
       "    <tr>\n",
       "      <td>335</td>\n",
       "      <td>0.37522</td>\n",
       "      <td>1.1417</td>\n",
       "      <td>0.81725</td>\n",
       "      <td>0.68511</td>\n",
       "      <td>0.58772</td>\n",
       "      <td>0.125230</td>\n",
       "      <td>0.091860</td>\n",
       "      <td>1.535800</td>\n",
       "      <td>0.114880</td>\n",
       "      <td>0.208610</td>\n",
       "      <td>0.041703</td>\n",
       "      <td>0.013344</td>\n",
       "      <td>0.000820</td>\n",
       "      <td>2.02810</td>\n",
       "    </tr>\n",
       "    <tr>\n",
       "      <td>336</td>\n",
       "      <td>0.28064</td>\n",
       "      <td>1.0849</td>\n",
       "      <td>0.75319</td>\n",
       "      <td>0.72152</td>\n",
       "      <td>0.71404</td>\n",
       "      <td>0.136860</td>\n",
       "      <td>0.078996</td>\n",
       "      <td>1.135800</td>\n",
       "      <td>0.141220</td>\n",
       "      <td>0.218300</td>\n",
       "      <td>0.045488</td>\n",
       "      <td>0.012002</td>\n",
       "      <td>0.001515</td>\n",
       "      <td>2.40590</td>\n",
       "    </tr>\n",
       "    <tr>\n",
       "      <td>337</td>\n",
       "      <td>0.35344</td>\n",
       "      <td>1.0329</td>\n",
       "      <td>0.78147</td>\n",
       "      <td>0.70737</td>\n",
       "      <td>0.61579</td>\n",
       "      <td>0.135030</td>\n",
       "      <td>0.089763</td>\n",
       "      <td>1.466400</td>\n",
       "      <td>0.097663</td>\n",
       "      <td>0.207030</td>\n",
       "      <td>0.041101</td>\n",
       "      <td>0.016123</td>\n",
       "      <td>0.000453</td>\n",
       "      <td>1.69350</td>\n",
       "    </tr>\n",
       "    <tr>\n",
       "      <td>338</td>\n",
       "      <td>0.59988</td>\n",
       "      <td>1.1427</td>\n",
       "      <td>0.71532</td>\n",
       "      <td>0.66101</td>\n",
       "      <td>0.47544</td>\n",
       "      <td>0.157470</td>\n",
       "      <td>0.113370</td>\n",
       "      <td>2.339400</td>\n",
       "      <td>0.050389</td>\n",
       "      <td>0.135850</td>\n",
       "      <td>0.018121</td>\n",
       "      <td>0.006190</td>\n",
       "      <td>0.000265</td>\n",
       "      <td>1.15260</td>\n",
       "    </tr>\n",
       "    <tr>\n",
       "      <td>339</td>\n",
       "      <td>0.47195</td>\n",
       "      <td>1.0901</td>\n",
       "      <td>0.85409</td>\n",
       "      <td>0.53598</td>\n",
       "      <td>0.39649</td>\n",
       "      <td>0.078376</td>\n",
       "      <td>0.132270</td>\n",
       "      <td>3.184000</td>\n",
       "      <td>0.082007</td>\n",
       "      <td>0.187820</td>\n",
       "      <td>0.034074</td>\n",
       "      <td>0.013487</td>\n",
       "      <td>0.000329</td>\n",
       "      <td>1.56230</td>\n",
       "    </tr>\n",
       "  </tbody>\n",
       "</table>\n",
       "<p>340 rows × 14 columns</p>\n",
       "</div>"
      ],
      "text/plain": [
       "     Eccentricity  Aspect Ratio  Elongation  Solidity  Stochastic Convexity  \\\n",
       "0         0.72694        1.4742     0.32396   0.98535               1.00000   \n",
       "1         0.74173        1.5257     0.36116   0.98152               0.99825   \n",
       "2         0.76722        1.5725     0.38998   0.97755               1.00000   \n",
       "3         0.73797        1.4597     0.35376   0.97566               1.00000   \n",
       "4         0.82301        1.7707     0.44462   0.97698               1.00000   \n",
       "..            ...           ...         ...       ...                   ...   \n",
       "335       0.37522        1.1417     0.81725   0.68511               0.58772   \n",
       "336       0.28064        1.0849     0.75319   0.72152               0.71404   \n",
       "337       0.35344        1.0329     0.78147   0.70737               0.61579   \n",
       "338       0.59988        1.1427     0.71532   0.66101               0.47544   \n",
       "339       0.47195        1.0901     0.85409   0.53598               0.39649   \n",
       "\n",
       "     Isoperimetric Factor  Maximal Indentation Depth  Lobedness  \\\n",
       "0                0.835920                   0.004657   0.003947   \n",
       "1                0.798670                   0.005242   0.005002   \n",
       "2                0.808120                   0.007457   0.010121   \n",
       "3                0.816970                   0.006877   0.008607   \n",
       "4                0.754930                   0.007428   0.010042   \n",
       "..                    ...                        ...        ...   \n",
       "335              0.125230                   0.091860   1.535800   \n",
       "336              0.136860                   0.078996   1.135800   \n",
       "337              0.135030                   0.089763   1.466400   \n",
       "338              0.157470                   0.113370   2.339400   \n",
       "339              0.078376                   0.132270   3.184000   \n",
       "\n",
       "     Average Intensity   Average Contrast  Smoothness   Third moment  \\\n",
       "0             0.047790           0.127950    0.016108       0.005232   \n",
       "1             0.024160           0.090476    0.008119       0.002708   \n",
       "2             0.011897           0.057445    0.003289       0.000921   \n",
       "3             0.015950           0.065491    0.004271       0.001154   \n",
       "4             0.007938           0.045339    0.002051       0.000560   \n",
       "..                 ...                ...         ...            ...   \n",
       "335           0.114880           0.208610    0.041703       0.013344   \n",
       "336           0.141220           0.218300    0.045488       0.012002   \n",
       "337           0.097663           0.207030    0.041101       0.016123   \n",
       "338           0.050389           0.135850    0.018121       0.006190   \n",
       "339           0.082007           0.187820    0.034074       0.013487   \n",
       "\n",
       "     Uniformity  Entropy  \n",
       "0      0.000275  1.17560  \n",
       "1      0.000075  0.69659  \n",
       "2      0.000038  0.44348  \n",
       "3      0.000066  0.58785  \n",
       "4      0.000024  0.34214  \n",
       "..          ...      ...  \n",
       "335    0.000820  2.02810  \n",
       "336    0.001515  2.40590  \n",
       "337    0.000453  1.69350  \n",
       "338    0.000265  1.15260  \n",
       "339    0.000329  1.56230  \n",
       "\n",
       "[340 rows x 14 columns]"
      ]
     },
     "execution_count": 207,
     "metadata": {},
     "output_type": "execute_result"
    }
   ],
   "source": [
    "X = StandardScaler()\n",
    "df.shape\n",
    "df"
   ]
  },
  {
   "cell_type": "code",
   "execution_count": 208,
   "metadata": {},
   "outputs": [
    {
     "data": {
      "text/plain": [
       "array([[ 0.03406572, -0.37222696, -0.97186457, ..., -0.13155017,\n",
       "        -0.26102979,  0.02220937],\n",
       "       [ 0.10516996, -0.35238276, -0.78138363, ..., -0.60906479,\n",
       "        -0.72510039, -0.79802302],\n",
       "       [ 0.22771539, -0.3343496 , -0.6338121 , ..., -0.94716702,\n",
       "        -0.81089324, -1.23143573],\n",
       "       ...,\n",
       "       [-1.76156859, -0.54227049,  1.37079505, ...,  1.92861248,\n",
       "         0.1524054 ,  0.90903502],\n",
       "       [-0.57678648, -0.4999619 ,  1.03207692, ...,  0.04961521,\n",
       "        -0.28477602, -0.01717466],\n",
       "       [-1.19182128, -0.52022995,  1.74264253, ...,  1.42996788,\n",
       "        -0.13619376,  0.68437481]])"
      ]
     },
     "execution_count": 208,
     "metadata": {},
     "output_type": "execute_result"
    }
   ],
   "source": [
    "scaled_df = X.fit_transform(df)\n",
    "scaled_df.shape\n",
    "scaled_df"
   ]
  },
  {
   "cell_type": "code",
   "execution_count": 76,
   "metadata": {},
   "outputs": [],
   "source": [
    "k_means = KMeans(n_clusters = 2)"
   ]
  },
  {
   "cell_type": "code",
   "execution_count": 77,
   "metadata": {},
   "outputs": [
    {
     "data": {
      "text/plain": [
       "KMeans(algorithm='auto', copy_x=True, init='k-means++', max_iter=300,\n",
       "       n_clusters=2, n_init=10, n_jobs=None, precompute_distances='auto',\n",
       "       random_state=None, tol=0.0001, verbose=0)"
      ]
     },
     "execution_count": 77,
     "metadata": {},
     "output_type": "execute_result"
    }
   ],
   "source": [
    "k_means.fit(scaled_df)"
   ]
  },
  {
   "cell_type": "code",
   "execution_count": 78,
   "metadata": {},
   "outputs": [],
   "source": [
    "labels = k_means.labels_"
   ]
  },
  {
   "cell_type": "code",
   "execution_count": 79,
   "metadata": {},
   "outputs": [
    {
     "data": {
      "text/plain": [
       "0.4069015400992441"
      ]
     },
     "execution_count": 79,
     "metadata": {},
     "output_type": "execute_result"
    }
   ],
   "source": [
    "silhouette_score(scaled_df,labels)"
   ]
  },
  {
   "cell_type": "code",
   "execution_count": 94,
   "metadata": {},
   "outputs": [],
   "source": [
    "np.random.seed(10)\n",
    "array=np.array(np.random.rand(10).reshape(5,2))\n",
    "df=pd.DataFrame(array)\n",
    "scaled_df = X.fit_transform(df)"
   ]
  },
  {
   "cell_type": "code",
   "execution_count": 101,
   "metadata": {},
   "outputs": [
    {
     "name": "stdout",
     "output_type": "stream",
     "text": [
      "2\n",
      "3\n",
      "4\n"
     ]
    }
   ],
   "source": [
    "wss=[]\n",
    "for i in range(2,5):\n",
    "    KM = KMeans(n_clusters=i)\n",
    "    KM.fit(df)\n",
    "    wss.append(KM.inertia_)\n",
    "    print(i)"
   ]
  },
  {
   "cell_type": "code",
   "execution_count": 102,
   "metadata": {},
   "outputs": [
    {
     "data": {
      "text/plain": [
       "[0.29840559776941283, 0.1529668242563229, 0.058030757637772115]"
      ]
     },
     "execution_count": 102,
     "metadata": {},
     "output_type": "execute_result"
    }
   ],
   "source": [
    "wss"
   ]
  },
  {
   "cell_type": "code",
   "execution_count": 103,
   "metadata": {},
   "outputs": [
    {
     "data": {
      "text/plain": [
       "0.16980105988783598"
      ]
     },
     "execution_count": 103,
     "metadata": {},
     "output_type": "execute_result"
    }
   ],
   "source": [
    "(wss[0]+wss[1]+wss[2])/3"
   ]
  },
  {
   "cell_type": "code",
   "execution_count": 106,
   "metadata": {},
   "outputs": [],
   "source": [
    "df=pd.read_csv('leaf_data_uci.csv')"
   ]
  },
  {
   "cell_type": "code",
   "execution_count": 107,
   "metadata": {},
   "outputs": [
    {
     "data": {
      "text/html": [
       "<div>\n",
       "<style scoped>\n",
       "    .dataframe tbody tr th:only-of-type {\n",
       "        vertical-align: middle;\n",
       "    }\n",
       "\n",
       "    .dataframe tbody tr th {\n",
       "        vertical-align: top;\n",
       "    }\n",
       "\n",
       "    .dataframe thead th {\n",
       "        text-align: right;\n",
       "    }\n",
       "</style>\n",
       "<table border=\"1\" class=\"dataframe\">\n",
       "  <thead>\n",
       "    <tr style=\"text-align: right;\">\n",
       "      <th></th>\n",
       "      <th>Eccentricity</th>\n",
       "      <th>Aspect Ratio</th>\n",
       "      <th>Elongation</th>\n",
       "      <th>Solidity</th>\n",
       "      <th>Stochastic Convexity</th>\n",
       "      <th>Isoperimetric Factor</th>\n",
       "      <th>Maximal Indentation Depth</th>\n",
       "      <th>Lobedness</th>\n",
       "      <th>Average Intensity</th>\n",
       "      <th>Average Contrast</th>\n",
       "      <th>Smoothness</th>\n",
       "      <th>Third moment</th>\n",
       "      <th>Uniformity</th>\n",
       "      <th>Entropy</th>\n",
       "    </tr>\n",
       "  </thead>\n",
       "  <tbody>\n",
       "    <tr>\n",
       "      <td>0</td>\n",
       "      <td>0.72694</td>\n",
       "      <td>1.4742</td>\n",
       "      <td>0.32396</td>\n",
       "      <td>0.98535</td>\n",
       "      <td>1.00000</td>\n",
       "      <td>0.83592</td>\n",
       "      <td>0.004657</td>\n",
       "      <td>0.003947</td>\n",
       "      <td>0.047790</td>\n",
       "      <td>0.127950</td>\n",
       "      <td>0.016108</td>\n",
       "      <td>0.005232</td>\n",
       "      <td>0.000275</td>\n",
       "      <td>1.17560</td>\n",
       "    </tr>\n",
       "    <tr>\n",
       "      <td>1</td>\n",
       "      <td>0.74173</td>\n",
       "      <td>1.5257</td>\n",
       "      <td>0.36116</td>\n",
       "      <td>0.98152</td>\n",
       "      <td>0.99825</td>\n",
       "      <td>0.79867</td>\n",
       "      <td>0.005242</td>\n",
       "      <td>0.005002</td>\n",
       "      <td>0.024160</td>\n",
       "      <td>0.090476</td>\n",
       "      <td>0.008119</td>\n",
       "      <td>0.002708</td>\n",
       "      <td>0.000075</td>\n",
       "      <td>0.69659</td>\n",
       "    </tr>\n",
       "    <tr>\n",
       "      <td>2</td>\n",
       "      <td>0.76722</td>\n",
       "      <td>1.5725</td>\n",
       "      <td>0.38998</td>\n",
       "      <td>0.97755</td>\n",
       "      <td>1.00000</td>\n",
       "      <td>0.80812</td>\n",
       "      <td>0.007457</td>\n",
       "      <td>0.010121</td>\n",
       "      <td>0.011897</td>\n",
       "      <td>0.057445</td>\n",
       "      <td>0.003289</td>\n",
       "      <td>0.000921</td>\n",
       "      <td>0.000038</td>\n",
       "      <td>0.44348</td>\n",
       "    </tr>\n",
       "    <tr>\n",
       "      <td>3</td>\n",
       "      <td>0.73797</td>\n",
       "      <td>1.4597</td>\n",
       "      <td>0.35376</td>\n",
       "      <td>0.97566</td>\n",
       "      <td>1.00000</td>\n",
       "      <td>0.81697</td>\n",
       "      <td>0.006877</td>\n",
       "      <td>0.008607</td>\n",
       "      <td>0.015950</td>\n",
       "      <td>0.065491</td>\n",
       "      <td>0.004271</td>\n",
       "      <td>0.001154</td>\n",
       "      <td>0.000066</td>\n",
       "      <td>0.58785</td>\n",
       "    </tr>\n",
       "    <tr>\n",
       "      <td>4</td>\n",
       "      <td>0.82301</td>\n",
       "      <td>1.7707</td>\n",
       "      <td>0.44462</td>\n",
       "      <td>0.97698</td>\n",
       "      <td>1.00000</td>\n",
       "      <td>0.75493</td>\n",
       "      <td>0.007428</td>\n",
       "      <td>0.010042</td>\n",
       "      <td>0.007938</td>\n",
       "      <td>0.045339</td>\n",
       "      <td>0.002051</td>\n",
       "      <td>0.000560</td>\n",
       "      <td>0.000024</td>\n",
       "      <td>0.34214</td>\n",
       "    </tr>\n",
       "  </tbody>\n",
       "</table>\n",
       "</div>"
      ],
      "text/plain": [
       "   Eccentricity  Aspect Ratio  Elongation  Solidity  Stochastic Convexity  \\\n",
       "0       0.72694        1.4742     0.32396   0.98535               1.00000   \n",
       "1       0.74173        1.5257     0.36116   0.98152               0.99825   \n",
       "2       0.76722        1.5725     0.38998   0.97755               1.00000   \n",
       "3       0.73797        1.4597     0.35376   0.97566               1.00000   \n",
       "4       0.82301        1.7707     0.44462   0.97698               1.00000   \n",
       "\n",
       "   Isoperimetric Factor  Maximal Indentation Depth  Lobedness  \\\n",
       "0               0.83592                   0.004657   0.003947   \n",
       "1               0.79867                   0.005242   0.005002   \n",
       "2               0.80812                   0.007457   0.010121   \n",
       "3               0.81697                   0.006877   0.008607   \n",
       "4               0.75493                   0.007428   0.010042   \n",
       "\n",
       "   Average Intensity   Average Contrast  Smoothness   Third moment  \\\n",
       "0           0.047790           0.127950    0.016108       0.005232   \n",
       "1           0.024160           0.090476    0.008119       0.002708   \n",
       "2           0.011897           0.057445    0.003289       0.000921   \n",
       "3           0.015950           0.065491    0.004271       0.001154   \n",
       "4           0.007938           0.045339    0.002051       0.000560   \n",
       "\n",
       "   Uniformity  Entropy  \n",
       "0    0.000275  1.17560  \n",
       "1    0.000075  0.69659  \n",
       "2    0.000038  0.44348  \n",
       "3    0.000066  0.58785  \n",
       "4    0.000024  0.34214  "
      ]
     },
     "execution_count": 107,
     "metadata": {},
     "output_type": "execute_result"
    }
   ],
   "source": [
    "df.head()"
   ]
  },
  {
   "cell_type": "code",
   "execution_count": 177,
   "metadata": {},
   "outputs": [],
   "source": [
    "wss =[] \n",
    "sil=[]\n",
    "scaled_df = X.fit_transform(df)"
   ]
  },
  {
   "cell_type": "code",
   "execution_count": 204,
   "metadata": {},
   "outputs": [
    {
     "name": "stdout",
     "output_type": "stream",
     "text": [
      "For n_clusters = 2 The average silhouette_score is : 0.2660515068685418\n",
      "For n_clusters = 3 The average silhouette_score is : 0.32123482938814507\n",
      "For n_clusters = 4 The average silhouette_score is : 0.35879443535882594\n",
      "For n_clusters = 5 The average silhouette_score is : 0.2800021697794699\n",
      "For n_clusters = 6 The average silhouette_score is : 0.29682364396118904\n",
      "For n_clusters = 7 The average silhouette_score is : 0.3068787023556766\n",
      "For n_clusters = 8 The average silhouette_score is : 0.31932834957526807\n",
      "For n_clusters = 9 The average silhouette_score is : 0.3274423197931368\n",
      "For n_clusters = 10 The average silhouette_score is : 0.3310234663075571\n"
     ]
    }
   ],
   "source": [
    "for i in range(2,11):\n",
    "    KM = KMeans(n_clusters=i)\n",
    "    KM.fit(scaled_df)\n",
    "    wss.append(KM.inertia_)\n",
    "    labels = KM.labels_\n",
    "    silhouette_avg = silhouette_score(scaled_df, labels)\n",
    "    print(\"For n_clusters =\", i,\n",
    "          \"The average silhouette_score is :\", silhouette_avg)\n",
    "    "
   ]
  },
  {
   "cell_type": "code",
   "execution_count": 176,
   "metadata": {},
   "outputs": [
    {
     "data": {
      "text/plain": [
       "array([8, 5, 5, 5, 5, 5, 5, 5, 5, 5, 5, 5, 5, 5, 5, 5, 5, 5, 5, 5, 5, 8,\n",
       "       2, 5, 8, 5, 8, 8, 8, 5, 8, 8, 8, 8, 5, 5, 5, 5, 5, 8, 1, 1, 1, 1,\n",
       "       1, 1, 1, 1, 1, 1, 2, 1, 6, 6, 6, 6, 6, 6, 6, 6, 1, 1, 1, 1, 1, 5,\n",
       "       1, 5, 5, 1, 3, 3, 3, 3, 3, 3, 3, 3, 3, 1, 3, 8, 8, 8, 4, 8, 8, 8,\n",
       "       5, 4, 4, 1, 8, 8, 8, 4, 4, 8, 4, 4, 9, 9, 9, 9, 9, 9, 9, 9, 6, 6,\n",
       "       6, 6, 6, 6, 6, 6, 6, 6, 6, 6, 6, 6, 6, 6, 1, 2, 2, 2, 1, 1, 1, 2,\n",
       "       2, 1, 2, 1, 8, 8, 8, 5, 8, 8, 5, 8, 8, 5, 8, 4, 8, 2, 2, 2, 2, 1,\n",
       "       1, 1, 1, 2, 2, 2, 2, 0, 0, 0, 0, 1, 0, 0, 0, 0, 0, 1, 1, 2, 2, 7,\n",
       "       1, 1, 1, 5, 1, 7, 5, 5, 5, 1, 1, 1, 1, 5, 5, 5, 1, 5, 8, 5, 5, 5,\n",
       "       5, 8, 5, 5, 8, 8, 8, 8, 5, 2, 9, 2, 9, 9, 9, 9, 9, 2, 5, 5, 8, 8,\n",
       "       8, 8, 8, 5, 1, 8, 8, 5, 5, 5, 5, 5, 5, 5, 8, 5, 8, 8, 5, 1, 1, 2,\n",
       "       2, 2, 2, 2, 2, 2, 2, 2, 2, 5, 5, 5, 5, 5, 5, 5, 5, 5, 5, 5, 5, 4,\n",
       "       4, 4, 8, 4, 8, 8, 8, 4, 8, 8, 5, 3, 3, 7, 3, 3, 7, 3, 7, 7, 7, 3,\n",
       "       5, 5, 8, 5, 1, 1, 5, 5, 5, 5, 5, 8, 4, 8, 5, 8, 8, 8, 8, 8, 4, 4,\n",
       "       3, 3, 3, 3, 3, 3, 3, 3, 3, 3, 3, 2, 2, 2, 2, 2, 2, 2, 2, 2, 2, 1,\n",
       "       0, 0, 0, 0, 0, 0, 0, 0, 6, 0])"
      ]
     },
     "execution_count": 176,
     "metadata": {},
     "output_type": "execute_result"
    }
   ],
   "source": [
    "labels"
   ]
  },
  {
   "cell_type": "code",
   "execution_count": 182,
   "metadata": {},
   "outputs": [
    {
     "data": {
      "text/plain": [
       "0.32163821920112884"
      ]
     },
     "execution_count": 182,
     "metadata": {},
     "output_type": "execute_result"
    }
   ],
   "source": [
    "silhouette_score(scaled_df,labels)"
   ]
  },
  {
   "cell_type": "code",
   "execution_count": 150,
   "metadata": {},
   "outputs": [
    {
     "data": {
      "text/plain": [
       "[<matplotlib.lines.Line2D at 0x21540b27888>]"
      ]
     },
     "execution_count": 150,
     "metadata": {},
     "output_type": "execute_result"
    },
    {
     "data": {
      "image/png": "[encoded data removed]",
      "text/plain": [
       "<Figure size 432x288 with 1 Axes>"
      ]
     },
     "metadata": {
      "needs_background": "light"
     },
     "output_type": "display_data"
    }
   ],
   "source": [
    "plt.plot(range(1,11), wss,marker=\"+\")"
   ]
  },
  {
   "cell_type": "code",
   "execution_count": 151,
   "metadata": {},
   "outputs": [
    {
     "data": {
      "text/plain": [
       "[4760.0,\n",
       " 3480.556459459818,\n",
       " 2454.9042279673613,\n",
       " 1956.1774033708316,\n",
       " 1693.9777249389144,\n",
       " 1482.0401488316293,\n",
       " 1312.151564378722,\n",
       " 1175.84408305435,\n",
       " 1042.8848266963935,\n",
       " 948.1575579825651]"
      ]
     },
     "execution_count": 151,
     "metadata": {},
     "output_type": "execute_result"
    }
   ],
   "source": [
    "wss"
   ]
  },
  {
   "cell_type": "code",
   "execution_count": 152,
   "metadata": {},
   "outputs": [],
   "source": [
    "from sklearn.metrics import silhouette_samples, silhouette_score\n",
    "labels = KM.labels_"
   ]
  },
  {
   "cell_type": "code",
   "execution_count": 153,
   "metadata": {},
   "outputs": [
    {
     "data": {
      "text/plain": [
       "0.3337300371980668"
      ]
     },
     "execution_count": 153,
     "metadata": {},
     "output_type": "execute_result"
    }
   ],
   "source": [
    "silhouette_score(scaled_df,labels)"
   ]
  },
  {
   "cell_type": "code",
   "execution_count": 154,
   "metadata": {},
   "outputs": [
    {
     "data": {
      "text/plain": [
       "[0.33295493458583786,\n",
       " 0.33295493458583786,\n",
       " 0.33295493458583786,\n",
       " 0.33295493458583786,\n",
       " 0.33295493458583786,\n",
       " 0.33295493458583786,\n",
       " 0.33295493458583786,\n",
       " 0.33295493458583786,\n",
       " 0.33295493458583786,\n",
       " 0.33295493458583786]"
      ]
     },
     "execution_count": 154,
     "metadata": {},
     "output_type": "execute_result"
    }
   ],
   "source": [
    "sil"
   ]
  },
  {
   "cell_type": "code",
   "execution_count": null,
   "metadata": {},
   "outputs": [],
   "source": []
  }
 ],
 "metadata": {
  "kernelspec": {
   "display_name": "Python 3",
   "language": "python",
   "name": "python3"
  },
  "language_info": {
   "codemirror_mode": {
    "name": "ipython",
    "version": 3
   },
   "file_extension": ".py",
   "mimetype": "text/x-python",
   "name": "python",
   "nbconvert_exporter": "python",
   "pygments_lexer": "ipython3",
   "version": "3.7.4"
  }
 },
 "nbformat": 4,
 "nbformat_minor": 2
}
