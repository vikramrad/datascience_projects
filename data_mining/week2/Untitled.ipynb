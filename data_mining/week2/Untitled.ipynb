{
 "cells": [
  {
   "cell_type": "code",
   "execution_count": 37,
   "metadata": {},
   "outputs": [],
   "source": [
    "import numpy as np\n",
    "import pandas as pd\n",
    "from sklearn.tree import DecisionTreeClassifier"
   ]
  },
  {
   "cell_type": "code",
   "execution_count": 38,
   "metadata": {},
   "outputs": [],
   "source": [
    "credit_df=pd.read_csv('German Credit Dataset.csv')"
   ]
  },
  {
   "cell_type": "code",
   "execution_count": 39,
   "metadata": {},
   "outputs": [
    {
     "data": {
      "text/html": [
       "<div>\n",
       "<style scoped>\n",
       "    .dataframe tbody tr th:only-of-type {\n",
       "        vertical-align: middle;\n",
       "    }\n",
       "\n",
       "    .dataframe tbody tr th {\n",
       "        vertical-align: top;\n",
       "    }\n",
       "\n",
       "    .dataframe thead th {\n",
       "        text-align: right;\n",
       "    }\n",
       "</style>\n",
       "<table border=\"1\" class=\"dataframe\">\n",
       "  <thead>\n",
       "    <tr style=\"text-align: right;\">\n",
       "      <th></th>\n",
       "      <th>checking_balance</th>\n",
       "      <th>months_loan_duration</th>\n",
       "      <th>credit_history</th>\n",
       "      <th>purpose</th>\n",
       "      <th>amount</th>\n",
       "      <th>savings_balance</th>\n",
       "      <th>employment_duration</th>\n",
       "      <th>percent_of_income</th>\n",
       "      <th>years_at_residence</th>\n",
       "      <th>age</th>\n",
       "      <th>other_credit</th>\n",
       "      <th>housing</th>\n",
       "      <th>existing_loans_count</th>\n",
       "      <th>job</th>\n",
       "      <th>dependents</th>\n",
       "      <th>phone</th>\n",
       "      <th>default</th>\n",
       "    </tr>\n",
       "  </thead>\n",
       "  <tbody>\n",
       "    <tr>\n",
       "      <td>0</td>\n",
       "      <td>&lt; 0 DM</td>\n",
       "      <td>6</td>\n",
       "      <td>critical</td>\n",
       "      <td>furniture/appliances</td>\n",
       "      <td>1169</td>\n",
       "      <td>unknown</td>\n",
       "      <td>&gt; 7 years</td>\n",
       "      <td>4</td>\n",
       "      <td>4</td>\n",
       "      <td>67</td>\n",
       "      <td>none</td>\n",
       "      <td>own</td>\n",
       "      <td>2</td>\n",
       "      <td>skilled</td>\n",
       "      <td>1</td>\n",
       "      <td>yes</td>\n",
       "      <td>no</td>\n",
       "    </tr>\n",
       "    <tr>\n",
       "      <td>1</td>\n",
       "      <td>1 - 200 DM</td>\n",
       "      <td>48</td>\n",
       "      <td>good</td>\n",
       "      <td>furniture/appliances</td>\n",
       "      <td>5951</td>\n",
       "      <td>&lt; 100 DM</td>\n",
       "      <td>1 - 4 years</td>\n",
       "      <td>2</td>\n",
       "      <td>2</td>\n",
       "      <td>22</td>\n",
       "      <td>none</td>\n",
       "      <td>own</td>\n",
       "      <td>1</td>\n",
       "      <td>skilled</td>\n",
       "      <td>1</td>\n",
       "      <td>no</td>\n",
       "      <td>yes</td>\n",
       "    </tr>\n",
       "    <tr>\n",
       "      <td>2</td>\n",
       "      <td>unknown</td>\n",
       "      <td>12</td>\n",
       "      <td>critical</td>\n",
       "      <td>education</td>\n",
       "      <td>2096</td>\n",
       "      <td>&lt; 100 DM</td>\n",
       "      <td>4 - 7 years</td>\n",
       "      <td>2</td>\n",
       "      <td>3</td>\n",
       "      <td>49</td>\n",
       "      <td>none</td>\n",
       "      <td>own</td>\n",
       "      <td>1</td>\n",
       "      <td>unskilled</td>\n",
       "      <td>2</td>\n",
       "      <td>no</td>\n",
       "      <td>no</td>\n",
       "    </tr>\n",
       "    <tr>\n",
       "      <td>3</td>\n",
       "      <td>&lt; 0 DM</td>\n",
       "      <td>42</td>\n",
       "      <td>good</td>\n",
       "      <td>furniture/appliances</td>\n",
       "      <td>7882</td>\n",
       "      <td>&lt; 100 DM</td>\n",
       "      <td>4 - 7 years</td>\n",
       "      <td>2</td>\n",
       "      <td>4</td>\n",
       "      <td>45</td>\n",
       "      <td>none</td>\n",
       "      <td>other</td>\n",
       "      <td>1</td>\n",
       "      <td>skilled</td>\n",
       "      <td>2</td>\n",
       "      <td>no</td>\n",
       "      <td>no</td>\n",
       "    </tr>\n",
       "    <tr>\n",
       "      <td>4</td>\n",
       "      <td>&lt; 0 DM</td>\n",
       "      <td>24</td>\n",
       "      <td>poor</td>\n",
       "      <td>car</td>\n",
       "      <td>4870</td>\n",
       "      <td>&lt; 100 DM</td>\n",
       "      <td>1 - 4 years</td>\n",
       "      <td>3</td>\n",
       "      <td>4</td>\n",
       "      <td>53</td>\n",
       "      <td>none</td>\n",
       "      <td>other</td>\n",
       "      <td>2</td>\n",
       "      <td>skilled</td>\n",
       "      <td>2</td>\n",
       "      <td>no</td>\n",
       "      <td>yes</td>\n",
       "    </tr>\n",
       "  </tbody>\n",
       "</table>\n",
       "</div>"
      ],
      "text/plain": [
       "  checking_balance  months_loan_duration credit_history               purpose  \\\n",
       "0           < 0 DM                     6       critical  furniture/appliances   \n",
       "1       1 - 200 DM                    48           good  furniture/appliances   \n",
       "2          unknown                    12       critical             education   \n",
       "3           < 0 DM                    42           good  furniture/appliances   \n",
       "4           < 0 DM                    24           poor                   car   \n",
       "\n",
       "   amount savings_balance employment_duration  percent_of_income  \\\n",
       "0    1169         unknown           > 7 years                  4   \n",
       "1    5951        < 100 DM         1 - 4 years                  2   \n",
       "2    2096        < 100 DM         4 - 7 years                  2   \n",
       "3    7882        < 100 DM         4 - 7 years                  2   \n",
       "4    4870        < 100 DM         1 - 4 years                  3   \n",
       "\n",
       "   years_at_residence  age other_credit housing  existing_loans_count  \\\n",
       "0                   4   67         none     own                     2   \n",
       "1                   2   22         none     own                     1   \n",
       "2                   3   49         none     own                     1   \n",
       "3                   4   45         none   other                     1   \n",
       "4                   4   53         none   other                     2   \n",
       "\n",
       "         job  dependents phone default  \n",
       "0    skilled           1   yes      no  \n",
       "1    skilled           1    no     yes  \n",
       "2  unskilled           2    no      no  \n",
       "3    skilled           2    no      no  \n",
       "4    skilled           2    no     yes  "
      ]
     },
     "execution_count": 39,
     "metadata": {},
     "output_type": "execute_result"
    }
   ],
   "source": [
    "credit_df.head()"
   ]
  },
  {
   "cell_type": "code",
   "execution_count": 40,
   "metadata": {},
   "outputs": [
    {
     "data": {
      "text/plain": [
       "(1000, 17)"
      ]
     },
     "execution_count": 40,
     "metadata": {},
     "output_type": "execute_result"
    }
   ],
   "source": [
    "credit_df.shape"
   ]
  },
  {
   "cell_type": "code",
   "execution_count": 41,
   "metadata": {},
   "outputs": [
    {
     "name": "stdout",
     "output_type": "stream",
     "text": [
      "<class 'pandas.core.frame.DataFrame'>\n",
      "RangeIndex: 1000 entries, 0 to 999\n",
      "Data columns (total 17 columns):\n",
      "checking_balance        1000 non-null object\n",
      "months_loan_duration    1000 non-null int64\n",
      "credit_history          1000 non-null object\n",
      "purpose                 1000 non-null object\n",
      "amount                  1000 non-null int64\n",
      "savings_balance         1000 non-null object\n",
      "employment_duration     1000 non-null object\n",
      "percent_of_income       1000 non-null int64\n",
      "years_at_residence      1000 non-null int64\n",
      "age                     1000 non-null int64\n",
      "other_credit            1000 non-null object\n",
      "housing                 1000 non-null object\n",
      "existing_loans_count    1000 non-null int64\n",
      "job                     1000 non-null object\n",
      "dependents              1000 non-null int64\n",
      "phone                   1000 non-null object\n",
      "default                 1000 non-null object\n",
      "dtypes: int64(7), object(10)\n",
      "memory usage: 132.9+ KB\n"
     ]
    }
   ],
   "source": [
    "credit_df.info()\n"
   ]
  },
  {
   "cell_type": "code",
   "execution_count": 42,
   "metadata": {},
   "outputs": [],
   "source": [
    "for x in credit_df.columns:\n",
    "    if credit_df[x].dtype=='object':\n",
    "        credit_df[x]=pd.Categorical(credit_df[x]).codes"
   ]
  },
  {
   "cell_type": "code",
   "execution_count": 43,
   "metadata": {},
   "outputs": [
    {
     "name": "stdout",
     "output_type": "stream",
     "text": [
      "<class 'pandas.core.frame.DataFrame'>\n",
      "RangeIndex: 1000 entries, 0 to 999\n",
      "Data columns (total 17 columns):\n",
      "checking_balance        1000 non-null int8\n",
      "months_loan_duration    1000 non-null int64\n",
      "credit_history          1000 non-null int8\n",
      "purpose                 1000 non-null int8\n",
      "amount                  1000 non-null int64\n",
      "savings_balance         1000 non-null int8\n",
      "employment_duration     1000 non-null int8\n",
      "percent_of_income       1000 non-null int64\n",
      "years_at_residence      1000 non-null int64\n",
      "age                     1000 non-null int64\n",
      "other_credit            1000 non-null int8\n",
      "housing                 1000 non-null int8\n",
      "existing_loans_count    1000 non-null int64\n",
      "job                     1000 non-null int8\n",
      "dependents              1000 non-null int64\n",
      "phone                   1000 non-null int8\n",
      "default                 1000 non-null int8\n",
      "dtypes: int64(7), int8(10)\n",
      "memory usage: 64.6 KB\n"
     ]
    }
   ],
   "source": [
    "credit_df.info()"
   ]
  },
  {
   "cell_type": "code",
   "execution_count": 44,
   "metadata": {},
   "outputs": [],
   "source": [
    "# capture the target column (\"default\") into separate vectors for training set and test set\n",
    "\n",
    "X = credit_df.drop(\"default\" , axis=1)\n",
    "y = credit_df.pop(\"default\")"
   ]
  },
  {
   "cell_type": "code",
   "execution_count": 45,
   "metadata": {},
   "outputs": [],
   "source": [
    "from sklearn.model_selection import train_test_split\n",
    "X_train,X_test,train_labels,test_labels = train_test_split(X,y,test_size=0.30, random_state=1)"
   ]
  },
  {
   "cell_type": "code",
   "execution_count": 46,
   "metadata": {},
   "outputs": [],
   "source": [
    "dt_model=DecisionTreeClassifier(criterion='gini')"
   ]
  },
  {
   "cell_type": "code",
   "execution_count": 47,
   "metadata": {},
   "outputs": [
    {
     "data": {
      "text/plain": [
       "DecisionTreeClassifier(class_weight=None, criterion='gini', max_depth=None,\n",
       "                       max_features=None, max_leaf_nodes=None,\n",
       "                       min_impurity_decrease=0.0, min_impurity_split=None,\n",
       "                       min_samples_leaf=1, min_samples_split=2,\n",
       "                       min_weight_fraction_leaf=0.0, presort=False,\n",
       "                       random_state=None, splitter='best')"
      ]
     },
     "execution_count": 47,
     "metadata": {},
     "output_type": "execute_result"
    }
   ],
   "source": [
    "dt_model.fit(X_train,train_labels)"
   ]
  },
  {
   "cell_type": "code",
   "execution_count": 59,
   "metadata": {},
   "outputs": [],
   "source": [
    "from sklearn import tree\n",
    "\n",
    "train_char_label = ['No', 'Yes']\n",
    "Credit_Tree_File = open('E:\\AIMLGLIM\\DATA_MINING\\week2\\credit_tree.dot','w')\n",
    "dot_data = tree.export_graphviz(dt_model, out_file=Credit_Tree_File, feature_names = list(X_train), class_names = list(train_char_label))\n",
    "\n",
    "Credit_Tree_File.close()"
   ]
  },
  {
   "cell_type": "code",
   "execution_count": 60,
   "metadata": {},
   "outputs": [
    {
     "name": "stdout",
     "output_type": "stream",
     "text": [
      "                           Imp\n",
      "checking_balance      0.139521\n",
      "months_loan_duration  0.103749\n",
      "credit_history        0.056679\n",
      "purpose               0.062787\n",
      "amount                0.153317\n",
      "savings_balance       0.056390\n",
      "employment_duration   0.062488\n",
      "percent_of_income     0.056708\n",
      "years_at_residence    0.040847\n",
      "age                   0.160730\n",
      "other_credit          0.020731\n",
      "housing               0.019191\n",
      "existing_loans_count  0.017788\n",
      "job                   0.023460\n",
      "dependents            0.013349\n",
      "phone                 0.012267\n"
     ]
    }
   ],
   "source": [
    "# importance of features in the tree building ( The importance of a feature is computed as the \n",
    "#(normalized) total reduction of the criterion brought by that feature. It is also known as the Gini importance )\n",
    "\n",
    "print (pd.DataFrame(dt_model.feature_importances_, columns = [\"Imp\"], index = X_train.columns))"
   ]
  },
  {
   "cell_type": "code",
   "execution_count": 61,
   "metadata": {},
   "outputs": [],
   "source": [
    "y_predict = dt_model.predict(X_test)"
   ]
  },
  {
   "cell_type": "code",
   "execution_count": 62,
   "metadata": {},
   "outputs": [],
   "source": [
    "# Regularizing the decision tree"
   ]
  },
  {
   "cell_type": "code",
   "execution_count": 63,
   "metadata": {},
   "outputs": [
    {
     "data": {
      "text/plain": [
       "DecisionTreeClassifier(class_weight=None, criterion='gini', max_depth=7,\n",
       "                       max_features=None, max_leaf_nodes=None,\n",
       "                       min_impurity_decrease=0.0, min_impurity_split=None,\n",
       "                       min_samples_leaf=10, min_samples_split=30,\n",
       "                       min_weight_fraction_leaf=0.0, presort=False,\n",
       "                       random_state=None, splitter='best')"
      ]
     },
     "execution_count": 63,
     "metadata": {},
     "output_type": "execute_result"
    }
   ],
   "source": [
    "reg_dt_model=DecisionTreeClassifier(criterion='gini',max_depth=7,min_samples_leaf=10, min_samples_split=30)\n",
    "reg_dt_model.fit(X_train,train_labels)"
   ]
  },
  {
   "cell_type": "code",
   "execution_count": 67,
   "metadata": {},
   "outputs": [
    {
     "data": {
      "text/plain": [
       "array([[0.24137931, 0.75862069],\n",
       "       [1.        , 0.        ],\n",
       "       [0.43478261, 0.56521739],\n",
       "       ...,\n",
       "       [0.82142857, 0.17857143],\n",
       "       [0.24137931, 0.75862069],\n",
       "       [0.8125    , 0.1875    ]])"
      ]
     },
     "execution_count": 67,
     "metadata": {},
     "output_type": "execute_result"
    }
   ],
   "source": [
    "ytrain_predict1 = reg_dt_model.predict(X_train)\n",
    "ytest_predict1 = reg_dt_model.predict(X_test)\n",
    "ytrain_predict2 = reg_dt_model.predict_proba(X_train)\n",
    "ytest_predict2 = reg_dt_model.predict_proba(X_test)\n",
    "ytrain_predict2"
   ]
  },
  {
   "cell_type": "code",
   "execution_count": 65,
   "metadata": {},
   "outputs": [],
   "source": [
    "import matplotlib.pyplot as plt"
   ]
  },
  {
   "cell_type": "code",
   "execution_count": 68,
   "metadata": {},
   "outputs": [],
   "source": [
    "probs=reg_dt_model.predict_proba(X_train)"
   ]
  },
  {
   "cell_type": "code",
   "execution_count": 69,
   "metadata": {},
   "outputs": [
    {
     "data": {
      "text/plain": [
       "array([0.75862069, 0.        , 0.56521739, 0.52380952, 0.26086957,\n",
       "       0.24      , 0.88      , 0.03333333, 0.        , 0.        ,\n",
       "       0.31818182, 0.2       , 0.21428571, 0.        , 0.03333333,\n",
       "       0.1875    , 0.78571429, 0.1875    , 0.56521739, 0.17857143,\n",
       "       0.        , 0.1875    , 0.5952381 , 0.        , 0.        ,\n",
       "       0.        , 0.63636364, 0.03333333, 0.17857143, 0.0952381 ,\n",
       "       0.75862069, 0.        , 0.0952381 , 0.34482759, 0.27586207,\n",
       "       0.5952381 , 0.34482759, 0.75      , 0.        , 0.        ,\n",
       "       0.5952381 , 0.46153846, 0.27586207, 0.1875    , 0.        ,\n",
       "       0.1875    , 0.17857143, 0.2962963 , 0.24      , 0.        ,\n",
       "       0.36363636, 0.31818182, 0.17857143, 0.75      , 0.5952381 ,\n",
       "       0.34482759, 0.        , 0.17857143, 0.        , 0.        ,\n",
       "       0.1875    , 0.75862069, 0.1       , 0.52380952, 0.        ,\n",
       "       0.1875    , 0.56521739, 0.5952381 , 0.21428571, 0.1875    ,\n",
       "       0.72222222, 0.        , 0.27586207, 0.21428571, 0.78571429,\n",
       "       0.2962963 , 0.17857143, 0.56521739, 0.        , 0.03333333,\n",
       "       0.24      , 0.26086957, 0.        , 0.52380952, 0.27586207,\n",
       "       0.26086957, 0.88      , 0.34482759, 0.78571429, 0.1       ,\n",
       "       0.        , 0.27586207, 0.26086957, 0.03333333, 0.88      ,\n",
       "       0.75862069, 0.24      , 0.        , 0.17857143, 0.        ,\n",
       "       0.        , 0.        , 0.63636364, 0.        , 0.72222222,\n",
       "       0.1875    , 0.36363636, 0.88      , 0.        , 0.27586207,\n",
       "       0.27586207, 0.17857143, 0.1       , 0.        , 0.        ,\n",
       "       0.21428571, 0.34482759, 0.27586207, 0.03333333, 0.75      ,\n",
       "       0.0952381 , 0.0952381 , 0.        , 0.        , 0.        ,\n",
       "       0.0952381 , 0.        , 0.2962963 , 0.31818182, 0.17857143,\n",
       "       0.2962963 , 0.78571429, 0.2962963 , 0.63636364, 0.34482759,\n",
       "       0.31818182, 0.63636364, 0.2962963 , 0.5952381 , 0.5952381 ,\n",
       "       0.88      , 0.75862069, 0.17857143, 0.34482759, 0.24      ,\n",
       "       0.26086957, 0.1875    , 0.75862069, 0.        , 0.24      ,\n",
       "       0.        , 0.21428571, 0.5952381 , 0.        , 0.21428571,\n",
       "       0.        , 0.24      , 0.78571429, 0.        , 0.2962963 ,\n",
       "       0.2       , 0.        , 0.        , 0.88      , 0.88      ,\n",
       "       0.75862069, 0.1875    , 0.24      , 0.75      , 0.        ,\n",
       "       0.21428571, 0.56521739, 0.78571429, 0.        , 0.75862069,\n",
       "       0.        , 0.        , 0.1875    , 0.34482759, 0.34482759,\n",
       "       0.5952381 , 0.75862069, 0.34482759, 0.63636364, 0.        ,\n",
       "       0.        , 0.03333333, 0.5952381 , 0.46153846, 0.31818182,\n",
       "       0.        , 0.26086957, 0.0952381 , 0.26086957, 0.        ,\n",
       "       0.26086957, 0.5952381 , 0.1875    , 0.72222222, 0.31818182,\n",
       "       0.5952381 , 0.21428571, 0.17857143, 0.34482759, 0.5952381 ,\n",
       "       0.        , 0.        , 0.        , 0.5952381 , 0.27586207,\n",
       "       0.24      , 0.72222222, 0.2962963 , 0.27586207, 0.88      ,\n",
       "       0.75      , 0.03333333, 0.72222222, 0.27586207, 0.78571429,\n",
       "       0.03333333, 0.        , 0.1875    , 0.17857143, 0.72222222,\n",
       "       0.52380952, 0.5952381 , 0.27586207, 0.21428571, 0.        ,\n",
       "       0.5952381 , 0.21428571, 0.        , 0.27586207, 0.        ,\n",
       "       0.        , 0.        , 0.        , 0.56521739, 0.26086957,\n",
       "       0.36363636, 0.0952381 , 0.31818182, 0.2962963 , 0.36363636,\n",
       "       0.03333333, 0.        , 0.03333333, 0.88      , 0.88      ,\n",
       "       0.46153846, 0.52380952, 0.17857143, 0.75862069, 0.56521739,\n",
       "       0.63636364, 0.2962963 , 0.        , 0.        , 0.0952381 ,\n",
       "       0.1875    , 0.1       , 0.        , 0.24      , 0.52380952,\n",
       "       0.75862069, 0.        , 0.        , 0.21428571, 0.        ,\n",
       "       0.1       , 0.56521739, 0.31818182, 0.        , 0.78571429,\n",
       "       0.72222222, 0.31818182, 0.27586207, 0.31818182, 0.2       ,\n",
       "       0.1875    , 0.5952381 , 0.1875    , 0.        , 0.5952381 ,\n",
       "       0.21428571, 0.17857143, 0.03333333, 0.31818182, 0.03333333,\n",
       "       0.24      , 0.5952381 , 0.5952381 , 0.5952381 , 0.17857143,\n",
       "       0.78571429, 0.03333333, 0.2962963 , 0.5952381 , 0.5952381 ,\n",
       "       0.52380952, 0.1875    , 0.5952381 , 0.34482759, 0.        ,\n",
       "       0.34482759, 0.56521739, 0.        , 0.        , 0.        ,\n",
       "       0.2962963 , 0.75862069, 0.        , 0.36363636, 0.78571429,\n",
       "       0.17857143, 0.34482759, 0.26086957, 0.75862069, 0.24      ,\n",
       "       0.88      , 0.1875    , 0.        , 0.31818182, 0.        ,\n",
       "       0.75      , 0.1875    , 0.75      , 0.34482759, 0.63636364,\n",
       "       0.75862069, 0.        , 0.88      , 0.03333333, 0.56521739,\n",
       "       0.        , 0.        , 0.17857143, 0.2       , 0.1875    ,\n",
       "       0.24      , 0.5952381 , 0.88      , 0.        , 0.27586207,\n",
       "       0.24      , 0.24      , 0.26086957, 0.75862069, 0.1875    ,\n",
       "       0.26086957, 0.2       , 0.75862069, 0.1875    , 0.2962963 ,\n",
       "       0.52380952, 0.46153846, 0.17857143, 0.5952381 , 0.17857143,\n",
       "       0.24      , 0.        , 0.5952381 , 0.5952381 , 0.03333333,\n",
       "       0.5952381 , 0.52380952, 0.56521739, 0.1       , 0.1       ,\n",
       "       0.26086957, 0.        , 0.26086957, 0.34482759, 0.34482759,\n",
       "       0.2962963 , 0.1875    , 0.5952381 , 0.26086957, 0.52380952,\n",
       "       0.1875    , 0.        , 0.56521739, 0.56521739, 0.1       ,\n",
       "       0.        , 0.2962963 , 0.26086957, 0.03333333, 0.0952381 ,\n",
       "       0.52380952, 0.        , 0.75      , 0.21428571, 0.03333333,\n",
       "       0.        , 0.24      , 0.63636364, 0.1875    , 0.88      ,\n",
       "       0.        , 0.56521739, 0.        , 0.17857143, 0.26086957,\n",
       "       0.5952381 , 0.31818182, 0.52380952, 0.88      , 0.        ,\n",
       "       0.5952381 , 0.56521739, 0.        , 0.        , 0.2962963 ,\n",
       "       0.34482759, 0.21428571, 0.27586207, 0.        , 0.36363636,\n",
       "       0.2962963 , 0.52380952, 0.5952381 , 0.2       , 0.17857143,\n",
       "       0.5952381 , 0.24      , 0.0952381 , 0.27586207, 0.34482759,\n",
       "       0.88      , 0.5952381 , 0.        , 0.24      , 0.        ,\n",
       "       0.75862069, 0.0952381 , 0.27586207, 0.        , 0.52380952,\n",
       "       0.34482759, 0.        , 0.88      , 0.2       , 0.        ,\n",
       "       0.27586207, 0.21428571, 0.75862069, 0.0952381 , 0.21428571,\n",
       "       0.75862069, 0.        , 0.        , 0.27586207, 0.31818182,\n",
       "       0.46153846, 0.2962963 , 0.17857143, 0.        , 0.88      ,\n",
       "       0.72222222, 0.27586207, 0.03333333, 0.        , 0.        ,\n",
       "       0.2       , 0.1875    , 0.24      , 0.1875    , 0.75862069,\n",
       "       0.1875    , 0.1875    , 0.88      , 0.27586207, 0.34482759,\n",
       "       0.46153846, 0.2962963 , 0.1875    , 0.        , 0.        ,\n",
       "       0.72222222, 0.46153846, 0.31818182, 0.52380952, 0.1875    ,\n",
       "       0.21428571, 0.5952381 , 0.26086957, 0.03333333, 0.46153846,\n",
       "       0.        , 0.26086957, 0.        , 0.        , 0.21428571,\n",
       "       0.31818182, 0.2       , 0.24      , 0.31818182, 0.24      ,\n",
       "       0.1875    , 0.2962963 , 0.        , 0.2962963 , 0.        ,\n",
       "       0.26086957, 0.1875    , 0.27586207, 0.2962963 , 0.27586207,\n",
       "       0.75862069, 0.34482759, 0.0952381 , 0.0952381 , 0.        ,\n",
       "       0.        , 0.46153846, 0.21428571, 0.        , 0.03333333,\n",
       "       0.72222222, 0.03333333, 0.2962963 , 0.        , 0.72222222,\n",
       "       0.21428571, 0.2962963 , 0.72222222, 0.26086957, 0.        ,\n",
       "       0.88      , 0.0952381 , 0.5952381 , 0.1875    , 0.1875    ,\n",
       "       0.34482759, 0.0952381 , 0.24      , 0.        , 0.0952381 ,\n",
       "       0.5952381 , 0.        , 0.03333333, 0.        , 0.34482759,\n",
       "       0.03333333, 0.        , 0.31818182, 0.1875    , 0.1875    ,\n",
       "       0.88      , 0.1875    , 0.56521739, 0.27586207, 0.72222222,\n",
       "       0.17857143, 0.        , 0.        , 0.        , 0.72222222,\n",
       "       0.88      , 0.88      , 0.63636364, 0.75      , 0.        ,\n",
       "       0.1875    , 0.1       , 0.88      , 0.21428571, 0.        ,\n",
       "       0.        , 0.36363636, 0.5952381 , 0.        , 0.        ,\n",
       "       0.        , 0.        , 0.46153846, 0.0952381 , 0.36363636,\n",
       "       0.31818182, 0.46153846, 0.78571429, 0.        , 0.        ,\n",
       "       0.75862069, 0.03333333, 0.03333333, 0.46153846, 0.36363636,\n",
       "       0.34482759, 0.21428571, 0.34482759, 0.34482759, 0.1875    ,\n",
       "       0.78571429, 0.72222222, 0.52380952, 0.        , 0.        ,\n",
       "       0.03333333, 0.24      , 0.1875    , 0.56521739, 0.75      ,\n",
       "       0.31818182, 0.56521739, 0.        , 0.31818182, 0.1875    ,\n",
       "       0.56521739, 0.52380952, 0.26086957, 0.21428571, 0.0952381 ,\n",
       "       0.36363636, 0.27586207, 0.        , 0.56521739, 0.        ,\n",
       "       0.52380952, 0.26086957, 0.        , 0.1875    , 0.75862069,\n",
       "       0.75862069, 0.27586207, 0.        , 0.36363636, 0.52380952,\n",
       "       0.17857143, 0.27586207, 0.56521739, 0.2962963 , 0.        ,\n",
       "       0.        , 0.21428571, 0.63636364, 0.75862069, 0.31818182,\n",
       "       0.2962963 , 0.        , 0.1       , 0.63636364, 0.21428571,\n",
       "       0.17857143, 0.78571429, 0.75      , 0.78571429, 0.88      ,\n",
       "       0.        , 0.        , 0.56521739, 0.52380952, 0.24      ,\n",
       "       0.72222222, 0.17857143, 0.0952381 , 0.52380952, 0.2962963 ,\n",
       "       0.        , 0.5952381 , 0.        , 0.27586207, 0.72222222,\n",
       "       0.75862069, 0.        , 0.        , 0.21428571, 0.03333333,\n",
       "       0.72222222, 0.75      , 0.21428571, 0.        , 0.75862069,\n",
       "       0.0952381 , 0.34482759, 0.5952381 , 0.46153846, 0.        ,\n",
       "       0.        , 0.17857143, 0.1875    , 0.03333333, 0.1875    ,\n",
       "       0.03333333, 0.5952381 , 0.75862069, 0.21428571, 0.        ,\n",
       "       0.        , 0.1875    , 0.34482759, 0.2       , 0.56521739,\n",
       "       0.        , 0.        , 0.17857143, 0.75862069, 0.1875    ])"
      ]
     },
     "execution_count": 69,
     "metadata": {},
     "output_type": "execute_result"
    }
   ],
   "source": [
    "probs[:,1]"
   ]
  },
  {
   "cell_type": "code",
   "execution_count": 70,
   "metadata": {},
   "outputs": [],
   "source": [
    "from sklearn.metrics import roc_auc_score"
   ]
  },
  {
   "cell_type": "code",
   "execution_count": 73,
   "metadata": {},
   "outputs": [
    {
     "data": {
      "text/plain": [
       "(700, 2)"
      ]
     },
     "execution_count": 73,
     "metadata": {},
     "output_type": "execute_result"
    }
   ],
   "source": [
    "\n"
   ]
  },
  {
   "cell_type": "code",
   "execution_count": null,
   "metadata": {},
   "outputs": [],
   "source": []
  }
 ],
 "metadata": {
  "kernelspec": {
   "display_name": "Python 3",
   "language": "python",
   "name": "python3"
  },
  "language_info": {
   "codemirror_mode": {
    "name": "ipython",
    "version": 3
   },
   "file_extension": ".py",
   "mimetype": "text/x-python",
   "name": "python",
   "nbconvert_exporter": "python",
   "pygments_lexer": "ipython3",
   "version": "3.7.4"
  }
 },
 "nbformat": 4,
 "nbformat_minor": 2
}
