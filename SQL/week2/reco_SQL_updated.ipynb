{
 "cells": [
  {
   "cell_type": "code",
   "execution_count": 1,
   "metadata": {
    "ExecuteTime": {
     "end_time": "2020-06-19T14:09:54.289729Z",
     "start_time": "2020-06-19T14:09:54.283249Z"
    }
   },
   "outputs": [],
   "source": [
    "#!pip install scikit-surprise "
   ]
  },
  {
   "cell_type": "markdown",
   "metadata": {},
   "source": [
    "If the above code does not work for you please run the below code in anaconda prompt to install the surprise package:\n",
    "\n",
    "**conda install -c conda-forge scikit-surprise**\n"
   ]
  },
  {
   "cell_type": "code",
   "execution_count": 2,
   "metadata": {
    "ExecuteTime": {
     "end_time": "2020-06-19T14:09:57.066317Z",
     "start_time": "2020-06-19T14:09:54.527687Z"
    },
    "colab": {},
    "colab_type": "code",
    "id": "-hKEKfR0fZyh"
   },
   "outputs": [],
   "source": [
    "import numpy as np\n",
    "import pandas as pd\n",
    "import seaborn as sns\n",
    "import matplotlib.pyplot as plt\n",
    "import surprise\n",
    "from surprise import SVD, accuracy"
   ]
  },
  {
   "cell_type": "code",
   "execution_count": 3,
   "metadata": {
    "ExecuteTime": {
     "end_time": "2020-06-19T14:09:57.260000Z",
     "start_time": "2020-06-19T14:09:57.066317Z"
    },
    "colab": {},
    "colab_type": "code",
    "id": "pFuK7uH6fxKg"
   },
   "outputs": [],
   "source": [
    "from sqlalchemy import create_engine"
   ]
  },
  {
   "cell_type": "code",
   "execution_count": 4,
   "metadata": {
    "ExecuteTime": {
     "end_time": "2020-06-19T14:09:57.308019Z",
     "start_time": "2020-06-19T14:09:57.288377Z"
    },
    "colab": {},
    "colab_type": "code",
    "id": "Rh8Gi8I_f3ai"
   },
   "outputs": [],
   "source": [
    "engine=create_engine('sqlite:///C:\\\\SQLite\\\\recommendation.db')"
   ]
  },
  {
   "cell_type": "code",
   "execution_count": 5,
   "metadata": {
    "ExecuteTime": {
     "end_time": "2020-06-19T14:09:57.382138Z",
     "start_time": "2020-06-19T14:09:57.327843Z"
    },
    "colab": {},
    "colab_type": "code",
    "id": "2_kUNzZBf7ya"
   },
   "outputs": [],
   "source": [
    "con=engine.connect()"
   ]
  },
  {
   "cell_type": "code",
   "execution_count": 6,
   "metadata": {
    "ExecuteTime": {
     "end_time": "2020-06-19T14:09:57.493355Z",
     "start_time": "2020-06-19T14:09:57.386128Z"
    },
    "colab": {
     "base_uri": "https://localhost:8080/",
     "height": 204
    },
    "colab_type": "code",
    "id": "UC5MJ2YDf5oO",
    "outputId": "174a6b34-a0de-4cc0-c8e0-4d04738e3332"
   },
   "outputs": [
    {
     "data": {
      "text/html": [
       "<div>\n",
       "<style scoped>\n",
       "    .dataframe tbody tr th:only-of-type {\n",
       "        vertical-align: middle;\n",
       "    }\n",
       "\n",
       "    .dataframe tbody tr th {\n",
       "        vertical-align: top;\n",
       "    }\n",
       "\n",
       "    .dataframe thead th {\n",
       "        text-align: right;\n",
       "    }\n",
       "</style>\n",
       "<table border=\"1\" class=\"dataframe\">\n",
       "  <thead>\n",
       "    <tr style=\"text-align: right;\">\n",
       "      <th></th>\n",
       "      <th>userID</th>\n",
       "      <th>placeID</th>\n",
       "      <th>rating</th>\n",
       "    </tr>\n",
       "  </thead>\n",
       "  <tbody>\n",
       "    <tr>\n",
       "      <td>0</td>\n",
       "      <td>U1077</td>\n",
       "      <td>135085</td>\n",
       "      <td>2</td>\n",
       "    </tr>\n",
       "    <tr>\n",
       "      <td>1</td>\n",
       "      <td>U1077</td>\n",
       "      <td>135038</td>\n",
       "      <td>2</td>\n",
       "    </tr>\n",
       "    <tr>\n",
       "      <td>2</td>\n",
       "      <td>U1077</td>\n",
       "      <td>132825</td>\n",
       "      <td>2</td>\n",
       "    </tr>\n",
       "    <tr>\n",
       "      <td>3</td>\n",
       "      <td>U1077</td>\n",
       "      <td>135060</td>\n",
       "      <td>1</td>\n",
       "    </tr>\n",
       "    <tr>\n",
       "      <td>4</td>\n",
       "      <td>U1068</td>\n",
       "      <td>135104</td>\n",
       "      <td>1</td>\n",
       "    </tr>\n",
       "  </tbody>\n",
       "</table>\n",
       "</div>"
      ],
      "text/plain": [
       "  userID  placeID  rating\n",
       "0  U1077   135085       2\n",
       "1  U1077   135038       2\n",
       "2  U1077   132825       2\n",
       "3  U1077   135060       1\n",
       "4  U1068   135104       1"
      ]
     },
     "execution_count": 6,
     "metadata": {},
     "output_type": "execute_result"
    }
   ],
   "source": [
    "con=engine.connect()\n",
    "data=pd.read_sql_query(\"Select * from rating\", engine)\n",
    "data.head()"
   ]
  },
  {
   "cell_type": "code",
   "execution_count": 7,
   "metadata": {
    "ExecuteTime": {
     "end_time": "2020-06-19T14:09:57.551652Z",
     "start_time": "2020-06-19T14:09:57.500487Z"
    },
    "colab": {
     "base_uri": "https://localhost:8080/",
     "height": 34
    },
    "colab_type": "code",
    "id": "tpLRVzwLh2_M",
    "outputId": "c1a99c38-42a8-40fc-fcd3-36f3bea0ea87"
   },
   "outputs": [
    {
     "data": {
      "text/plain": [
       "138"
      ]
     },
     "execution_count": 7,
     "metadata": {},
     "output_type": "execute_result"
    }
   ],
   "source": [
    "data['userID'].nunique()"
   ]
  },
  {
   "cell_type": "code",
   "execution_count": 8,
   "metadata": {
    "ExecuteTime": {
     "end_time": "2020-06-19T14:09:57.744018Z",
     "start_time": "2020-06-19T14:09:57.552993Z"
    },
    "colab": {
     "base_uri": "https://localhost:8080/",
     "height": 34
    },
    "colab_type": "code",
    "id": "bCy79QDch7bG",
    "outputId": "156ef75e-125b-46d7-d0fd-fcb6834b41db"
   },
   "outputs": [
    {
     "data": {
      "text/plain": [
       "130"
      ]
     },
     "execution_count": 8,
     "metadata": {},
     "output_type": "execute_result"
    }
   ],
   "source": [
    "data['placeID'].nunique()"
   ]
  },
  {
   "cell_type": "code",
   "execution_count": 9,
   "metadata": {
    "ExecuteTime": {
     "end_time": "2020-06-19T14:09:57.831558Z",
     "start_time": "2020-06-19T14:09:57.747391Z"
    },
    "colab": {
     "base_uri": "https://localhost:8080/",
     "height": 85
    },
    "colab_type": "code",
    "id": "_7YNOb3Bh8qB",
    "outputId": "01f1985e-1a21-4f7b-b6b3-5aa10003bd21"
   },
   "outputs": [
    {
     "data": {
      "text/plain": [
       "2    486\n",
       "1    421\n",
       "0    254\n",
       "Name: rating, dtype: int64"
      ]
     },
     "execution_count": 9,
     "metadata": {},
     "output_type": "execute_result"
    }
   ],
   "source": [
    "data.rating.value_counts()"
   ]
  },
  {
   "cell_type": "code",
   "execution_count": 10,
   "metadata": {
    "ExecuteTime": {
     "end_time": "2020-06-19T14:09:58.051900Z",
     "start_time": "2020-06-19T14:09:57.833872Z"
    },
    "colab": {
     "base_uri": "https://localhost:8080/",
     "height": 248
    },
    "colab_type": "code",
    "id": "0lrTDh_th90N",
    "outputId": "d8214e60-3456-4c90-c5c5-7fc2189ee3e5"
   },
   "outputs": [
    {
     "data": {
      "image/png": "[encoded data removed]",
      "text/plain": [
       "<Figure size 432x288 with 1 Axes>"
      ]
     },
     "metadata": {},
     "output_type": "display_data"
    }
   ],
   "source": [
    "data.rating.value_counts().plot(kind='pie')\n",
    "plt.show()"
   ]
  },
  {
   "cell_type": "code",
   "execution_count": 11,
   "metadata": {
    "ExecuteTime": {
     "end_time": "2020-06-19T14:09:58.077124Z",
     "start_time": "2020-06-19T14:09:58.051900Z"
    },
    "colab": {
     "base_uri": "https://localhost:8080/",
     "height": 187
    },
    "colab_type": "code",
    "id": "l4JZwGGBh_gu",
    "outputId": "d32ffc9e-64d0-41f3-d8e0-3d6a4d133174"
   },
   "outputs": [
    {
     "name": "stdout",
     "output_type": "stream",
     "text": [
      "<class 'pandas.core.frame.DataFrame'>\n",
      "RangeIndex: 1161 entries, 0 to 1160\n",
      "Data columns (total 3 columns):\n",
      "userID     1161 non-null object\n",
      "placeID    1161 non-null int64\n",
      "rating     1161 non-null int64\n",
      "dtypes: int64(2), object(1)\n",
      "memory usage: 27.3+ KB\n"
     ]
    }
   ],
   "source": [
    "data.info()"
   ]
  },
  {
   "cell_type": "code",
   "execution_count": 12,
   "metadata": {
    "ExecuteTime": {
     "end_time": "2020-06-19T14:09:58.226554Z",
     "start_time": "2020-06-19T14:09:58.078474Z"
    },
    "colab": {
     "base_uri": "https://localhost:8080/",
     "height": 85
    },
    "colab_type": "code",
    "id": "Q3yHe_TGiBeL",
    "outputId": "d5f8170d-2481-4d07-bb16-6bebb5c9f888"
   },
   "outputs": [
    {
     "data": {
      "text/plain": [
       "userID     0\n",
       "placeID    0\n",
       "rating     0\n",
       "dtype: int64"
      ]
     },
     "execution_count": 12,
     "metadata": {},
     "output_type": "execute_result"
    }
   ],
   "source": [
    "data.isnull().sum()"
   ]
  },
  {
   "cell_type": "code",
   "execution_count": 13,
   "metadata": {
    "ExecuteTime": {
     "end_time": "2020-06-19T14:09:58.304015Z",
     "start_time": "2020-06-19T14:09:58.228236Z"
    },
    "colab": {},
    "colab_type": "code",
    "id": "Ac2iMihqiCvX"
   },
   "outputs": [],
   "source": [
    "data = data[['userID', 'placeID', 'rating']]"
   ]
  },
  {
   "cell_type": "code",
   "execution_count": 14,
   "metadata": {
    "ExecuteTime": {
     "end_time": "2020-06-19T14:09:58.398584Z",
     "start_time": "2020-06-19T14:09:58.307599Z"
    },
    "colab": {
     "base_uri": "https://localhost:8080/",
     "height": 204
    },
    "colab_type": "code",
    "id": "7IqasjWNiENr",
    "outputId": "9cbea343-6fe2-47f4-f0bb-69226158f20a"
   },
   "outputs": [
    {
     "data": {
      "text/html": [
       "<div>\n",
       "<style scoped>\n",
       "    .dataframe tbody tr th:only-of-type {\n",
       "        vertical-align: middle;\n",
       "    }\n",
       "\n",
       "    .dataframe tbody tr th {\n",
       "        vertical-align: top;\n",
       "    }\n",
       "\n",
       "    .dataframe thead th {\n",
       "        text-align: right;\n",
       "    }\n",
       "</style>\n",
       "<table border=\"1\" class=\"dataframe\">\n",
       "  <thead>\n",
       "    <tr style=\"text-align: right;\">\n",
       "      <th></th>\n",
       "      <th>userID</th>\n",
       "      <th>placeID</th>\n",
       "      <th>rating</th>\n",
       "    </tr>\n",
       "  </thead>\n",
       "  <tbody>\n",
       "    <tr>\n",
       "      <td>0</td>\n",
       "      <td>U1077</td>\n",
       "      <td>135085</td>\n",
       "      <td>2</td>\n",
       "    </tr>\n",
       "    <tr>\n",
       "      <td>1</td>\n",
       "      <td>U1077</td>\n",
       "      <td>135038</td>\n",
       "      <td>2</td>\n",
       "    </tr>\n",
       "    <tr>\n",
       "      <td>2</td>\n",
       "      <td>U1077</td>\n",
       "      <td>132825</td>\n",
       "      <td>2</td>\n",
       "    </tr>\n",
       "    <tr>\n",
       "      <td>3</td>\n",
       "      <td>U1077</td>\n",
       "      <td>135060</td>\n",
       "      <td>1</td>\n",
       "    </tr>\n",
       "    <tr>\n",
       "      <td>4</td>\n",
       "      <td>U1068</td>\n",
       "      <td>135104</td>\n",
       "      <td>1</td>\n",
       "    </tr>\n",
       "  </tbody>\n",
       "</table>\n",
       "</div>"
      ],
      "text/plain": [
       "  userID  placeID  rating\n",
       "0  U1077   135085       2\n",
       "1  U1077   135038       2\n",
       "2  U1077   132825       2\n",
       "3  U1077   135060       1\n",
       "4  U1068   135104       1"
      ]
     },
     "execution_count": 14,
     "metadata": {},
     "output_type": "execute_result"
    }
   ],
   "source": [
    "data.head()"
   ]
  },
  {
   "cell_type": "code",
   "execution_count": 15,
   "metadata": {
    "ExecuteTime": {
     "end_time": "2020-06-19T14:09:58.477557Z",
     "start_time": "2020-06-19T14:09:58.399586Z"
    },
    "colab": {},
    "colab_type": "code",
    "id": "hmzkiH7diFXn"
   },
   "outputs": [],
   "source": [
    "from surprise import Reader, Dataset\n",
    "reader = Reader()\n",
    "data = Dataset.load_from_df(data[['userID', 'placeID', 'rating']], reader)"
   ]
  },
  {
   "cell_type": "code",
   "execution_count": 16,
   "metadata": {
    "ExecuteTime": {
     "end_time": "2020-06-19T14:09:58.564766Z",
     "start_time": "2020-06-19T14:09:58.477557Z"
    },
    "colab": {},
    "colab_type": "code",
    "id": "IgQWz2aLiHmL"
   },
   "outputs": [],
   "source": [
    "from surprise.model_selection import train_test_split\n",
    "\n",
    "trainset, testset = train_test_split(data, test_size=0.25,random_state=1)"
   ]
  },
  {
   "cell_type": "code",
   "execution_count": 17,
   "metadata": {
    "ExecuteTime": {
     "end_time": "2020-06-19T14:09:58.756763Z",
     "start_time": "2020-06-19T14:09:58.564766Z"
    },
    "colab": {
     "base_uri": "https://localhost:8080/",
     "height": 34
    },
    "colab_type": "code",
    "id": "oB8IBUYeiUKg",
    "outputId": "87a44a91-c78d-4f0f-da3e-7b7295be7687"
   },
   "outputs": [
    {
     "data": {
      "text/plain": [
       "<surprise.prediction_algorithms.matrix_factorization.SVD at 0x1c1a66fee08>"
      ]
     },
     "execution_count": 17,
     "metadata": {},
     "output_type": "execute_result"
    }
   ],
   "source": [
    "# we'll use the SVD algorithm\n",
    "algo=SVD(random_state=1)\n",
    "# Train the algorithm on the trainset, and predict ratings for the testset\n",
    "algo.fit(trainset)"
   ]
  },
  {
   "cell_type": "code",
   "execution_count": 18,
   "metadata": {
    "ExecuteTime": {
     "end_time": "2020-06-19T14:09:58.769561Z",
     "start_time": "2020-06-19T14:09:58.760718Z"
    },
    "colab": {},
    "colab_type": "code",
    "id": "idMAOf6XiZug"
   },
   "outputs": [],
   "source": [
    "predictions = algo.test(testset)"
   ]
  },
  {
   "cell_type": "code",
   "execution_count": 19,
   "metadata": {
    "ExecuteTime": {
     "end_time": "2020-06-19T14:09:58.852390Z",
     "start_time": "2020-06-19T14:09:58.770558Z"
    },
    "colab": {
     "base_uri": "https://localhost:8080/",
     "height": 51
    },
    "colab_type": "code",
    "id": "lpGHJRmSihmS",
    "outputId": "0ee2de69-9d5b-4026-f9cc-a4c65b8ee695"
   },
   "outputs": [
    {
     "name": "stdout",
     "output_type": "stream",
     "text": [
      "RMSE: 0.7340\n"
     ]
    },
    {
     "data": {
      "text/plain": [
       "0.7339830043332856"
      ]
     },
     "execution_count": 19,
     "metadata": {},
     "output_type": "execute_result"
    }
   ],
   "source": [
    "accuracy.rmse(predictions)"
   ]
  },
  {
   "cell_type": "code",
   "execution_count": 20,
   "metadata": {
    "ExecuteTime": {
     "end_time": "2020-06-19T14:09:58.935093Z",
     "start_time": "2020-06-19T14:09:58.857533Z"
    },
    "colab": {
     "base_uri": "https://localhost:8080/",
     "height": 34
    },
    "colab_type": "code",
    "id": "dqqxJ8hFilfs",
    "outputId": "18da32b4-2686-4053-b10b-dc8d95772517"
   },
   "outputs": [
    {
     "data": {
      "text/plain": [
       "<surprise.trainset.Trainset at 0x1c1a669b588>"
      ]
     },
     "execution_count": 20,
     "metadata": {},
     "output_type": "execute_result"
    }
   ],
   "source": [
    "trainset"
   ]
  },
  {
   "cell_type": "code",
   "execution_count": 21,
   "metadata": {
    "ExecuteTime": {
     "end_time": "2020-06-19T14:09:59.043223Z",
     "start_time": "2020-06-19T14:09:58.939876Z"
    },
    "colab": {},
    "colab_type": "code",
    "id": "ht6K2Qd0iuNu"
   },
   "outputs": [],
   "source": [
    "from collections import defaultdict"
   ]
  },
  {
   "cell_type": "code",
   "execution_count": 22,
   "metadata": {
    "ExecuteTime": {
     "end_time": "2020-06-19T14:09:59.202885Z",
     "start_time": "2020-06-19T14:09:59.051712Z"
    },
    "colab": {},
    "colab_type": "code",
    "id": "QFaEeD0ci0Ly"
   },
   "outputs": [],
   "source": [
    "def get_top_n(predictions, n=10):\n",
    "\n",
    "  top_n = defaultdict(list)\n",
    "  for uid, iid, true_r, est, _ in predictions:\n",
    "    top_n[uid].append((iid,est))\n",
    "\n",
    "  # then sort the predictions for user and retrieve the highest ones.\n",
    "  for uid, user_ratings in top_n.items():\n",
    "    user_ratings.sort(key=lambda x: x[1], reverse=True)\n",
    "    top_n[uid] = user_ratings[:n]\n",
    "\n",
    "    return top_n"
   ]
  },
  {
   "cell_type": "code",
   "execution_count": 23,
   "metadata": {
    "ExecuteTime": {
     "end_time": "2020-06-19T14:09:59.288483Z",
     "start_time": "2020-06-19T14:09:59.211527Z"
    },
    "colab": {},
    "colab_type": "code",
    "id": "DZaZdSb2j0iv"
   },
   "outputs": [],
   "source": [
    "top_n = get_top_n(predictions, n=10)"
   ]
  },
  {
   "cell_type": "code",
   "execution_count": 24,
   "metadata": {
    "ExecuteTime": {
     "end_time": "2020-06-19T14:09:59.405729Z",
     "start_time": "2020-06-19T14:09:59.292231Z"
    },
    "colab": {
     "base_uri": "https://localhost:8080/",
     "height": 1000
    },
    "colab_type": "code",
    "id": "Ahe176irkLIl",
    "outputId": "957ccf85-6d0c-4275-92f5-52330bab5054"
   },
   "outputs": [
    {
     "data": {
      "text/plain": [
       "defaultdict(list,\n",
       "            {'U1091': [(132861, 1.298472655690371),\n",
       "              (135035, 1.2544623389410188)],\n",
       "             'U1097': [(132884, 1.5725096265976681),\n",
       "              (132955, 1.7375435056951984),\n",
       "              (135086, 1.4064033904826367)],\n",
       "             'U1061': [(132572, 1.2553085481826476),\n",
       "              (135075, 1.503068419903327),\n",
       "              (132723, 1.5097124774970947),\n",
       "              (135048, 1.468045705602869),\n",
       "              (132955, 1.7306532332177835)],\n",
       "             'U1099': [(132834, 1),\n",
       "              (135060, 1),\n",
       "              (132872, 1),\n",
       "              (135043, 1),\n",
       "              (135042, 1.1675624709747903)],\n",
       "             'U1003': [(132754, 1.3068466854020924),\n",
       "              (135075, 1.3769434195307761),\n",
       "              (132922, 1.31499465104694),\n",
       "              (132937, 1.2004653990472522)],\n",
       "             'U1038': [(132858, 1.2692340912632434),\n",
       "              (132854, 1.3086230349296653),\n",
       "              (132861, 1.2165788730337734)],\n",
       "             'U1060': [(132564, 1.2282401899131041),\n",
       "              (132717, 1.1991770529790886)],\n",
       "             'U1013': [(135079, 1.3586402124350365),\n",
       "              (135075, 1.4974017078436441),\n",
       "              (132951, 1.320161924660861),\n",
       "              (132572, 1)],\n",
       "             'U1120': [(135045, 1.4441353449298138),\n",
       "              (135085, 1.4060006681968642)],\n",
       "             'U1062': [(135053, 1), (132834, 1)],\n",
       "             'U1018': [(135069, 1), (135062, 1), (135108, 1.0559842782837596)],\n",
       "             'U1075': [(135041, 1.3559750342251207),\n",
       "              (135032, 1.297663472508842)],\n",
       "             'U1106': [(132834, 1),\n",
       "              (135042, 1.3953898819953052),\n",
       "              (132862, 1.3303644343127574),\n",
       "              (135028, 1.7466748909799554),\n",
       "              (135041, 1.0247235815637654),\n",
       "              (135062, 1.4155524021838561),\n",
       "              (135047, 1.2721191697104242)],\n",
       "             'U1022': [(135051, 1.5841748577582313),\n",
       "              (135057, 1.2266789084853016),\n",
       "              (135025, 1.7534782050723992),\n",
       "              (135081, 1.1877882144847638),\n",
       "              (135060, 1.1729891927096803)],\n",
       "             'U1037': [(132845, 1.3635500498804933),\n",
       "              (132847, 1.3326347535138874),\n",
       "              (132851, 1.2910238398086809),\n",
       "              (132854, 1.149655310387447)],\n",
       "             'U1025': [(132846, 1.4337172648818002),\n",
       "              (135064, 1.2275506000587308),\n",
       "              (132877, 1.0253108809305767)],\n",
       "             'U1117': [(135088, 1.2597271502158802),\n",
       "              (132773, 1.2587601046062615),\n",
       "              (132766, 1.416957390192091)],\n",
       "             'U1082': [(132613, 1.065542759129322), (132732, 1), (132733, 1)],\n",
       "             'U1009': [(135060, 1.1642714848905074),\n",
       "              (135079, 1.2605231785600166),\n",
       "              (135052, 1.233252943259788)],\n",
       "             'U1085': [(135059, 1.4842261773423633),\n",
       "              (132825, 1.2427725629733242),\n",
       "              (135055, 1.6057204062705148),\n",
       "              (135042, 1.4643644979290555)],\n",
       "             'U1058': [(135053, 1.3941617858951012),\n",
       "              (135062, 1.5451991843804491),\n",
       "              (135055, 1.5395824602743318)],\n",
       "             'U1050': [(132560, 1),\n",
       "              (132584, 1.1548296268765343),\n",
       "              (132609, 1),\n",
       "              (132740, 1)],\n",
       "             'U1048': [(132755, 1.598952209784311),\n",
       "              (135065, 1.2958039835406245),\n",
       "              (135048, 1.2505174083860657)],\n",
       "             'U1132': [(135051, 1.8412148675558817),\n",
       "              (135028, 1.7958289461487646),\n",
       "              (135025, 1.9095793687552483)],\n",
       "             'U1010': [(135076, 1.2147536601659183), (135042, 1)],\n",
       "             'U1043': [(132608, 1.0493838041652066),\n",
       "              (132630, 1.2434679125422765)],\n",
       "             'U1095': [(135058, 1.3649460051199214),\n",
       "              (135072, 1.3345177151285945)],\n",
       "             'U1016': [(135042, 1.8449284133051245),\n",
       "              (132862, 1.87451584452704),\n",
       "              (132856, 1.4026076862097476)],\n",
       "             'U1081': [(132825, 1),\n",
       "              (135085, 1.1887267081314907),\n",
       "              (135028, 1.238334575476794),\n",
       "              (135032, 1)],\n",
       "             'U1027': [(135042, 1.3055907357289842),\n",
       "              (135066, 1.2606990203349036),\n",
       "              (135052, 1.006621560337818)],\n",
       "             'U1023': [(132733, 1.0116837237132383),\n",
       "              (132740, 1.0102417477810315)],\n",
       "             'U1115': [(135108, 1.1979505655212392),\n",
       "              (135071, 1.2462325982322933)],\n",
       "             'U1055': [(135106, 1.5339877505417792),\n",
       "              (132825, 1.539189125049085),\n",
       "              (135051, 1.7134464076119647),\n",
       "              (132572, 1.2842016595460701),\n",
       "              (135028, 1.5191560238127835)],\n",
       "             'U1032': [(135042, 1.4006368306957282)],\n",
       "             'U1126': [(132830, 1),\n",
       "              (135041, 1.0182787828431317),\n",
       "              (135108, 1.1794860595107812),\n",
       "              (135057, 1.1414673984801909)],\n",
       "             'U1112': [(135026, 1)],\n",
       "             'U1072': [(135016, 1)],\n",
       "             'U1063': [(132609, 1.0886927554703996),\n",
       "              (132660, 1.3100139571676026)],\n",
       "             'U1137': [(132951, 1.502113626734817),\n",
       "              (132825, 1.6499346818973202),\n",
       "              (132834, 1.2527297570990497)],\n",
       "             'U1123': [(132584, 1.4016382212239946),\n",
       "              (132740, 1.1817341099108296),\n",
       "              (132594, 1),\n",
       "              (132733, 1.3050510378878317)],\n",
       "             'U1092': [(135046, 1.0838478308998705),\n",
       "              (132723, 1.4171963849571592),\n",
       "              (135071, 1.0314059069924453)],\n",
       "             'U1040': [(135013, 1.3316787803431487)],\n",
       "             'U1122': [(135058, 1.492048258536401), (135064, 1.3404122087353)],\n",
       "             'U1113': [(135057, 1.166673843127566),\n",
       "              (135032, 1.00797174796908),\n",
       "              (132856, 1)],\n",
       "             'U1094': [(135108, 1)],\n",
       "             'U1134': [(135046, 1.2991245298274596),\n",
       "              (135026, 1.4990892915704794),\n",
       "              (132825, 1.5726976914641515),\n",
       "              (135080, 1.483683319881103),\n",
       "              (135044, 1.431752803826631)],\n",
       "             'U1119': [(135021, 1.6736259234275201)],\n",
       "             'U1001': [(135039, 1.1136561582454971), (135040, 1)],\n",
       "             'U1006': [(132954, 1.2327337449077596),\n",
       "              (135079, 1.2524109574319355)],\n",
       "             'U1056': [(135066, 1.6351360347895698),\n",
       "              (135081, 1.4021776073497414)],\n",
       "             'U1014': [(135042, 1.4354653322105717),\n",
       "              (135043, 1.127825416666733)],\n",
       "             'U1135': [(135042, 1),\n",
       "              (135045, 1),\n",
       "              (135106, 1),\n",
       "              (132834, 1),\n",
       "              (135063, 1),\n",
       "              (135085, 1),\n",
       "              (135028, 1.0380951554627238)],\n",
       "             'U1101': [(135106, 1.650787076377442),\n",
       "              (135041, 1.4757404915631238)],\n",
       "             'U1033': [(135045, 1.6637486430589268),\n",
       "              (135075, 1.6011594768070163),\n",
       "              (135038, 1.6222495046129195)],\n",
       "             'U1111': [(132869, 1.3452804326112484),\n",
       "              (132854, 1.2103251346692179),\n",
       "              (132847, 1.3254534778931384),\n",
       "              (132858, 1.222383266647791)],\n",
       "             'U1071': [(135052, 1.582378073237734),\n",
       "              (135030, 1.633307031715036),\n",
       "              (135032, 1.4217355479515499),\n",
       "              (132856, 1.1260043028830158),\n",
       "              (132825, 1.4388687520868368)],\n",
       "             'U1020': [(135109, 1.260349507296322)],\n",
       "             'U1074': [(135011, 1.350788302870596)],\n",
       "             'U1064': [(135060, 1.0448660449416707),\n",
       "              (135042, 1.2601621598892743)],\n",
       "             'U1069': [(132851, 1), (132845, 1), (135069, 1)],\n",
       "             'U1035': [(132773, 1.464274423960227),\n",
       "              (134986, 1.6057998903833433)],\n",
       "             'U1059': [(135044, 1.31326784005942),\n",
       "              (135085, 1.5081067316819343)],\n",
       "             'U1087': [(132660, 1.2863323303411363),\n",
       "              (132667, 1.0630084498586854)],\n",
       "             'U1002': [(132862, 1.3334654713341418),\n",
       "              (135062, 1.2538688085465055),\n",
       "              (132921, 1.4592400550979416)],\n",
       "             'U1136': [(135074, 1.6290802352421048),\n",
       "              (135072, 1.437296707819432),\n",
       "              (132958, 1.5001413257246021)],\n",
       "             'U1030': [(135088, 1)],\n",
       "             'U1019': [(135086, 1), (132834, 1), (132830, 1)],\n",
       "             'U1093': [(135001, 1.4641263750970646),\n",
       "              (135019, 1.4981357916075377)],\n",
       "             'U1088': [(135071, 1.3911551235993915),\n",
       "              (135057, 1.35954244210921),\n",
       "              (135108, 1.2127259415325573),\n",
       "              (135032, 1.2748261947396542)],\n",
       "             'U1051': [(132768, 1.4925396646231512),\n",
       "              (134996, 1.4037422922993312)],\n",
       "             'U1096': [(135055, 1.4372462848443779),\n",
       "              (135086, 1),\n",
       "              (135026, 1.2074042855143987),\n",
       "              (132875, 1.2400282166353782)],\n",
       "             'U1065': [(132626, 1.098405336800099), (132654, 1), (132706, 1)],\n",
       "             'U1034': [(135055, 1.2375639356150558), (135049, 1)],\n",
       "             'U1127': [(134996, 1.5945562132454338)],\n",
       "             'U1124': [(135050, 1.464929407779142),\n",
       "              (135081, 1.0828773985587472),\n",
       "              (135057, 1.3318609957018384)],\n",
       "             'U1024': [(135032, 1), (135038, 1.0886438544560084)],\n",
       "             'U1012': [(135018, 1.4738387570709195)],\n",
       "             'U1068': [(132594, 1)],\n",
       "             'U1138': [(132922, 1.4489700324320307),\n",
       "              (132925, 1.226048313985517)],\n",
       "             'U1049': [(135032, 1), (135051, 1), (132921, 1), (135085, 1)],\n",
       "             'U1015': [(132866, 1.2243630362190818)],\n",
       "             'U1133': [(134983, 1.1530130964754748)],\n",
       "             'U1107': [(132584, 1.3990670438393071),\n",
       "              (132733, 1.4839066332202282)],\n",
       "             'U1008': [(135054, 1.178745991677957),\n",
       "              (132851, 1.2581998287185419),\n",
       "              (135069, 1)],\n",
       "             'U1007': [(135058, 1.0536163840688924),\n",
       "              (135025, 1.6018956985590531)],\n",
       "             'U1039': [(132626, 1.1104645948848355)],\n",
       "             'U1104': [(135052, 1.3456711787441973),\n",
       "              (135030, 1.3412836035623092)],\n",
       "             'U1031': [(132665, 1)],\n",
       "             'U1100': [(135000, 1.1973270607654363)],\n",
       "             'U1070': [(132608, 1)],\n",
       "             'U1089': [(135026, 1.1397542419619513)],\n",
       "             'U1130': [(132561, 1.0770510407016058)],\n",
       "             'U1054': [(135060, 1.5071255324625468),\n",
       "              (135041, 1.5609105456139454)],\n",
       "             'U1045': [(135064, 1.2390144993975212)],\n",
       "             'U1084': [(135058, 1.3554105639044407),\n",
       "              (135085, 1.757693901024349)],\n",
       "             'U1090': [(132862, 1.2554534253629988),\n",
       "              (132572, 1.458313711567393),\n",
       "              (135085, 1.5198494847375135)],\n",
       "             'U1083': [(135046, 1.2957817893683294),\n",
       "              (135074, 1.3631765043259843)],\n",
       "             'U1005': [(132830, 1.343284735052024),\n",
       "              (135057, 1.3419908124577946)],\n",
       "             'U1057': [(135064, 1)],\n",
       "             'U1036': [(135025, 1.9268463165085612),\n",
       "              (135085, 1.8062579282252758),\n",
       "              (135065, 1.5628322622492847)],\n",
       "             'U1103': [(132663, 1.023833222316601),\n",
       "              (135104, 1.1536406209268624),\n",
       "              (132584, 1.2949344789423893)],\n",
       "             'U1109': [(135038, 1.6526348400945858),\n",
       "              (132825, 1.4639252728732632)],\n",
       "             'U1086': [(132921, 1.6923777054821623),\n",
       "              (132922, 1.5071038854703451)],\n",
       "             'U1076': [(135039, 1.4184304105684766),\n",
       "              (135027, 1.1681154325102807)],\n",
       "             'U1053': [(135076, 1.5082864481439928),\n",
       "              (135060, 1.5962337487354443)],\n",
       "             'U1121': [(135021, 1.7214539281137768),\n",
       "              (134999, 1.4496409453256176)],\n",
       "             'U1110': [(134999, 1.384479061182916),\n",
       "              (135021, 1.696843182636828)],\n",
       "             'U1114': [(132872, 1), (132825, 1), (132755, 1)],\n",
       "             'U1073': [(132951, 1)],\n",
       "             'U1029': [(132921, 1.2615154097599526)],\n",
       "             'U1044': [(134986, 1.4824572050432103)],\n",
       "             'U1131': [(132870, 1.0598297528624847),\n",
       "              (132866, 1.287697409754697)],\n",
       "             'U1066': [(134999, 1.3898126487090787)],\n",
       "             'U1028': [(132740, 1)],\n",
       "             'U1041': [(134983, 1.4876534743128258)],\n",
       "             'U1004': [(132954, 1.521080550460574),\n",
       "              (135032, 1.4192633388927558)],\n",
       "             'U1118': [(132768, 1.3061930099503571)],\n",
       "             'U1098': [(135079, 1.261432057269968)],\n",
       "             'U1079': [(132768, 1.450500432143627)],\n",
       "             'U1080': [(132564, 1.2705505021694323)],\n",
       "             'U1128': [(135053, 1)],\n",
       "             'U1047': [(132884, 1.0550841590760642)],\n",
       "             'U1105': [(132830, 1)],\n",
       "             'U1026': [(132665, 1.0555631692391685)]})"
      ]
     },
     "execution_count": 24,
     "metadata": {},
     "output_type": "execute_result"
    }
   ],
   "source": [
    "top_n"
   ]
  }
 ],
 "metadata": {
  "colab": {
   "name": "reco_SQL.ipynb",
   "provenance": []
  },
  "kernelspec": {
   "display_name": "Python 3",
   "language": "python",
   "name": "python3"
  },
  "language_info": {
   "codemirror_mode": {
    "name": "ipython",
    "version": 3
   },
   "file_extension": ".py",
   "mimetype": "text/x-python",
   "name": "python",
   "nbconvert_exporter": "python",
   "pygments_lexer": "ipython3",
   "version": "3.7.4"
  },
  "toc": {
   "base_numbering": 1,
   "nav_menu": {},
   "number_sections": true,
   "sideBar": true,
   "skip_h1_title": false,
   "title_cell": "Table of Contents",
   "title_sidebar": "Contents",
   "toc_cell": false,
   "toc_position": {},
   "toc_section_display": true,
   "toc_window_display": false
  },
  "varInspector": {
   "cols": {
    "lenName": 16,
    "lenType": 16,
    "lenVar": 40
   },
   "kernels_config": {
    "python": {
     "delete_cmd_postfix": "",
     "delete_cmd_prefix": "del ",
     "library": "var_list.py",
     "varRefreshCmd": "print(var_dic_list())"
    },
    "r": {
     "delete_cmd_postfix": ") ",
     "delete_cmd_prefix": "rm(",
     "library": "var_list.r",
     "varRefreshCmd": "cat(var_dic_list()) "
    }
   },
   "types_to_exclude": [
    "module",
    "function",
    "builtin_function_or_method",
    "instance",
    "_Feature"
   ],
   "window_display": false
  }
 },
 "nbformat": 4,
 "nbformat_minor": 1
}
