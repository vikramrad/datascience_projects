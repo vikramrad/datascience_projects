{
 "cells": [
  {
   "cell_type": "code",
   "execution_count": 78,
   "metadata": {},
   "outputs": [],
   "source": [
    "import numpy as np \n",
    "import pandas as pd \n",
    "import re\n",
    "import nltk \n",
    "import matplotlib.pyplot as plt\n",
    "%matplotlib inline"
   ]
  },
  {
   "cell_type": "code",
   "execution_count": 79,
   "metadata": {},
   "outputs": [],
   "source": [
    "comments = pd.read_csv(\"Youtube04-Eminem.csv\")"
   ]
  },
  {
   "cell_type": "code",
   "execution_count": 80,
   "metadata": {},
   "outputs": [
    {
     "data": {
      "text/html": [
       "<div>\n",
       "<style scoped>\n",
       "    .dataframe tbody tr th:only-of-type {\n",
       "        vertical-align: middle;\n",
       "    }\n",
       "\n",
       "    .dataframe tbody tr th {\n",
       "        vertical-align: top;\n",
       "    }\n",
       "\n",
       "    .dataframe thead th {\n",
       "        text-align: right;\n",
       "    }\n",
       "</style>\n",
       "<table border=\"1\" class=\"dataframe\">\n",
       "  <thead>\n",
       "    <tr style=\"text-align: right;\">\n",
       "      <th></th>\n",
       "      <th>COMMENT_ID</th>\n",
       "      <th>CONTENT</th>\n",
       "      <th>CLASS</th>\n",
       "    </tr>\n",
       "  </thead>\n",
       "  <tbody>\n",
       "    <tr>\n",
       "      <th>0</th>\n",
       "      <td>1</td>\n",
       "      <td>+447935454150 lovely girl talk to me xxx﻿</td>\n",
       "      <td>spam</td>\n",
       "    </tr>\n",
       "    <tr>\n",
       "      <th>1</th>\n",
       "      <td>2</td>\n",
       "      <td>I always end up coming back to this song&lt;br /&gt;﻿</td>\n",
       "      <td>ham</td>\n",
       "    </tr>\n",
       "    <tr>\n",
       "      <th>2</th>\n",
       "      <td>3</td>\n",
       "      <td>my sister just received over 6,500 new &lt;a rel=...</td>\n",
       "      <td>spam</td>\n",
       "    </tr>\n",
       "    <tr>\n",
       "      <th>3</th>\n",
       "      <td>4</td>\n",
       "      <td>Cool﻿</td>\n",
       "      <td>ham</td>\n",
       "    </tr>\n",
       "    <tr>\n",
       "      <th>4</th>\n",
       "      <td>5</td>\n",
       "      <td>Hello I&amp;#39;am from Palastine﻿</td>\n",
       "      <td>spam</td>\n",
       "    </tr>\n",
       "  </tbody>\n",
       "</table>\n",
       "</div>"
      ],
      "text/plain": [
       "   COMMENT_ID                                            CONTENT CLASS\n",
       "0           1          +447935454150 lovely girl talk to me xxx﻿  spam\n",
       "1           2    I always end up coming back to this song<br />﻿   ham\n",
       "2           3  my sister just received over 6,500 new <a rel=...  spam\n",
       "3           4                                              Cool﻿   ham\n",
       "4           5                     Hello I&#39;am from Palastine﻿  spam"
      ]
     },
     "execution_count": 80,
     "metadata": {},
     "output_type": "execute_result"
    }
   ],
   "source": [
    "comments.head()"
   ]
  },
  {
   "cell_type": "code",
   "execution_count": 81,
   "metadata": {},
   "outputs": [
    {
     "data": {
      "text/plain": [
       "<matplotlib.axes._subplots.AxesSubplot at 0x1c1690681c8>"
      ]
     },
     "execution_count": 81,
     "metadata": {},
     "output_type": "execute_result"
    },
    {
     "data": {
      "image/png": "[encoded data removed]",
      "text/plain": [
       "<Figure size 432x288 with 1 Axes>"
      ]
     },
     "metadata": {},
     "output_type": "display_data"
    }
   ],
   "source": [
    "comments.CLASS.value_counts().plot(kind='pie',autopct='%1.3f%%', colors=[\"red\", \"yellow\", \"green\"])"
   ]
  },
  {
   "cell_type": "code",
   "execution_count": 82,
   "metadata": {},
   "outputs": [],
   "source": [
    "features = comments.iloc[:, 1].values\n",
    "labels = comments.iloc[:, 2].values"
   ]
  },
  {
   "cell_type": "code",
   "execution_count": 83,
   "metadata": {},
   "outputs": [],
   "source": [
    "processed_features = []\n",
    "\n",
    "for sentence in range(0, len(features)):\n",
    "    # Remove all the special characters\n",
    "    processed_feature = re.sub(r'\\W', ' ', str(features[sentence]))\n",
    "\n",
    "    # remove all single characters\n",
    "    processed_feature= re.sub(r'\\s+[a-zA-Z]\\s+', ' ', processed_feature)\n",
    "\n",
    "    # Remove single characters from the start\n",
    "    processed_feature = re.sub(r'\\^[a-zA-Z]\\s+', ' ', processed_feature) \n",
    "\n",
    "    # Substituting multiple spaces with single space\n",
    "    processed_feature = re.sub(r'\\s+', ' ', processed_feature, flags=re.I)\n",
    "\n",
    "    # Removing prefixed 'b'\n",
    "    processed_feature = re.sub(r'^b\\s+', '', processed_feature)\n",
    "\n",
    "    # Converting to Lowercase\n",
    "    processed_feature = processed_feature.lower()\n",
    "\n",
    "    processed_features.append(processed_feature)"
   ]
  },
  {
   "cell_type": "code",
   "execution_count": 84,
   "metadata": {},
   "outputs": [
    {
     "name": "stderr",
     "output_type": "stream",
     "text": [
      "[nltk_data] Downloading package stopwords to\n",
      "[nltk_data]     C:\\Users\\v2n\\AppData\\Roaming\\nltk_data...\n",
      "[nltk_data]   Package stopwords is already up-to-date!\n"
     ]
    },
    {
     "data": {
      "text/plain": [
       "True"
      ]
     },
     "execution_count": 84,
     "metadata": {},
     "output_type": "execute_result"
    }
   ],
   "source": [
    "import nltk\n",
    "nltk.download('stopwords')"
   ]
  },
  {
   "cell_type": "code",
   "execution_count": 85,
   "metadata": {},
   "outputs": [
    {
     "data": {
      "text/plain": [
       "[' 447935454150 lovely girl talk to me xxx ',\n",
       " 'i always end up coming back to this song br ',\n",
       " 'my sister just received over 6 500 new rel nofollow class ot hashtag href https plus google com 23active active youtube views right now the only thing she used was pimpmyviews com ',\n",
       " 'cool ',\n",
       " 'hello 39 am from palastine ',\n",
       " 'wow this video almost has billion views didn 39 know it was so popular ',\n",
       " 'go check out my rapping video called four wheels please ',\n",
       " 'almost 1 billion ',\n",
       " 'aslamu lykum from pakistan ',\n",
       " 'eminem is idol for very people in españa and mexico or latinoamerica ',\n",
       " 'help me get 50 subs please ',\n",
       " 'i love song ',\n",
       " 'alright ladies if you like this song then check out john rage he 39 a smoking hot rapper coming into the game he 39 not better than eminem lyrically but he 39 hotter hear some of his songs on my channel ',\n",
       " 'the perfect example of abuse from husbands and the thing is 39 a feminist so definitely agree with this song and well if see this someone 39 going to die just sayin ',\n",
       " 'the boyfriend was charlie from the tv show lost ',\n",
       " ' href https www facebook com groups 100877300245414 https www facebook com groups 100877300245414 ',\n",
       " 'take look at this video on youtube ',\n",
       " 'check out our channel for nice beats ',\n",
       " 'rihanna and eminem together are unstoppable ',\n",
       " 'check out this playlist on youtube ',\n",
       " 'this song is about rape and cheating br br br br br br br br br br basically ',\n",
       " 'like please ',\n",
       " 'i love this song can 39 believe it was 5 years ago it doesn 39 get old though ',\n",
       " 'omg that looks just like piece of the mirror of harry potter and the deathly hallows br either that house sirius black ',\n",
       " 'i shared my first song quot want you quot and hope you 39 ll like it take listen href https youtu be yfuy4gkr1c https youtu be yfuy4gkr1c ',\n",
       " 'come and check out my music im spamming on loads of videos but its just to try and get my music across to new people ',\n",
       " 'check out this playlist on youtube ',\n",
       " 'huh hyuck hyuck im special who 39 watching this in 2015 im from australia or something give me attention please im just rapper with dream im gonna share this on google plus because im so cool ',\n",
       " 'you exactly who want to be watching your favourite rappers on tv ',\n",
       " 'rihanna is absolutely gorgeous in this video ',\n",
       " 'check out this video on youtube br br love this song it 39 all good will never go back that but 39 ll always remember the passion but never want to go back to being dysfunctional insanity goal is to live happy not live insane ',\n",
       " 'don 39 love someone soo much love the way lie ',\n",
       " 'one of the best songs in music history ',\n",
       " 'check out this playlist on youtube ',\n",
       " 'check out this video on youtube ',\n",
       " 'check out this video on youtube ',\n",
       " 'no hate the way lie ',\n",
       " 'fuck eminem bieber is the best lt 3 ',\n",
       " 'check out this playlist on youtube chcfcvzfzfbvzdr ',\n",
       " 'check out this playlist on youtube ',\n",
       " 'im gonna share little ryhme canibus blows eminem away quadrillion times especially about the categories of intelligent things in his mind that he learned and rapped about and forgot before eminem spit his first ryme luv ya linz 4e ',\n",
       " 'check out this video on youtube ',\n",
       " 'check out this video on youtube br br br ',\n",
       " 'check out the new remix br click click ',\n",
       " 'check out this playlist on youtube ',\n",
       " 'i personally have never been in abusive relationship probably never will don 39 hit women mom has my dad used to hit my mom before he left can relate 39 writing about one at the moment subscribe to hear it every fan counts ',\n",
       " 'love ',\n",
       " 'haha can 39 believe how many kids listen to eminem you kids know that he does drugs and ends high in jail wonder why he never ended od ',\n",
       " 'plese subscribe to me ',\n",
       " 'check out this video on youtube ',\n",
       " 'aye homies check out our remix to 50 cent your life is on the line we just started our youtube channel and we are all ways working hard give us some feed back on our latest song on what you guys think if you like show support ',\n",
       " 'this is the 2nd most best song when im gone by amp ',\n",
       " 'check out this video on youtube ',\n",
       " 'we go for 1 000 000 000 for eminem ',\n",
       " 'eminem and rihanna sing the song very well ',\n",
       " 'subscribe me secret videos ',\n",
       " 'check out this video on youtube ',\n",
       " 'check out this video on youtube but 39 not rhinnah ',\n",
       " 'subscribe to me for clean eminem ',\n",
       " ' hey youtubers really appreciate all of you who took the time to read this am just 19 year old boy who wants to be successful musician in the music world dont have any money to advertise my channel if you could just visit my channel comment on my video or subscribe that would be great it will only be few seconds of your life thank to all the people who just gave me chance really appreciate it ',\n",
       " 'love the way you lie quot ',\n",
       " 'check out this video on youtube ',\n",
       " 'this guy win dollars sleeping m he loves the planet its full of retards',\n",
       " 'check out our cover of this song ',\n",
       " 'check out this video on youtube ',\n",
       " 'goot ',\n",
       " '2015 but im still listening to this ',\n",
       " 'how is this the most watched eminem video it beats not afraid ',\n",
       " 'check out my channel for funny skits thanks ',\n",
       " 'hahahahah like vines subscribe to me for daily vines',\n",
       " 'please read this please am country singer who is trying to become someone so if you would like my videos please just type boys round here by country girl only on computer wasting all these tears t please subscribe and like',\n",
       " 'check out this video on youtube ',\n",
       " 'guys share this video he must have 1 000 000 000 views share on facebook groups pages ',\n",
       " 'check out eminem rap god lyric video',\n",
       " 'love this song ',\n",
       " 'rihana love me ',\n",
       " 'like this comment then type 1337',\n",
       " 'is that charlie from lost br ',\n",
       " 'who the fuck cheats on megan fox ',\n",
       " 'that is megan fox ',\n",
       " 'i love music ',\n",
       " 'like this comment then type 1337',\n",
       " ' ',\n",
       " 'hot hot ',\n",
       " 'check out this video on youtube ',\n",
       " 'wow justin bieber is better thats why when he buys medication he always shares with his half wited money alfred but sadly enough he is an attention hog with swamp ass and an eating disorder filled with sassy mice and flaming hot cheetos that he can eat with the power of the samurman ',\n",
       " 'this fucking song like 39 oreo the only white part is the good 1 ',\n",
       " 'no where near one of eminems actual best songs real fans know what im talking about untitled cold wind blows welcome 2 hell elevator business wtp almost famous 25 to life rock bottom no apologies same song and dance without me way am toy soldiers mosh and insane lt songs off the top of my head that 39 better ',\n",
       " 'finally someone shares the same opinion as me 39 ve tried really hard to like gangnam style but just can 39 i don 39 even get the dance either song like this should be more popular than gangnam style at least it makes sense ',\n",
       " 'check out the new hot video by dante called riled up',\n",
       " 'check out the new hot video by dante called riled up',\n",
       " 'still listening still same pleasure ',\n",
       " ' facebook password hack 2013 facebook pass hack2013 blogspot com only 100 working software for hacking any facebook password it 39 free for download and breaks any password in 10 15 minutes 100 virus free for details and free download please visit facebook pass hack2013 blogspot com ',\n",
       " 'i love you ',\n",
       " '2010 the time past so fast ',\n",
       " 'hey everyone 39 dakoda bigelow 39 a 17 year old singer rapper and producer 39 ve gained over 490 000 views so far but really need more views likes and subscribers in order to make it check out my brand new music video for my song so gone also check out my new song called deaf few moments of your time would be greatly appreciated and you won 39 regret it please thumbs this up so more people can see it thanks for the support ',\n",
       " ' 2015 fuck yeah ',\n",
       " 'eminem is ginius stop ',\n",
       " 'the rap cool rihanna sttuupid ',\n",
       " 'just gonna stand there and hear me cry ',\n",
       " 'love ',\n",
       " 'feels and emotions in this song god damn ',\n",
       " 'all should go check out rants vi about eminem',\n",
       " 'megan fox and eminem together in video doesnt get better than that ',\n",
       " 'check out this video on youtube rel nofollow class ot hashtag href https plus google com 23eminem eminem a rel nofollow class ot hashtag href https plus google com 23lovethewayyoulie lovethewayyoulie a rel nofollow class ot hashtag href https plus google com 23rapgod rapgod a rel nofollow class ot hashtag href https plus google com 23king king ',\n",
       " 'yo know nobody will probably even read this but m gonna type it any way because hope at least one person will 39 a rapper with dream know there 39 like 200k of those in this world but please check out my music and subscribe if you want thanks would love nothing more than to have decent following on youtube if anyone reading this could press the quot thumbs up quot other people will see it just simple button press could make my dream come true thank you',\n",
       " 'best song ',\n",
       " ' subscribe to my feed',\n",
       " 'everyone go and share youtu be arkglzjqup0 on fb twitter to vote for eminem to become artist of the year on first ever youtube music awards and get this method to cheat at internet roulette out of eminems video shady artist of the year ',\n",
       " 'check out em 39 dope new song monster here watch w6gkm xny2m mmlp2 ftw ',\n",
       " ' check out my sexy video ',\n",
       " ' check out my sexy video ',\n",
       " 'is that charlie from lost ',\n",
       " 'anyone else notice that megan fox is in this video ',\n",
       " 'do you need more instagram followers or photo likes check out igblast com and get em in minutes ',\n",
       " 'check out the new hot video by dante called riled up',\n",
       " 'check out the new hot video by dante called riled up',\n",
       " 'yo know nobody will probably even read this but imma type it any way because hope at least one person will 39 a rapper with dream know there 39 like 200k of those in this world but please check out my music and subscribe if you want thanks would love nothing more than to have decent following on youtube if anyone reading this could press the quot thumbs up quot other people will see it just simple button press could make my dream come true thank you',\n",
       " 'youtube com watch 2asfn9shghk amp feature youtu be please check out my song looking for feedback and supporters ',\n",
       " 'watch my videos and subscribe',\n",
       " ' subscribe to me for daily vines',\n",
       " 'love it ',\n",
       " 'hay dakota earned subscribee',\n",
       " 'listen check out andrew guasch crazy sick flow 39 dope that 39 all there is too it if you like it subscribe if not ill be with aftermath of tde soon enough one love peace ',\n",
       " 'check out the new hot video by dante called riled up',\n",
       " 'i hate rap and like this song ',\n",
       " 'love the way you lie driveshaft ',\n",
       " '2010 ',\n",
       " '1 000 000 views near ',\n",
       " 'you guys should check out this extraordinary website called firepa com you can make money online and start working from home today as am am making over 3 000 per month at firepa com visit firepa com and check it out lake chillpal sturdy astauand johackle chorenn ethosien changeable public noxu ploosnar looplab hoppler delicious false scitenoa locobot heartbreaking thirsty reminiscent',\n",
       " 'this song is nice ',\n",
       " 'you guys should check out this extraordinary website called firepa com you can make money online and start working from home today as am am making over 3 000 per month at firepa com visit firepa com and check it out lake busyglide sasaroo sore chillpal axiomatic naperone mere undesirable agreeable encouraging imperfect roasted insidious modgone quickest trelod keen fresh economic bocilile',\n",
       " 'sick music for sick females ',\n",
       " 'you guys should check out this extraordinary website called moneygq com you can make money online and start working from home today as am am making over 3 000 per month at moneygq com visit moneygq com and check it out lake victorious luxuriant alcoholic responsible unbiased yoffa ociramma ociramma handsome arrowgance mizuxe boaconic sophisticated ill fated spourmo chubby hioffpo probable singlewave',\n",
       " 'love trop fort votre clip ',\n",
       " 'you guys should check out this extraordinary website called moneygq com you can make money online and start working from home today as am am making over 3 000 per month at moneygq com visit moneygq com and check it out lake waratel misty exciting swoquix acaer chillpal tupacase arrowgance lively hard idiotic bored cool ablaze crabby aloidia cheilith feandra useless ploosnar',\n",
       " 'you guys should check out this extraordinary website called moneygq com you can make money online and start working from home today as am am making over 3 000 per month at moneygq com visit moneygq com and check it out lake ignorant wavefire reiltas astauand skizzle jovaphile swooflia grynn excellent slimy gabby nalpure lucky glozzom depressed better deep sinpad stereotyped toximble',\n",
       " 'eminem et rihana trop belle chanson ',\n",
       " 'this song is better then monster by eminem ',\n",
       " 'he is good boy br am krean like to eminem ',\n",
       " 'it is wonderful ',\n",
       " 'you guys should check out this extraordinary website called moneygq com you can make money online and start working from home today as am am making over 3 000 per month at moneygq com visit moneygq com and check it out lake magnificent noodile unequaled moderock gogopo lulerain olielle zesty laughable accidental pepelexa delightful wiry toogit uncovered chesture woozy adhoc weak shallow',\n",
       " 'share eminem 39 artist of the year video so he can win we could see performance and acceptance speech like this comment so everyone can see 2014 year of eminem',\n",
       " 'watch arkglzjqup0 like this comment and share this video so em can win ytma',\n",
       " 'check out this video on youtube br br eminem is amazing ',\n",
       " 'awesome song ever ',\n",
       " 'love ',\n",
       " 'no long paragraph just check out my song called quot fire quot ',\n",
       " 'check out this video on youtube ',\n",
       " 'check out this video on youtube href http www youtube com user jlimvuth http www youtube com user jlimvuth eminem ft rihanna love the way you lie ',\n",
       " 'do you guys know there 39 a part two of this song ',\n",
       " 'you guys should check out this extraordinary website called moneygq com you can make money online and start working from home today as am am making over 3 000 per month at moneygq com visit moneygq com and check it out memory ferirama besloor shame eggmode wazzasoft sasaroo reiltas moderock plifal shorogyt value scale qerrassa qiameth mogotrevo hoppler parede yboiveth drirathiel',\n",
       " 'hey it 39 charlie from lost ',\n",
       " 'you guys should check out this extraordinary website called moneygq com you can make money online and start working from home today as am am making over 3 000 per month at moneygq com visit moneygq com and check it out wazzasoft industry sertave wind tendency order humor unelind operation feandra chorenn oleald claster nation industry roll fuffapster competition ociramma quality',\n",
       " 'check out this video on youtube ',\n",
       " 'i guss this song is one of my worst fears in life to be with someone who abusive towered me and live with him ',\n",
       " 'watch youtube video quot eminem ytma artist of the year quot plz share to vote ',\n",
       " 'made five years ago and people still don 39 understand the message this song is conveying for those of you who don 39 understand that domestic violence is no game women like the fictional one in this video do exist living their lives with man who abuses her but still chooses to stay for not the love but for the sexual feeling he gives her this is quite sad actually ',\n",
       " '5 years and still dont get the music video help someone ',\n",
       " 'please check out my new song music video ad don 39 play',\n",
       " 'tell us the title so can like and subscribe your music fgw please',\n",
       " 'this video is kinda close to 1 million views br ',\n",
       " 'fuck you eminem ',\n",
       " 'you guys should check out this extraordinary website called moneygq com you can make money online and start working from home today as am am making over 3 000 per month at moneygq com visit moneygq com and check it out the metal drews the reflective effect why does the expansion intervene the hilarious bit the sneeze witnesss the smoke ',\n",
       " 'you guys should check out this extraordinary website called moneygq com you can make money online and start working from home today as am am making over 3 000 per month at moneygq com visit moneygq com and check it out why does the innocent woman prioritize the desire the flight searchs the sad polish when does the tax zip the omniscient record ',\n",
       " '2008 2010 were the years for pop ',\n",
       " 'sorry but eminmem is worthless wife beating bastard ',\n",
       " ' eminem is the king of rap micheal jackson is the king of pop if you also wanna go hard and wanna be the person of first class fame just check out authenticviews com and be famous just within days yo ',\n",
       " 'so spousal abusue cool that 39 great ',\n",
       " 'she is megan fox because she is very similar ',\n",
       " 'holy crap 800 000 000 views ',\n",
       " 'eminem rihanna ',\n",
       " 'love this song ',\n",
       " 'what nicei ',\n",
       " 'i like this song very much ',\n",
       " 'you guys should check out this extraordinary website called moneygq com you can make money online and start working from home today as am am making over 3 000 per month at moneygq com visit moneygq com and check it out when does the flimsy slip facilitate the manager how does the noise set goals the anxious regret how does the actually loss retrieve the smile ',\n",
       " 'i love it and my mom to ',\n",
       " 'who is watching in 2015 like ',\n",
       " 'please check out my new song music video ad dont play',\n",
       " 'amazing song ',\n",
       " 'you guys should check out this extraordinary website called moneygq com you can make money online and start working from home today as am am making over 3 000 per month at moneygq com visit moneygq com and check it out why does the wood photograph the husky breath when does the act retain the delightful system the rhythm fabricates the scintillating harbor ',\n",
       " 'you guys should check out this extraordinary website called moneygq com you can make money online and start working from home today as am am making over 3 000 per month at moneygq com visit moneygq com and check it out the cook officiates the tax the walk judges the amount why does the ink train the valuable increase ',\n",
       " 'check out my eminem amp kid cudi a h up watch xytcq5nzmua',\n",
       " 'i like it ',\n",
       " 'yo guys sorry if this annoys you but check out my channel and latest video like and subscribe would be nice too ',\n",
       " 'this past christmas my dad passed away to help me cope picked up pen and some paper and started to write little did know nearly 9 months ago that it would bring me where 39 at today over 7k subscribers and 500k video views just wrote and released song yesterday about friend of mine who has tried to commit suicide several times can 39 promise you professionally produced music but can promise real lyrics just click on my picture thanks and thumbs up so others may see ',\n",
       " ' my name is george and let me tell eminem is my idol my inspiration 39 ve listen to him growing up never thou would love rap this much but thank him for helping me find my dream so rap now and make youtube videos and yesterday covered the song mockingbird it 39 in my channel worked really hard on it and it 39 one of my favorite songs of him so please go check it out and subscribe it would mean the world to me sorry for the spam don 39 hate 39 not eminem',\n",
       " 'love the way you lie featuring rhianna hes an awesome rapper shes an awesome singer ',\n",
       " 'eminem is my insperasen and fav ',\n",
       " 'e everyone could check out my channel dundundunnn',\n",
       " 'every collaboration between them we know it will be number 1 ',\n",
       " 'you guys should check out this extraordinary website called zonepa com you can make money online and start working from home today as am am making over 3 000 per month at zonepa com visit zonepa com and check it out why does the answer rehabilitate the blushing limit the push depreciateds the steel how does the beautiful selection edit the range ',\n",
       " 'you guys should check out this extraordinary website called zonepa com you can make money online and start working from home today as am am making over 3 000 per month at zonepa com visit zonepa com and check it out why does the view disclose the macho lift why does the letter frame the thundering cause why does the talk prevent the conscious memory ',\n",
       " 'good music ',\n",
       " 'you guys should check out this extraordinary website called zonepa com you can make money online and start working from home today as am am making over 3 000 per month at zonepa com visit zonepa com and check it out the jelly activates the reflective distribution the normal top synthesizes the opinion the victorious plant entertains the language ',\n",
       " 'if you need youtube subscriber mail hermann buchmair on fb',\n",
       " 'is it bad that my realtionship is just like this lol ',\n",
       " 'this video deserves 1b views ',\n",
       " '2015 and more ',\n",
       " 'best song ever ',\n",
       " 'i could hear this for years 3 ',\n",
       " 'who is still watching in 2015 ',\n",
       " 'i wish that guy wasn 39 so protective geeze ',\n",
       " 'super rihanna ',\n",
       " ' ஜ ஜ check out my channel ஜ ஜ ',\n",
       " 'i know that maybe no one will read this but please type in quot deazy99 quot 39 a rapper with dream know you must see like millions of those on here everyday but please check out my music and subscribe if you 39 like thank you would love nothing more than to have decent following on youtube from people if anyone reading this could give it quot thumbs up quot because what some might see as just simple button press could make my dream come true thank you again for your time amp may god bless you',\n",
       " 'rihanna is so beautiful and amazing love her so much forever riri fan ',\n",
       " 'fav ',\n",
       " 'hey guys before you ignore me please give me chance my name is yuliya make covers started getting serious with youtube september of 2013 because that great challenge to myself my dream was to become singer youtube helps me keep up if you can please give me chance and thumbs this comment up so more people can see it swear 39 ll appreciate it subscribe please love you xoxo ',\n",
       " 'check out this video on youtube ',\n",
       " 'every single one of his songs brings me back to place can never go back to and it hurts so bad inside ',\n",
       " 'i love your songs eminem your the rap god ',\n",
       " 'sneakiestg good music hood muzik subscribe 2 my channel thanks for the support sneakiestg sneakiestg good music hood muzik subscribe 2 my channel thanks for the support sneakiestg',\n",
       " 'i cried this song bringing back some hard memories ',\n",
       " 'subcribe to us an we will subscribe back',\n",
       " 'song is bad ',\n",
       " 'check out my cover of love the way you lie please ',\n",
       " 'check out fantasy music right here gt the1fantasy good music man ',\n",
       " 'you guys should check out this extraordinary website called zonepa com you can make money online and start working from home today as am am making over 3 000 per month at zonepa com visit zonepa com and check it out how does the war illustrate the exclusive space the mountain refers the helpless death the tax reviews the special music ',\n",
       " 'you guys should check out this extraordinary website called zonepa com you can make money online and start working from home today as am am making over 3 000 per month at zonepa com visit zonepa com and check it out the loud authority improves the canvas when does the mother repair the uppity learning the substantial cook derives the harbor ',\n",
       " 'you guys should check out this extraordinary website called zonepa com you can make money online and start working from home today as am am making over 3 000 per month at zonepa com visit zonepa com and check it out how does the burst render the symptomatic bite the knowledge briefs the narrow thought how does the eager sky transmit the crush ',\n",
       " 'you guys should check out this extraordinary website called zonepa com you can make money online and start working from home today as am am making over 3 000 per month at zonepa com visit zonepa com and check it out how does the mammoth waste achieve the shock how does the limit reduce the delicate minute how does the meaty scale adapt the oil ',\n",
       " 'charlie from lost ',\n",
       " 'what the hell this song is already five years old remember when it first came out this was my jam ',\n",
       " 'check out my channel im 15 year old rapper ',\n",
       " 'is that megan fox ',\n",
       " 'wtf subscribe my channel thanx ',\n",
       " 'hey check out my channel please',\n",
       " 'so he 39 admitting he killed his girlfriend ',\n",
       " 'check out you tube keithlinscotts one word keithlinscotts you tube com',\n",
       " 'check out my mummy chanel ',\n",
       " 'i want to smack this year boy in to forever ',\n",
       " 'charlie heroin will do that to you ',\n",
       " 'fruits and vegetables give you longer lasting energy for weight loss check out youtube com user 36loseweight ',\n",
       " 'love song ',\n",
       " 'megan fox is gorg in this eminem is truly the rap god ',\n",
       " 'rihanna pour it up vincent remix rihanna pour it up vincent remix rihanna pour it up vincent remix rihanna pour it up vincent remix rihanna pour it up vincent remix rihanna pour it up vincent remix rihanna pour it up vincent remix rihanna pour it up vincent remix rihanna pour it up vincent remix click subscribe ',\n",
       " 'check out this video on youtube ',\n",
       " 'he gets more views but has less subscribers lol',\n",
       " 'go check out eminem survival ',\n",
       " 'hey 39 a 16 year old rapper from texas don 39 rap quot pmw quot but promise my music will not disappoint search therealchrisking1 to find me and listen to my track quot memory lane quot just released my 3rd mix tape quot crown me quot and so far 39 ve had nothing but good reviews about it 39 not asking you to like or subscribe but just 1 view will help me catch my dream and if you could leave comment letting me know what you think it would be much appreciated also thank you ',\n",
       " 'if eminem gets 1 penny per view he would have 600 million dollars',\n",
       " 'check out leandrus playtime it 39 awesoooome ',\n",
       " 'check out this video on youtube ',\n",
       " 'i know that maybe no one will read this but please type in quot deazy99 quot 39 a rapper with dream know you must see like millions of those on here everyday but please check out my music and subscribe if you 39 like thank you would love nothing more than to have decent following on youtube from people if anyone reading this could give it quot thumbs up quot because what some might see as just simple button press could make my dream come true thank you again for your time amp may god bless you',\n",
       " 'dress like rihanna at kpopcity net the largest discount fashion store in the world check out our quot hollywood collection quot to dress like all your favourite stars dress like rihanna at kpopcity net the largest discount fashion store in the world check out our quot hollywood collection quot to dress like all your favourite stars ',\n",
       " 'check out this dope channel phenomenallyricshere check out this dope channel phenomenallyricshere check out this dope channel phenomenallyricshere check out this dope channel phenomenallyricshere check out this dope channel phenomenallyricshere check out this dope channel phenomenallyricshere check out this dope channel phenomenallyricshere check out this dope channel phenomenallyricshere check out this dope channel phenomenallyricshere',\n",
       " 'amazing song ',\n",
       " ' ',\n",
       " 'charlie from lost ',\n",
       " 'subscribe me pls emi̇nem fans',\n",
       " 'dude check out psy',\n",
       " 'i love this the talents of eminem and skylar works well together ',\n",
       " 'share this video this song can beat psy gangnam style ',\n",
       " 'thumb up if you watching in 2015 and you like it ',\n",
       " 'check out my remix to tyga 39 molly ft whiz khalifa peace and love',\n",
       " 'check out my channel please ',\n",
       " 'i been working so hard for the past 60 days to improve been writing recording mixing performing 16 bars everyday im doing it for whole year 365 days today 39 on day 60 today work so hard now 39 doing 2 verses everyday to improve 39 going all the way to 365 please subscribe to my channel help me build fan base watch me improve help me get closer to my dream 39 lyrical and keep it real won 39 leave you down promise please subscribe please like this commment so people can see',\n",
       " ' can 39 believe this just now watched brand new adult video clip with rihanna she has been screwing black basketball player check out her video right here if you wish crazy celeb news eu pn',\n",
       " ' check my videos and subscribe and like plzz',\n",
       " 'never gets old best song ever ',\n",
       " 'first they were fighting then they were making out ',\n",
       " 'i know that maybe no one will read this but please type in quot deazy99 quot 39 a rapper with dream know you must see like millions of those on here everyday but please check out my music and subscribe if you 39 like thank you would love nothing more than to have decent following on youtube from people if anyone reading this could give it quot thumbs up quot because what some might see as just simple button press could make my dream come true thank you again for your time amp may god bless you',\n",
       " 'hey guys please just spent one minute for me im singer from srilanka and im 18 year 39 old sooo like to be great singer will be one day so hope it would be happen in really my life just view my videos and rate it and let me know how is my voice please help us guys closer to living my dream really know you 39 helped me who read this comment he she can just understand my feeling thanks guys lv really much more subscribe it my channel and onece again thank ',\n",
       " 'yo guys im 14 year old rapper just started rapping so please check out my site and leave feedback and subscribe also like this comment so more can see and make my channel big aswell',\n",
       " 'check out this video on youtube ',\n",
       " ' for 90 39 rap fans check out my big pun 39 beware 39 cover likes comments very much appreciated ',\n",
       " 'i love this song up to the moon gt 3 you are rocks ',\n",
       " 'hello i̇ am from azerbaijan br ',\n",
       " 'this great warning will happen soon 0 lneadw26bfst76vhkjl8pxaey6vmnlvmriudtsfk6vy ali paša 2013 09 26t22 28 17 047000 croatia lt 3 0 lneadw26bfvkahxpkenm25fywkyxthsupri6juqsznu belrus 2013 09 26t22 26 12 832000 nice one 0 lneadw26bftvzqt6juehasiefrjg1exi_dvqdnqvpho exode comeback 2013 09 26t22 23 00 710000 600m views 0 lneadw26bfunoarag71awgu6tjo6azdkfiun_tz1_hy muhammad shaeel abbas 2013 09 26t22 15 45 476000 fuck off 0 lneadw26bft otoufj0z3vfflfnaxykwzsivqhimx notorious niko 2013 09 26t22 00 43 613000 hey guys im 17yr old rapper trying to get exposure live in belgium where no one speaks english so have to resort to this gay spam check out my 2 latest tracks as they are probably my best audio isnt the best but im gonna invest in some real equipment for my next track please thumbs this up so others can see or hey dont just check me out yourself and leave response and like thanks in advance you guys will be part of making my dream come true notorious niko ',\n",
       " 'hey guys im 17yr old rapper trying to get exposure live in belgium where no one speaks english so have to resort to this gay spam check out my 2 latest tracks as they are probably my best audio isnt the best but im gonna invest in some real equipment for my next track please thumbs this up so others can see or hey dont just check me out yourself and leave response and like thanks in advance you guys will be part of making my dream come true notorious niko ',\n",
       " 'eminem lt 3 br the best rapper ever lt 3 ',\n",
       " 'i hate rap ',\n",
       " 'check out my channel to see rihanna short mix by me ',\n",
       " 'every weekend new lyric video of eminem here view like subscribe',\n",
       " 'this song video is such trigger but it 39 just so good ',\n",
       " 'check out the new hot video by dante called riled up',\n",
       " 'was that meghan fox ',\n",
       " 'ayyy can guys please check out my rap video im 16 im juss tryna get some love please chrck it out an thank u',\n",
       " 'come subscribe to my channel please ',\n",
       " 'awesome song congratulations ',\n",
       " 'come check out our music channel go check out the song quot love me quot by e ini if you do you are very amazing person thank you to all who check it out if you don 39 check it out you 39 re still an amazing person just for reading this post',\n",
       " 'share and like this page to win hand signed rihanna photo fb fans of rihanna',\n",
       " 'share and like this page to win hand signed rihanna photo fb fans of rihanna',\n",
       " 'check out my page adam beats 2013',\n",
       " 'look and shares my video please d',\n",
       " 'check out this video on youtube ',\n",
       " 'like amp subscribe watch 5tu9gn1l310',\n",
       " 'charlieee dddd those who saw lost only will understand ',\n",
       " 'ladies gt gt if you have broken heart or you just want to understand guys better you should check out this underground book called the power of the pussy on amazon best book ever for us girls oh and just warning it 39 for 18 and over lol',\n",
       " 'coffee lovers please read check out song wrote and sing on you tube called coffee lova type coffee lova like spell it while your already on you tube hit enter then look for video titled coffee lova hit enter and blast off ',\n",
       " 'hey guy if you can please subscribe to my channel im young dedicated rapper post videos everyday to improve write perform record mix edit post everyday do verse everyday 16 bars to improve 39 doing it for 365 days whole year to improve right now 39 on day 46 if you guys can please like this comment so everyone can see it and follow me on my journey watch me improve everyday subscribe please 39 lyrical and keep it real help me reach my dream help me build fan base thanks ',\n",
       " 'so many comments ',\n",
       " 'getting too 1billion views holy moly ',\n",
       " 'best song ',\n",
       " 'subscribe to me make music ',\n",
       " ' 1 song in world even in 2015 ',\n",
       " 'hi loving it ',\n",
       " 'subscribe me if love eminem',\n",
       " 'lol thats the guy from animal planet and lost and the girl is megan fox think hahah ',\n",
       " 'this song is true because it is insane because boys will do this to girl and it is not true that people say that guy will never do it to girl but boys you liers now stop treating us girls this way you all suck ',\n",
       " 'love the video ',\n",
       " 'hello 39 from bulgaria ',\n",
       " 'if love rihanna subscribe me',\n",
       " 'eminem rap can be easy for boy but can do that ',\n",
       " 'if love rihanna subscribe me',\n",
       " 'check out my music video on my chanel ',\n",
       " 'check out our bands page on youtube killtheclockhd check out some of our original songs including quot your disguise quot ',\n",
       " 'could you guys please check out my channel for hiphop beats ',\n",
       " 'i love this song sooooooooooooooo much ',\n",
       " 'everyone come and check out the new gta 5 gameplay right here watch 6_h0m5sayho',\n",
       " 'check out this video on youtube ',\n",
       " 'hey guys 39 87 cypher im 11 years old and rap is my life recently made my second album desire ep please take moment to check out my album on youtube thank you very much for reading every like comment and subscription counts',\n",
       " 'eminem love the way you lie ',\n",
       " 'hey guys ready for more 87 cyphers back check out my video on youtube new album is out check it out more music tomorrow thanks for reading',\n",
       " 'hey if you guys wouldnt mind could you check out my boys and my music we just made real lyrical song search dna andrew guasch appreciate it leave some real feedback and keep hip hop alive',\n",
       " 'is that girl is megan fox ',\n",
       " 'so freaking sad ',\n",
       " 'hello only made one eminem song on my channel could you guys just put like on it please don 39 need to subscribe thanks ',\n",
       " 'hey guys if you guys can please subscribe to my channel 39 a young rapper really dedicated post video everyday post verse 16 bars part of song everyday to improve 39 doing this for 365 days right now 39 on day 41 39 doing it for whole year without missing one day if you guys can please subscribe and follow me on my journey to my dream watch me improve it really means lot to me thank you won 39 let you down promise 39 lyrical keep it real ',\n",
       " 'hey its e here 39 a young up and coming rapper and wanna get my music heard know spam wont get me fame but at the moment got no way of getting little attention so please do me favour and check out my channel and drop sub if you enjoy yourself im just getting started so really appreciate those who take time to leave constructive criticism already got 200 subscribers and 4000 views on my first vid ive been told have potential',\n",
       " 'i like the lyrics but not to music video ',\n",
       " 'i hope everyone is in good spirits 39 a hard working student who 39 also passionate singer look foward to the day when can make my own music to share but for now 39 ve just been doing covers check out my channel 39 ve done covers of miley cyrus imagine dragons lana del rey drake macklemore pink and countless others subscribe only if you want to my goal isn 39 to become famous but to inspire fyi this isn 39 spamming everyone has right to freedom of speech thanks ',\n",
       " 'check out my channel for rap and hip hop music',\n",
       " 'br ',\n",
       " 'adam beats check out my page',\n",
       " ' rel nofollow class ot hashtag href https plus google com 23awesome awesome a rel nofollow class ot hashtag href https plus google com 23share share a rel nofollow class ot hashtag href https plus google com 23rt rt eminem love the way you lie ft rihanna href http ow ly 2zme8f http ow ly 2zme8f ',\n",
       " 'im e an aspiring young rapper with high hopes know you will not click this link and check out my channel you just dont want to well its your choice in fact you know what dont click',\n",
       " 'looooved ',\n",
       " 'we need to get this to 1 billion views ',\n",
       " 'hey everyone please take moment to read this work my ass off hoping to make it into the music industry but its hard to get people to hear you when you don have money for advertisements and exposure am young artist who has dreams and goals like everybody else please take 30 seconds and visit my channel you don have to like me just give me chance to prove my talent also please take just 1 second of your life and thumb this comment up it would be super helpful ',\n",
       " 'amazing ',\n",
       " 'almost billion ',\n",
       " 'great song ',\n",
       " 'please check out my video called quot we love mind master it quot thanks',\n",
       " 'okay trust me 39 doing favor you need to check out this guy named columbus nelson on youtube ',\n",
       " 'i agree they are just damn spammers they suck im trying to do the same and get known know the feeling will help you out and leave likes and comments on your page hope you could do the same and maybe subscribe to me that would be awesome thanks',\n",
       " 'adam beats check out my page 2013',\n",
       " 'check out these lyrics watch yuttx04oyqq',\n",
       " 'i don 39 understand this song have had the passion for women feel like im losing my mind but don 39 understand the ideas of loving the the way someone lies ',\n",
       " ' please read hey everyone 39 a 19 year old student who loves to sing record and upload covers on my channel would love if you could check them out just give me chance you don 39 have to thumbs up or subscribe but you can if you like what your hear just listen 39 really appreciate thank you for your time ',\n",
       " 'anybody else here in 2015 ',\n",
       " 'hi 39 lil check out love the way you lie my live performance and many others videos and my own lyrics thanks',\n",
       " 'i 39 subscribing to you just because your comment was that great ',\n",
       " 'i like the mmph version better ',\n",
       " 'terrance thank you for serving our country how do quot like you quot or quot subscribe quot ',\n",
       " 'thumbs up if you listen this in 2015 ',\n",
       " 'hey everyone check out my channel leave like and subscribe please and if there is song you want me to do post the name in the comments and will get on to it thanks',\n",
       " 'do you want to make some easy money check out my page tvcmcadavid weebly com dont miss out on this opportunity',\n",
       " 'hi everyone we are duo and we are starting to record freestyles and put them on youtube if any of you could check it out and like comment it would mean so much to us because we love doing this we may not have the best recording equipment but if you listen to our lyrics and rhymes think you 39 ll like it if you do then please subscribe and share because we love making these videos and we want you to like them as much as possible so feel free to comment and give us pointers thank you ',\n",
       " 'for all you ladies out there check out this link you 39 ll find the hottest hairstyles and the latest trends for women go to this site and you 39 ll upgrade your hairstyles and fashion senses to higher level don 39 get left behind gt goo gl bxrosr',\n",
       " 'hi am from bangladesh ',\n",
       " 'is that megan fox ',\n",
       " 'fire ',\n",
       " 'eminem fans check out the new song quot feelin 39 good quot by d just click the quot ghostpoet100 quot link above this post thank you all ',\n",
       " 'hi guys im an upcoming rapper if you could check out my channel and tell me what you think maybe subscribe or like would really appreciate it all haters are welcome to thanks',\n",
       " 'check out this new video made called quot we love mind master it quot thank so much ',\n",
       " 'i love the way you lie ',\n",
       " 'hey its e here 39 a young up and coming rapper and wanna get my music heard know spam wont get me fame but at the moment got no way of getting little attention so please do me favour and check out my channel and drop sub if you enjoy yourself im just getting started so really appreciate those who take time to leave constructive criticism already got 200 subscribers and 4000 views on my first vid ive been told have potential',\n",
       " 'love the way you lie ii is nicer in my opinion ',\n",
       " 'almost to billion ',\n",
       " 'if you are person that loves real music you should listen to quot cruz supat quot br he is awesome as fuck just as eminem used to be ',\n",
       " 'also check out j where do go now and road to recovery',\n",
       " 'charlie got off the island and dated megan fox but what about claire ',\n",
       " 'hi guys check out my remixes thanx you 39 re great swag ',\n",
       " 'please check out my youtube channel just uploaded my first youtube video please check it out you will not regret it ',\n",
       " 'eminem best rapper all the time ',\n",
       " 'omg this guy sounds like an american professor green ',\n",
       " 'thumbs up if you think this should have 1 billion views ',\n",
       " 'lemme top comments please ',\n",
       " 'i love this song ',\n",
       " 'my favorite song ',\n",
       " 'tryna work with some rappers check out the ones already have on my channel',\n",
       " 'check out berzerk video on my channel d',\n",
       " 'super ',\n",
       " 'eminem new song check out my videos',\n",
       " 'check out this video on youtube ',\n",
       " 'my friends wife earns 4000dollars month you can do it do if you want to be wwhore you can not get these type of wages for working from home on pc taking surveys dont believe that shit just because yahoo and other are taking their money does not mean they are legit please like this so the msg gets thru to vulnerable people like eminem used to be ',\n",
       " 'subscribe to mê please guys',\n",
       " 'this is the 4th most watched video on youtube and hes the 21 most subscribed channel on youtube just recentley surpassing justing bieber and is less then 1 00 subs away from beating taylor swift',\n",
       " 'hey its e here 39 a young up and coming rapper and wanna get my music heard know spam wont get me fame but at the moment got no way of getting little attention so please do me favour and check out my channel and drop sub if you enjoy yourself im just getting started so really appreciate those who take time to leave constructive criticism already got 200 subscribers and 4000 views on my first vid ive been told have potential',\n",
       " 'love you ',\n",
       " 'lil check hi out does live the way you lie and many more check it out and subscribe',\n",
       " 'hello to everyone please check out my video watch 2b4wywphi8c it takes just 2 minutes hope don 39 ask too much if you can 39 help me just like amp share the video please so more people will see it thumbs up it would mean so much to me maybe will make my dream come true thanks to everyone god bless you all ',\n",
       " ' watch aimbwbfqbzg watch and subscrible',\n",
       " 'i love you eminem ',\n",
       " 'love the you lie the good ',\n",
       " 'still listening in 2015 ',\n",
       " 'hey its e here 39 a young up and coming rapper and wanna get my music heard know spam wont get me fame but at the moment got no way of getting little attention so please do me favour and check out my channel and drop sub if you enjoy yourself im just getting started so really appreciate those who take time to leave constructive criticism already got 200 subscribers and 4000 views on my first vid ive been told have potential',\n",
       " 'eminem rocks ',\n",
       " 'check out my youtube videos for funny and cool rap',\n",
       " 'hay my is honesty wright am 12year old love your song thank you for makeing this song love this song so much sometime harts can get breaken people kill they self or go cazzy love you so much thanks keep on go make sure you doing your dream is comeing rule good luck ',\n",
       " 'awesome ',\n",
       " 'i lovet ',\n",
       " ' subscribe and like my video please',\n",
       " 'subscribed btw you have good style keep it up brother ',\n",
       " 'i know you may not want to read this but please do 39 87 cypher an 11 year old rapper have skill people said my stuff isn 39 as good as my new stuff but its good please check out my current songs comment and like thank you for reading rap is my life',\n",
       " 'charlie from lost ',\n",
       " 'eminem the best ',\n",
       " 'usually guys would vote people like this down but actually check out his channel it reminds me of smaller version of 8 mile give this guy chance since everyone has to start somewhere ',\n",
       " ' ',\n",
       " 'hello friends am young 15 year old rapper trying to make something out of nothing please can you take second of your life and check out my videos and help me reach my dreams god bless you',\n",
       " 'beautiful song ',\n",
       " 'check out my channel boys and girls ',\n",
       " 'hey guys know its annoying getting spammed sorry bout that but please take moment to check out my channel im rapper with decent skills want to share my music with more people so take listen thumbs up so more can see this',\n",
       " 'best rap ever ',\n",
       " 'i lover this song',\n",
       " 'hey guys know you wanna skip over this but please take chance and check out my music 39 a young up and coming rapper with big dream and appreciate constructive critisism so please have look thank you for your time',\n",
       " 'love your songs br supper cool br ',\n",
       " 'i like the music but is anyone listening to the lyrics ',\n",
       " 'maybe no one will probably read this but just in case you do can you put quot thumbs up quot so others can see just started rapping seriously type in lunden 1990 video just simple button can help my dreams come true people will ignore this but if you don 39 can you listen and subscribe thank you all god bless ',\n",
       " ' ',\n",
       " 'check out my channel for some lyricism ',\n",
       " 'me and my big sister like you ',\n",
       " 'not bad ',\n",
       " 'i love eminem lt 3 ',\n",
       " 'she looks like megan fox xd ',\n",
       " 'hey go to my channel check out my dongs thanks youtuber 39 s',\n",
       " 'is that megan fox ',\n",
       " 'you can not hate eminem and nirvana trust me ',\n",
       " 'like eminen ',\n",
       " 'check out my playlist',\n",
       " 'media is evil please see and share w the farrell report net top ex uk police intelligence analyst turned whistleblower tony farrell exposes horrific monstrous cover up perpetrated by criminals operating crimes from inside mainstream entertainment and media law firms beware protect your children these devils brutally target innocent people these are the real criminals linked to london 39 7 7 attacks 2005 must see and make viral also see uk column video on 31st january 2013 ',\n",
       " 'subscribe to my channel who can',\n",
       " 'simply rap god ',\n",
       " 'is that megan fox d ',\n",
       " 'i love this song ',\n",
       " 'check out my new em cover video trailer',\n",
       " 'really good song br you know love song song ',\n",
       " 'eminem is the greatest artist to ever touch the mic ',\n",
       " 'i love rihanna from thailand ',\n",
       " 'some classsic ',\n",
       " 'sorry for the spam yall know it annoying but if you can spare min please check out the new track on my channel 39 a upcoming uk rapper please come check out my songs might like em if not no worries m sorry for wastin your time even thumbs up to get more noticed will really help peace yall',\n",
       " 'this song is like an oreo the black part is good but the white part is better ',\n",
       " 'that guy charley of lost tv show ',\n",
       " 'subscribe to my channel watch nxk32i0hkds',\n",
       " ' hi im 14 year rapper support me guy and check out my channel and check out my song you might like it also follow me in twitter mcashim for follow back ',\n",
       " 'hello brazil ',\n",
       " 'eminem the best ever ',\n",
       " 'hey guys look im aware im spamming and it pisses people off but please take moment to check out my music im young rapper and love to do it and just wanna share my music with more people just click my picture and then see if you like my stuff',\n",
       " 'do you know how sean kingston got famous why don 39 you look it up kid before your so hard on yourself if you hit me up with message in my inbox and subscribe will check out your channel sounds fair to me ',\n",
       " 'best song ever ',\n",
       " 'check out eminem latest track survival if didnt',\n",
       " 'subscribe to my channel please spare',\n",
       " 'check out my videos guy hope you guys had good laugh d',\n",
       " '3 yrs ago had health scare but thankfully m okay realized wasn living life to the fullest now m on mission to do everything ve always wanted to do if you found out you were going to die tomorrow would you be happy with what you ve accomplished or would you regret not doing certain things sorry for spamming m just trying to motivate people to do the things they ve always wanted to if you re bored come see what ve done so far almost 1000 subscribers and just started ',\n",
       " 'rihanna looks so beautiful with red hair ',\n",
       " '857 482 940 views awesome ']"
      ]
     },
     "execution_count": 85,
     "metadata": {},
     "output_type": "execute_result"
    }
   ],
   "source": [
    "processed_features"
   ]
  },
  {
   "cell_type": "code",
   "execution_count": 12,
   "metadata": {},
   "outputs": [],
   "source": [
    "from nltk.corpus import stopwords\n",
    "from sklearn.feature_extraction.text import TfidfVectorizer\n",
    "\n",
    "vectorizer = TfidfVectorizer (max_features=2500, min_df=7, max_df=0.8, stop_words=stopwords.words('english'))\n",
    "processed_features = vectorizer.fit_transform(processed_features).toarray()"
   ]
  },
  {
   "cell_type": "code",
   "execution_count": 13,
   "metadata": {},
   "outputs": [],
   "source": [
    "from sklearn.model_selection import train_test_split\n",
    "\n",
    "X_train, X_test, y_train, y_test = train_test_split(processed_features, labels, test_size=0.2, random_state=0)"
   ]
  },
  {
   "cell_type": "code",
   "execution_count": 32,
   "metadata": {},
   "outputs": [
    {
     "data": {
      "text/plain": [
       "MultinomialNB()"
      ]
     },
     "execution_count": 32,
     "metadata": {},
     "output_type": "execute_result"
    }
   ],
   "source": [
    "from sklearn.naive_bayes import MultinomialNB\n",
    "\n",
    "text_classifier = MultinomialNB()\n",
    "text_classifier.fit(X_train, y_train)"
   ]
  },
  {
   "cell_type": "code",
   "execution_count": null,
   "metadata": {},
   "outputs": [],
   "source": []
  },
  {
   "cell_type": "code",
   "execution_count": 33,
   "metadata": {},
   "outputs": [],
   "source": [
    "predictions = text_classifier.predict(X_test)"
   ]
  },
  {
   "cell_type": "code",
   "execution_count": 113,
   "metadata": {},
   "outputs": [
    {
     "data": {
      "text/plain": [
       "(358, 125)"
      ]
     },
     "execution_count": 113,
     "metadata": {},
     "output_type": "execute_result"
    }
   ],
   "source": [
    "X_train.shape"
   ]
  },
  {
   "cell_type": "code",
   "execution_count": 34,
   "metadata": {},
   "outputs": [
    {
     "name": "stdout",
     "output_type": "stream",
     "text": [
      "[[35 10]\n",
      " [ 3 42]]\n",
      "              precision    recall  f1-score   support\n",
      "\n",
      "         ham       0.92      0.78      0.84        45\n",
      "        spam       0.81      0.93      0.87        45\n",
      "\n",
      "    accuracy                           0.86        90\n",
      "   macro avg       0.86      0.86      0.85        90\n",
      "weighted avg       0.86      0.86      0.85        90\n",
      "\n",
      "0.8555555555555555\n"
     ]
    }
   ],
   "source": [
    "from sklearn.metrics import classification_report, confusion_matrix, accuracy_score\n",
    "\n",
    "print(confusion_matrix(y_test,predictions))\n",
    "print(classification_report(y_test,predictions))\n",
    "print(accuracy_score(y_test, predictions))"
   ]
  },
  {
   "cell_type": "code",
   "execution_count": 66,
   "metadata": {},
   "outputs": [
    {
     "data": {
      "text/plain": [
       "['__annotations__',\n",
       " '__call__',\n",
       " '__class__',\n",
       " '__closure__',\n",
       " '__code__',\n",
       " '__defaults__',\n",
       " '__delattr__',\n",
       " '__dict__',\n",
       " '__dir__',\n",
       " '__doc__',\n",
       " '__eq__',\n",
       " '__format__',\n",
       " '__ge__',\n",
       " '__get__',\n",
       " '__getattribute__',\n",
       " '__globals__',\n",
       " '__gt__',\n",
       " '__hash__',\n",
       " '__init__',\n",
       " '__init_subclass__',\n",
       " '__kwdefaults__',\n",
       " '__le__',\n",
       " '__lt__',\n",
       " '__module__',\n",
       " '__name__',\n",
       " '__ne__',\n",
       " '__new__',\n",
       " '__qualname__',\n",
       " '__reduce__',\n",
       " '__reduce_ex__',\n",
       " '__repr__',\n",
       " '__setattr__',\n",
       " '__sizeof__',\n",
       " '__str__',\n",
       " '__subclasshook__',\n",
       " '__wrapped__']"
      ]
     },
     "execution_count": 66,
     "metadata": {},
     "output_type": "execute_result"
    }
   ],
   "source": [
    "dir(confusion_matrix)"
   ]
  },
  {
   "cell_type": "code",
   "execution_count": 96,
   "metadata": {},
   "outputs": [],
   "source": [
    "features=['********OMG Facebook is OLD! Check out  -----------------&gt; swagFriends com Make thousands of cool new friends everyday! Join the movement!']"
   ]
  },
  {
   "cell_type": "code",
   "execution_count": null,
   "metadata": {},
   "outputs": [],
   "source": [
    "\n",
    "\n"
   ]
  },
  {
   "cell_type": "code",
   "execution_count": 97,
   "metadata": {},
   "outputs": [],
   "source": [
    "processed_features = []\n",
    "\n",
    "for sentence in range(0, len(test)):\n",
    "    # Remove all the special characters\n",
    "    processed_feature = re.sub(r'\\W', ' ', str(features[sentence]))\n",
    "\n",
    "    # remove all single characters\n",
    "    processed_feature= re.sub(r'\\s+[a-zA-Z]\\s+', ' ', processed_feature)\n",
    "\n",
    "    # Remove single characters from the start\n",
    "    processed_feature = re.sub(r'\\^[a-zA-Z]\\s+', ' ', processed_feature) \n",
    "\n",
    "    # Substituting multiple spaces with single space\n",
    "    processed_feature = re.sub(r'\\s+', ' ', processed_feature, flags=re.I)\n",
    "\n",
    "    # Removing prefixed 'b'\n",
    "    processed_feature = re.sub(r'^b\\s+', '', processed_feature)\n",
    "\n",
    "    # Converting to Lowercase\n",
    "    processed_feature = processed_feature.lower()\n",
    "\n",
    "    processed_features.append(processed_feature)"
   ]
  },
  {
   "cell_type": "code",
   "execution_count": 98,
   "metadata": {},
   "outputs": [
    {
     "data": {
      "text/plain": [
       "[' omg facebook is old check out gt swagfriends com make thousands of cool new friends everyday join the movement ']"
      ]
     },
     "execution_count": 98,
     "metadata": {},
     "output_type": "execute_result"
    }
   ],
   "source": [
    "processed_features"
   ]
  },
  {
   "cell_type": "code",
   "execution_count": 99,
   "metadata": {},
   "outputs": [
    {
     "name": "stderr",
     "output_type": "stream",
     "text": [
      "[nltk_data] Downloading package stopwords to\n",
      "[nltk_data]     C:\\Users\\v2n\\AppData\\Roaming\\nltk_data...\n",
      "[nltk_data]   Package stopwords is already up-to-date!\n"
     ]
    },
    {
     "data": {
      "text/plain": [
       "True"
      ]
     },
     "execution_count": 99,
     "metadata": {},
     "output_type": "execute_result"
    }
   ],
   "source": [
    "import nltk\n",
    "nltk.download('stopwords')"
   ]
  },
  {
   "cell_type": "code",
   "execution_count": 100,
   "metadata": {},
   "outputs": [],
   "source": [
    "\n",
    "\n",
    "vectorizer = TfidfVectorizer (max_features=2500, stop_words=stopwords.words('english'))\n",
    "processed_features = vectorizer.fit_transform(processed_features).toarray()"
   ]
  },
  {
   "cell_type": "code",
   "execution_count": 125,
   "metadata": {},
   "outputs": [
    {
     "data": {
      "text/plain": [
       "0.2581988897471611"
      ]
     },
     "execution_count": 125,
     "metadata": {},
     "output_type": "execute_result"
    }
   ],
   "source": [
    "processed_features[0][0]"
   ]
  },
  {
   "cell_type": "code",
   "execution_count": 131,
   "metadata": {},
   "outputs": [
    {
     "ename": "ValueError",
     "evalue": "matmul: Input operand 1 has a mismatch in its core dimension 0, with gufunc signature (n?,k),(k,m?)->(n?,m?) (size 125 is different from 15)",
     "output_type": "error",
     "traceback": [
      "\u001b[1;31m---------------------------------------------------------------------------\u001b[0m",
      "\u001b[1;31mValueError\u001b[0m                                Traceback (most recent call last)",
      "\u001b[1;32m<ipython-input-131-64b1ace37386>\u001b[0m in \u001b[0;36m<module>\u001b[1;34m\u001b[0m\n\u001b[1;32m----> 1\u001b[1;33m \u001b[0mpredictions\u001b[0m \u001b[1;33m=\u001b[0m \u001b[0mtext_classifier\u001b[0m\u001b[1;33m.\u001b[0m\u001b[0mpredict\u001b[0m\u001b[1;33m(\u001b[0m\u001b[0mprocessed_features\u001b[0m\u001b[1;33m)\u001b[0m\u001b[1;33m\u001b[0m\u001b[1;33m\u001b[0m\u001b[0m\n\u001b[0m",
      "\u001b[1;32m~\\AppData\\Local\\Continuum\\anaconda3\\lib\\site-packages\\sklearn\\naive_bayes.py\u001b[0m in \u001b[0;36mpredict\u001b[1;34m(self, X)\u001b[0m\n\u001b[0;32m     76\u001b[0m         \u001b[0mcheck_is_fitted\u001b[0m\u001b[1;33m(\u001b[0m\u001b[0mself\u001b[0m\u001b[1;33m)\u001b[0m\u001b[1;33m\u001b[0m\u001b[1;33m\u001b[0m\u001b[0m\n\u001b[0;32m     77\u001b[0m         \u001b[0mX\u001b[0m \u001b[1;33m=\u001b[0m \u001b[0mself\u001b[0m\u001b[1;33m.\u001b[0m\u001b[0m_check_X\u001b[0m\u001b[1;33m(\u001b[0m\u001b[0mX\u001b[0m\u001b[1;33m)\u001b[0m\u001b[1;33m\u001b[0m\u001b[1;33m\u001b[0m\u001b[0m\n\u001b[1;32m---> 78\u001b[1;33m         \u001b[0mjll\u001b[0m \u001b[1;33m=\u001b[0m \u001b[0mself\u001b[0m\u001b[1;33m.\u001b[0m\u001b[0m_joint_log_likelihood\u001b[0m\u001b[1;33m(\u001b[0m\u001b[0mX\u001b[0m\u001b[1;33m)\u001b[0m\u001b[1;33m\u001b[0m\u001b[1;33m\u001b[0m\u001b[0m\n\u001b[0m\u001b[0;32m     79\u001b[0m         \u001b[1;32mreturn\u001b[0m \u001b[0mself\u001b[0m\u001b[1;33m.\u001b[0m\u001b[0mclasses_\u001b[0m\u001b[1;33m[\u001b[0m\u001b[0mnp\u001b[0m\u001b[1;33m.\u001b[0m\u001b[0margmax\u001b[0m\u001b[1;33m(\u001b[0m\u001b[0mjll\u001b[0m\u001b[1;33m,\u001b[0m \u001b[0maxis\u001b[0m\u001b[1;33m=\u001b[0m\u001b[1;36m1\u001b[0m\u001b[1;33m)\u001b[0m\u001b[1;33m]\u001b[0m\u001b[1;33m\u001b[0m\u001b[1;33m\u001b[0m\u001b[0m\n\u001b[0;32m     80\u001b[0m \u001b[1;33m\u001b[0m\u001b[0m\n",
      "\u001b[1;32m~\\AppData\\Local\\Continuum\\anaconda3\\lib\\site-packages\\sklearn\\naive_bayes.py\u001b[0m in \u001b[0;36m_joint_log_likelihood\u001b[1;34m(self, X)\u001b[0m\n\u001b[0;32m    775\u001b[0m     \u001b[1;32mdef\u001b[0m \u001b[0m_joint_log_likelihood\u001b[0m\u001b[1;33m(\u001b[0m\u001b[0mself\u001b[0m\u001b[1;33m,\u001b[0m \u001b[0mX\u001b[0m\u001b[1;33m)\u001b[0m\u001b[1;33m:\u001b[0m\u001b[1;33m\u001b[0m\u001b[1;33m\u001b[0m\u001b[0m\n\u001b[0;32m    776\u001b[0m         \u001b[1;34m\"\"\"Calculate the posterior log probability of the samples X\"\"\"\u001b[0m\u001b[1;33m\u001b[0m\u001b[1;33m\u001b[0m\u001b[0m\n\u001b[1;32m--> 777\u001b[1;33m         return (safe_sparse_dot(X, self.feature_log_prob_.T) +\n\u001b[0m\u001b[0;32m    778\u001b[0m                 self.class_log_prior_)\n\u001b[0;32m    779\u001b[0m \u001b[1;33m\u001b[0m\u001b[0m\n",
      "\u001b[1;32m~\\AppData\\Local\\Continuum\\anaconda3\\lib\\site-packages\\sklearn\\utils\\validation.py\u001b[0m in \u001b[0;36minner_f\u001b[1;34m(*args, **kwargs)\u001b[0m\n\u001b[0;32m     71\u001b[0m                           FutureWarning)\n\u001b[0;32m     72\u001b[0m         \u001b[0mkwargs\u001b[0m\u001b[1;33m.\u001b[0m\u001b[0mupdate\u001b[0m\u001b[1;33m(\u001b[0m\u001b[1;33m{\u001b[0m\u001b[0mk\u001b[0m\u001b[1;33m:\u001b[0m \u001b[0marg\u001b[0m \u001b[1;32mfor\u001b[0m \u001b[0mk\u001b[0m\u001b[1;33m,\u001b[0m \u001b[0marg\u001b[0m \u001b[1;32min\u001b[0m \u001b[0mzip\u001b[0m\u001b[1;33m(\u001b[0m\u001b[0msig\u001b[0m\u001b[1;33m.\u001b[0m\u001b[0mparameters\u001b[0m\u001b[1;33m,\u001b[0m \u001b[0margs\u001b[0m\u001b[1;33m)\u001b[0m\u001b[1;33m}\u001b[0m\u001b[1;33m)\u001b[0m\u001b[1;33m\u001b[0m\u001b[1;33m\u001b[0m\u001b[0m\n\u001b[1;32m---> 73\u001b[1;33m         \u001b[1;32mreturn\u001b[0m \u001b[0mf\u001b[0m\u001b[1;33m(\u001b[0m\u001b[1;33m**\u001b[0m\u001b[0mkwargs\u001b[0m\u001b[1;33m)\u001b[0m\u001b[1;33m\u001b[0m\u001b[1;33m\u001b[0m\u001b[0m\n\u001b[0m\u001b[0;32m     74\u001b[0m     \u001b[1;32mreturn\u001b[0m \u001b[0minner_f\u001b[0m\u001b[1;33m\u001b[0m\u001b[1;33m\u001b[0m\u001b[0m\n\u001b[0;32m     75\u001b[0m \u001b[1;33m\u001b[0m\u001b[0m\n",
      "\u001b[1;32m~\\AppData\\Local\\Continuum\\anaconda3\\lib\\site-packages\\sklearn\\utils\\extmath.py\u001b[0m in \u001b[0;36msafe_sparse_dot\u001b[1;34m(a, b, dense_output)\u001b[0m\n\u001b[0;32m    151\u001b[0m             \u001b[0mret\u001b[0m \u001b[1;33m=\u001b[0m \u001b[0mnp\u001b[0m\u001b[1;33m.\u001b[0m\u001b[0mdot\u001b[0m\u001b[1;33m(\u001b[0m\u001b[0ma\u001b[0m\u001b[1;33m,\u001b[0m \u001b[0mb\u001b[0m\u001b[1;33m)\u001b[0m\u001b[1;33m\u001b[0m\u001b[1;33m\u001b[0m\u001b[0m\n\u001b[0;32m    152\u001b[0m     \u001b[1;32melse\u001b[0m\u001b[1;33m:\u001b[0m\u001b[1;33m\u001b[0m\u001b[1;33m\u001b[0m\u001b[0m\n\u001b[1;32m--> 153\u001b[1;33m         \u001b[0mret\u001b[0m \u001b[1;33m=\u001b[0m \u001b[0ma\u001b[0m \u001b[1;33m@\u001b[0m \u001b[0mb\u001b[0m\u001b[1;33m\u001b[0m\u001b[1;33m\u001b[0m\u001b[0m\n\u001b[0m\u001b[0;32m    154\u001b[0m \u001b[1;33m\u001b[0m\u001b[0m\n\u001b[0;32m    155\u001b[0m     if (sparse.issparse(a) and sparse.issparse(b)\n",
      "\u001b[1;31mValueError\u001b[0m: matmul: Input operand 1 has a mismatch in its core dimension 0, with gufunc signature (n?,k),(k,m?)->(n?,m?) (size 125 is different from 15)"
     ]
    }
   ],
   "source": [
    "predictions = text_classifier.predict(processed_features)"
   ]
  },
  {
   "cell_type": "code",
   "execution_count": null,
   "metadata": {},
   "outputs": [],
   "source": []
  },
  {
   "cell_type": "code",
   "execution_count": null,
   "metadata": {},
   "outputs": [],
   "source": []
  }
 ],
 "metadata": {
  "kernelspec": {
   "display_name": "Python 3",
   "language": "python",
   "name": "python3"
  },
  "language_info": {
   "codemirror_mode": {
    "name": "ipython",
    "version": 3
   },
   "file_extension": ".py",
   "mimetype": "text/x-python",
   "name": "python",
   "nbconvert_exporter": "python",
   "pygments_lexer": "ipython3",
   "version": "3.7.7"
  }
 },
 "nbformat": 4,
 "nbformat_minor": 4
}
