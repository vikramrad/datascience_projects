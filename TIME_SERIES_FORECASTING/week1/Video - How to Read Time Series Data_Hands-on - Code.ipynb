{
 "cells": [
  {
   "cell_type": "markdown",
   "metadata": {},
   "source": [
    "## Various type of TS"
   ]
  },
  {
   "cell_type": "markdown",
   "metadata": {},
   "source": [
    "### 1) Univariate Time Series\n",
    "\n",
    "A univariate time series, is a series with a single time-dependent variable like Demand for a product at time, t.\n",
    "\n",
    "For example, have a look at the sample dataset below that consists of the minimum temperatures across the months of the year from the Southern Hemisphere from 1981 to 1990. Here, temperature is the dependent variable (dependent on Time)."
   ]
  },
  {
   "cell_type": "code",
   "execution_count": 3,
   "metadata": {
    "ExecuteTime": {
     "end_time": "2020-06-17T13:29:08.437889Z",
     "start_time": "2020-06-17T13:29:07.213612Z"
    }
   },
   "outputs": [],
   "source": [
    "### Load required libraries\n",
    "\n",
    "from    pandas             import   read_csv, Grouper, DataFrame, concat\n",
    "import  matplotlib.pyplot  as       plt\n"
   ]
  },
  {
   "cell_type": "code",
   "execution_count": 4,
   "metadata": {
    "ExecuteTime": {
     "end_time": "2020-06-17T13:29:08.467129Z",
     "start_time": "2020-06-17T13:29:08.439882Z"
    }
   },
   "outputs": [],
   "source": [
    "### Read the time series data\n",
    "\n",
    "series   =  read_csv('E:/AIMLGLIM/TIME_SERIES_FORECASTING/week1/daily-minimum-temperatures.csv', header = 0, index_col = 0, parse_dates = True, squeeze = True)"
   ]
  },
  {
   "cell_type": "code",
   "execution_count": 5,
   "metadata": {
    "ExecuteTime": {
     "end_time": "2020-06-17T13:29:08.560330Z",
     "start_time": "2020-06-17T13:29:08.467129Z"
    }
   },
   "outputs": [
    {
     "name": "stdout",
     "output_type": "stream",
     "text": [
      "Date\n",
      "1981-01-01    20.7\n",
      "1981-02-01    17.9\n",
      "1981-03-01    18.8\n",
      "1981-04-01    14.6\n",
      "1981-05-01    15.8\n",
      "Name: Daily minimum temperatures in Melbourne, Australia, 1981-1990, dtype: object\n"
     ]
    }
   ],
   "source": [
    "### Print first five records\n",
    "\n",
    "print(series.head())"
   ]
  },
  {
   "cell_type": "markdown",
   "metadata": {},
   "source": [
    "#### Plot the time series data to detect patterns"
   ]
  },
  {
   "cell_type": "code",
   "execution_count": 4,
   "metadata": {
    "ExecuteTime": {
     "end_time": "2020-06-17T13:29:09.192463Z",
     "start_time": "2020-06-17T13:29:08.562325Z"
    }
   },
   "outputs": [
    {
     "data": {
      "image/png": "[encoded data removed]",
      "text/plain": [
       "<Figure size 432x288 with 1 Axes>"
      ]
     },
     "metadata": {
      "needs_background": "light"
     },
     "output_type": "display_data"
    }
   ],
   "source": [
    "series.plot()\n",
    "plt.ylabel('Minimum Temp')\n",
    "plt.title('Minimum temperature in Southern Hemisphere \\n From 1981 to 1990')\n",
    "plt.show()"
   ]
  },
  {
   "cell_type": "markdown",
   "metadata": {},
   "source": [
    "Suppose we predict the temperature for the next few months, we will look at the past values and try to gauge and extract a pattern. \n",
    "\n",
    "Here we observe a pattern within each year indicating a seasonal effect. Such observations will help us in predicting future values. \n",
    "\n",
    "**Note: We have used only one variable, Temp (the temperature of the past 19 years).**\n",
    "\n",
    "Hence, this is called Univariate Time Series Analysis/Forecasting."
   ]
  },
  {
   "cell_type": "markdown",
   "metadata": {},
   "source": [
    " ### Multi-variate Time Series"
   ]
  },
  {
   "cell_type": "markdown",
   "metadata": {},
   "source": [
    "A Multivariate time series has more than one time-dependent variable. Each variable depends not only on its past values but also has some dependency on other variables. This dependency is used for forecasting future values.\n",
    "https://www.analyticsvidhya.com/blog/2018/09/multivariate-time-series-guide-forecasting-modeling-python-codes/"
   ]
  },
  {
   "cell_type": "markdown",
   "metadata": {},
   "source": [
    "Air pollution forecasting\n",
    "\n",
    "https://machinelearningmastery.com/multivariate-time-series-forecasting-lstms-keras/\n",
    "\n",
    "This dataset reports on the weather and the level of pollution each hour for five years at the US embassy in Beijing, China.\n",
    "The data includes the date-time, the pollution called PM2.5 concentration, and the weather information including dew point, temperature, pressure, wind direction, wind speed and the cumulative number of hours of snow and rain. \n",
    "\n",
    "The complete feature list in the raw data is as follows:\n",
    "\n",
    "| Sl No | Variable | Description |\n",
    "| --- | --------------- | ------------------------------ |\n",
    "| 1 | No | row number | \n",
    "| 2 | qyear | year of data in this row | \n",
    "| 3 | month | month of data in this row | \n",
    "| 4 | day | day of data in this row | \n",
    "| 5 | hour | hour of data in this row | \n",
    "| 6 | pm2.5 | PM2.5 concentration | \n",
    "| 7 | DEWP | Dew Point | \n",
    "| 8 | TEMP | Temperature | \n",
    "| 9 | PRES | Pressure | \n",
    "| 10 | cbwd | Combined wind direction | \n",
    "| 11 | Iws | Cumulated wind speed | \n",
    "| 12 | Is | Cumulated hours of snow | \n",
    "| 13 | Ir | Cumulated hours of rain | \n",
    "\n",
    "\n",
    "**Given the weather conditions and pollution for prior hours, we forecast the pollution at the next hour.**"
   ]
  },
  {
   "cell_type": "markdown",
   "metadata": {},
   "source": [
    "* 1) Consolidate the date-time information into a single date-time so that we can use it as an index in Pandas.\n",
    "* 2) Treat NA values. \n",
    "\n",
    "A quick check reveals NA values for pm2.5 for the first 24 hours. We will, therefore, need to remove the first row of data. There are also a few scattered “NA” values later in the dataset; we can mark them with 0 values for now."
   ]
  },
  {
   "cell_type": "markdown",
   "metadata": {},
   "source": [
    "* 1) Load the raw dataset and parses the date-time information as the Pandas DataFrame index. \n",
    "* 2) Drop the “No” column \n",
    "* 3) Name each column. \n",
    "* 4) Replace NA values with “0” \n",
    "* 5) Remove first 24 hours."
   ]
  },
  {
   "cell_type": "code",
   "execution_count": 5,
   "metadata": {
    "ExecuteTime": {
     "end_time": "2020-06-17T13:29:10.947183Z",
     "start_time": "2020-06-17T13:29:09.194938Z"
    }
   },
   "outputs": [
    {
     "name": "stdout",
     "output_type": "stream",
     "text": [
      "                     pollution  dew  temp   press wnd_dir  wnd_spd  snow  rain\n",
      "date                                                                          \n",
      "2010-01-02 00:00:00      129.0  -16  -4.0  1020.0      SE     1.79     0     0\n",
      "2010-01-02 01:00:00      148.0  -15  -4.0  1020.0      SE     2.68     0     0\n",
      "2010-01-02 02:00:00      159.0  -11  -5.0  1021.0      SE     3.57     0     0\n",
      "2010-01-02 03:00:00      181.0   -7  -5.0  1022.0      SE     5.36     1     0\n",
      "2010-01-02 04:00:00      138.0   -7  -5.0  1022.0      SE     6.25     2     0\n"
     ]
    }
   ],
   "source": [
    "from pandas import read_csv\n",
    "from datetime import datetime\n",
    "\n",
    "# load libraries\n",
    "\n",
    "#The following lines of code defines a function which goes by the name of 'parse'. This particular function sets ups the\n",
    "#the date time reading format\n",
    "def parse(x):\n",
    "    return datetime.strptime(x, '%Y %m %d %H')\n",
    "\n",
    "# Load dataset\n",
    "\n",
    "dataset = read_csv('D:/raw.csv',  parse_dates = [['year', 'month', 'day', 'hour']],\n",
    "                   index_col=0, date_parser=parse)\n",
    "dataset.drop('No', axis=1, inplace=True)\n",
    "\n",
    "# manually specify column names\n",
    "\n",
    "dataset.columns = ['pollution', 'dew', 'temp', 'press', 'wnd_dir', 'wnd_spd', 'snow', 'rain']\n",
    "dataset.index.name = 'date'\n",
    "\n",
    "# mark all NA values with 0\n",
    "dataset['pollution'].fillna(0, inplace=True)\n",
    "\n",
    "# drop the first 24 hours\n",
    "dataset = dataset[24:]\n",
    "\n",
    "# summarize first 5 rows\n",
    "print(dataset.head(5))"
   ]
  },
  {
   "cell_type": "markdown",
   "metadata": {},
   "source": [
    " Plot each series as a separate subplot, except wind speed dir, which is categorical."
   ]
  },
  {
   "cell_type": "code",
   "execution_count": 6,
   "metadata": {
    "ExecuteTime": {
     "end_time": "2020-06-17T13:29:12.754973Z",
     "start_time": "2020-06-17T13:29:10.950783Z"
    }
   },
   "outputs": [
    {
     "data": {
      "image/png": "[encoded data removed]",
      "text/plain": [
       "<Figure size 432x288 with 7 Axes>"
      ]
     },
     "metadata": {
      "needs_background": "light"
     },
     "output_type": "display_data"
    }
   ],
   "source": [
    "values = dataset.values\n",
    "\n",
    "# specify columns to plot\n",
    "\n",
    "groups = [0, 1, 2, 3, 5, 6, 7]\n",
    "i = 1\n",
    "\n",
    "# plot each column\n",
    "plt.figure()\n",
    "\n",
    "for group in groups:\n",
    "    plt.subplot(len(groups), 1, i)\n",
    "    plt.plot(values[:, group])\n",
    "    plt.title(dataset.columns[group], y=0.5, loc='right')\n",
    "    i += 1\n",
    "    \n",
    "plt.show()"
   ]
  },
  {
   "cell_type": "markdown",
   "metadata": {},
   "source": [
    "We have created a plot with 7 subplots showing the 5 years of data for each variable."
   ]
  },
  {
   "cell_type": "markdown",
   "metadata": {},
   "source": [
    "## Reading and saving TS objects in Python\n",
    "\n",
    "### Example 1 \n",
    "\n",
    "#### Use US Airpassengers data set"
   ]
  },
  {
   "cell_type": "code",
   "execution_count": 7,
   "metadata": {
    "ExecuteTime": {
     "end_time": "2020-06-17T13:29:13.038627Z",
     "start_time": "2020-06-17T13:29:12.757822Z"
    }
   },
   "outputs": [
    {
     "data": {
      "image/png": "[encoded data removed]",
      "text/plain": [
       "<Figure size 432x288 with 1 Axes>"
      ]
     },
     "metadata": {
      "needs_background": "light"
     },
     "output_type": "display_data"
    }
   ],
   "source": [
    "from     pandas            import  read_csv, DataFrame, concat, Grouper\n",
    "import   pandas            as      pd\n",
    "import   matplotlib.pyplot as      plt\n",
    "\n",
    "# We are defining the way that Python should be reading our corresponding time-stamps in the data. In this case, first \n",
    "# Year and then Month. the following arguement can be passed into the 'date_parser' parser parameter present inside the\n",
    "# 'read_csv' function of pandas\n",
    "# dateparse = lambda dates: pd.datetime.strptime(dates, '%Y-%m')\n",
    "\n",
    "data      =   pd.read_csv('D:/AirPassenger.csv', parse_dates = ['Year-Month'], index_col = 'Year-Month')\n",
    "plt.plot(data) \n",
    "plt.show()"
   ]
  },
  {
   "cell_type": "markdown",
   "metadata": {},
   "source": [
    "Some of the arguments for read_csv are explained here.\n",
    "\n",
    "* parse_dates:     This specifies the column which contains the date-time information. \n",
    "* index_col:       A key idea behind using Pandas for TS data is that the index has to be the variable depicting date-time information. \n",
    "* date_parser:    This specifies a function which converts an input string into datetime variable. Be default Pandas reads data in format ‘YYYY-MM-DD HH:MM:SS’. If the data is not in this format, the format has to be manually defined. \n"
   ]
  },
  {
   "cell_type": "code",
   "execution_count": 8,
   "metadata": {
    "ExecuteTime": {
     "end_time": "2020-06-17T13:29:13.205961Z",
     "start_time": "2020-06-17T13:29:13.038627Z"
    }
   },
   "outputs": [
    {
     "name": "stdout",
     "output_type": "stream",
     "text": [
      "<class 'pandas.core.frame.DataFrame'>\n",
      "               0           1\n",
      "Date  1981-01-01  1981-01-02\n",
      "Temp        20.7        17.9\n"
     ]
    }
   ],
   "source": [
    "### Save the TS object \n",
    "series.to_csv('ts1.csv', index = True, sep = ',')\n",
    "\n",
    "### Check the object retrieved\n",
    "series1 = read_csv('ts1.csv', header = 0)\n",
    "\n",
    "### Check\n",
    "print(type(series1))\n",
    "print(series1.head(2).T)"
   ]
  },
  {
   "cell_type": "markdown",
   "metadata": {},
   "source": [
    "### Example 2\n",
    "\n",
    "Read GDP India series and save this TS object using python.\n",
    "Data is yearly from 1960-1-1 to 2017-12-31.\n",
    "\n",
    "https://pythontips.com/2013/08/02/what-is-pickle-in-python/\n",
    "\n",
    "Any object in python can be pickled so that it can be saved on disk. What pickle does is that it “serialises” the object first before writing it to file. \n",
    "\n",
    "Pickling is a way to convert a python object (list, dict, etc.) into a character stream. The idea is that this character stream contains all the information necessary to reconstruct the object in another python script.\n",
    "\n",
    "Now we store the TS object and retrieve the same from the pickle object."
   ]
  },
  {
   "cell_type": "code",
   "execution_count": 9,
   "metadata": {
    "ExecuteTime": {
     "end_time": "2020-06-17T13:29:13.256981Z",
     "start_time": "2020-06-17T13:29:13.210398Z"
    }
   },
   "outputs": [
    {
     "data": {
      "text/html": [
       "<div>\n",
       "<style scoped>\n",
       "    .dataframe tbody tr th:only-of-type {\n",
       "        vertical-align: middle;\n",
       "    }\n",
       "\n",
       "    .dataframe tbody tr th {\n",
       "        vertical-align: top;\n",
       "    }\n",
       "\n",
       "    .dataframe thead th {\n",
       "        text-align: right;\n",
       "    }\n",
       "</style>\n",
       "<table border=\"1\" class=\"dataframe\">\n",
       "  <thead>\n",
       "    <tr style=\"text-align: right;\">\n",
       "      <th></th>\n",
       "      <th>0</th>\n",
       "      <th>1</th>\n",
       "      <th>2</th>\n",
       "      <th>3</th>\n",
       "      <th>4</th>\n",
       "    </tr>\n",
       "  </thead>\n",
       "  <tbody>\n",
       "    <tr>\n",
       "      <th>Year</th>\n",
       "      <td>1960</td>\n",
       "      <td>1961</td>\n",
       "      <td>1962</td>\n",
       "      <td>1963</td>\n",
       "      <td>1964</td>\n",
       "    </tr>\n",
       "    <tr>\n",
       "      <th>GDPpercapita</th>\n",
       "      <td>81.2848</td>\n",
       "      <td>84.4264</td>\n",
       "      <td>88.9149</td>\n",
       "      <td>100.049</td>\n",
       "      <td>114.315</td>\n",
       "    </tr>\n",
       "    <tr>\n",
       "      <th>TimeIndex</th>\n",
       "      <td>1960-12-31 00:00:00</td>\n",
       "      <td>1961-12-31 00:00:00</td>\n",
       "      <td>1962-12-31 00:00:00</td>\n",
       "      <td>1963-12-31 00:00:00</td>\n",
       "      <td>1964-12-31 00:00:00</td>\n",
       "    </tr>\n",
       "  </tbody>\n",
       "</table>\n",
       "</div>"
      ],
      "text/plain": [
       "                                0                    1                    2  \\\n",
       "Year                         1960                 1961                 1962   \n",
       "GDPpercapita              81.2848              84.4264              88.9149   \n",
       "TimeIndex     1960-12-31 00:00:00  1961-12-31 00:00:00  1962-12-31 00:00:00   \n",
       "\n",
       "                                3                    4  \n",
       "Year                         1963                 1964  \n",
       "GDPpercapita              100.049              114.315  \n",
       "TimeIndex     1963-12-31 00:00:00  1964-12-31 00:00:00  "
      ]
     },
     "execution_count": 9,
     "metadata": {},
     "output_type": "execute_result"
    }
   ],
   "source": [
    "IndiaGDP = pd.read_csv('D:/GDPIndia.csv', header=0)\n",
    "\n",
    "date_rng = pd.date_range(start='1/1/1960', end='31/12/2017', freq='A')\n",
    "\n",
    "IndiaGDP['TimeIndex'] = pd.DataFrame(date_rng, columns=['Year'])\n",
    "IndiaGDP.head(5).T"
   ]
  },
  {
   "cell_type": "code",
   "execution_count": 10,
   "metadata": {
    "ExecuteTime": {
     "end_time": "2020-06-17T13:29:13.803904Z",
     "start_time": "2020-06-17T13:29:13.261485Z"
    }
   },
   "outputs": [
    {
     "data": {
      "image/png": "[encoded data removed]",
      "text/plain": [
       "<Figure size 432x288 with 1 Axes>"
      ]
     },
     "metadata": {
      "needs_background": "light"
     },
     "output_type": "display_data"
    }
   ],
   "source": [
    "plt.plot(IndiaGDP.TimeIndex, IndiaGDP.GDPpercapita,label='GDPpercapita')\n",
    "plt.legend(loc='best')\n",
    "plt.show()"
   ]
  },
  {
   "cell_type": "code",
   "execution_count": 11,
   "metadata": {
    "ExecuteTime": {
     "end_time": "2020-06-17T13:29:13.819458Z",
     "start_time": "2020-06-17T13:29:13.803904Z"
    }
   },
   "outputs": [],
   "source": [
    "### Load as a pickle object\n",
    "\n",
    "import pickle\n",
    "\n",
    "with open('GDPIndia.obj', 'wb') as fp:\n",
    "        pickle.dump(IndiaGDP, fp)"
   ]
  },
  {
   "cell_type": "code",
   "execution_count": 12,
   "metadata": {
    "ExecuteTime": {
     "end_time": "2020-06-17T13:29:13.921178Z",
     "start_time": "2020-06-17T13:29:13.819458Z"
    }
   },
   "outputs": [
    {
     "data": {
      "text/html": [
       "<div>\n",
       "<style scoped>\n",
       "    .dataframe tbody tr th:only-of-type {\n",
       "        vertical-align: middle;\n",
       "    }\n",
       "\n",
       "    .dataframe tbody tr th {\n",
       "        vertical-align: top;\n",
       "    }\n",
       "\n",
       "    .dataframe thead th {\n",
       "        text-align: right;\n",
       "    }\n",
       "</style>\n",
       "<table border=\"1\" class=\"dataframe\">\n",
       "  <thead>\n",
       "    <tr style=\"text-align: right;\">\n",
       "      <th></th>\n",
       "      <th>0</th>\n",
       "      <th>1</th>\n",
       "      <th>2</th>\n",
       "      <th>3</th>\n",
       "      <th>4</th>\n",
       "    </tr>\n",
       "  </thead>\n",
       "  <tbody>\n",
       "    <tr>\n",
       "      <th>Year</th>\n",
       "      <td>1960</td>\n",
       "      <td>1961</td>\n",
       "      <td>1962</td>\n",
       "      <td>1963</td>\n",
       "      <td>1964</td>\n",
       "    </tr>\n",
       "    <tr>\n",
       "      <th>GDPpercapita</th>\n",
       "      <td>81.2848</td>\n",
       "      <td>84.4264</td>\n",
       "      <td>88.9149</td>\n",
       "      <td>100.049</td>\n",
       "      <td>114.315</td>\n",
       "    </tr>\n",
       "    <tr>\n",
       "      <th>TimeIndex</th>\n",
       "      <td>1960-12-31 00:00:00</td>\n",
       "      <td>1961-12-31 00:00:00</td>\n",
       "      <td>1962-12-31 00:00:00</td>\n",
       "      <td>1963-12-31 00:00:00</td>\n",
       "      <td>1964-12-31 00:00:00</td>\n",
       "    </tr>\n",
       "  </tbody>\n",
       "</table>\n",
       "</div>"
      ],
      "text/plain": [
       "                                0                    1                    2  \\\n",
       "Year                         1960                 1961                 1962   \n",
       "GDPpercapita              81.2848              84.4264              88.9149   \n",
       "TimeIndex     1960-12-31 00:00:00  1961-12-31 00:00:00  1962-12-31 00:00:00   \n",
       "\n",
       "                                3                    4  \n",
       "Year                         1963                 1964  \n",
       "GDPpercapita              100.049              114.315  \n",
       "TimeIndex     1963-12-31 00:00:00  1964-12-31 00:00:00  "
      ]
     },
     "execution_count": 12,
     "metadata": {},
     "output_type": "execute_result"
    }
   ],
   "source": [
    "### Retrieve the pickle object\n",
    "\n",
    "with open('GDPIndia.obj', 'rb') as fp:  \n",
    "     IndiaGDP1 = pickle.load(fp)\n",
    "        \n",
    "IndiaGDP1.head(5).T"
   ]
  },
  {
   "cell_type": "markdown",
   "metadata": {},
   "source": [
    "If you are facing further problems with the 'pickle' function in Python, please do refer to the following documentation over $\\href{https://docs.python.org/2/library/pickle.html}{here}$."
   ]
  },
  {
   "cell_type": "markdown",
   "metadata": {},
   "source": [
    "### Components of TS: Trend & Seasonality"
   ]
  },
  {
   "cell_type": "markdown",
   "metadata": {},
   "source": [
    "### Example 3\n",
    "\n",
    "**Shampoo Sales Dataset**\n",
    "\n",
    "This dataset describes the monthly number of sales of shampoo over a 3 year period.\n",
    "The units are a sales count and there are 36 observations. The original dataset is credited to Makridakis, Wheelwright, and Hyndman (1998).\n",
    "\n",
    "Data source: Data Market https://datamarket.com/data/set/22r0/sales-of-shampoo-over-a-three-year-period\n",
    "\n",
    "\n",
    "Below is a sample of the first 5 rows of data, including the header row.\n",
    "\n",
    "| Month | Sales |\n",
    "| ---- | -------- |\n",
    "| 1-01 | 266.0 | \n",
    "| 1-02 | 145.9 | \n",
    "| 1-03 | 183.1 | \n",
    "| 1-04 | 119.3 | \n",
    "| 1-05 | 180.3 | "
   ]
  },
  {
   "cell_type": "code",
   "execution_count": 13,
   "metadata": {
    "ExecuteTime": {
     "end_time": "2020-06-17T13:29:14.578152Z",
     "start_time": "2020-06-17T13:29:13.921178Z"
    }
   },
   "outputs": [
    {
     "data": {
      "image/png": "[encoded data removed]",
      "text/plain": [
       "<Figure size 432x288 with 1 Axes>"
      ]
     },
     "metadata": {
      "needs_background": "light"
     },
     "output_type": "display_data"
    }
   ],
   "source": [
    "import  pandas            as pd\n",
    "import  matplotlib.pyplot as plt\n",
    " \n",
    "def parser(x):\n",
    "    return datetime.strptime('190'+x, '%Y-%m')\n",
    " \n",
    "series = read_csv('D:/shampoo-sales.csv', header=0, parse_dates=[0], index_col=0, squeeze=True, date_parser=parser)\n",
    "\n",
    "series.plot()\n",
    "plt.show()"
   ]
  },
  {
   "cell_type": "markdown",
   "metadata": {},
   "source": [
    "### The above plot shows an increasing trend."
   ]
  },
  {
   "cell_type": "markdown",
   "metadata": {},
   "source": [
    "### Exercise 4"
   ]
  },
  {
   "cell_type": "markdown",
   "metadata": {},
   "source": [
    "**Minimum Daily Temperatures Dataset**\n",
    "\n",
    "https://machinelearningmastery.com/time-series-seasonality-with-python/\n",
    "\n",
    "This dataset describes the minimum daily temperatures over 10 years (1981-1990) in the city Melbourne, Australia.\n",
    "\n",
    "Data source: Data Market https://datamarket.com/data/set/22r0/sales-of-shampoo-over-a-three-year-period\n",
    "\n",
    "The units are in degrees Celsius and there are 3,650 observations. The source of the data is credited as the Australian Bureau of Meteorology.\n",
    "\n",
    "A sample of the first 5 rows of data, including the header row is shown below:\n",
    "\n",
    "| Date | Temperature |\n",
    "| ------- | -------- | \n",
    "| 1981-01-01 | 20.7 | \n",
    "| 1981-01-02 | 17.9 | \n",
    "| 1981-01-03 | 18.8 | \n",
    "| 1981-01-04 | 14.6 | \n",
    "| 1981-01-05 | 15.8 | \n"
   ]
  },
  {
   "cell_type": "code",
   "execution_count": 14,
   "metadata": {
    "ExecuteTime": {
     "end_time": "2020-06-17T13:29:14.939313Z",
     "start_time": "2020-06-17T13:29:14.578152Z"
    }
   },
   "outputs": [
    {
     "data": {
      "image/png": "[encoded data removed]",
      "text/plain": [
       "<Figure size 432x288 with 1 Axes>"
      ]
     },
     "metadata": {
      "needs_background": "light"
     },
     "output_type": "display_data"
    }
   ],
   "source": [
    "### Load required libraries\n",
    "\n",
    "import    pandas           as pd\n",
    "import  matplotlib.pyplot  as plt\n",
    "\n",
    "### Read the time series data\n",
    "\n",
    "series   =  pd.read_csv('D:/daily-minimum-temperatures.csv', header = 0, index_col = 0, parse_dates = True, squeeze = True)\n",
    "\n",
    "series.plot()\n",
    "plt.ylabel('Minimum Temp')\n",
    "plt.title('Minimum temperature in Southern Hemisphere \\n From 1981 to 1990')\n",
    "plt.show()\n"
   ]
  },
  {
   "cell_type": "markdown",
   "metadata": {},
   "source": [
    "### The above plot shows a strong seasonality component."
   ]
  },
  {
   "cell_type": "markdown",
   "metadata": {},
   "source": [
    "We can draw a boxplot to check the variation across months in a year (1990).\n",
    "It appears that we have a seasonal component each year showing swing from summer to winter."
   ]
  },
  {
   "cell_type": "code",
   "execution_count": 15,
   "metadata": {
    "ExecuteTime": {
     "end_time": "2020-06-17T13:29:15.702845Z",
     "start_time": "2020-06-17T13:29:14.941550Z"
    }
   },
   "outputs": [
    {
     "data": {
      "image/png": "[encoded data removed]",
      "text/plain": [
       "<Figure size 432x288 with 1 Axes>"
      ]
     },
     "metadata": {
      "needs_background": "light"
     },
     "output_type": "display_data"
    }
   ],
   "source": [
    "months         = DataFrame()\n",
    "one_year       = series['1990'] \n",
    "groups         = one_year.groupby(Grouper(freq='M')) \n",
    "months         = concat([DataFrame(x[1].values) for x in groups], axis=1) \n",
    "months         = DataFrame(months) \n",
    "months.columns = range(1,13) \n",
    "months.boxplot() \n",
    "plt.show()"
   ]
  },
  {
   "cell_type": "markdown",
   "metadata": {},
   "source": [
    "This plot shows the signiﬁcant change in distribution of minimum temperatures across the months of the year from the Southern Hemisphere summer in January to the Southern Hemisphere winter in the middle of the year, and back to summer again."
   ]
  },
  {
   "cell_type": "markdown",
   "metadata": {},
   "source": [
    "We group the Minimum Daily Temperatures dataset by years. A box and whisker plot is then created for each year and lined up side-by-side for direct comparison."
   ]
  },
  {
   "cell_type": "code",
   "execution_count": 16,
   "metadata": {
    "ExecuteTime": {
     "end_time": "2020-06-17T13:29:16.161418Z",
     "start_time": "2020-06-17T13:29:15.702845Z"
    }
   },
   "outputs": [
    {
     "data": {
      "image/png": "[encoded data removed]",
      "text/plain": [
       "<Figure size 432x288 with 1 Axes>"
      ]
     },
     "metadata": {
      "needs_background": "light"
     },
     "output_type": "display_data"
    }
   ],
   "source": [
    "groups = series.groupby(Grouper(freq='A')) \n",
    "years  = DataFrame() \n",
    "for name, group in groups: \n",
    "    years[name.year] = group.values \n",
    "years.boxplot() \n",
    "plt.show()"
   ]
  },
  {
   "cell_type": "markdown",
   "metadata": {},
   "source": [
    "We do not observe much year-by-year variation."
   ]
  },
  {
   "cell_type": "markdown",
   "metadata": {},
   "source": [
    "### Example 5"
   ]
  },
  {
   "cell_type": "markdown",
   "metadata": {},
   "source": [
    "Read Tractor Sales Series\n"
   ]
  },
  {
   "cell_type": "code",
   "execution_count": 17,
   "metadata": {
    "ExecuteTime": {
     "end_time": "2020-06-17T13:29:16.188990Z",
     "start_time": "2020-06-17T13:29:16.161418Z"
    }
   },
   "outputs": [
    {
     "data": {
      "text/html": [
       "<div>\n",
       "<style scoped>\n",
       "    .dataframe tbody tr th:only-of-type {\n",
       "        vertical-align: middle;\n",
       "    }\n",
       "\n",
       "    .dataframe tbody tr th {\n",
       "        vertical-align: top;\n",
       "    }\n",
       "\n",
       "    .dataframe thead th {\n",
       "        text-align: right;\n",
       "    }\n",
       "</style>\n",
       "<table border=\"1\" class=\"dataframe\">\n",
       "  <thead>\n",
       "    <tr style=\"text-align: right;\">\n",
       "      <th></th>\n",
       "      <th>Month-Year</th>\n",
       "      <th>Number of Tractor Sold</th>\n",
       "    </tr>\n",
       "  </thead>\n",
       "  <tbody>\n",
       "    <tr>\n",
       "      <th>0</th>\n",
       "      <td>3-Jan</td>\n",
       "      <td>141</td>\n",
       "    </tr>\n",
       "    <tr>\n",
       "      <th>1</th>\n",
       "      <td>3-Feb</td>\n",
       "      <td>157</td>\n",
       "    </tr>\n",
       "    <tr>\n",
       "      <th>2</th>\n",
       "      <td>3-Mar</td>\n",
       "      <td>185</td>\n",
       "    </tr>\n",
       "    <tr>\n",
       "      <th>3</th>\n",
       "      <td>3-Apr</td>\n",
       "      <td>199</td>\n",
       "    </tr>\n",
       "    <tr>\n",
       "      <th>4</th>\n",
       "      <td>3-May</td>\n",
       "      <td>203</td>\n",
       "    </tr>\n",
       "  </tbody>\n",
       "</table>\n",
       "</div>"
      ],
      "text/plain": [
       "  Month-Year  Number of Tractor Sold\n",
       "0      3-Jan                     141\n",
       "1      3-Feb                     157\n",
       "2      3-Mar                     185\n",
       "3      3-Apr                     199\n",
       "4      3-May                     203"
      ]
     },
     "execution_count": 17,
     "metadata": {},
     "output_type": "execute_result"
    }
   ],
   "source": [
    "Tractor = pd.read_csv(\"D:/TractorSales.csv\")\n",
    "Tractor.head(5)"
   ]
  },
  {
   "cell_type": "code",
   "execution_count": 18,
   "metadata": {
    "ExecuteTime": {
     "end_time": "2020-06-17T13:29:16.334238Z",
     "start_time": "2020-06-17T13:29:16.188990Z"
    }
   },
   "outputs": [],
   "source": [
    "dates = pd.date_range(start='2003-01-01', freq='MS', periods=len(Tractor))\n",
    "#MS stands for month start frequency"
   ]
  },
  {
   "cell_type": "code",
   "execution_count": 19,
   "metadata": {
    "ExecuteTime": {
     "end_time": "2020-06-17T13:29:16.455900Z",
     "start_time": "2020-06-17T13:29:16.335234Z"
    }
   },
   "outputs": [],
   "source": [
    "import calendar\n",
    "Tractor['Month'] = dates.month\n",
    "Tractor['Month'] = Tractor['Month'].apply(lambda x: calendar.month_abbr[x])\n",
    "Tractor['Year'] = dates.year"
   ]
  },
  {
   "cell_type": "code",
   "execution_count": 20,
   "metadata": {
    "ExecuteTime": {
     "end_time": "2020-06-17T13:29:16.607979Z",
     "start_time": "2020-06-17T13:29:16.457896Z"
    }
   },
   "outputs": [],
   "source": [
    "#Tractor.drop(['Month-Year'], axis=1, inplace=True)\n",
    "Tractor.rename(columns={'Number of Tractor Sold':'Tractor-Sales'}, inplace=True)\n",
    "Tractor = Tractor[['Month', 'Year', 'Tractor-Sales']]"
   ]
  },
  {
   "cell_type": "code",
   "execution_count": 21,
   "metadata": {
    "ExecuteTime": {
     "end_time": "2020-06-17T13:29:16.721659Z",
     "start_time": "2020-06-17T13:29:16.610193Z"
    }
   },
   "outputs": [],
   "source": [
    "Tractor.set_index(dates, inplace=True)"
   ]
  },
  {
   "cell_type": "code",
   "execution_count": 22,
   "metadata": {
    "ExecuteTime": {
     "end_time": "2020-06-17T13:29:16.872792Z",
     "start_time": "2020-06-17T13:29:16.723899Z"
    }
   },
   "outputs": [
    {
     "data": {
      "text/html": [
       "<div>\n",
       "<style scoped>\n",
       "    .dataframe tbody tr th:only-of-type {\n",
       "        vertical-align: middle;\n",
       "    }\n",
       "\n",
       "    .dataframe tbody tr th {\n",
       "        vertical-align: top;\n",
       "    }\n",
       "\n",
       "    .dataframe thead th {\n",
       "        text-align: right;\n",
       "    }\n",
       "</style>\n",
       "<table border=\"1\" class=\"dataframe\">\n",
       "  <thead>\n",
       "    <tr style=\"text-align: right;\">\n",
       "      <th></th>\n",
       "      <th>Tractor-Sales</th>\n",
       "    </tr>\n",
       "  </thead>\n",
       "  <tbody>\n",
       "    <tr>\n",
       "      <th>2003-01-01</th>\n",
       "      <td>141</td>\n",
       "    </tr>\n",
       "    <tr>\n",
       "      <th>2003-02-01</th>\n",
       "      <td>157</td>\n",
       "    </tr>\n",
       "    <tr>\n",
       "      <th>2003-03-01</th>\n",
       "      <td>185</td>\n",
       "    </tr>\n",
       "    <tr>\n",
       "      <th>2003-04-01</th>\n",
       "      <td>199</td>\n",
       "    </tr>\n",
       "    <tr>\n",
       "      <th>2003-05-01</th>\n",
       "      <td>203</td>\n",
       "    </tr>\n",
       "  </tbody>\n",
       "</table>\n",
       "</div>"
      ],
      "text/plain": [
       "            Tractor-Sales\n",
       "2003-01-01            141\n",
       "2003-02-01            157\n",
       "2003-03-01            185\n",
       "2003-04-01            199\n",
       "2003-05-01            203"
      ]
     },
     "execution_count": 22,
     "metadata": {},
     "output_type": "execute_result"
    }
   ],
   "source": [
    "Tractor = Tractor[['Tractor-Sales']]\n",
    "Tractor.head(5)"
   ]
  },
  {
   "cell_type": "code",
   "execution_count": 23,
   "metadata": {
    "ExecuteTime": {
     "end_time": "2020-06-17T13:29:17.394530Z",
     "start_time": "2020-06-17T13:29:16.873789Z"
    }
   },
   "outputs": [
    {
     "data": {
      "image/png": "[encoded data removed]",
      "text/plain": [
       "<Figure size 432x288 with 1 Axes>"
      ]
     },
     "metadata": {
      "needs_background": "light"
     },
     "output_type": "display_data"
    }
   ],
   "source": [
    "Tractor.plot()\n",
    "plt.ylabel('Tractor Sales')\n",
    "plt.title(\"Tractor Sales from 2003 to 2014\")\n",
    "plt.show()\n"
   ]
  },
  {
   "cell_type": "markdown",
   "metadata": {},
   "source": [
    "The above plot shows a seasonality as well as a trend component."
   ]
  },
  {
   "cell_type": "code",
   "execution_count": 24,
   "metadata": {
    "ExecuteTime": {
     "end_time": "2020-06-17T13:29:17.426892Z",
     "start_time": "2020-06-17T13:29:17.394530Z"
    }
   },
   "outputs": [
    {
     "data": {
      "text/html": [
       "<div>\n",
       "<style scoped>\n",
       "    .dataframe tbody tr th:only-of-type {\n",
       "        vertical-align: middle;\n",
       "    }\n",
       "\n",
       "    .dataframe tbody tr th {\n",
       "        vertical-align: top;\n",
       "    }\n",
       "\n",
       "    .dataframe thead th {\n",
       "        text-align: right;\n",
       "    }\n",
       "</style>\n",
       "<table border=\"1\" class=\"dataframe\">\n",
       "  <thead>\n",
       "    <tr style=\"text-align: right;\">\n",
       "      <th></th>\n",
       "      <th>Tractor-Sales</th>\n",
       "    </tr>\n",
       "  </thead>\n",
       "  <tbody>\n",
       "    <tr>\n",
       "      <th>2003-01-01</th>\n",
       "      <td>141</td>\n",
       "    </tr>\n",
       "    <tr>\n",
       "      <th>2003-02-01</th>\n",
       "      <td>157</td>\n",
       "    </tr>\n",
       "    <tr>\n",
       "      <th>2003-03-01</th>\n",
       "      <td>185</td>\n",
       "    </tr>\n",
       "    <tr>\n",
       "      <th>2003-04-01</th>\n",
       "      <td>199</td>\n",
       "    </tr>\n",
       "    <tr>\n",
       "      <th>2003-05-01</th>\n",
       "      <td>203</td>\n",
       "    </tr>\n",
       "    <tr>\n",
       "      <th>2003-06-01</th>\n",
       "      <td>189</td>\n",
       "    </tr>\n",
       "    <tr>\n",
       "      <th>2003-07-01</th>\n",
       "      <td>207</td>\n",
       "    </tr>\n",
       "    <tr>\n",
       "      <th>2003-08-01</th>\n",
       "      <td>207</td>\n",
       "    </tr>\n",
       "    <tr>\n",
       "      <th>2003-09-01</th>\n",
       "      <td>171</td>\n",
       "    </tr>\n",
       "    <tr>\n",
       "      <th>2003-10-01</th>\n",
       "      <td>150</td>\n",
       "    </tr>\n",
       "    <tr>\n",
       "      <th>2003-11-01</th>\n",
       "      <td>138</td>\n",
       "    </tr>\n",
       "    <tr>\n",
       "      <th>2003-12-01</th>\n",
       "      <td>165</td>\n",
       "    </tr>\n",
       "  </tbody>\n",
       "</table>\n",
       "</div>"
      ],
      "text/plain": [
       "            Tractor-Sales\n",
       "2003-01-01            141\n",
       "2003-02-01            157\n",
       "2003-03-01            185\n",
       "2003-04-01            199\n",
       "2003-05-01            203\n",
       "2003-06-01            189\n",
       "2003-07-01            207\n",
       "2003-08-01            207\n",
       "2003-09-01            171\n",
       "2003-10-01            150\n",
       "2003-11-01            138\n",
       "2003-12-01            165"
      ]
     },
     "execution_count": 24,
     "metadata": {},
     "output_type": "execute_result"
    }
   ],
   "source": [
    "Tractor['2003']"
   ]
  },
  {
   "cell_type": "markdown",
   "metadata": {},
   "source": [
    "# END"
   ]
  }
 ],
 "metadata": {
  "kernelspec": {
   "display_name": "Python 3",
   "language": "python",
   "name": "python3"
  },
  "language_info": {
   "codemirror_mode": {
    "name": "ipython",
    "version": 3
   },
   "file_extension": ".py",
   "mimetype": "text/x-python",
   "name": "python",
   "nbconvert_exporter": "python",
   "pygments_lexer": "ipython3",
   "version": "3.8.3"
  },
  "toc": {
   "base_numbering": 1,
   "nav_menu": {},
   "number_sections": true,
   "sideBar": true,
   "skip_h1_title": false,
   "title_cell": "Table of Contents",
   "title_sidebar": "Contents",
   "toc_cell": false,
   "toc_position": {},
   "toc_section_display": true,
   "toc_window_display": false
  },
  "varInspector": {
   "cols": {
    "lenName": 16,
    "lenType": 16,
    "lenVar": 40
   },
   "kernels_config": {
    "python": {
     "delete_cmd_postfix": "",
     "delete_cmd_prefix": "del ",
     "library": "var_list.py",
     "varRefreshCmd": "print(var_dic_list())"
    },
    "r": {
     "delete_cmd_postfix": ") ",
     "delete_cmd_prefix": "rm(",
     "library": "var_list.r",
     "varRefreshCmd": "cat(var_dic_list()) "
    }
   },
   "types_to_exclude": [
    "module",
    "function",
    "builtin_function_or_method",
    "instance",
    "_Feature"
   ],
   "window_display": false
  }
 },
 "nbformat": 4,
 "nbformat_minor": 2
}
