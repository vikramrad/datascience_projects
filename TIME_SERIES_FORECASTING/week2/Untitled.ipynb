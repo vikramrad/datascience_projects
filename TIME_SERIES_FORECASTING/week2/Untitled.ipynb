{
 "cells": [
  {
   "cell_type": "code",
   "execution_count": 9,
   "metadata": {},
   "outputs": [],
   "source": [
    "import pandas                          as      pd\n",
    "import numpy                           as      np\n",
    "import matplotlib.pyplot               as      plt\n",
    "import statsmodels.tsa.holtwinters     as      ets\n",
    "import statsmodels.tools.eval_measures as      fa\n",
    "from   sklearn.metrics                 import  mean_squared_error\n",
    "from   statsmodels.tsa.holtwinters     import  SimpleExpSmoothing\n"
   ]
  },
  {
   "cell_type": "code",
   "execution_count": 10,
   "metadata": {},
   "outputs": [],
   "source": [
    "#Defining the Mean Absolute Percentage Error Function\n",
    "def MAPE(y, yhat): \n",
    "    y, yhat = np.array(y), np.array(yhat)\n",
    "    try:\n",
    "        mape =  round(np.sum(np.abs(yhat - y)) / np.sum(y) * 100,2)\n",
    "    except:\n",
    "        print(\"Observed values are empty\")\n",
    "        mape = np.nan\n",
    "    return mape"
   ]
  },
  {
   "cell_type": "code",
   "execution_count": 11,
   "metadata": {},
   "outputs": [
    {
     "data": {
      "text/html": [
       "<div>\n",
       "<style scoped>\n",
       "    .dataframe tbody tr th:only-of-type {\n",
       "        vertical-align: middle;\n",
       "    }\n",
       "\n",
       "    .dataframe tbody tr th {\n",
       "        vertical-align: top;\n",
       "    }\n",
       "\n",
       "    .dataframe thead th {\n",
       "        text-align: right;\n",
       "    }\n",
       "</style>\n",
       "<table border=\"1\" class=\"dataframe\">\n",
       "  <thead>\n",
       "    <tr style=\"text-align: right;\">\n",
       "      <th></th>\n",
       "      <th>Year</th>\n",
       "      <th>Quarter</th>\n",
       "      <th>Consumption</th>\n",
       "    </tr>\n",
       "  </thead>\n",
       "  <tbody>\n",
       "    <tr>\n",
       "      <th>0</th>\n",
       "      <td>2001</td>\n",
       "      <td>Q1</td>\n",
       "      <td>14.978</td>\n",
       "    </tr>\n",
       "    <tr>\n",
       "      <th>1</th>\n",
       "      <td>2001</td>\n",
       "      <td>Q2</td>\n",
       "      <td>11.099</td>\n",
       "    </tr>\n",
       "    <tr>\n",
       "      <th>2</th>\n",
       "      <td>2001</td>\n",
       "      <td>Q3</td>\n",
       "      <td>10.057</td>\n",
       "    </tr>\n",
       "    <tr>\n",
       "      <th>3</th>\n",
       "      <td>2001</td>\n",
       "      <td>Q4</td>\n",
       "      <td>10.454</td>\n",
       "    </tr>\n",
       "    <tr>\n",
       "      <th>4</th>\n",
       "      <td>2002</td>\n",
       "      <td>Q1</td>\n",
       "      <td>9.295</td>\n",
       "    </tr>\n",
       "  </tbody>\n",
       "</table>\n",
       "</div>"
      ],
      "text/plain": [
       "   Year Quarter  Consumption\n",
       "0  2001      Q1       14.978\n",
       "1  2001      Q2       11.099\n",
       "2  2001      Q3       10.057\n",
       "3  2001      Q4       10.454\n",
       "4  2002      Q1        9.295"
      ]
     },
     "execution_count": 11,
     "metadata": {},
     "output_type": "execute_result"
    }
   ],
   "source": [
    "Petrol              =  pd.read_csv('Petrol.csv')\n",
    "\n",
    "Petrol.head()"
   ]
  },
  {
   "cell_type": "code",
   "execution_count": 12,
   "metadata": {},
   "outputs": [
    {
     "name": "stdout",
     "output_type": "stream",
     "text": [
      "DatetimeIndex(['2001-03-31', '2001-06-30', '2001-09-30', '2001-12-31',\n",
      "               '2002-03-31', '2002-06-30', '2002-09-30', '2002-12-31',\n",
      "               '2003-03-31', '2003-06-30', '2003-09-30', '2003-12-31',\n",
      "               '2004-03-31', '2004-06-30', '2004-09-30', '2004-12-31',\n",
      "               '2005-03-31', '2005-06-30', '2005-09-30', '2005-12-31',\n",
      "               '2006-03-31', '2006-06-30', '2006-09-30', '2006-12-31',\n",
      "               '2007-03-31', '2007-06-30', '2007-09-30', '2007-12-31',\n",
      "               '2008-03-31', '2008-06-30', '2008-09-30', '2008-12-31',\n",
      "               '2009-03-31', '2009-06-30', '2009-09-30', '2009-12-31',\n",
      "               '2010-03-31', '2010-06-30', '2010-09-30', '2010-12-31',\n",
      "               '2011-03-31', '2011-06-30', '2011-09-30', '2011-12-31',\n",
      "               '2012-03-31', '2012-06-30', '2012-09-30', '2012-12-31',\n",
      "               '2013-03-31', '2013-06-30', '2013-09-30'],\n",
      "              dtype='datetime64[ns]', freq='Q-DEC')\n"
     ]
    }
   ],
   "source": [
    "#Defining the date range and specifying that it is a Quarterly Time Stamped date\n",
    "date_rng            =  pd.date_range(start='1/1/2001', end='30/9/2013', freq='Q')\n",
    "print(date_rng)"
   ]
  },
  {
   "cell_type": "code",
   "execution_count": 17,
   "metadata": {},
   "outputs": [
    {
     "name": "stdout",
     "output_type": "stream",
     "text": [
      "                               0                    1                    2\n",
      "Year                        2001                 2001                 2001\n",
      "Quarter                       Q1                   Q2                   Q3\n",
      "Consumption               14.978               11.099               10.057\n",
      "TimeIndex    2001-03-31 00:00:00  2001-06-30 00:00:00  2001-09-30 00:00:00\n"
     ]
    }
   ],
   "source": [
    "Petrol['TimeIndex'] = pd.DataFrame(date_rng, columns=['Quarter'])\n",
    "print(Petrol.head(3).T)"
   ]
  },
  {
   "cell_type": "code",
   "execution_count": 15,
   "metadata": {},
   "outputs": [
    {
     "data": {
      "image/png": "[encoded data removed]",
      "text/plain": [
       "<Figure size 432x288 with 1 Axes>"
      ]
     },
     "metadata": {
      "needs_background": "light"
     },
     "output_type": "display_data"
    }
   ],
   "source": [
    "#Plotting the time series\n",
    "plt.plot(Petrol.TimeIndex, Petrol.Consumption)\n",
    "plt.title('Original data before split')\n",
    "plt.show()"
   ]
  },
  {
   "cell_type": "code",
   "execution_count": 19,
   "metadata": {},
   "outputs": [],
   "source": [
    "#Creating train and test set \n",
    "\n",
    "train             = Petrol[0:int(len(Petrol)*0.7)] #70% of the data for training the model\n",
    "test              = Petrol[int(len(Petrol)*0.7):] #30% of the data for evaluating the model"
   ]
  },
  {
   "cell_type": "code",
   "execution_count": 20,
   "metadata": {},
   "outputs": [
    {
     "name": "stdout",
     "output_type": "stream",
     "text": [
      "\n",
      " Training data start at \n",
      "\n",
      "   Year Quarter  Consumption  TimeIndex\n",
      "0  2001      Q1       14.978 2001-03-31 ['Year', 'Quarter'] \n",
      "\n",
      "\n",
      " Training data ends at \n",
      "\n",
      "    Year Quarter  Consumption  TimeIndex\n",
      "34  2009      Q3      1.98159 2009-09-30 ['Year', 'Quarter'] \n",
      "\n"
     ]
    }
   ],
   "source": [
    "#Printing the beginning and the ending of the training data\n",
    "print(\"\\n Training data start at \\n\")\n",
    "print (train[train.TimeIndex == train.TimeIndex.min()],['Year','Quarter'],'\\n')\n",
    "print(\"\\n Training data ends at \\n\")\n",
    "print (train[train.TimeIndex == train.TimeIndex.max()],['Year','Quarter'],'\\n')"
   ]
  },
  {
   "cell_type": "code",
   "execution_count": null,
   "metadata": {},
   "outputs": [],
   "source": []
  }
 ],
 "metadata": {
  "kernelspec": {
   "display_name": "Python 3",
   "language": "python",
   "name": "python3"
  },
  "language_info": {
   "codemirror_mode": {
    "name": "ipython",
    "version": 3
   },
   "file_extension": ".py",
   "mimetype": "text/x-python",
   "name": "python",
   "nbconvert_exporter": "python",
   "pygments_lexer": "ipython3",
   "version": "3.7.7"
  }
 },
 "nbformat": 4,
 "nbformat_minor": 4
}
